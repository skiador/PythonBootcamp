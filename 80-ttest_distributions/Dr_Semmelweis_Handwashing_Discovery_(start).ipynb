{
 "nbformat": 4,
 "nbformat_minor": 0,
 "metadata": {
  "kernelspec": {
   "display_name": "Python 3",
   "language": "python",
   "name": "python3"
  },
  "language_info": {
   "codemirror_mode": {
    "name": "ipython",
    "version": 3
   },
   "file_extension": ".py",
   "mimetype": "text/x-python",
   "name": "python",
   "nbconvert_exporter": "python",
   "pygments_lexer": "ipython3",
   "version": "3.7.9"
  },
  "colab": {
   "name": "Dr Semmelweis Handwashing Discovery (start).ipynb",
   "provenance": [],
   "toc_visible": true
  }
 },
 "cells": [
  {
   "cell_type": "markdown",
   "metadata": {
    "id": "4q6Z8m5n63db"
   },
   "source": [
    "# Setup and Context\n",
    "\n",
    "<img src=\"https://i.imgur.com/gugIA5r.png\" width=700>"
   ]
  },
  {
   "cell_type": "markdown",
   "metadata": {
    "dc": {
     "key": "13f090f9f0"
    },
    "run_control": {
     "frozen": true
    },
    "tags": [
     "context"
    ],
    "id": "IGsVeQXb63dd"
   },
   "source": [
    "### Introduction\n",
    "\n",
    "Dr Ignaz Semmelweis was a Hungarian physician born in 1818 who worked in the Vienna General Hospital. In the past people thought of illness as caused by \"bad air\" or evil spirits. But in the 1800s Doctors started looking more at anatomy, doing autopsies and started making arguments based on data. Dr Semmelweis suspected that something was going wrong with the procedures at Vienna General Hospital. Semmelweis wanted to figure out why so many women in maternity wards were dying from childbed fever (i.e., [puerperal fever](https://en.wikipedia.org/wiki/Postpartum_infections)).\n",
    "\n",
    "<img src=https://i.imgur.com/lSyNUwR.png width=700>\n",
    "\n",
    "Today you will become Dr Semmelweis. This is your office 👆. You will step into Dr Semmelweis' shoes and analyse the same data collected from 1841 to 1849."
   ]
  },
  {
   "cell_type": "markdown",
   "metadata": {
    "id": "bafSbGVG63dd"
   },
   "source": [
    "### The Data Source\n",
    "\n",
    "Dr Semmelweis published his research in 1861. I found the scanned pages of the [full text with the original tables in German](http://www.deutschestextarchiv.de/book/show/semmelweis_kindbettfieber_1861), but an excellent [English translation can be found here](http://graphics8.nytimes.com/images/blogs/freakonomics/pdf/the%20etiology,%20concept%20and%20prophylaxis%20of%20childbed%20fever.pdf).\n",
    "\n",
    "<img src=https://i.imgur.com/6HfLtaC.png width=500>"
   ]
  },
  {
   "cell_type": "markdown",
   "metadata": {
    "id": "eL-9yKkvNr6N"
   },
   "source": [
    "### Upgrade plotly (only Google Colab Notebook)\n",
    "\n",
    "Google Colab may not be running the latest version of plotly. If you're working in Google Colab, uncomment the line below, run the cell, and restart your notebook server. "
   ]
  },
  {
   "cell_type": "code",
   "metadata": {
    "id": "eEEIIlY3N0oD",
    "ExecuteTime": {
     "end_time": "2023-10-16T18:21:00.916275600Z",
     "start_time": "2023-10-16T18:21:00.519559900Z"
    }
   },
   "source": [
    "# %pip install --upgrade plotly"
   ],
   "execution_count": 31,
   "outputs": []
  },
  {
   "cell_type": "markdown",
   "metadata": {
    "id": "nF_Ci_SA63dd"
   },
   "source": [
    "### Import Statements"
   ]
  },
  {
   "cell_type": "code",
   "metadata": {
    "id": "kNoOuCg563de",
    "ExecuteTime": {
     "end_time": "2023-10-16T18:21:01.223443700Z",
     "start_time": "2023-10-16T18:21:00.535611700Z"
    }
   },
   "source": [
    "import pandas as pd\n",
    "import numpy as np\n",
    "import plotly.express as px\n",
    "import seaborn as sns\n",
    "import matplotlib.pyplot as plt\n",
    "import matplotlib.dates as mdates"
   ],
   "execution_count": 32,
   "outputs": []
  },
  {
   "cell_type": "markdown",
   "metadata": {
    "id": "PcWO2FOi63di"
   },
   "source": [
    "### Notebook Presentation"
   ]
  },
  {
   "cell_type": "code",
   "metadata": {
    "id": "YV7Y4mhp63dj",
    "ExecuteTime": {
     "end_time": "2023-10-16T18:21:01.349332600Z",
     "start_time": "2023-10-16T18:21:00.539634300Z"
    }
   },
   "source": [
    "pd.options.display.float_format = '{:,.2f}'.format\n",
    "\n",
    "# Create locators for ticks on the time axis\n",
    "\n",
    "\n",
    "from pandas.plotting import register_matplotlib_converters\n",
    "register_matplotlib_converters()"
   ],
   "execution_count": 33,
   "outputs": []
  },
  {
   "cell_type": "markdown",
   "metadata": {
    "id": "rp8Dqfp663dg"
   },
   "source": [
    "### Read the Data"
   ]
  },
  {
   "cell_type": "code",
   "metadata": {
    "id": "Wdr6_0pk63dh",
    "ExecuteTime": {
     "end_time": "2023-10-16T18:21:01.443858100Z",
     "start_time": "2023-10-16T18:21:00.661135900Z"
    }
   },
   "source": [
    "df_yearly = pd.read_csv('annual_deaths_by_clinic.csv')\n",
    "# parse_dates avoids DateTime conversion later\n",
    "df_monthly = pd.read_csv('monthly_deaths.csv', \n",
    "                      parse_dates=['date'])"
   ],
   "execution_count": 34,
   "outputs": []
  },
  {
   "cell_type": "markdown",
   "metadata": {
    "id": "C8ZLkXkk63dl"
   },
   "source": [
    "# Preliminary Data Exploration\n",
    "\n",
    "**Challenge**: Check out these two DataFrames ☝️. \n",
    "* What is the shape of df_yearly and df_monthly? How many rows and columns?\n",
    "* What are the column names?\n",
    "* Which years are included in the dataset?\n",
    "* Are there any NaN values or duplicates?\n",
    "* What were the average number of births that took place per month?\n",
    "* What were the average number of deaths that took place per month?"
   ]
  },
  {
   "cell_type": "code",
   "metadata": {
    "id": "CDYyshRAHySR",
    "ExecuteTime": {
     "end_time": "2023-10-16T18:21:01.524120200Z",
     "start_time": "2023-10-16T18:21:00.739719800Z"
    }
   },
   "source": [
    "print(df_monthly.shape)\n",
    "print(df_monthly.columns.values)\n",
    "print(df_monthly.isna().any())\n",
    "print(df_monthly.duplicated().any())\n",
    "print(df_monthly.births.mean())\n",
    "print(df_monthly.deaths.mean())\n",
    "df_monthly"
   ],
   "execution_count": 35,
   "outputs": [
    {
     "name": "stdout",
     "output_type": "stream",
     "text": [
      "(98, 3)\n",
      "['date' 'births' 'deaths']\n",
      "date      False\n",
      "births    False\n",
      "deaths    False\n",
      "dtype: bool\n",
      "False\n",
      "267.0\n",
      "22.46938775510204\n"
     ]
    },
    {
     "data": {
      "text/plain": "         date  births  deaths\n0  1841-01-01     254      37\n1  1841-02-01     239      18\n2  1841-03-01     277      12\n3  1841-04-01     255       4\n4  1841-05-01     255       2\n..        ...     ...     ...\n93 1848-11-01     310       9\n94 1848-12-01     373       5\n95 1849-01-01     403       9\n96 1849-02-01     389      12\n97 1849-03-01     406      20\n\n[98 rows x 3 columns]",
      "text/html": "<div>\n<style scoped>\n    .dataframe tbody tr th:only-of-type {\n        vertical-align: middle;\n    }\n\n    .dataframe tbody tr th {\n        vertical-align: top;\n    }\n\n    .dataframe thead th {\n        text-align: right;\n    }\n</style>\n<table border=\"1\" class=\"dataframe\">\n  <thead>\n    <tr style=\"text-align: right;\">\n      <th></th>\n      <th>date</th>\n      <th>births</th>\n      <th>deaths</th>\n    </tr>\n  </thead>\n  <tbody>\n    <tr>\n      <th>0</th>\n      <td>1841-01-01</td>\n      <td>254</td>\n      <td>37</td>\n    </tr>\n    <tr>\n      <th>1</th>\n      <td>1841-02-01</td>\n      <td>239</td>\n      <td>18</td>\n    </tr>\n    <tr>\n      <th>2</th>\n      <td>1841-03-01</td>\n      <td>277</td>\n      <td>12</td>\n    </tr>\n    <tr>\n      <th>3</th>\n      <td>1841-04-01</td>\n      <td>255</td>\n      <td>4</td>\n    </tr>\n    <tr>\n      <th>4</th>\n      <td>1841-05-01</td>\n      <td>255</td>\n      <td>2</td>\n    </tr>\n    <tr>\n      <th>...</th>\n      <td>...</td>\n      <td>...</td>\n      <td>...</td>\n    </tr>\n    <tr>\n      <th>93</th>\n      <td>1848-11-01</td>\n      <td>310</td>\n      <td>9</td>\n    </tr>\n    <tr>\n      <th>94</th>\n      <td>1848-12-01</td>\n      <td>373</td>\n      <td>5</td>\n    </tr>\n    <tr>\n      <th>95</th>\n      <td>1849-01-01</td>\n      <td>403</td>\n      <td>9</td>\n    </tr>\n    <tr>\n      <th>96</th>\n      <td>1849-02-01</td>\n      <td>389</td>\n      <td>12</td>\n    </tr>\n    <tr>\n      <th>97</th>\n      <td>1849-03-01</td>\n      <td>406</td>\n      <td>20</td>\n    </tr>\n  </tbody>\n</table>\n<p>98 rows × 3 columns</p>\n</div>"
     },
     "execution_count": 35,
     "metadata": {},
     "output_type": "execute_result"
    }
   ]
  },
  {
   "cell_type": "code",
   "metadata": {
    "id": "0CmnKF4_Hyg0",
    "ExecuteTime": {
     "end_time": "2023-10-16T18:21:01.540236Z",
     "start_time": "2023-10-16T18:21:00.802292300Z"
    }
   },
   "source": [
    "print(df_yearly.shape)\n",
    "print(df_yearly.columns.values)\n",
    "print(df_yearly.isna().any())\n",
    "print(df_yearly.duplicated().any())\n",
    "print(df_yearly.births.mean())\n",
    "print(df_yearly.deaths.mean())\n",
    "df_yearly"
   ],
   "execution_count": 36,
   "outputs": [
    {
     "name": "stdout",
     "output_type": "stream",
     "text": [
      "(12, 4)\n",
      "['year' 'births' 'deaths' 'clinic']\n",
      "year      False\n",
      "births    False\n",
      "deaths    False\n",
      "clinic    False\n",
      "dtype: bool\n",
      "False\n",
      "3152.75\n",
      "223.33333333333334\n"
     ]
    },
    {
     "data": {
      "text/plain": "    year  births  deaths    clinic\n0   1841    3036     237  clinic 1\n1   1842    3287     518  clinic 1\n2   1843    3060     274  clinic 1\n3   1844    3157     260  clinic 1\n4   1845    3492     241  clinic 1\n5   1846    4010     459  clinic 1\n6   1841    2442      86  clinic 2\n7   1842    2659     202  clinic 2\n8   1843    2739     164  clinic 2\n9   1844    2956      68  clinic 2\n10  1845    3241      66  clinic 2\n11  1846    3754     105  clinic 2",
      "text/html": "<div>\n<style scoped>\n    .dataframe tbody tr th:only-of-type {\n        vertical-align: middle;\n    }\n\n    .dataframe tbody tr th {\n        vertical-align: top;\n    }\n\n    .dataframe thead th {\n        text-align: right;\n    }\n</style>\n<table border=\"1\" class=\"dataframe\">\n  <thead>\n    <tr style=\"text-align: right;\">\n      <th></th>\n      <th>year</th>\n      <th>births</th>\n      <th>deaths</th>\n      <th>clinic</th>\n    </tr>\n  </thead>\n  <tbody>\n    <tr>\n      <th>0</th>\n      <td>1841</td>\n      <td>3036</td>\n      <td>237</td>\n      <td>clinic 1</td>\n    </tr>\n    <tr>\n      <th>1</th>\n      <td>1842</td>\n      <td>3287</td>\n      <td>518</td>\n      <td>clinic 1</td>\n    </tr>\n    <tr>\n      <th>2</th>\n      <td>1843</td>\n      <td>3060</td>\n      <td>274</td>\n      <td>clinic 1</td>\n    </tr>\n    <tr>\n      <th>3</th>\n      <td>1844</td>\n      <td>3157</td>\n      <td>260</td>\n      <td>clinic 1</td>\n    </tr>\n    <tr>\n      <th>4</th>\n      <td>1845</td>\n      <td>3492</td>\n      <td>241</td>\n      <td>clinic 1</td>\n    </tr>\n    <tr>\n      <th>5</th>\n      <td>1846</td>\n      <td>4010</td>\n      <td>459</td>\n      <td>clinic 1</td>\n    </tr>\n    <tr>\n      <th>6</th>\n      <td>1841</td>\n      <td>2442</td>\n      <td>86</td>\n      <td>clinic 2</td>\n    </tr>\n    <tr>\n      <th>7</th>\n      <td>1842</td>\n      <td>2659</td>\n      <td>202</td>\n      <td>clinic 2</td>\n    </tr>\n    <tr>\n      <th>8</th>\n      <td>1843</td>\n      <td>2739</td>\n      <td>164</td>\n      <td>clinic 2</td>\n    </tr>\n    <tr>\n      <th>9</th>\n      <td>1844</td>\n      <td>2956</td>\n      <td>68</td>\n      <td>clinic 2</td>\n    </tr>\n    <tr>\n      <th>10</th>\n      <td>1845</td>\n      <td>3241</td>\n      <td>66</td>\n      <td>clinic 2</td>\n    </tr>\n    <tr>\n      <th>11</th>\n      <td>1846</td>\n      <td>3754</td>\n      <td>105</td>\n      <td>clinic 2</td>\n    </tr>\n  </tbody>\n</table>\n</div>"
     },
     "execution_count": 36,
     "metadata": {},
     "output_type": "execute_result"
    }
   ]
  },
  {
   "cell_type": "markdown",
   "metadata": {
    "id": "Y6RkTaM463dz"
   },
   "source": [
    "### Descriptive Statistics"
   ]
  },
  {
   "cell_type": "code",
   "metadata": {
    "id": "8emz_sBZH2GL",
    "ExecuteTime": {
     "end_time": "2023-10-16T18:21:01.555922900Z",
     "start_time": "2023-10-16T18:21:00.817937100Z"
    }
   },
   "source": [
    "df_yearly.describe()"
   ],
   "execution_count": 37,
   "outputs": [
    {
     "data": {
      "text/plain": "          year   births  deaths\ncount    12.00    12.00   12.00\nmean  1,843.50 3,152.75  223.33\nstd       1.78   449.08  145.38\nmin   1,841.00 2,442.00   66.00\n25%   1,842.00 2,901.75  100.25\n50%   1,843.50 3,108.50  219.50\n75%   1,845.00 3,338.25  263.50\nmax   1,846.00 4,010.00  518.00",
      "text/html": "<div>\n<style scoped>\n    .dataframe tbody tr th:only-of-type {\n        vertical-align: middle;\n    }\n\n    .dataframe tbody tr th {\n        vertical-align: top;\n    }\n\n    .dataframe thead th {\n        text-align: right;\n    }\n</style>\n<table border=\"1\" class=\"dataframe\">\n  <thead>\n    <tr style=\"text-align: right;\">\n      <th></th>\n      <th>year</th>\n      <th>births</th>\n      <th>deaths</th>\n    </tr>\n  </thead>\n  <tbody>\n    <tr>\n      <th>count</th>\n      <td>12.00</td>\n      <td>12.00</td>\n      <td>12.00</td>\n    </tr>\n    <tr>\n      <th>mean</th>\n      <td>1,843.50</td>\n      <td>3,152.75</td>\n      <td>223.33</td>\n    </tr>\n    <tr>\n      <th>std</th>\n      <td>1.78</td>\n      <td>449.08</td>\n      <td>145.38</td>\n    </tr>\n    <tr>\n      <th>min</th>\n      <td>1,841.00</td>\n      <td>2,442.00</td>\n      <td>66.00</td>\n    </tr>\n    <tr>\n      <th>25%</th>\n      <td>1,842.00</td>\n      <td>2,901.75</td>\n      <td>100.25</td>\n    </tr>\n    <tr>\n      <th>50%</th>\n      <td>1,843.50</td>\n      <td>3,108.50</td>\n      <td>219.50</td>\n    </tr>\n    <tr>\n      <th>75%</th>\n      <td>1,845.00</td>\n      <td>3,338.25</td>\n      <td>263.50</td>\n    </tr>\n    <tr>\n      <th>max</th>\n      <td>1,846.00</td>\n      <td>4,010.00</td>\n      <td>518.00</td>\n    </tr>\n  </tbody>\n</table>\n</div>"
     },
     "execution_count": 37,
     "metadata": {},
     "output_type": "execute_result"
    }
   ]
  },
  {
   "cell_type": "code",
   "execution_count": 38,
   "outputs": [
    {
     "data": {
      "text/plain": "                                date  births  deaths\ncount                             98   98.00   98.00\nmean   1845-02-11 04:24:29.387755008  267.00   22.47\nmin              1841-01-01 00:00:00  190.00    0.00\n25%              1843-02-08 00:00:00  242.50    8.00\n50%              1845-02-15 00:00:00  264.00   16.50\n75%              1847-02-22 00:00:00  292.75   36.75\nmax              1849-03-01 00:00:00  406.00   75.00\nstd                              NaN   41.77   18.14",
      "text/html": "<div>\n<style scoped>\n    .dataframe tbody tr th:only-of-type {\n        vertical-align: middle;\n    }\n\n    .dataframe tbody tr th {\n        vertical-align: top;\n    }\n\n    .dataframe thead th {\n        text-align: right;\n    }\n</style>\n<table border=\"1\" class=\"dataframe\">\n  <thead>\n    <tr style=\"text-align: right;\">\n      <th></th>\n      <th>date</th>\n      <th>births</th>\n      <th>deaths</th>\n    </tr>\n  </thead>\n  <tbody>\n    <tr>\n      <th>count</th>\n      <td>98</td>\n      <td>98.00</td>\n      <td>98.00</td>\n    </tr>\n    <tr>\n      <th>mean</th>\n      <td>1845-02-11 04:24:29.387755008</td>\n      <td>267.00</td>\n      <td>22.47</td>\n    </tr>\n    <tr>\n      <th>min</th>\n      <td>1841-01-01 00:00:00</td>\n      <td>190.00</td>\n      <td>0.00</td>\n    </tr>\n    <tr>\n      <th>25%</th>\n      <td>1843-02-08 00:00:00</td>\n      <td>242.50</td>\n      <td>8.00</td>\n    </tr>\n    <tr>\n      <th>50%</th>\n      <td>1845-02-15 00:00:00</td>\n      <td>264.00</td>\n      <td>16.50</td>\n    </tr>\n    <tr>\n      <th>75%</th>\n      <td>1847-02-22 00:00:00</td>\n      <td>292.75</td>\n      <td>36.75</td>\n    </tr>\n    <tr>\n      <th>max</th>\n      <td>1849-03-01 00:00:00</td>\n      <td>406.00</td>\n      <td>75.00</td>\n    </tr>\n    <tr>\n      <th>std</th>\n      <td>NaN</td>\n      <td>41.77</td>\n      <td>18.14</td>\n    </tr>\n  </tbody>\n</table>\n</div>"
     },
     "execution_count": 38,
     "metadata": {},
     "output_type": "execute_result"
    }
   ],
   "source": [
    "df_monthly.describe()"
   ],
   "metadata": {
    "collapsed": false,
    "ExecuteTime": {
     "end_time": "2023-10-16T18:21:01.555922900Z",
     "start_time": "2023-10-16T18:21:00.869378Z"
    }
   }
  },
  {
   "cell_type": "markdown",
   "metadata": {
    "id": "RzhICI3I63d3"
   },
   "source": [
    "### Percentage of Women Dying in Childbirth\n",
    "\n",
    "**Challenge**: How dangerous was childbirth in the 1840s in Vienna? \n",
    "\n",
    "* Using the annual data, calculate the percentage of women giving birth who died throughout the 1840s at the hospital.\n",
    "\n",
    "\n",
    "In comparison, the United States recorded 18.5 maternal deaths per 100,000 or 0.018% in 2013 [(source).](\n",
    "https://en.wikipedia.org/wiki/Maternal_death#:~:text=The%20US%20has%20the%20%22highest,17.8%20per%20100%2C000%20in%202009)"
   ]
  },
  {
   "cell_type": "code",
   "metadata": {
    "id": "qWcjo7O5H3g3",
    "ExecuteTime": {
     "end_time": "2023-10-16T18:21:01.587168400Z",
     "start_time": "2023-10-16T18:21:00.933693500Z"
    }
   },
   "source": [
    "df_yearly.deaths.sum() / df_yearly.births.sum() * 100"
   ],
   "execution_count": 39,
   "outputs": [
    {
     "data": {
      "text/plain": "7.083762852536147"
     },
     "execution_count": 39,
     "metadata": {},
     "output_type": "execute_result"
    }
   ]
  },
  {
   "cell_type": "markdown",
   "metadata": {
    "id": "SSOrUkmx63d6"
   },
   "source": [
    "# Visualise the Total Number of Births 🤱 and Deaths 💀 over Time"
   ]
  },
  {
   "cell_type": "markdown",
   "metadata": {
    "id": "z88_SbNf63d6"
   },
   "source": [
    "### Plot the Monthly Data on Twin Axes\n",
    "\n",
    "**Challenge**: Create a [Matplotlib chart](https://matplotlib.org/3.3.2/api/_as_gen/matplotlib.pyplot.plot.html) with twin y-axes. It should look something like this:\n",
    "\n",
    "<img src=https://i.imgur.com/F9DOJxx.png width=700>\n",
    "\n",
    "* Format the x-axis using locators for the years and months (Hint: we did this in the Google Trends notebook)\n",
    "* Set the range on the x-axis so that the chart lines touch the y-axes\n",
    "* Add gridlines\n",
    "* Use `skyblue` and `crimson` for the line colours\n",
    "* Use a dashed line style for the number of deaths\n",
    "* Change the line thickness to 3 and 2 for the births and deaths respectively. \n",
    "* Do you notice anything in the late 1840s?"
   ]
  },
  {
   "cell_type": "code",
   "metadata": {
    "id": "pSeMQxKMH52c",
    "ExecuteTime": {
     "end_time": "2023-10-16T18:21:01.791201800Z",
     "start_time": "2023-10-16T18:21:00.949491Z"
    }
   },
   "source": [
    "fig, ax1 = plt.subplots()\n",
    "ax2 = ax1.twinx()\n",
    "\n",
    "ax1.plot(df_monthly.date, df_monthly.births, color=\"c\")\n",
    "ax1.set_ylabel(\"Births\", color=\"c\")\n",
    "ax2.plot(df_monthly.date, df_monthly.deaths, \"--\", color=\"red\" )\n",
    "ax2.set_ylabel(\"Deaths\", color=\"red\")"
   ],
   "execution_count": 40,
   "outputs": [
    {
     "data": {
      "text/plain": "Text(0, 0.5, 'Deaths')"
     },
     "execution_count": 40,
     "metadata": {},
     "output_type": "execute_result"
    },
    {
     "data": {
      "text/plain": "<Figure size 640x480 with 2 Axes>",
      "image/png": "[encoded data removed]"
     },
     "metadata": {},
     "output_type": "display_data"
    }
   ]
  },
  {
   "cell_type": "markdown",
   "metadata": {
    "id": "mpg4uvsl63d9"
   },
   "source": [
    "# The Yearly Data Split by Clinic\n",
    "\n",
    "Now let's look at the annual data instead. \n",
    "\n",
    "**Challenge**: Use plotly to create line charts of the births and deaths of the two different clinics at the Vienna General Hospital. \n",
    "* Which clinic is bigger or more busy judging by the number of births?\n",
    "* Has the hospital had more patients over time? \n",
    "* What was the highest number of deaths recorded in clinic 1 and clinic 2?"
   ]
  },
  {
   "cell_type": "code",
   "metadata": {
    "id": "Xg65zUR8H7c2",
    "ExecuteTime": {
     "end_time": "2023-10-16T18:22:42.213491900Z",
     "start_time": "2023-10-16T18:22:40.328474100Z"
    }
   },
   "source": [
    "fig1, ax1 = plt.subplots()\n",
    "ax2 = ax1.twinx()\n",
    "\n",
    "ax1.plot(df_yearly.year[df_yearly.clinic == \"clinic 1\"], df_yearly.births[df_yearly.clinic == \"clinic 1\"], \"--\", color=\"c\")\n",
    "ax1.plot(df_yearly.year[df_yearly.clinic == \"clinic 2\"], df_yearly.births[df_yearly.clinic == \"clinic 2\"], color=\"c\")\n",
    "\n",
    "ax1.set_ylabel(\"Births\", color=\"c\")\n",
    "ax2.plot(df_yearly.year[df_yearly.clinic == \"clinic 1\"], df_yearly.deaths[df_yearly.clinic == \"clinic 1\"], \"--\", color=\"red\" )\n",
    "ax2.plot(df_yearly.year[df_yearly.clinic == \"clinic 2\"], df_yearly.deaths[df_yearly.clinic == \"clinic 2\"], color=\"red\" )\n",
    "ax2.set_ylabel(\"Deaths\", color=\"red\")"
   ],
   "execution_count": 44,
   "outputs": [
    {
     "data": {
      "text/plain": "Text(0, 0.5, 'Deaths')"
     },
     "execution_count": 44,
     "metadata": {},
     "output_type": "execute_result"
    },
    {
     "data": {
      "text/plain": "<Figure size 640x480 with 2 Axes>",
      "image/png": "[encoded data removed]"
     },
     "metadata": {},
     "output_type": "display_data"
    }
   ]
  },
  {
   "cell_type": "code",
   "metadata": {
    "id": "4aTJqbcVH9MG",
    "ExecuteTime": {
     "start_time": "2023-10-16T18:21:01.744310500Z"
    }
   },
   "source": [],
   "execution_count": null,
   "outputs": []
  },
  {
   "cell_type": "markdown",
   "metadata": {
    "dc": {
     "key": "2bc9206960"
    },
    "run_control": {
     "frozen": true
    },
    "tags": [
     "context"
    ],
    "id": "0M63EmW563eE"
   },
   "source": [
    "### Calculate the Proportion of Deaths at Each Clinic"
   ]
  },
  {
   "cell_type": "markdown",
   "metadata": {
    "id": "SWnxkKx963eE"
   },
   "source": [
    "**Challenge**: Calculate the proportion of maternal deaths per clinic. That way we can compare like with like. \n",
    "* Work out the percentage of deaths for each row in the `df_yearly` DataFrame by adding a column called \"pct_deaths\". \n",
    "* Calculate the average maternal death rate for clinic 1 and clinic 2 (i.e., the total number of deaths per the total number of births).\n",
    "* Create another plotly line chart to see how the percentage varies year over year with the two different clinics.\n",
    "* Which clinic has a higher proportion of deaths?\n",
    "* What is the highest monthly death rate in clinic 1 compared to clinic 2?"
   ]
  },
  {
   "cell_type": "code",
   "metadata": {
    "id": "1His6I9tH-U7",
    "ExecuteTime": {
     "end_time": "2023-10-17T07:21:32.261584400Z",
     "start_time": "2023-10-17T07:21:32.157632500Z"
    }
   },
   "source": [
    "df_yearly[\"pct_deaths\"] = df_yearly.deaths / df_yearly.births\n",
    "df_yearly"
   ],
   "execution_count": 45,
   "outputs": [
    {
     "data": {
      "text/plain": "    year  births  deaths    clinic  pct_deaths\n0   1841    3036     237  clinic 1        0.08\n1   1842    3287     518  clinic 1        0.16\n2   1843    3060     274  clinic 1        0.09\n3   1844    3157     260  clinic 1        0.08\n4   1845    3492     241  clinic 1        0.07\n5   1846    4010     459  clinic 1        0.11\n6   1841    2442      86  clinic 2        0.04\n7   1842    2659     202  clinic 2        0.08\n8   1843    2739     164  clinic 2        0.06\n9   1844    2956      68  clinic 2        0.02\n10  1845    3241      66  clinic 2        0.02\n11  1846    3754     105  clinic 2        0.03",
      "text/html": "<div>\n<style scoped>\n    .dataframe tbody tr th:only-of-type {\n        vertical-align: middle;\n    }\n\n    .dataframe tbody tr th {\n        vertical-align: top;\n    }\n\n    .dataframe thead th {\n        text-align: right;\n    }\n</style>\n<table border=\"1\" class=\"dataframe\">\n  <thead>\n    <tr style=\"text-align: right;\">\n      <th></th>\n      <th>year</th>\n      <th>births</th>\n      <th>deaths</th>\n      <th>clinic</th>\n      <th>pct_deaths</th>\n    </tr>\n  </thead>\n  <tbody>\n    <tr>\n      <th>0</th>\n      <td>1841</td>\n      <td>3036</td>\n      <td>237</td>\n      <td>clinic 1</td>\n      <td>0.08</td>\n    </tr>\n    <tr>\n      <th>1</th>\n      <td>1842</td>\n      <td>3287</td>\n      <td>518</td>\n      <td>clinic 1</td>\n      <td>0.16</td>\n    </tr>\n    <tr>\n      <th>2</th>\n      <td>1843</td>\n      <td>3060</td>\n      <td>274</td>\n      <td>clinic 1</td>\n      <td>0.09</td>\n    </tr>\n    <tr>\n      <th>3</th>\n      <td>1844</td>\n      <td>3157</td>\n      <td>260</td>\n      <td>clinic 1</td>\n      <td>0.08</td>\n    </tr>\n    <tr>\n      <th>4</th>\n      <td>1845</td>\n      <td>3492</td>\n      <td>241</td>\n      <td>clinic 1</td>\n      <td>0.07</td>\n    </tr>\n    <tr>\n      <th>5</th>\n      <td>1846</td>\n      <td>4010</td>\n      <td>459</td>\n      <td>clinic 1</td>\n      <td>0.11</td>\n    </tr>\n    <tr>\n      <th>6</th>\n      <td>1841</td>\n      <td>2442</td>\n      <td>86</td>\n      <td>clinic 2</td>\n      <td>0.04</td>\n    </tr>\n    <tr>\n      <th>7</th>\n      <td>1842</td>\n      <td>2659</td>\n      <td>202</td>\n      <td>clinic 2</td>\n      <td>0.08</td>\n    </tr>\n    <tr>\n      <th>8</th>\n      <td>1843</td>\n      <td>2739</td>\n      <td>164</td>\n      <td>clinic 2</td>\n      <td>0.06</td>\n    </tr>\n    <tr>\n      <th>9</th>\n      <td>1844</td>\n      <td>2956</td>\n      <td>68</td>\n      <td>clinic 2</td>\n      <td>0.02</td>\n    </tr>\n    <tr>\n      <th>10</th>\n      <td>1845</td>\n      <td>3241</td>\n      <td>66</td>\n      <td>clinic 2</td>\n      <td>0.02</td>\n    </tr>\n    <tr>\n      <th>11</th>\n      <td>1846</td>\n      <td>3754</td>\n      <td>105</td>\n      <td>clinic 2</td>\n      <td>0.03</td>\n    </tr>\n  </tbody>\n</table>\n</div>"
     },
     "execution_count": 45,
     "metadata": {},
     "output_type": "execute_result"
    }
   ]
  },
  {
   "cell_type": "code",
   "metadata": {
    "id": "qjK489pIH-BF",
    "ExecuteTime": {
     "end_time": "2023-10-17T07:24:01.318147500Z",
     "start_time": "2023-10-17T07:24:01.254991700Z"
    }
   },
   "source": [
    "df_yearly.groupby('clinic').mean().pct_deaths * 100"
   ],
   "execution_count": 52,
   "outputs": [
    {
     "data": {
      "text/plain": "clinic\nclinic 1   9.85\nclinic 2   4.04\nName: pct_deaths, dtype: float64"
     },
     "execution_count": 52,
     "metadata": {},
     "output_type": "execute_result"
    }
   ]
  },
  {
   "cell_type": "markdown",
   "metadata": {
    "id": "sX47nwJMRxWR"
   },
   "source": [
    "### Plotting the Proportion of Yearly Deaths by Clinic"
   ]
  },
  {
   "cell_type": "code",
   "metadata": {
    "id": "gRxQwbovH__L",
    "ExecuteTime": {
     "end_time": "2023-10-17T07:40:40.492896900Z",
     "start_time": "2023-10-17T07:40:40.236014400Z"
    }
   },
   "source": [
    "# Filter the data for clinic 1 and clinic 2\n",
    "clinic_1_data = df_yearly[df_yearly.clinic == \"clinic 1\"]\n",
    "clinic_2_data = df_yearly[df_yearly.clinic == \"clinic 2\"]\n",
    "\n",
    "# Create a line plot for clinic 1\n",
    "plt.plot(clinic_1_data.year, clinic_1_data.pct_deaths, label=\"Clinic 1\")\n",
    "\n",
    "# Create a line plot for clinic 2\n",
    "plt.plot(clinic_2_data.year, clinic_2_data.pct_deaths, label=\"Clinic 2\")\n",
    "\n",
    "#Add labels and legend\n",
    "plt.xlabel(\"Year\")\n",
    "plt.ylabel(\"Percentage of Deaths\")\n",
    "plt.legend()\n",
    "\n",
    "# Show the plot\n",
    "plt.show()"
   ],
   "execution_count": 63,
   "outputs": [
    {
     "data": {
      "text/plain": "<Figure size 640x480 with 1 Axes>",
      "image/png": "[encoded data removed]"
     },
     "metadata": {},
     "output_type": "display_data"
    }
   ]
  },
  {
   "cell_type": "code",
   "metadata": {
    "id": "_b2fo2gqH_1n",
    "ExecuteTime": {
     "start_time": "2023-10-16T18:21:01.759950500Z"
    }
   },
   "source": [],
   "execution_count": null,
   "outputs": []
  },
  {
   "cell_type": "markdown",
   "metadata": {
    "dc": {
     "key": "518e95acc5"
    },
    "run_control": {
     "frozen": true
    },
    "tags": [
     "context"
    ],
    "id": "ggep-emG63eX"
   },
   "source": [
    "# The Effect of Handwashing\n",
    "\n",
    "Dr Semmelweis made handwashing obligatory in the summer of 1947. In fact, he ordered people to wash their hands with clorine (instead of water)."
   ]
  },
  {
   "cell_type": "code",
   "metadata": {
    "id": "QFN7gYTD63eX",
    "ExecuteTime": {
     "end_time": "2023-10-17T07:47:14.784365200Z",
     "start_time": "2023-10-17T07:47:14.740681100Z"
    }
   },
   "source": [
    "# Date when handwashing was made mandatory\n",
    "handwashing_start = pd.to_datetime('1847-06-01')"
   ],
   "execution_count": 66,
   "outputs": []
  },
  {
   "cell_type": "markdown",
   "metadata": {
    "id": "xzsKlZ8CSNkM"
   },
   "source": [
    "**Challenge**: \n",
    "* Add a column called \"pct_deaths\" to `df_monthly` that has the percentage of deaths per birth for each row. \n",
    "* Create two subsets from the `df_monthly` data: before and after Dr Semmelweis ordered washing hand.\n",
    "* Calculate the average death rate prior to June 1947.\n",
    "* Calculate the average death rate after June 1947."
   ]
  },
  {
   "cell_type": "code",
   "metadata": {
    "id": "Zv47y222ICFE",
    "ExecuteTime": {
     "end_time": "2023-10-17T07:57:12.132362500Z",
     "start_time": "2023-10-17T07:57:12.100100300Z"
    }
   },
   "source": [
    "df_monthly[\"pct_deaths\"] = df_monthly.deaths / df_monthly.births\n",
    "df_monthly"
   ],
   "execution_count": 89,
   "outputs": [
    {
     "data": {
      "text/plain": "            births  deaths  pct_deaths\ndate                                  \n1841-01-01     254      37        0.15\n1841-02-01     239      18        0.08\n1841-03-01     277      12        0.04\n1841-04-01     255       4        0.02\n1841-05-01     255       2        0.01\n...            ...     ...         ...\n1848-11-01     310       9        0.03\n1848-12-01     373       5        0.01\n1849-01-01     403       9        0.02\n1849-02-01     389      12        0.03\n1849-03-01     406      20        0.05\n\n[98 rows x 3 columns]",
      "text/html": "<div>\n<style scoped>\n    .dataframe tbody tr th:only-of-type {\n        vertical-align: middle;\n    }\n\n    .dataframe tbody tr th {\n        vertical-align: top;\n    }\n\n    .dataframe thead th {\n        text-align: right;\n    }\n</style>\n<table border=\"1\" class=\"dataframe\">\n  <thead>\n    <tr style=\"text-align: right;\">\n      <th></th>\n      <th>births</th>\n      <th>deaths</th>\n      <th>pct_deaths</th>\n    </tr>\n    <tr>\n      <th>date</th>\n      <th></th>\n      <th></th>\n      <th></th>\n    </tr>\n  </thead>\n  <tbody>\n    <tr>\n      <th>1841-01-01</th>\n      <td>254</td>\n      <td>37</td>\n      <td>0.15</td>\n    </tr>\n    <tr>\n      <th>1841-02-01</th>\n      <td>239</td>\n      <td>18</td>\n      <td>0.08</td>\n    </tr>\n    <tr>\n      <th>1841-03-01</th>\n      <td>277</td>\n      <td>12</td>\n      <td>0.04</td>\n    </tr>\n    <tr>\n      <th>1841-04-01</th>\n      <td>255</td>\n      <td>4</td>\n      <td>0.02</td>\n    </tr>\n    <tr>\n      <th>1841-05-01</th>\n      <td>255</td>\n      <td>2</td>\n      <td>0.01</td>\n    </tr>\n    <tr>\n      <th>...</th>\n      <td>...</td>\n      <td>...</td>\n      <td>...</td>\n    </tr>\n    <tr>\n      <th>1848-11-01</th>\n      <td>310</td>\n      <td>9</td>\n      <td>0.03</td>\n    </tr>\n    <tr>\n      <th>1848-12-01</th>\n      <td>373</td>\n      <td>5</td>\n      <td>0.01</td>\n    </tr>\n    <tr>\n      <th>1849-01-01</th>\n      <td>403</td>\n      <td>9</td>\n      <td>0.02</td>\n    </tr>\n    <tr>\n      <th>1849-02-01</th>\n      <td>389</td>\n      <td>12</td>\n      <td>0.03</td>\n    </tr>\n    <tr>\n      <th>1849-03-01</th>\n      <td>406</td>\n      <td>20</td>\n      <td>0.05</td>\n    </tr>\n  </tbody>\n</table>\n<p>98 rows × 3 columns</p>\n</div>"
     },
     "execution_count": 89,
     "metadata": {},
     "output_type": "execute_result"
    }
   ]
  },
  {
   "cell_type": "code",
   "metadata": {
    "id": "uwVulybHIBk_",
    "ExecuteTime": {
     "end_time": "2023-10-17T07:48:16.959837300Z",
     "start_time": "2023-10-17T07:48:16.881334200Z"
    }
   },
   "source": [
    "print(\"Before:\", df_monthly.pct_deaths[df_monthly.date < handwashing_start].mean())\n",
    "print(\"After:\", df_monthly.pct_deaths[df_monthly.date >= handwashing_start].mean())"
   ],
   "execution_count": 70,
   "outputs": [
    {
     "name": "stdout",
     "output_type": "stream",
     "text": [
      "Before: 0.10504998260908789\n",
      "After: 0.021093375097254535\n"
     ]
    }
   ]
  },
  {
   "cell_type": "markdown",
   "metadata": {
    "id": "BgX_WAt0rcmf"
   },
   "source": [
    "### Calculate a Rolling Average of the Death Rate"
   ]
  },
  {
   "cell_type": "markdown",
   "metadata": {
    "id": "q8oeZj6kpZFl"
   },
   "source": [
    "**Challenge**: Create a DataFrame that has the 6 month rolling average death rate prior to mandatory handwashing.\n",
    "\n",
    "*Hint*: You'll need to set the dates as the index in order to avoid the date column being dropped during the calculation."
   ]
  },
  {
   "cell_type": "code",
   "metadata": {
    "id": "xh5skyLJIGJF",
    "ExecuteTime": {
     "end_time": "2023-10-17T07:52:33.042295800Z",
     "start_time": "2023-10-17T07:52:32.979762Z"
    }
   },
   "source": [
    "df_monthly.set_index(\"date\", inplace=True)\n",
    "df_monthly_rollin = df_monthly.pct_deaths.rolling(window=6).mean()"
   ],
   "execution_count": 79,
   "outputs": []
  },
  {
   "cell_type": "code",
   "metadata": {
    "id": "KImHv9CuIEDQ",
    "ExecuteTime": {
     "end_time": "2023-10-17T07:54:46.102017200Z",
     "start_time": "2023-10-17T07:54:46.038843400Z"
    }
   },
   "source": [
    "df_monthly_rollin"
   ],
   "execution_count": 84,
   "outputs": [
    {
     "data": {
      "text/plain": "date\n1841-01-01    NaN\n1841-02-01    NaN\n1841-03-01    NaN\n1841-04-01    NaN\n1841-05-01    NaN\n             ... \n1848-11-01   0.01\n1848-12-01   0.01\n1849-01-01   0.02\n1849-02-01   0.02\n1849-03-01   0.03\nName: pct_deaths, Length: 98, dtype: float64"
     },
     "execution_count": 84,
     "metadata": {},
     "output_type": "execute_result"
    }
   ]
  },
  {
   "cell_type": "markdown",
   "metadata": {
    "id": "nLoDpnv8SzQH"
   },
   "source": [
    "### Highlighting Subsections of a Line Chart\n",
    "\n",
    "**Challenge**: Copy-paste and then modify the Matplotlib chart from before to plot the monthly death rates (instead of the total number of births and deaths). The chart should look something like this:\n",
    "\n",
    "<img src=https://i.imgur.com/X6TQe0R.png width=500>\n",
    "\n",
    "* Add 3 seperate lines to the plot: the death rate before handwashing, after handwashing, and the 6-month moving average before handwashing.\n",
    "* Show the monthly death rate before handwashing as a thin dashed black line. \n",
    "* Show the moving average as a thicker, crimon line.\n",
    "* Show the rate after handwashing as a skyblue line with round markers. \n",
    "* Look at the [code snippet in the documentation to see how you can add a legend](https://matplotlib.org/3.1.1/api/_as_gen/matplotlib.pyplot.legend.html) to the chart."
   ]
  },
  {
   "cell_type": "code",
   "metadata": {
    "id": "XPHokmgTIG32",
    "ExecuteTime": {
     "end_time": "2023-10-17T08:00:04.372935500Z",
     "start_time": "2023-10-17T08:00:03.089892600Z"
    }
   },
   "source": [
    "plt.plot(df_monthly_rollin, \"--\", color=\"red\", label=\"6m Rolling AVG\")\n",
    "\n",
    "plt.plot(df_monthly.index[df_monthly.index < handwashing_start] ,df_monthly.pct_deaths[df_monthly.index < handwashing_start], label=\"Pre Handwashing\")\n",
    "\n",
    "plt.plot(df_monthly.index[df_monthly.index >= handwashing_start] ,df_monthly.pct_deaths[df_monthly.index >= handwashing_start], color=\"green\", label=\"Post Handwashing\")\n",
    "\n",
    "\n",
    "#Add labels and legend\n",
    "plt.xlabel(\"Year\")\n",
    "plt.ylabel(\"Percentage of Deaths\")\n",
    "plt.legend()\n",
    "\n",
    "# Show the plot\n",
    "plt.show()"
   ],
   "execution_count": 95,
   "outputs": [
    {
     "data": {
      "text/plain": "<Figure size 640x480 with 1 Axes>",
      "image/png": "[encoded data removed]"
     },
     "metadata": {},
     "output_type": "display_data"
    }
   ]
  },
  {
   "cell_type": "markdown",
   "metadata": {
    "dc": {
     "key": "586a9f9803"
    },
    "run_control": {
     "frozen": true
    },
    "tags": [
     "context"
    ],
    "id": "FPiDMwTh63el"
   },
   "source": [
    "### Statistics - Calculate the Difference in the Average Monthly Death Rate\n",
    "\n",
    "**Challenge**:\n",
    "* What was the average percentage of monthly deaths before handwashing? \n",
    "* What was the average percentage of monthly deaths after handwashing was made obligatory?\n",
    "* By how much did handwashing reduce the average chance of dying in childbirth in percentage terms?\n",
    "* How do these numbers compare to the average for all the 1840s that we calculated earlier? \n",
    "* How many times lower are the chances of dying after handwashing compared to before?"
   ]
  },
  {
   "cell_type": "code",
   "metadata": {
    "id": "HJMSk8xYIIGX",
    "ExecuteTime": {
     "end_time": "2023-10-17T08:02:21.433576800Z",
     "start_time": "2023-10-17T08:02:21.385984600Z"
    }
   },
   "source": [
    "print(\"Before:\", df_monthly.pct_deaths[df_monthly.index < handwashing_start].mean()*100)\n",
    "print(\"After:\", df_monthly.pct_deaths[df_monthly.index >= handwashing_start].mean()*100)\n",
    "print(\"Diff: \", (df_monthly.pct_deaths[df_monthly.index < handwashing_start].mean() - df_monthly.pct_deaths[df_monthly.index >= handwashing_start].mean())*100)"
   ],
   "execution_count": 100,
   "outputs": [
    {
     "name": "stdout",
     "output_type": "stream",
     "text": [
      "Before: 10.504998260908788\n",
      "After: 2.1093375097254534\n",
      "Diff:  8.395660751183335\n"
     ]
    }
   ]
  },
  {
   "cell_type": "markdown",
   "metadata": {
    "id": "oqBw_uL963eh"
   },
   "source": [
    "### Use Box Plots to Show How the Death Rate Changed Before and After Handwashing\n",
    "\n",
    "**Challenge**: \n",
    "* Use [NumPy's `.where()` function](https://numpy.org/doc/stable/reference/generated/numpy.where.html) to add a column to `df_monthly` that shows if a particular date was before or after the start of handwashing. \n",
    "* Then use plotly to create box plot of the data before and after handwashing. \n",
    "* How did key statistics like the mean, max, min, 1st and 3rd quartile changed as a result of the new policy?\n",
    "\n"
   ]
  },
  {
   "cell_type": "code",
   "metadata": {
    "id": "RVqz63Y9IJXg",
    "ExecuteTime": {
     "end_time": "2023-10-17T08:06:17.924202200Z",
     "start_time": "2023-10-17T08:06:17.831803300Z"
    }
   },
   "source": [
    "df_monthly['washing_hands'] = np.where(df_monthly.index < handwashing_start, 'No', 'Yes')"
   ],
   "execution_count": 102,
   "outputs": []
  },
  {
   "cell_type": "code",
   "metadata": {
    "id": "etNOMby-ILkv",
    "ExecuteTime": {
     "end_time": "2023-10-17T08:12:03.532653900Z",
     "start_time": "2023-10-17T08:12:03.243338Z"
    }
   },
   "source": [
    "plt.boxplot([df_monthly.pct_deaths[df_monthly.washing_hands == \"No\"], df_monthly.pct_deaths[df_monthly.washing_hands == \"Yes\"]], labels=[\"Yes\", \"No\"])\n",
    "plt.ylabel(\"Death Rate\")"
   ],
   "execution_count": 113,
   "outputs": [
    {
     "data": {
      "text/plain": "Text(0, 0.5, 'Death Rate')"
     },
     "execution_count": 113,
     "metadata": {},
     "output_type": "execute_result"
    },
    {
     "data": {
      "text/plain": "<Figure size 640x480 with 1 Axes>",
      "image/png": "[encoded data removed]"
     },
     "metadata": {},
     "output_type": "display_data"
    }
   ]
  },
  {
   "cell_type": "markdown",
   "metadata": {
    "id": "7CPfSdgt63en"
   },
   "source": [
    "### Use Histograms to Visualise the Monthly Distribution of Outcomes\n",
    "\n",
    "**Challenge**: Create a [plotly histogram](https://plotly.com/python/histograms/) to show the monthly percentage of deaths. \n",
    "\n",
    "* Use docs to check out the available parameters. Use the [`color` parameter](https://plotly.github.io/plotly.py-docs/generated/plotly.express.histogram.html) to display two overlapping histograms.\n",
    "* The time period of handwashing is shorter than not handwashing. Change `histnorm` to `percent` to make the time periods comparable. \n",
    "* Make the histograms slighlty transparent\n",
    "* Experiment with the number of bins on the histogram. Which number work well in communicating the range of outcomes?\n",
    "* Just for fun, display your box plot on the top of the histogram using the `marginal` parameter. "
   ]
  },
  {
   "cell_type": "code",
   "metadata": {
    "id": "ZUmW8ES5IMhZ",
    "ExecuteTime": {
     "end_time": "2023-10-17T08:27:44.627010200Z",
     "start_time": "2023-10-17T08:27:30.535786Z"
    }
   },
   "source": [
    "px.histogram(df_monthly, x=\"pct_deaths\", color=\"washing_hands\", nbins=30, barmode=\"overlay\", histnorm=\"percent\")"
   ],
   "execution_count": 121,
   "outputs": [
    {
     "data": {
      "application/vnd.plotly.v1+json": {
       "data": [
        {
         "alignmentgroup": "True",
         "bingroup": "x",
         "histnorm": "percent",
         "hovertemplate": "washing_hands=No<br>pct_deaths=%{x}<br>percent=%{y}<extra></extra>",
         "legendgroup": "No",
         "marker": {
          "color": "#636efa",
          "opacity": 0.5,
          "pattern": {
           "shape": ""
          }
         },
         "name": "No",
         "nbinsx": 30,
         "offsetgroup": "No",
         "orientation": "v",
         "showlegend": true,
         "x": [
          0.14566929133858267,
          0.07531380753138076,
          0.04332129963898917,
          0.01568627450980392,
          0.00784313725490196,
          0.05,
          0.08421052631578947,
          0.013513513513513514,
          0.018779342723004695,
          0.11016949152542373,
          0.225531914893617,
          0.20846905537459284,
          0.12218649517684887,
          0.10227272727272728,
          0.10743801652892562,
          0.03225806451612903,
          0.06593406593406594,
          0.2077922077922078,
          0.25462962962962965,
          0.18385650224215247,
          0.29338842975206614,
          0.22966507177033493,
          0.3138075313807531,
          0.19117647058823528,
          0.1596958174904943,
          0.12406015037593984,
          0.11929824561403508,
          0.06097560975609756,
          0.04081632653061224,
          0.005235602094240838,
          0.015544041450777202,
          0.02262443438914027,
          0.176,
          0.07142857142857142,
          0.08050847457627118,
          0.15163934426229508,
          0.11284046692607004,
          0.17028985507246377,
          0.17307692307692307,
          0.058333333333333334,
          0.026785714285714284,
          0.043689320388349516,
          0.06319702602230483,
          0.012244897959183673,
          0.03225806451612903,
          0.11020408163265306,
          0.10546875,
          0.07590759075907591,
          0.04744525547445255,
          0.04452054794520548,
          0.04230769230769231,
          0.04391891891891892,
          0.07142857142857142,
          0.061224489795918366,
          0.035856573705179286,
          0.10548523206751055,
          0.14840989399293286,
          0.10943396226415095,
          0.10486891385767791,
          0.13392857142857142,
          0.18088737201365188,
          0.15434083601286175,
          0.18972332015810275,
          0.13442622950819672,
          0.10150375939849623,
          0.13095238095238096,
          0.18055555555555555,
          0.14391143911439114,
          0.14960629921259844,
          0.10774410774410774,
          0.053691275167785234,
          0.03215434083601286,
          0.019230769230769232,
          0.036065573770491806,
          0.18269230769230768,
          0.12244897959183673
         ],
         "xaxis": "x",
         "yaxis": "y",
         "type": "histogram"
        },
        {
         "alignmentgroup": "True",
         "bingroup": "x",
         "histnorm": "percent",
         "hovertemplate": "washing_hands=Yes<br>pct_deaths=%{x}<br>percent=%{y}<extra></extra>",
         "legendgroup": "Yes",
         "marker": {
          "color": "#EF553B",
          "opacity": 0.5,
          "pattern": {
           "shape": ""
          }
         },
         "name": "Yes",
         "nbinsx": 30,
         "offsetgroup": "Yes",
         "orientation": "v",
         "showlegend": true,
         "x": [
          0.022388059701492536,
          0.012,
          0.01893939393939394,
          0.04580152671755725,
          0.039568345323741004,
          0.044715447154471545,
          0.029304029304029304,
          0.0353356890459364,
          0.006872852233676976,
          0.0,
          0.006557377049180328,
          0.009584664536741214,
          0.011363636363636364,
          0.0037174721189591076,
          0.0,
          0.009615384615384616,
          0.023411371237458192,
          0.02903225806451613,
          0.013404825737265416,
          0.022332506203473945,
          0.030848329048843187,
          0.04926108374384237
         ],
         "xaxis": "x",
         "yaxis": "y",
         "type": "histogram"
        }
       ],
       "layout": {
        "template": {
         "data": {
          "histogram2dcontour": [
           {
            "type": "histogram2dcontour",
            "colorbar": {
             "outlinewidth": 0,
             "ticks": ""
            },
            "colorscale": [
             [
              0.0,
              "#0d0887"
             ],
             [
              0.1111111111111111,
              "#46039f"
             ],
             [
              0.2222222222222222,
              "#7201a8"
             ],
             [
              0.3333333333333333,
              "#9c179e"
             ],
             [
              0.4444444444444444,
              "#bd3786"
             ],
             [
              0.5555555555555556,
              "#d8576b"
             ],
             [
              0.6666666666666666,
              "#ed7953"
             ],
             [
              0.7777777777777778,
              "#fb9f3a"
             ],
             [
              0.8888888888888888,
              "#fdca26"
             ],
             [
              1.0,
              "#f0f921"
             ]
            ]
           }
          ],
          "choropleth": [
           {
            "type": "choropleth",
            "colorbar": {
             "outlinewidth": 0,
             "ticks": ""
            }
           }
          ],
          "histogram2d": [
           {
            "type": "histogram2d",
            "colorbar": {
             "outlinewidth": 0,
             "ticks": ""
            },
            "colorscale": [
             [
              0.0,
              "#0d0887"
             ],
             [
              0.1111111111111111,
              "#46039f"
             ],
             [
              0.2222222222222222,
              "#7201a8"
             ],
             [
              0.3333333333333333,
              "#9c179e"
             ],
             [
              0.4444444444444444,
              "#bd3786"
             ],
             [
              0.5555555555555556,
              "#d8576b"
             ],
             [
              0.6666666666666666,
              "#ed7953"
             ],
             [
              0.7777777777777778,
              "#fb9f3a"
             ],
             [
              0.8888888888888888,
              "#fdca26"
             ],
             [
              1.0,
              "#f0f921"
             ]
            ]
           }
          ],
          "heatmap": [
           {
            "type": "heatmap",
            "colorbar": {
             "outlinewidth": 0,
             "ticks": ""
            },
            "colorscale": [
             [
              0.0,
              "#0d0887"
             ],
             [
              0.1111111111111111,
              "#46039f"
             ],
             [
              0.2222222222222222,
              "#7201a8"
             ],
             [
              0.3333333333333333,
              "#9c179e"
             ],
             [
              0.4444444444444444,
              "#bd3786"
             ],
             [
              0.5555555555555556,
              "#d8576b"
             ],
             [
              0.6666666666666666,
              "#ed7953"
             ],
             [
              0.7777777777777778,
              "#fb9f3a"
             ],
             [
              0.8888888888888888,
              "#fdca26"
             ],
             [
              1.0,
              "#f0f921"
             ]
            ]
           }
          ],
          "heatmapgl": [
           {
            "type": "heatmapgl",
            "colorbar": {
             "outlinewidth": 0,
             "ticks": ""
            },
            "colorscale": [
             [
              0.0,
              "#0d0887"
             ],
             [
              0.1111111111111111,
              "#46039f"
             ],
             [
              0.2222222222222222,
              "#7201a8"
             ],
             [
              0.3333333333333333,
              "#9c179e"
             ],
             [
              0.4444444444444444,
              "#bd3786"
             ],
             [
              0.5555555555555556,
              "#d8576b"
             ],
             [
              0.6666666666666666,
              "#ed7953"
             ],
             [
              0.7777777777777778,
              "#fb9f3a"
             ],
             [
              0.8888888888888888,
              "#fdca26"
             ],
             [
              1.0,
              "#f0f921"
             ]
            ]
           }
          ],
          "contourcarpet": [
           {
            "type": "contourcarpet",
            "colorbar": {
             "outlinewidth": 0,
             "ticks": ""
            }
           }
          ],
          "contour": [
           {
            "type": "contour",
            "colorbar": {
             "outlinewidth": 0,
             "ticks": ""
            },
            "colorscale": [
             [
              0.0,
              "#0d0887"
             ],
             [
              0.1111111111111111,
              "#46039f"
             ],
             [
              0.2222222222222222,
              "#7201a8"
             ],
             [
              0.3333333333333333,
              "#9c179e"
             ],
             [
              0.4444444444444444,
              "#bd3786"
             ],
             [
              0.5555555555555556,
              "#d8576b"
             ],
             [
              0.6666666666666666,
              "#ed7953"
             ],
             [
              0.7777777777777778,
              "#fb9f3a"
             ],
             [
              0.8888888888888888,
              "#fdca26"
             ],
             [
              1.0,
              "#f0f921"
             ]
            ]
           }
          ],
          "surface": [
           {
            "type": "surface",
            "colorbar": {
             "outlinewidth": 0,
             "ticks": ""
            },
            "colorscale": [
             [
              0.0,
              "#0d0887"
             ],
             [
              0.1111111111111111,
              "#46039f"
             ],
             [
              0.2222222222222222,
              "#7201a8"
             ],
             [
              0.3333333333333333,
              "#9c179e"
             ],
             [
              0.4444444444444444,
              "#bd3786"
             ],
             [
              0.5555555555555556,
              "#d8576b"
             ],
             [
              0.6666666666666666,
              "#ed7953"
             ],
             [
              0.7777777777777778,
              "#fb9f3a"
             ],
             [
              0.8888888888888888,
              "#fdca26"
             ],
             [
              1.0,
              "#f0f921"
             ]
            ]
           }
          ],
          "mesh3d": [
           {
            "type": "mesh3d",
            "colorbar": {
             "outlinewidth": 0,
             "ticks": ""
            }
           }
          ],
          "scatter": [
           {
            "fillpattern": {
             "fillmode": "overlay",
             "size": 10,
             "solidity": 0.2
            },
            "type": "scatter"
           }
          ],
          "parcoords": [
           {
            "type": "parcoords",
            "line": {
             "colorbar": {
              "outlinewidth": 0,
              "ticks": ""
             }
            }
           }
          ],
          "scatterpolargl": [
           {
            "type": "scatterpolargl",
            "marker": {
             "colorbar": {
              "outlinewidth": 0,
              "ticks": ""
             }
            }
           }
          ],
          "bar": [
           {
            "error_x": {
             "color": "#2a3f5f"
            },
            "error_y": {
             "color": "#2a3f5f"
            },
            "marker": {
             "line": {
              "color": "#E5ECF6",
              "width": 0.5
             },
             "pattern": {
              "fillmode": "overlay",
              "size": 10,
              "solidity": 0.2
             }
            },
            "type": "bar"
           }
          ],
          "scattergeo": [
           {
            "type": "scattergeo",
            "marker": {
             "colorbar": {
              "outlinewidth": 0,
              "ticks": ""
             }
            }
           }
          ],
          "scatterpolar": [
           {
            "type": "scatterpolar",
            "marker": {
             "colorbar": {
              "outlinewidth": 0,
              "ticks": ""
             }
            }
           }
          ],
          "histogram": [
           {
            "marker": {
             "pattern": {
              "fillmode": "overlay",
              "size": 10,
              "solidity": 0.2
             }
            },
            "type": "histogram"
           }
          ],
          "scattergl": [
           {
            "type": "scattergl",
            "marker": {
             "colorbar": {
              "outlinewidth": 0,
              "ticks": ""
             }
            }
           }
          ],
          "scatter3d": [
           {
            "type": "scatter3d",
            "line": {
             "colorbar": {
              "outlinewidth": 0,
              "ticks": ""
             }
            },
            "marker": {
             "colorbar": {
              "outlinewidth": 0,
              "ticks": ""
             }
            }
           }
          ],
          "scattermapbox": [
           {
            "type": "scattermapbox",
            "marker": {
             "colorbar": {
              "outlinewidth": 0,
              "ticks": ""
             }
            }
           }
          ],
          "scatterternary": [
           {
            "type": "scatterternary",
            "marker": {
             "colorbar": {
              "outlinewidth": 0,
              "ticks": ""
             }
            }
           }
          ],
          "scattercarpet": [
           {
            "type": "scattercarpet",
            "marker": {
             "colorbar": {
              "outlinewidth": 0,
              "ticks": ""
             }
            }
           }
          ],
          "carpet": [
           {
            "aaxis": {
             "endlinecolor": "#2a3f5f",
             "gridcolor": "white",
             "linecolor": "white",
             "minorgridcolor": "white",
             "startlinecolor": "#2a3f5f"
            },
            "baxis": {
             "endlinecolor": "#2a3f5f",
             "gridcolor": "white",
             "linecolor": "white",
             "minorgridcolor": "white",
             "startlinecolor": "#2a3f5f"
            },
            "type": "carpet"
           }
          ],
          "table": [
           {
            "cells": {
             "fill": {
              "color": "#EBF0F8"
             },
             "line": {
              "color": "white"
             }
            },
            "header": {
             "fill": {
              "color": "#C8D4E3"
             },
             "line": {
              "color": "white"
             }
            },
            "type": "table"
           }
          ],
          "barpolar": [
           {
            "marker": {
             "line": {
              "color": "#E5ECF6",
              "width": 0.5
             },
             "pattern": {
              "fillmode": "overlay",
              "size": 10,
              "solidity": 0.2
             }
            },
            "type": "barpolar"
           }
          ],
          "pie": [
           {
            "automargin": true,
            "type": "pie"
           }
          ]
         },
         "layout": {
          "autotypenumbers": "strict",
          "colorway": [
           "#636efa",
           "#EF553B",
           "#00cc96",
           "#ab63fa",
           "#FFA15A",
           "#19d3f3",
           "#FF6692",
           "#B6E880",
           "#FF97FF",
           "#FECB52"
          ],
          "font": {
           "color": "#2a3f5f"
          },
          "hovermode": "closest",
          "hoverlabel": {
           "align": "left"
          },
          "paper_bgcolor": "white",
          "plot_bgcolor": "#E5ECF6",
          "polar": {
           "bgcolor": "#E5ECF6",
           "angularaxis": {
            "gridcolor": "white",
            "linecolor": "white",
            "ticks": ""
           },
           "radialaxis": {
            "gridcolor": "white",
            "linecolor": "white",
            "ticks": ""
           }
          },
          "ternary": {
           "bgcolor": "#E5ECF6",
           "aaxis": {
            "gridcolor": "white",
            "linecolor": "white",
            "ticks": ""
           },
           "baxis": {
            "gridcolor": "white",
            "linecolor": "white",
            "ticks": ""
           },
           "caxis": {
            "gridcolor": "white",
            "linecolor": "white",
            "ticks": ""
           }
          },
          "coloraxis": {
           "colorbar": {
            "outlinewidth": 0,
            "ticks": ""
           }
          },
          "colorscale": {
           "sequential": [
            [
             0.0,
             "#0d0887"
            ],
            [
             0.1111111111111111,
             "#46039f"
            ],
            [
             0.2222222222222222,
             "#7201a8"
            ],
            [
             0.3333333333333333,
             "#9c179e"
            ],
            [
             0.4444444444444444,
             "#bd3786"
            ],
            [
             0.5555555555555556,
             "#d8576b"
            ],
            [
             0.6666666666666666,
             "#ed7953"
            ],
            [
             0.7777777777777778,
             "#fb9f3a"
            ],
            [
             0.8888888888888888,
             "#fdca26"
            ],
            [
             1.0,
             "#f0f921"
            ]
           ],
           "sequentialminus": [
            [
             0.0,
             "#0d0887"
            ],
            [
             0.1111111111111111,
             "#46039f"
            ],
            [
             0.2222222222222222,
             "#7201a8"
            ],
            [
             0.3333333333333333,
             "#9c179e"
            ],
            [
             0.4444444444444444,
             "#bd3786"
            ],
            [
             0.5555555555555556,
             "#d8576b"
            ],
            [
             0.6666666666666666,
             "#ed7953"
            ],
            [
             0.7777777777777778,
             "#fb9f3a"
            ],
            [
             0.8888888888888888,
             "#fdca26"
            ],
            [
             1.0,
             "#f0f921"
            ]
           ],
           "diverging": [
            [
             0,
             "#8e0152"
            ],
            [
             0.1,
             "#c51b7d"
            ],
            [
             0.2,
             "#de77ae"
            ],
            [
             0.3,
             "#f1b6da"
            ],
            [
             0.4,
             "#fde0ef"
            ],
            [
             0.5,
             "#f7f7f7"
            ],
            [
             0.6,
             "#e6f5d0"
            ],
            [
             0.7,
             "#b8e186"
            ],
            [
             0.8,
             "#7fbc41"
            ],
            [
             0.9,
             "#4d9221"
            ],
            [
             1,
             "#276419"
            ]
           ]
          },
          "xaxis": {
           "gridcolor": "white",
           "linecolor": "white",
           "ticks": "",
           "title": {
            "standoff": 15
           },
           "zerolinecolor": "white",
           "automargin": true,
           "zerolinewidth": 2
          },
          "yaxis": {
           "gridcolor": "white",
           "linecolor": "white",
           "ticks": "",
           "title": {
            "standoff": 15
           },
           "zerolinecolor": "white",
           "automargin": true,
           "zerolinewidth": 2
          },
          "scene": {
           "xaxis": {
            "backgroundcolor": "#E5ECF6",
            "gridcolor": "white",
            "linecolor": "white",
            "showbackground": true,
            "ticks": "",
            "zerolinecolor": "white",
            "gridwidth": 2
           },
           "yaxis": {
            "backgroundcolor": "#E5ECF6",
            "gridcolor": "white",
            "linecolor": "white",
            "showbackground": true,
            "ticks": "",
            "zerolinecolor": "white",
            "gridwidth": 2
           },
           "zaxis": {
            "backgroundcolor": "#E5ECF6",
            "gridcolor": "white",
            "linecolor": "white",
            "showbackground": true,
            "ticks": "",
            "zerolinecolor": "white",
            "gridwidth": 2
           }
          },
          "shapedefaults": {
           "line": {
            "color": "#2a3f5f"
           }
          },
          "annotationdefaults": {
           "arrowcolor": "#2a3f5f",
           "arrowhead": 0,
           "arrowwidth": 1
          },
          "geo": {
           "bgcolor": "white",
           "landcolor": "#E5ECF6",
           "subunitcolor": "white",
           "showland": true,
           "showlakes": true,
           "lakecolor": "white"
          },
          "title": {
           "x": 0.05
          },
          "mapbox": {
           "style": "light"
          }
         }
        },
        "xaxis": {
         "anchor": "y",
         "domain": [
          0.0,
          1.0
         ],
         "title": {
          "text": "pct_deaths"
         }
        },
        "yaxis": {
         "anchor": "x",
         "domain": [
          0.0,
          1.0
         ],
         "title": {
          "text": "percent"
         }
        },
        "legend": {
         "title": {
          "text": "washing_hands"
         },
         "tracegroupgap": 0
        },
        "margin": {
         "t": 60
        },
        "barmode": "overlay"
       },
       "config": {
        "plotlyServerURL": "https://plot.ly"
       }
      },
      "text/html": "<div>                            <div id=\"6ab0dbc8-3dd8-4495-8698-cfbc44f26eea\" class=\"plotly-graph-div\" style=\"height:525px; width:100%;\"></div>            <script type=\"text/javascript\">                require([\"plotly\"], function(Plotly) {                    window.PLOTLYENV=window.PLOTLYENV || {};                                    if (document.getElementById(\"6ab0dbc8-3dd8-4495-8698-cfbc44f26eea\")) {                    Plotly.newPlot(                        \"6ab0dbc8-3dd8-4495-8698-cfbc44f26eea\",                        [{\"alignmentgroup\":\"True\",\"bingroup\":\"x\",\"histnorm\":\"percent\",\"hovertemplate\":\"washing_hands=No\\u003cbr\\u003epct_deaths=%{x}\\u003cbr\\u003epercent=%{y}\\u003cextra\\u003e\\u003c\\u002fextra\\u003e\",\"legendgroup\":\"No\",\"marker\":{\"color\":\"#636efa\",\"opacity\":0.5,\"pattern\":{\"shape\":\"\"}},\"name\":\"No\",\"nbinsx\":30,\"offsetgroup\":\"No\",\"orientation\":\"v\",\"showlegend\":true,\"x\":[0.14566929133858267,0.07531380753138076,0.04332129963898917,0.01568627450980392,0.00784313725490196,0.05,0.08421052631578947,0.013513513513513514,0.018779342723004695,0.11016949152542373,0.225531914893617,0.20846905537459284,0.12218649517684887,0.10227272727272728,0.10743801652892562,0.03225806451612903,0.06593406593406594,0.2077922077922078,0.25462962962962965,0.18385650224215247,0.29338842975206614,0.22966507177033493,0.3138075313807531,0.19117647058823528,0.1596958174904943,0.12406015037593984,0.11929824561403508,0.06097560975609756,0.04081632653061224,0.005235602094240838,0.015544041450777202,0.02262443438914027,0.176,0.07142857142857142,0.08050847457627118,0.15163934426229508,0.11284046692607004,0.17028985507246377,0.17307692307692307,0.058333333333333334,0.026785714285714284,0.043689320388349516,0.06319702602230483,0.012244897959183673,0.03225806451612903,0.11020408163265306,0.10546875,0.07590759075907591,0.04744525547445255,0.04452054794520548,0.04230769230769231,0.04391891891891892,0.07142857142857142,0.061224489795918366,0.035856573705179286,0.10548523206751055,0.14840989399293286,0.10943396226415095,0.10486891385767791,0.13392857142857142,0.18088737201365188,0.15434083601286175,0.18972332015810275,0.13442622950819672,0.10150375939849623,0.13095238095238096,0.18055555555555555,0.14391143911439114,0.14960629921259844,0.10774410774410774,0.053691275167785234,0.03215434083601286,0.019230769230769232,0.036065573770491806,0.18269230769230768,0.12244897959183673],\"xaxis\":\"x\",\"yaxis\":\"y\",\"type\":\"histogram\"},{\"alignmentgroup\":\"True\",\"bingroup\":\"x\",\"histnorm\":\"percent\",\"hovertemplate\":\"washing_hands=Yes\\u003cbr\\u003epct_deaths=%{x}\\u003cbr\\u003epercent=%{y}\\u003cextra\\u003e\\u003c\\u002fextra\\u003e\",\"legendgroup\":\"Yes\",\"marker\":{\"color\":\"#EF553B\",\"opacity\":0.5,\"pattern\":{\"shape\":\"\"}},\"name\":\"Yes\",\"nbinsx\":30,\"offsetgroup\":\"Yes\",\"orientation\":\"v\",\"showlegend\":true,\"x\":[0.022388059701492536,0.012,0.01893939393939394,0.04580152671755725,0.039568345323741004,0.044715447154471545,0.029304029304029304,0.0353356890459364,0.006872852233676976,0.0,0.006557377049180328,0.009584664536741214,0.011363636363636364,0.0037174721189591076,0.0,0.009615384615384616,0.023411371237458192,0.02903225806451613,0.013404825737265416,0.022332506203473945,0.030848329048843187,0.04926108374384237],\"xaxis\":\"x\",\"yaxis\":\"y\",\"type\":\"histogram\"}],                        {\"template\":{\"data\":{\"histogram2dcontour\":[{\"type\":\"histogram2dcontour\",\"colorbar\":{\"outlinewidth\":0,\"ticks\":\"\"},\"colorscale\":[[0.0,\"#0d0887\"],[0.1111111111111111,\"#46039f\"],[0.2222222222222222,\"#7201a8\"],[0.3333333333333333,\"#9c179e\"],[0.4444444444444444,\"#bd3786\"],[0.5555555555555556,\"#d8576b\"],[0.6666666666666666,\"#ed7953\"],[0.7777777777777778,\"#fb9f3a\"],[0.8888888888888888,\"#fdca26\"],[1.0,\"#f0f921\"]]}],\"choropleth\":[{\"type\":\"choropleth\",\"colorbar\":{\"outlinewidth\":0,\"ticks\":\"\"}}],\"histogram2d\":[{\"type\":\"histogram2d\",\"colorbar\":{\"outlinewidth\":0,\"ticks\":\"\"},\"colorscale\":[[0.0,\"#0d0887\"],[0.1111111111111111,\"#46039f\"],[0.2222222222222222,\"#7201a8\"],[0.3333333333333333,\"#9c179e\"],[0.4444444444444444,\"#bd3786\"],[0.5555555555555556,\"#d8576b\"],[0.6666666666666666,\"#ed7953\"],[0.7777777777777778,\"#fb9f3a\"],[0.8888888888888888,\"#fdca26\"],[1.0,\"#f0f921\"]]}],\"heatmap\":[{\"type\":\"heatmap\",\"colorbar\":{\"outlinewidth\":0,\"ticks\":\"\"},\"colorscale\":[[0.0,\"#0d0887\"],[0.1111111111111111,\"#46039f\"],[0.2222222222222222,\"#7201a8\"],[0.3333333333333333,\"#9c179e\"],[0.4444444444444444,\"#bd3786\"],[0.5555555555555556,\"#d8576b\"],[0.6666666666666666,\"#ed7953\"],[0.7777777777777778,\"#fb9f3a\"],[0.8888888888888888,\"#fdca26\"],[1.0,\"#f0f921\"]]}],\"heatmapgl\":[{\"type\":\"heatmapgl\",\"colorbar\":{\"outlinewidth\":0,\"ticks\":\"\"},\"colorscale\":[[0.0,\"#0d0887\"],[0.1111111111111111,\"#46039f\"],[0.2222222222222222,\"#7201a8\"],[0.3333333333333333,\"#9c179e\"],[0.4444444444444444,\"#bd3786\"],[0.5555555555555556,\"#d8576b\"],[0.6666666666666666,\"#ed7953\"],[0.7777777777777778,\"#fb9f3a\"],[0.8888888888888888,\"#fdca26\"],[1.0,\"#f0f921\"]]}],\"contourcarpet\":[{\"type\":\"contourcarpet\",\"colorbar\":{\"outlinewidth\":0,\"ticks\":\"\"}}],\"contour\":[{\"type\":\"contour\",\"colorbar\":{\"outlinewidth\":0,\"ticks\":\"\"},\"colorscale\":[[0.0,\"#0d0887\"],[0.1111111111111111,\"#46039f\"],[0.2222222222222222,\"#7201a8\"],[0.3333333333333333,\"#9c179e\"],[0.4444444444444444,\"#bd3786\"],[0.5555555555555556,\"#d8576b\"],[0.6666666666666666,\"#ed7953\"],[0.7777777777777778,\"#fb9f3a\"],[0.8888888888888888,\"#fdca26\"],[1.0,\"#f0f921\"]]}],\"surface\":[{\"type\":\"surface\",\"colorbar\":{\"outlinewidth\":0,\"ticks\":\"\"},\"colorscale\":[[0.0,\"#0d0887\"],[0.1111111111111111,\"#46039f\"],[0.2222222222222222,\"#7201a8\"],[0.3333333333333333,\"#9c179e\"],[0.4444444444444444,\"#bd3786\"],[0.5555555555555556,\"#d8576b\"],[0.6666666666666666,\"#ed7953\"],[0.7777777777777778,\"#fb9f3a\"],[0.8888888888888888,\"#fdca26\"],[1.0,\"#f0f921\"]]}],\"mesh3d\":[{\"type\":\"mesh3d\",\"colorbar\":{\"outlinewidth\":0,\"ticks\":\"\"}}],\"scatter\":[{\"fillpattern\":{\"fillmode\":\"overlay\",\"size\":10,\"solidity\":0.2},\"type\":\"scatter\"}],\"parcoords\":[{\"type\":\"parcoords\",\"line\":{\"colorbar\":{\"outlinewidth\":0,\"ticks\":\"\"}}}],\"scatterpolargl\":[{\"type\":\"scatterpolargl\",\"marker\":{\"colorbar\":{\"outlinewidth\":0,\"ticks\":\"\"}}}],\"bar\":[{\"error_x\":{\"color\":\"#2a3f5f\"},\"error_y\":{\"color\":\"#2a3f5f\"},\"marker\":{\"line\":{\"color\":\"#E5ECF6\",\"width\":0.5},\"pattern\":{\"fillmode\":\"overlay\",\"size\":10,\"solidity\":0.2}},\"type\":\"bar\"}],\"scattergeo\":[{\"type\":\"scattergeo\",\"marker\":{\"colorbar\":{\"outlinewidth\":0,\"ticks\":\"\"}}}],\"scatterpolar\":[{\"type\":\"scatterpolar\",\"marker\":{\"colorbar\":{\"outlinewidth\":0,\"ticks\":\"\"}}}],\"histogram\":[{\"marker\":{\"pattern\":{\"fillmode\":\"overlay\",\"size\":10,\"solidity\":0.2}},\"type\":\"histogram\"}],\"scattergl\":[{\"type\":\"scattergl\",\"marker\":{\"colorbar\":{\"outlinewidth\":0,\"ticks\":\"\"}}}],\"scatter3d\":[{\"type\":\"scatter3d\",\"line\":{\"colorbar\":{\"outlinewidth\":0,\"ticks\":\"\"}},\"marker\":{\"colorbar\":{\"outlinewidth\":0,\"ticks\":\"\"}}}],\"scattermapbox\":[{\"type\":\"scattermapbox\",\"marker\":{\"colorbar\":{\"outlinewidth\":0,\"ticks\":\"\"}}}],\"scatterternary\":[{\"type\":\"scatterternary\",\"marker\":{\"colorbar\":{\"outlinewidth\":0,\"ticks\":\"\"}}}],\"scattercarpet\":[{\"type\":\"scattercarpet\",\"marker\":{\"colorbar\":{\"outlinewidth\":0,\"ticks\":\"\"}}}],\"carpet\":[{\"aaxis\":{\"endlinecolor\":\"#2a3f5f\",\"gridcolor\":\"white\",\"linecolor\":\"white\",\"minorgridcolor\":\"white\",\"startlinecolor\":\"#2a3f5f\"},\"baxis\":{\"endlinecolor\":\"#2a3f5f\",\"gridcolor\":\"white\",\"linecolor\":\"white\",\"minorgridcolor\":\"white\",\"startlinecolor\":\"#2a3f5f\"},\"type\":\"carpet\"}],\"table\":[{\"cells\":{\"fill\":{\"color\":\"#EBF0F8\"},\"line\":{\"color\":\"white\"}},\"header\":{\"fill\":{\"color\":\"#C8D4E3\"},\"line\":{\"color\":\"white\"}},\"type\":\"table\"}],\"barpolar\":[{\"marker\":{\"line\":{\"color\":\"#E5ECF6\",\"width\":0.5},\"pattern\":{\"fillmode\":\"overlay\",\"size\":10,\"solidity\":0.2}},\"type\":\"barpolar\"}],\"pie\":[{\"automargin\":true,\"type\":\"pie\"}]},\"layout\":{\"autotypenumbers\":\"strict\",\"colorway\":[\"#636efa\",\"#EF553B\",\"#00cc96\",\"#ab63fa\",\"#FFA15A\",\"#19d3f3\",\"#FF6692\",\"#B6E880\",\"#FF97FF\",\"#FECB52\"],\"font\":{\"color\":\"#2a3f5f\"},\"hovermode\":\"closest\",\"hoverlabel\":{\"align\":\"left\"},\"paper_bgcolor\":\"white\",\"plot_bgcolor\":\"#E5ECF6\",\"polar\":{\"bgcolor\":\"#E5ECF6\",\"angularaxis\":{\"gridcolor\":\"white\",\"linecolor\":\"white\",\"ticks\":\"\"},\"radialaxis\":{\"gridcolor\":\"white\",\"linecolor\":\"white\",\"ticks\":\"\"}},\"ternary\":{\"bgcolor\":\"#E5ECF6\",\"aaxis\":{\"gridcolor\":\"white\",\"linecolor\":\"white\",\"ticks\":\"\"},\"baxis\":{\"gridcolor\":\"white\",\"linecolor\":\"white\",\"ticks\":\"\"},\"caxis\":{\"gridcolor\":\"white\",\"linecolor\":\"white\",\"ticks\":\"\"}},\"coloraxis\":{\"colorbar\":{\"outlinewidth\":0,\"ticks\":\"\"}},\"colorscale\":{\"sequential\":[[0.0,\"#0d0887\"],[0.1111111111111111,\"#46039f\"],[0.2222222222222222,\"#7201a8\"],[0.3333333333333333,\"#9c179e\"],[0.4444444444444444,\"#bd3786\"],[0.5555555555555556,\"#d8576b\"],[0.6666666666666666,\"#ed7953\"],[0.7777777777777778,\"#fb9f3a\"],[0.8888888888888888,\"#fdca26\"],[1.0,\"#f0f921\"]],\"sequentialminus\":[[0.0,\"#0d0887\"],[0.1111111111111111,\"#46039f\"],[0.2222222222222222,\"#7201a8\"],[0.3333333333333333,\"#9c179e\"],[0.4444444444444444,\"#bd3786\"],[0.5555555555555556,\"#d8576b\"],[0.6666666666666666,\"#ed7953\"],[0.7777777777777778,\"#fb9f3a\"],[0.8888888888888888,\"#fdca26\"],[1.0,\"#f0f921\"]],\"diverging\":[[0,\"#8e0152\"],[0.1,\"#c51b7d\"],[0.2,\"#de77ae\"],[0.3,\"#f1b6da\"],[0.4,\"#fde0ef\"],[0.5,\"#f7f7f7\"],[0.6,\"#e6f5d0\"],[0.7,\"#b8e186\"],[0.8,\"#7fbc41\"],[0.9,\"#4d9221\"],[1,\"#276419\"]]},\"xaxis\":{\"gridcolor\":\"white\",\"linecolor\":\"white\",\"ticks\":\"\",\"title\":{\"standoff\":15},\"zerolinecolor\":\"white\",\"automargin\":true,\"zerolinewidth\":2},\"yaxis\":{\"gridcolor\":\"white\",\"linecolor\":\"white\",\"ticks\":\"\",\"title\":{\"standoff\":15},\"zerolinecolor\":\"white\",\"automargin\":true,\"zerolinewidth\":2},\"scene\":{\"xaxis\":{\"backgroundcolor\":\"#E5ECF6\",\"gridcolor\":\"white\",\"linecolor\":\"white\",\"showbackground\":true,\"ticks\":\"\",\"zerolinecolor\":\"white\",\"gridwidth\":2},\"yaxis\":{\"backgroundcolor\":\"#E5ECF6\",\"gridcolor\":\"white\",\"linecolor\":\"white\",\"showbackground\":true,\"ticks\":\"\",\"zerolinecolor\":\"white\",\"gridwidth\":2},\"zaxis\":{\"backgroundcolor\":\"#E5ECF6\",\"gridcolor\":\"white\",\"linecolor\":\"white\",\"showbackground\":true,\"ticks\":\"\",\"zerolinecolor\":\"white\",\"gridwidth\":2}},\"shapedefaults\":{\"line\":{\"color\":\"#2a3f5f\"}},\"annotationdefaults\":{\"arrowcolor\":\"#2a3f5f\",\"arrowhead\":0,\"arrowwidth\":1},\"geo\":{\"bgcolor\":\"white\",\"landcolor\":\"#E5ECF6\",\"subunitcolor\":\"white\",\"showland\":true,\"showlakes\":true,\"lakecolor\":\"white\"},\"title\":{\"x\":0.05},\"mapbox\":{\"style\":\"light\"}}},\"xaxis\":{\"anchor\":\"y\",\"domain\":[0.0,1.0],\"title\":{\"text\":\"pct_deaths\"}},\"yaxis\":{\"anchor\":\"x\",\"domain\":[0.0,1.0],\"title\":{\"text\":\"percent\"}},\"legend\":{\"title\":{\"text\":\"washing_hands\"},\"tracegroupgap\":0},\"margin\":{\"t\":60},\"barmode\":\"overlay\"},                        {\"responsive\": true}                    ).then(function(){\n                            \nvar gd = document.getElementById('6ab0dbc8-3dd8-4495-8698-cfbc44f26eea');\nvar x = new MutationObserver(function (mutations, observer) {{\n        var display = window.getComputedStyle(gd).display;\n        if (!display || display === 'none') {{\n            console.log([gd, 'removed!']);\n            Plotly.purge(gd);\n            observer.disconnect();\n        }}\n}});\n\n// Listen for the removal of the full notebook cells\nvar notebookContainer = gd.closest('#notebook-container');\nif (notebookContainer) {{\n    x.observe(notebookContainer, {childList: true});\n}}\n\n// Listen for the clearing of the current output cell\nvar outputEl = gd.closest('.output');\nif (outputEl) {{\n    x.observe(outputEl, {childList: true});\n}}\n\n                        })                };                });            </script>        </div>"
     },
     "metadata": {},
     "output_type": "display_data"
    }
   ]
  },
  {
   "cell_type": "markdown",
   "metadata": {
    "id": "6xEmXJWM63ep"
   },
   "source": [
    "### Use a Kernel Density Estimate (KDE) to visualise a smooth distribution\n",
    "\n",
    "**Challenge**: Use [Seaborn's `.kdeplot()`](https://seaborn.pydata.org/generated/seaborn.kdeplot.html) to create two kernel density estimates of the `pct_deaths`, one for before handwashing and one for after. \n",
    "\n",
    "* Use the `shade` parameter to give your two distributions different colours. \n",
    "* What weakness in the chart do you see when you just use the default parameters?\n",
    "* Use the `clip` parameter to address the problem. \n"
   ]
  },
  {
   "cell_type": "code",
   "metadata": {
    "id": "MKxD_c_cINxx",
    "ExecuteTime": {
     "end_time": "2023-10-17T08:32:42.922464100Z",
     "start_time": "2023-10-17T08:32:42.637636100Z"
    }
   },
   "source": [
    "sns.kdeplot(df_monthly.pct_deaths[df_monthly.washing_hands == \"Yes\"], shade=True)\n",
    "sns.kdeplot(df_monthly.pct_deaths[df_monthly.washing_hands == \"No\"], shade=True)\n",
    "plt.title('Est. Distribution of Monthly Death Rate Before and After Handwashing')\n",
    "plt.show()"
   ],
   "execution_count": 127,
   "outputs": [
    {
     "name": "stderr",
     "output_type": "stream",
     "text": [
      "C:\\Users\\gerar\\AppData\\Local\\Temp\\ipykernel_29532\\972675801.py:1: FutureWarning:\n",
      "\n",
      "\n",
      "\n",
      "`shade` is now deprecated in favor of `fill`; setting `fill=True`.\n",
      "This will become an error in seaborn v0.14.0; please update your code.\n",
      "\n",
      "\n",
      "C:\\Users\\gerar\\AppData\\Local\\Temp\\ipykernel_29532\\972675801.py:2: FutureWarning:\n",
      "\n",
      "\n",
      "\n",
      "`shade` is now deprecated in favor of `fill`; setting `fill=True`.\n",
      "This will become an error in seaborn v0.14.0; please update your code.\n",
      "\n",
      "\n"
     ]
    },
    {
     "data": {
      "text/plain": "<Figure size 640x480 with 1 Axes>",
      "image/png": "[encoded data removed]"
     },
     "metadata": {},
     "output_type": "display_data"
    }
   ]
  },
  {
   "cell_type": "code",
   "metadata": {
    "id": "yV8gUkLuINmX",
    "ExecuteTime": {
     "start_time": "2023-10-16T18:21:01.822448500Z"
    }
   },
   "source": [],
   "execution_count": null,
   "outputs": []
  },
  {
   "cell_type": "markdown",
   "metadata": {
    "id": "F7lNXT7X63et"
   },
   "source": [
    "### Use a T-Test to Show Statistical Significance\n",
    "\n",
    "**Challenge**: Use a t-test to determine if the differences in the means are statistically significant or purely due to chance. \n",
    "\n",
    "If the p-value is less than 1% then we can be 99% certain that handwashing has made a difference to the average monthly death rate. \n",
    "\n",
    "* Import `stats` from scipy\n",
    "* Use the [`.ttest_ind()` function](https://docs.scipy.org/]doc/scipy/reference/generated/scipy.stats.ttest_ind.html) to calculate the t-statistic and the p-value\n",
    "* Is the difference in the average proportion of monthly deaths statistically significant at the 99% level? \n",
    "\n"
   ]
  },
  {
   "cell_type": "code",
   "metadata": {
    "id": "3gG5RDz_IQLJ",
    "ExecuteTime": {
     "end_time": "2023-10-17T08:35:06.136105200Z",
     "start_time": "2023-10-17T08:35:05.934401400Z"
    }
   },
   "source": [
    "from spicy import stats"
   ],
   "execution_count": 131,
   "outputs": []
  },
  {
   "cell_type": "code",
   "metadata": {
    "id": "KQbDwe_GIP_G",
    "ExecuteTime": {
     "end_time": "2023-10-17T08:36:15.160914200Z",
     "start_time": "2023-10-17T08:36:15.018319700Z"
    }
   },
   "source": [
    "stats.ttest_ind(df_monthly.pct_deaths[df_monthly.washing_hands == \"Yes\"], df_monthly.pct_deaths[df_monthly.washing_hands == \"No\"])"
   ],
   "execution_count": 132,
   "outputs": [
    {
     "data": {
      "text/plain": "TtestResult(statistic=-5.511607211341916, pvalue=2.985436556724523e-07, df=96.0)"
     },
     "execution_count": 132,
     "metadata": {},
     "output_type": "execute_result"
    }
   ]
  },
  {
   "cell_type": "markdown",
   "metadata": {
    "id": "ljuC4qkz6BbA"
   },
   "source": [
    "What do you conclude from your analysis, Doctor? 😊\n",
    "\n",
    "<img src=https://i.imgur.com/rvjNVzQ.gif>"
   ]
  },
  {
   "cell_type": "code",
   "metadata": {
    "id": "3qNGdccG6D34",
    "ExecuteTime": {
     "start_time": "2023-10-16T18:21:01.838474300Z"
    }
   },
   "source": [],
   "execution_count": null,
   "outputs": []
  }
 ]
}
