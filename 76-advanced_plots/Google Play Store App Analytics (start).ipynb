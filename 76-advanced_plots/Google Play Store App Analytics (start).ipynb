{
 "nbformat": 4,
 "nbformat_minor": 0,
 "metadata": {
  "kernelspec": {
   "display_name": "Python 3",
   "language": "python",
   "name": "python3"
  },
  "language_info": {
   "codemirror_mode": {
    "name": "ipython",
    "version": 3
   },
   "file_extension": ".py",
   "mimetype": "text/x-python",
   "name": "python",
   "nbconvert_exporter": "python",
   "pygments_lexer": "ipython3",
   "version": "3.7.3"
  },
  "colab": {
   "name": "Google Play Store App Analytics (start).ipynb",
   "provenance": [],
   "toc_visible": true
  }
 },
 "cells": [
  {
   "cell_type": "markdown",
   "metadata": {
    "dc": {
     "key": "4"
    },
    "run_control": {
     "frozen": true
    },
    "tags": [
     "context"
    ],
    "id": "-Sxae4jbdiT2"
   },
   "source": [
    "# Introduction\n",
    "\n",
    "In this notebook, we will do a comprehensive analysis of the Android app market by comparing thousands of apps in the Google Play store."
   ]
  },
  {
   "cell_type": "markdown",
   "metadata": {
    "id": "sDT5lMxadiT3"
   },
   "source": [
    "# About the Dataset of Google Play Store Apps & Reviews"
   ]
  },
  {
   "cell_type": "markdown",
   "metadata": {
    "id": "5CiydsdNdiT3"
   },
   "source": [
    "**Data Source:** <br>\n",
    "App and review data was scraped from the Google Play Store by Lavanya Gupta in 2018. Original files listed [here](\n",
    "https://www.kaggle.com/lava18/google-play-store-apps)."
   ]
  },
  {
   "cell_type": "markdown",
   "metadata": {
    "id": "BBKBNy4UdiT4"
   },
   "source": [
    "# Import Statements"
   ]
  },
  {
   "cell_type": "code",
   "metadata": {
    "id": "_5mfFH4_diT4",
    "executionInfo": {
     "status": "ok",
     "timestamp": 1602234478794,
     "user_tz": -60,
     "elapsed": 594,
     "user": {
      "displayName": "Philipp Muellauer",
      "photoUrl": "https://lh3.googleusercontent.com/a-/AOh14GjjWitgsmZ0M9Wmzf-SRYD005WcMGhejWWHMUiZnFw=s64",
      "userId": "02749974243016517270"
     }
    },
    "ExecuteTime": {
     "end_time": "2023-10-13T09:59:08.510440200Z",
     "start_time": "2023-10-13T09:59:06.728748500Z"
    }
   },
   "source": [
    "import pandas as pd\n",
    "import plotly.express as px"
   ],
   "execution_count": 245,
   "outputs": []
  },
  {
   "cell_type": "markdown",
   "metadata": {
    "id": "KegC9nPDdiT7"
   },
   "source": [
    "# Notebook Presentation"
   ]
  },
  {
   "cell_type": "code",
   "metadata": {
    "id": "WPL7rhJndiT7",
    "ExecuteTime": {
     "end_time": "2023-10-13T09:59:09.435418900Z",
     "start_time": "2023-10-13T09:59:06.744877700Z"
    }
   },
   "source": [
    "# Show numeric output in decimal format e.g., 2.15\n",
    "pd.options.display.float_format = '{:,.2f}'.format"
   ],
   "execution_count": 246,
   "outputs": []
  },
  {
   "cell_type": "markdown",
   "metadata": {
    "id": "Uc9LOZu9diT-"
   },
   "source": [
    "# Read the Dataset"
   ]
  },
  {
   "cell_type": "code",
   "metadata": {
    "id": "zU0Zisv_diT-",
    "executionInfo": {
     "status": "error",
     "timestamp": 1602234486357,
     "user_tz": -60,
     "elapsed": 441,
     "user": {
      "displayName": "Philipp Muellauer",
      "photoUrl": "https://lh3.googleusercontent.com/a-/AOh14GjjWitgsmZ0M9Wmzf-SRYD005WcMGhejWWHMUiZnFw=s64",
      "userId": "02749974243016517270"
     }
    },
    "outputId": "f88a917e-30a1-45a4-b17a-ab21e557913c",
    "colab": {
     "base_uri": "https://localhost:8080/",
     "height": 375
    },
    "ExecuteTime": {
     "end_time": "2023-10-13T09:59:09.649757200Z",
     "start_time": "2023-10-13T09:59:06.760521600Z"
    }
   },
   "source": [
    "df_apps = pd.read_csv('apps.csv')"
   ],
   "execution_count": 247,
   "outputs": []
  },
  {
   "cell_type": "markdown",
   "metadata": {
    "id": "iKvSUwQldiUA"
   },
   "source": [
    "# Data Cleaning"
   ]
  },
  {
   "cell_type": "markdown",
   "metadata": {
    "id": "MWTzYZIds5L9"
   },
   "source": [
    "**Challenge**: How many rows and columns does `df_apps` have? What are the column names? Look at a random sample of 5 different rows with [.sample()](https://pandas.pydata.org/pandas-docs/stable/reference/api/pandas.DataFrame.sample.html)."
   ]
  },
  {
   "cell_type": "code",
   "metadata": {
    "id": "HJI7UsPrnuRf",
    "ExecuteTime": {
     "end_time": "2023-10-13T09:59:09.649757200Z",
     "start_time": "2023-10-13T09:59:06.823560700Z"
    }
   },
   "source": [
    "df_apps.shape"
   ],
   "execution_count": 248,
   "outputs": [
    {
     "data": {
      "text/plain": "(10841, 12)"
     },
     "execution_count": 248,
     "metadata": {},
     "output_type": "execute_result"
    }
   ]
  },
  {
   "cell_type": "code",
   "metadata": {
    "id": "fKXFjPkmnuYA",
    "ExecuteTime": {
     "end_time": "2023-10-13T09:59:09.870946900Z",
     "start_time": "2023-10-13T09:59:06.833112400Z"
    }
   },
   "source": [
    "df_apps.columns.values"
   ],
   "execution_count": 249,
   "outputs": [
    {
     "data": {
      "text/plain": "array(['App', 'Category', 'Rating', 'Reviews', 'Size_MBs', 'Installs',\n       'Type', 'Price', 'Content_Rating', 'Genres', 'Last_Updated',\n       'Android_Ver'], dtype=object)"
     },
     "execution_count": 249,
     "metadata": {},
     "output_type": "execute_result"
    }
   ]
  },
  {
   "cell_type": "code",
   "metadata": {
    "id": "MUluaHF5nueH",
    "ExecuteTime": {
     "end_time": "2023-10-13T09:59:10.011984400Z",
     "start_time": "2023-10-13T09:59:06.843305400Z"
    }
   },
   "source": [
    "df_apps.sample(5)"
   ],
   "execution_count": 250,
   "outputs": [
    {
     "data": {
      "text/plain": "                                    App            Category  Rating  Reviews  \\\n1857  Chat With Artificial Intelligence              FAMILY    3.20       32   \n4061     JNews DZ - Algerian Newspapers  NEWS_AND_MAGAZINES    4.00      146   \n9906        SketchBook - draw and paint       ENTERTAINMENT    4.30   256664   \n3613         Blood Pressure - Heartcare             MEDICAL    4.20       70   \n307                 FK Spartak Subotica              SPORTS     NaN        0   \n\n      Size_MBs    Installs  Type Price Content_Rating            Genres  \\\n1857      2.80       1,000  Free     0       Everyone     Entertainment   \n4061      3.00      10,000  Free     0       Everyone  News & Magazines   \n9906     77.00  10,000,000  Free     0       Everyone     Entertainment   \n3613      1.90      10,000  Free     0       Everyone           Medical   \n307      26.00          10  Free     0       Everyone            Sports   \n\n           Last_Updated   Android_Ver  \n1857       May 10, 2018    4.0 and up  \n4061      July 16, 2016    2.3 and up  \n9906        May 4, 2018  4.0.3 and up  \n3613       May 27, 2016    4.4 and up  \n307   February 19, 2018    4.1 and up  ",
      "text/html": "<div>\n<style scoped>\n    .dataframe tbody tr th:only-of-type {\n        vertical-align: middle;\n    }\n\n    .dataframe tbody tr th {\n        vertical-align: top;\n    }\n\n    .dataframe thead th {\n        text-align: right;\n    }\n</style>\n<table border=\"1\" class=\"dataframe\">\n  <thead>\n    <tr style=\"text-align: right;\">\n      <th></th>\n      <th>App</th>\n      <th>Category</th>\n      <th>Rating</th>\n      <th>Reviews</th>\n      <th>Size_MBs</th>\n      <th>Installs</th>\n      <th>Type</th>\n      <th>Price</th>\n      <th>Content_Rating</th>\n      <th>Genres</th>\n      <th>Last_Updated</th>\n      <th>Android_Ver</th>\n    </tr>\n  </thead>\n  <tbody>\n    <tr>\n      <th>1857</th>\n      <td>Chat With Artificial Intelligence</td>\n      <td>FAMILY</td>\n      <td>3.20</td>\n      <td>32</td>\n      <td>2.80</td>\n      <td>1,000</td>\n      <td>Free</td>\n      <td>0</td>\n      <td>Everyone</td>\n      <td>Entertainment</td>\n      <td>May 10, 2018</td>\n      <td>4.0 and up</td>\n    </tr>\n    <tr>\n      <th>4061</th>\n      <td>JNews DZ - Algerian Newspapers</td>\n      <td>NEWS_AND_MAGAZINES</td>\n      <td>4.00</td>\n      <td>146</td>\n      <td>3.00</td>\n      <td>10,000</td>\n      <td>Free</td>\n      <td>0</td>\n      <td>Everyone</td>\n      <td>News &amp; Magazines</td>\n      <td>July 16, 2016</td>\n      <td>2.3 and up</td>\n    </tr>\n    <tr>\n      <th>9906</th>\n      <td>SketchBook - draw and paint</td>\n      <td>ENTERTAINMENT</td>\n      <td>4.30</td>\n      <td>256664</td>\n      <td>77.00</td>\n      <td>10,000,000</td>\n      <td>Free</td>\n      <td>0</td>\n      <td>Everyone</td>\n      <td>Entertainment</td>\n      <td>May 4, 2018</td>\n      <td>4.0.3 and up</td>\n    </tr>\n    <tr>\n      <th>3613</th>\n      <td>Blood Pressure - Heartcare</td>\n      <td>MEDICAL</td>\n      <td>4.20</td>\n      <td>70</td>\n      <td>1.90</td>\n      <td>10,000</td>\n      <td>Free</td>\n      <td>0</td>\n      <td>Everyone</td>\n      <td>Medical</td>\n      <td>May 27, 2016</td>\n      <td>4.4 and up</td>\n    </tr>\n    <tr>\n      <th>307</th>\n      <td>FK Spartak Subotica</td>\n      <td>SPORTS</td>\n      <td>NaN</td>\n      <td>0</td>\n      <td>26.00</td>\n      <td>10</td>\n      <td>Free</td>\n      <td>0</td>\n      <td>Everyone</td>\n      <td>Sports</td>\n      <td>February 19, 2018</td>\n      <td>4.1 and up</td>\n    </tr>\n  </tbody>\n</table>\n</div>"
     },
     "execution_count": 250,
     "metadata": {},
     "output_type": "execute_result"
    }
   ]
  },
  {
   "cell_type": "markdown",
   "metadata": {
    "id": "Hh81sMcvdiUI"
   },
   "source": [
    "### Drop Unused Columns\n",
    "\n",
    "**Challenge**: Remove the columns called `Last_Updated` and `Android_Version` from the DataFrame. We will not use these columns. "
   ]
  },
  {
   "cell_type": "code",
   "metadata": {
    "id": "t7EMSKAOnyzI",
    "ExecuteTime": {
     "end_time": "2023-10-13T09:59:10.090571800Z",
     "start_time": "2023-10-13T09:59:06.873766Z"
    }
   },
   "source": [
    "del df_apps[\"Last_Updated\"]"
   ],
   "execution_count": 251,
   "outputs": []
  },
  {
   "cell_type": "code",
   "execution_count": 252,
   "outputs": [],
   "source": [
    "del df_apps[\"Android_Ver\"]"
   ],
   "metadata": {
    "collapsed": false,
    "ExecuteTime": {
     "end_time": "2023-10-13T09:59:10.090571800Z",
     "start_time": "2023-10-13T09:59:06.873766Z"
    }
   }
  },
  {
   "cell_type": "code",
   "execution_count": 253,
   "outputs": [
    {
     "data": {
      "text/plain": "                                                App         Category  Rating  \\\n0                           Ak Parti Yardım Toplama           SOCIAL     NaN   \n1                        Ain Arabic Kids Alif Ba ta           FAMILY     NaN   \n2      Popsicle Launcher for Android P 9.0 launcher  PERSONALIZATION     NaN   \n3                         Command & Conquer: Rivals           FAMILY     NaN   \n4                                        CX Network         BUSINESS     NaN   \n...                                             ...              ...     ...   \n10836                                Subway Surfers             GAME    4.50   \n10837                                Subway Surfers             GAME    4.50   \n10838                                Subway Surfers             GAME    4.50   \n10839                                Subway Surfers             GAME    4.50   \n10840                                Subway Surfers             GAME    4.50   \n\n        Reviews  Size_MBs       Installs  Type   Price Content_Rating  \\\n0             0      8.70              0  Paid  $13.99           Teen   \n1             0     33.00              0  Paid   $2.99       Everyone   \n2             0      5.50              0  Paid   $1.49       Everyone   \n3             0     19.00              0   NaN       0   Everyone 10+   \n4             0     10.00              0  Free       0       Everyone   \n...         ...       ...            ...   ...     ...            ...   \n10836  27723193     76.00  1,000,000,000  Free       0   Everyone 10+   \n10837  27724094     76.00  1,000,000,000  Free       0   Everyone 10+   \n10838  27725352     76.00  1,000,000,000  Free       0   Everyone 10+   \n10839  27725352     76.00  1,000,000,000  Free       0   Everyone 10+   \n10840  27711703     76.00  1,000,000,000  Free       0   Everyone 10+   \n\n                Genres  \n0               Social  \n1            Education  \n2      Personalization  \n3             Strategy  \n4             Business  \n...                ...  \n10836           Arcade  \n10837           Arcade  \n10838           Arcade  \n10839           Arcade  \n10840           Arcade  \n\n[10841 rows x 10 columns]",
      "text/html": "<div>\n<style scoped>\n    .dataframe tbody tr th:only-of-type {\n        vertical-align: middle;\n    }\n\n    .dataframe tbody tr th {\n        vertical-align: top;\n    }\n\n    .dataframe thead th {\n        text-align: right;\n    }\n</style>\n<table border=\"1\" class=\"dataframe\">\n  <thead>\n    <tr style=\"text-align: right;\">\n      <th></th>\n      <th>App</th>\n      <th>Category</th>\n      <th>Rating</th>\n      <th>Reviews</th>\n      <th>Size_MBs</th>\n      <th>Installs</th>\n      <th>Type</th>\n      <th>Price</th>\n      <th>Content_Rating</th>\n      <th>Genres</th>\n    </tr>\n  </thead>\n  <tbody>\n    <tr>\n      <th>0</th>\n      <td>Ak Parti Yardım Toplama</td>\n      <td>SOCIAL</td>\n      <td>NaN</td>\n      <td>0</td>\n      <td>8.70</td>\n      <td>0</td>\n      <td>Paid</td>\n      <td>$13.99</td>\n      <td>Teen</td>\n      <td>Social</td>\n    </tr>\n    <tr>\n      <th>1</th>\n      <td>Ain Arabic Kids Alif Ba ta</td>\n      <td>FAMILY</td>\n      <td>NaN</td>\n      <td>0</td>\n      <td>33.00</td>\n      <td>0</td>\n      <td>Paid</td>\n      <td>$2.99</td>\n      <td>Everyone</td>\n      <td>Education</td>\n    </tr>\n    <tr>\n      <th>2</th>\n      <td>Popsicle Launcher for Android P 9.0 launcher</td>\n      <td>PERSONALIZATION</td>\n      <td>NaN</td>\n      <td>0</td>\n      <td>5.50</td>\n      <td>0</td>\n      <td>Paid</td>\n      <td>$1.49</td>\n      <td>Everyone</td>\n      <td>Personalization</td>\n    </tr>\n    <tr>\n      <th>3</th>\n      <td>Command &amp; Conquer: Rivals</td>\n      <td>FAMILY</td>\n      <td>NaN</td>\n      <td>0</td>\n      <td>19.00</td>\n      <td>0</td>\n      <td>NaN</td>\n      <td>0</td>\n      <td>Everyone 10+</td>\n      <td>Strategy</td>\n    </tr>\n    <tr>\n      <th>4</th>\n      <td>CX Network</td>\n      <td>BUSINESS</td>\n      <td>NaN</td>\n      <td>0</td>\n      <td>10.00</td>\n      <td>0</td>\n      <td>Free</td>\n      <td>0</td>\n      <td>Everyone</td>\n      <td>Business</td>\n    </tr>\n    <tr>\n      <th>...</th>\n      <td>...</td>\n      <td>...</td>\n      <td>...</td>\n      <td>...</td>\n      <td>...</td>\n      <td>...</td>\n      <td>...</td>\n      <td>...</td>\n      <td>...</td>\n      <td>...</td>\n    </tr>\n    <tr>\n      <th>10836</th>\n      <td>Subway Surfers</td>\n      <td>GAME</td>\n      <td>4.50</td>\n      <td>27723193</td>\n      <td>76.00</td>\n      <td>1,000,000,000</td>\n      <td>Free</td>\n      <td>0</td>\n      <td>Everyone 10+</td>\n      <td>Arcade</td>\n    </tr>\n    <tr>\n      <th>10837</th>\n      <td>Subway Surfers</td>\n      <td>GAME</td>\n      <td>4.50</td>\n      <td>27724094</td>\n      <td>76.00</td>\n      <td>1,000,000,000</td>\n      <td>Free</td>\n      <td>0</td>\n      <td>Everyone 10+</td>\n      <td>Arcade</td>\n    </tr>\n    <tr>\n      <th>10838</th>\n      <td>Subway Surfers</td>\n      <td>GAME</td>\n      <td>4.50</td>\n      <td>27725352</td>\n      <td>76.00</td>\n      <td>1,000,000,000</td>\n      <td>Free</td>\n      <td>0</td>\n      <td>Everyone 10+</td>\n      <td>Arcade</td>\n    </tr>\n    <tr>\n      <th>10839</th>\n      <td>Subway Surfers</td>\n      <td>GAME</td>\n      <td>4.50</td>\n      <td>27725352</td>\n      <td>76.00</td>\n      <td>1,000,000,000</td>\n      <td>Free</td>\n      <td>0</td>\n      <td>Everyone 10+</td>\n      <td>Arcade</td>\n    </tr>\n    <tr>\n      <th>10840</th>\n      <td>Subway Surfers</td>\n      <td>GAME</td>\n      <td>4.50</td>\n      <td>27711703</td>\n      <td>76.00</td>\n      <td>1,000,000,000</td>\n      <td>Free</td>\n      <td>0</td>\n      <td>Everyone 10+</td>\n      <td>Arcade</td>\n    </tr>\n  </tbody>\n</table>\n<p>10841 rows × 10 columns</p>\n</div>"
     },
     "execution_count": 253,
     "metadata": {},
     "output_type": "execute_result"
    }
   ],
   "source": [
    "df_apps"
   ],
   "metadata": {
    "collapsed": false,
    "ExecuteTime": {
     "end_time": "2023-10-13T09:59:10.152982300Z",
     "start_time": "2023-10-13T09:59:06.887128800Z"
    }
   }
  },
  {
   "cell_type": "markdown",
   "metadata": {
    "id": "YQGe1DIKdiUM"
   },
   "source": [
    "### Find and Remove NaN values in Ratings\n",
    "\n",
    "**Challenge**: How may rows have a NaN value (not-a-number) in the Ratings column? Create DataFrame called `df_apps_clean` that does not include these rows. "
   ]
  },
  {
   "cell_type": "code",
   "metadata": {
    "id": "grcP1IOZn1Wv",
    "ExecuteTime": {
     "end_time": "2023-10-13T09:59:10.152982300Z",
     "start_time": "2023-10-13T09:59:06.904903200Z"
    }
   },
   "source": [
    "df_apps.Rating.isna().values.sum()"
   ],
   "execution_count": 254,
   "outputs": [
    {
     "data": {
      "text/plain": "1474"
     },
     "execution_count": 254,
     "metadata": {},
     "output_type": "execute_result"
    }
   ]
  },
  {
   "cell_type": "code",
   "metadata": {
    "id": "IbQnnPaUn1Pw",
    "ExecuteTime": {
     "end_time": "2023-10-13T09:59:10.189219800Z",
     "start_time": "2023-10-13T09:59:06.918699700Z"
    }
   },
   "source": [
    "df_apps.dropna(inplace=True)"
   ],
   "execution_count": 255,
   "outputs": []
  },
  {
   "cell_type": "code",
   "execution_count": 256,
   "outputs": [
    {
     "data": {
      "text/plain": "                                                   App Category  Rating  \\\n21                                 KBA-EZ Health Guide  MEDICAL    5.00   \n28                                            Ra Ga Ba     GAME    5.00   \n47                                             Mu.F.O.     GAME    5.00   \n82                                    Brick Breaker BR     GAME    5.00   \n99     Anatomy & Physiology Vocabulary Exam Review App  MEDICAL    5.00   \n...                                                ...      ...     ...   \n10836                                   Subway Surfers     GAME    4.50   \n10837                                   Subway Surfers     GAME    4.50   \n10838                                   Subway Surfers     GAME    4.50   \n10839                                   Subway Surfers     GAME    4.50   \n10840                                   Subway Surfers     GAME    4.50   \n\n        Reviews  Size_MBs       Installs  Type  Price Content_Rating   Genres  \n21            4     25.00              1  Free      0       Everyone  Medical  \n28            2     20.00              1  Paid  $1.49       Everyone   Arcade  \n47            2     16.00              1  Paid  $0.99       Everyone   Arcade  \n82            7     19.00              5  Free      0       Everyone   Arcade  \n99            1      4.60              5  Free      0       Everyone  Medical  \n...         ...       ...            ...   ...    ...            ...      ...  \n10836  27723193     76.00  1,000,000,000  Free      0   Everyone 10+   Arcade  \n10837  27724094     76.00  1,000,000,000  Free      0   Everyone 10+   Arcade  \n10838  27725352     76.00  1,000,000,000  Free      0   Everyone 10+   Arcade  \n10839  27725352     76.00  1,000,000,000  Free      0   Everyone 10+   Arcade  \n10840  27711703     76.00  1,000,000,000  Free      0   Everyone 10+   Arcade  \n\n[9367 rows x 10 columns]",
      "text/html": "<div>\n<style scoped>\n    .dataframe tbody tr th:only-of-type {\n        vertical-align: middle;\n    }\n\n    .dataframe tbody tr th {\n        vertical-align: top;\n    }\n\n    .dataframe thead th {\n        text-align: right;\n    }\n</style>\n<table border=\"1\" class=\"dataframe\">\n  <thead>\n    <tr style=\"text-align: right;\">\n      <th></th>\n      <th>App</th>\n      <th>Category</th>\n      <th>Rating</th>\n      <th>Reviews</th>\n      <th>Size_MBs</th>\n      <th>Installs</th>\n      <th>Type</th>\n      <th>Price</th>\n      <th>Content_Rating</th>\n      <th>Genres</th>\n    </tr>\n  </thead>\n  <tbody>\n    <tr>\n      <th>21</th>\n      <td>KBA-EZ Health Guide</td>\n      <td>MEDICAL</td>\n      <td>5.00</td>\n      <td>4</td>\n      <td>25.00</td>\n      <td>1</td>\n      <td>Free</td>\n      <td>0</td>\n      <td>Everyone</td>\n      <td>Medical</td>\n    </tr>\n    <tr>\n      <th>28</th>\n      <td>Ra Ga Ba</td>\n      <td>GAME</td>\n      <td>5.00</td>\n      <td>2</td>\n      <td>20.00</td>\n      <td>1</td>\n      <td>Paid</td>\n      <td>$1.49</td>\n      <td>Everyone</td>\n      <td>Arcade</td>\n    </tr>\n    <tr>\n      <th>47</th>\n      <td>Mu.F.O.</td>\n      <td>GAME</td>\n      <td>5.00</td>\n      <td>2</td>\n      <td>16.00</td>\n      <td>1</td>\n      <td>Paid</td>\n      <td>$0.99</td>\n      <td>Everyone</td>\n      <td>Arcade</td>\n    </tr>\n    <tr>\n      <th>82</th>\n      <td>Brick Breaker BR</td>\n      <td>GAME</td>\n      <td>5.00</td>\n      <td>7</td>\n      <td>19.00</td>\n      <td>5</td>\n      <td>Free</td>\n      <td>0</td>\n      <td>Everyone</td>\n      <td>Arcade</td>\n    </tr>\n    <tr>\n      <th>99</th>\n      <td>Anatomy &amp; Physiology Vocabulary Exam Review App</td>\n      <td>MEDICAL</td>\n      <td>5.00</td>\n      <td>1</td>\n      <td>4.60</td>\n      <td>5</td>\n      <td>Free</td>\n      <td>0</td>\n      <td>Everyone</td>\n      <td>Medical</td>\n    </tr>\n    <tr>\n      <th>...</th>\n      <td>...</td>\n      <td>...</td>\n      <td>...</td>\n      <td>...</td>\n      <td>...</td>\n      <td>...</td>\n      <td>...</td>\n      <td>...</td>\n      <td>...</td>\n      <td>...</td>\n    </tr>\n    <tr>\n      <th>10836</th>\n      <td>Subway Surfers</td>\n      <td>GAME</td>\n      <td>4.50</td>\n      <td>27723193</td>\n      <td>76.00</td>\n      <td>1,000,000,000</td>\n      <td>Free</td>\n      <td>0</td>\n      <td>Everyone 10+</td>\n      <td>Arcade</td>\n    </tr>\n    <tr>\n      <th>10837</th>\n      <td>Subway Surfers</td>\n      <td>GAME</td>\n      <td>4.50</td>\n      <td>27724094</td>\n      <td>76.00</td>\n      <td>1,000,000,000</td>\n      <td>Free</td>\n      <td>0</td>\n      <td>Everyone 10+</td>\n      <td>Arcade</td>\n    </tr>\n    <tr>\n      <th>10838</th>\n      <td>Subway Surfers</td>\n      <td>GAME</td>\n      <td>4.50</td>\n      <td>27725352</td>\n      <td>76.00</td>\n      <td>1,000,000,000</td>\n      <td>Free</td>\n      <td>0</td>\n      <td>Everyone 10+</td>\n      <td>Arcade</td>\n    </tr>\n    <tr>\n      <th>10839</th>\n      <td>Subway Surfers</td>\n      <td>GAME</td>\n      <td>4.50</td>\n      <td>27725352</td>\n      <td>76.00</td>\n      <td>1,000,000,000</td>\n      <td>Free</td>\n      <td>0</td>\n      <td>Everyone 10+</td>\n      <td>Arcade</td>\n    </tr>\n    <tr>\n      <th>10840</th>\n      <td>Subway Surfers</td>\n      <td>GAME</td>\n      <td>4.50</td>\n      <td>27711703</td>\n      <td>76.00</td>\n      <td>1,000,000,000</td>\n      <td>Free</td>\n      <td>0</td>\n      <td>Everyone 10+</td>\n      <td>Arcade</td>\n    </tr>\n  </tbody>\n</table>\n<p>9367 rows × 10 columns</p>\n</div>"
     },
     "execution_count": 256,
     "metadata": {},
     "output_type": "execute_result"
    }
   ],
   "source": [
    "df_apps"
   ],
   "metadata": {
    "collapsed": false,
    "ExecuteTime": {
     "end_time": "2023-10-13T09:59:10.267837600Z",
     "start_time": "2023-10-13T09:59:06.934821700Z"
    }
   }
  },
  {
   "cell_type": "markdown",
   "metadata": {
    "id": "pD26SWlxdiUV"
   },
   "source": [
    "### Find and Remove Duplicates\n",
    "\n",
    "**Challenge**: Are there any duplicates in data? Check for duplicates using the [.duplicated()](https://pandas.pydata.org/pandas-docs/stable/reference/api/pandas.DataFrame.duplicated.html) function. How many entries can you find for the \"Instagram\" app? Use [.drop_duplicates()](https://pandas.pydata.org/pandas-docs/stable/reference/api/pandas.DataFrame.drop_duplicates.html) to remove any duplicates from `df_apps_clean`. \n"
   ]
  },
  {
   "cell_type": "code",
   "metadata": {
    "id": "lE7X6KG3n5pR",
    "ExecuteTime": {
     "end_time": "2023-10-13T09:59:10.267837600Z",
     "start_time": "2023-10-13T09:59:06.958215500Z"
    }
   },
   "source": [
    "df_apps.duplicated(\"App\").sum()"
   ],
   "execution_count": 257,
   "outputs": [
    {
     "data": {
      "text/plain": "1170"
     },
     "execution_count": 257,
     "metadata": {},
     "output_type": "execute_result"
    }
   ]
  },
  {
   "cell_type": "code",
   "metadata": {
    "id": "GK2rP7wgn53-",
    "ExecuteTime": {
     "end_time": "2023-10-13T09:59:10.497946900Z",
     "start_time": "2023-10-13T09:59:06.971406700Z"
    }
   },
   "source": [
    "df_apps[df_apps.App == \"Instagram\"]"
   ],
   "execution_count": 258,
   "outputs": [
    {
     "data": {
      "text/plain": "             App Category  Rating   Reviews  Size_MBs       Installs  Type  \\\n10806  Instagram   SOCIAL    4.50  66577313      5.30  1,000,000,000  Free   \n10808  Instagram   SOCIAL    4.50  66577446      5.30  1,000,000,000  Free   \n10809  Instagram   SOCIAL    4.50  66577313      5.30  1,000,000,000  Free   \n10810  Instagram   SOCIAL    4.50  66509917      5.30  1,000,000,000  Free   \n\n      Price Content_Rating  Genres  \n10806     0           Teen  Social  \n10808     0           Teen  Social  \n10809     0           Teen  Social  \n10810     0           Teen  Social  ",
      "text/html": "<div>\n<style scoped>\n    .dataframe tbody tr th:only-of-type {\n        vertical-align: middle;\n    }\n\n    .dataframe tbody tr th {\n        vertical-align: top;\n    }\n\n    .dataframe thead th {\n        text-align: right;\n    }\n</style>\n<table border=\"1\" class=\"dataframe\">\n  <thead>\n    <tr style=\"text-align: right;\">\n      <th></th>\n      <th>App</th>\n      <th>Category</th>\n      <th>Rating</th>\n      <th>Reviews</th>\n      <th>Size_MBs</th>\n      <th>Installs</th>\n      <th>Type</th>\n      <th>Price</th>\n      <th>Content_Rating</th>\n      <th>Genres</th>\n    </tr>\n  </thead>\n  <tbody>\n    <tr>\n      <th>10806</th>\n      <td>Instagram</td>\n      <td>SOCIAL</td>\n      <td>4.50</td>\n      <td>66577313</td>\n      <td>5.30</td>\n      <td>1,000,000,000</td>\n      <td>Free</td>\n      <td>0</td>\n      <td>Teen</td>\n      <td>Social</td>\n    </tr>\n    <tr>\n      <th>10808</th>\n      <td>Instagram</td>\n      <td>SOCIAL</td>\n      <td>4.50</td>\n      <td>66577446</td>\n      <td>5.30</td>\n      <td>1,000,000,000</td>\n      <td>Free</td>\n      <td>0</td>\n      <td>Teen</td>\n      <td>Social</td>\n    </tr>\n    <tr>\n      <th>10809</th>\n      <td>Instagram</td>\n      <td>SOCIAL</td>\n      <td>4.50</td>\n      <td>66577313</td>\n      <td>5.30</td>\n      <td>1,000,000,000</td>\n      <td>Free</td>\n      <td>0</td>\n      <td>Teen</td>\n      <td>Social</td>\n    </tr>\n    <tr>\n      <th>10810</th>\n      <td>Instagram</td>\n      <td>SOCIAL</td>\n      <td>4.50</td>\n      <td>66509917</td>\n      <td>5.30</td>\n      <td>1,000,000,000</td>\n      <td>Free</td>\n      <td>0</td>\n      <td>Teen</td>\n      <td>Social</td>\n    </tr>\n  </tbody>\n</table>\n</div>"
     },
     "execution_count": 258,
     "metadata": {},
     "output_type": "execute_result"
    }
   ]
  },
  {
   "cell_type": "code",
   "metadata": {
    "id": "Wtt09kiRn6GS",
    "ExecuteTime": {
     "end_time": "2023-10-13T09:59:10.560894500Z",
     "start_time": "2023-10-13T09:59:06.997582700Z"
    }
   },
   "source": [
    "df_apps_clean = df_apps.drop_duplicates(\"App\")"
   ],
   "execution_count": 259,
   "outputs": []
  },
  {
   "cell_type": "code",
   "metadata": {
    "id": "30yZCwtKn5xC",
    "ExecuteTime": {
     "end_time": "2023-10-13T09:59:10.576516500Z",
     "start_time": "2023-10-13T09:59:07.003771500Z"
    }
   },
   "source": [
    "df_apps_clean[df_apps_clean.App == \"Instagram\"]"
   ],
   "execution_count": 260,
   "outputs": [
    {
     "data": {
      "text/plain": "             App Category  Rating   Reviews  Size_MBs       Installs  Type  \\\n10806  Instagram   SOCIAL    4.50  66577313      5.30  1,000,000,000  Free   \n\n      Price Content_Rating  Genres  \n10806     0           Teen  Social  ",
      "text/html": "<div>\n<style scoped>\n    .dataframe tbody tr th:only-of-type {\n        vertical-align: middle;\n    }\n\n    .dataframe tbody tr th {\n        vertical-align: top;\n    }\n\n    .dataframe thead th {\n        text-align: right;\n    }\n</style>\n<table border=\"1\" class=\"dataframe\">\n  <thead>\n    <tr style=\"text-align: right;\">\n      <th></th>\n      <th>App</th>\n      <th>Category</th>\n      <th>Rating</th>\n      <th>Reviews</th>\n      <th>Size_MBs</th>\n      <th>Installs</th>\n      <th>Type</th>\n      <th>Price</th>\n      <th>Content_Rating</th>\n      <th>Genres</th>\n    </tr>\n  </thead>\n  <tbody>\n    <tr>\n      <th>10806</th>\n      <td>Instagram</td>\n      <td>SOCIAL</td>\n      <td>4.50</td>\n      <td>66577313</td>\n      <td>5.30</td>\n      <td>1,000,000,000</td>\n      <td>Free</td>\n      <td>0</td>\n      <td>Teen</td>\n      <td>Social</td>\n    </tr>\n  </tbody>\n</table>\n</div>"
     },
     "execution_count": 260,
     "metadata": {},
     "output_type": "execute_result"
    }
   ]
  },
  {
   "cell_type": "code",
   "metadata": {
    "id": "AagS_wgWn5ib",
    "ExecuteTime": {
     "end_time": "2023-10-13T09:59:10.639418Z",
     "start_time": "2023-10-13T09:59:07.029118400Z"
    }
   },
   "source": [
    "df_apps_clean.duplicated().sum()"
   ],
   "execution_count": 261,
   "outputs": [
    {
     "data": {
      "text/plain": "0"
     },
     "execution_count": 261,
     "metadata": {},
     "output_type": "execute_result"
    }
   ]
  },
  {
   "cell_type": "markdown",
   "metadata": {
    "id": "GJrM69CfdiUh"
   },
   "source": [
    "# Find Highest Rated Apps\n",
    "\n",
    "**Challenge**: Identify which apps are the highest rated. What problem might you encounter if you rely exclusively on ratings alone to determine the quality of an app?"
   ]
  },
  {
   "cell_type": "code",
   "metadata": {
    "id": "rp7vFHBMn7st",
    "ExecuteTime": {
     "end_time": "2023-10-13T09:59:10.686316200Z",
     "start_time": "2023-10-13T09:59:07.046395100Z"
    }
   },
   "source": [
    "df_apps_clean.sort_values('Rating', ascending=False)"
   ],
   "execution_count": 262,
   "outputs": [
    {
     "data": {
      "text/plain": "                                                   App     Category  Rating  \\\n21                                 KBA-EZ Health Guide      MEDICAL    5.00   \n1230                                      Sway Medical      MEDICAL    5.00   \n1227                                 AJ Men's Grooming    LIFESTYLE    5.00   \n1224                                    FK Dedinje BGD       SPORTS    5.00   \n1223                                   CB VIDEO VISION  PHOTOGRAPHY    5.00   \n...                                                ...          ...     ...   \n1721  Lottery Ticket Checker - Florida Results & Lotto        TOOLS    1.00   \n728                      Truck Driving Test Class 3 BC       FAMILY    1.00   \n240                            House party - live chat       DATING    1.00   \n1271                                            MbH BM      MEDICAL    1.00   \n617                                     DT future1 cam        TOOLS    1.00   \n\n      Reviews  Size_MBs Installs  Type  Price Content_Rating       Genres  \n21          4     25.00        1  Free      0       Everyone      Medical  \n1230        3     22.00      100  Free      0       Everyone      Medical  \n1227        2     22.00      100  Free      0       Everyone    Lifestyle  \n1224       36      2.60      100  Free      0       Everyone       Sports  \n1223       13      2.60      100  Free      0       Everyone  Photography  \n...       ...       ...      ...   ...    ...            ...          ...  \n1721        3     41.00      500  Free      0       Everyone        Tools  \n728         1      2.00       50  Paid  $1.49       Everyone    Education  \n240         1      9.20       10  Free      0     Mature 17+       Dating  \n1271        1      2.30      100  Free      0       Everyone      Medical  \n617         1     24.00       50  Free      0       Everyone        Tools  \n\n[8197 rows x 10 columns]",
      "text/html": "<div>\n<style scoped>\n    .dataframe tbody tr th:only-of-type {\n        vertical-align: middle;\n    }\n\n    .dataframe tbody tr th {\n        vertical-align: top;\n    }\n\n    .dataframe thead th {\n        text-align: right;\n    }\n</style>\n<table border=\"1\" class=\"dataframe\">\n  <thead>\n    <tr style=\"text-align: right;\">\n      <th></th>\n      <th>App</th>\n      <th>Category</th>\n      <th>Rating</th>\n      <th>Reviews</th>\n      <th>Size_MBs</th>\n      <th>Installs</th>\n      <th>Type</th>\n      <th>Price</th>\n      <th>Content_Rating</th>\n      <th>Genres</th>\n    </tr>\n  </thead>\n  <tbody>\n    <tr>\n      <th>21</th>\n      <td>KBA-EZ Health Guide</td>\n      <td>MEDICAL</td>\n      <td>5.00</td>\n      <td>4</td>\n      <td>25.00</td>\n      <td>1</td>\n      <td>Free</td>\n      <td>0</td>\n      <td>Everyone</td>\n      <td>Medical</td>\n    </tr>\n    <tr>\n      <th>1230</th>\n      <td>Sway Medical</td>\n      <td>MEDICAL</td>\n      <td>5.00</td>\n      <td>3</td>\n      <td>22.00</td>\n      <td>100</td>\n      <td>Free</td>\n      <td>0</td>\n      <td>Everyone</td>\n      <td>Medical</td>\n    </tr>\n    <tr>\n      <th>1227</th>\n      <td>AJ Men's Grooming</td>\n      <td>LIFESTYLE</td>\n      <td>5.00</td>\n      <td>2</td>\n      <td>22.00</td>\n      <td>100</td>\n      <td>Free</td>\n      <td>0</td>\n      <td>Everyone</td>\n      <td>Lifestyle</td>\n    </tr>\n    <tr>\n      <th>1224</th>\n      <td>FK Dedinje BGD</td>\n      <td>SPORTS</td>\n      <td>5.00</td>\n      <td>36</td>\n      <td>2.60</td>\n      <td>100</td>\n      <td>Free</td>\n      <td>0</td>\n      <td>Everyone</td>\n      <td>Sports</td>\n    </tr>\n    <tr>\n      <th>1223</th>\n      <td>CB VIDEO VISION</td>\n      <td>PHOTOGRAPHY</td>\n      <td>5.00</td>\n      <td>13</td>\n      <td>2.60</td>\n      <td>100</td>\n      <td>Free</td>\n      <td>0</td>\n      <td>Everyone</td>\n      <td>Photography</td>\n    </tr>\n    <tr>\n      <th>...</th>\n      <td>...</td>\n      <td>...</td>\n      <td>...</td>\n      <td>...</td>\n      <td>...</td>\n      <td>...</td>\n      <td>...</td>\n      <td>...</td>\n      <td>...</td>\n      <td>...</td>\n    </tr>\n    <tr>\n      <th>1721</th>\n      <td>Lottery Ticket Checker - Florida Results &amp; Lotto</td>\n      <td>TOOLS</td>\n      <td>1.00</td>\n      <td>3</td>\n      <td>41.00</td>\n      <td>500</td>\n      <td>Free</td>\n      <td>0</td>\n      <td>Everyone</td>\n      <td>Tools</td>\n    </tr>\n    <tr>\n      <th>728</th>\n      <td>Truck Driving Test Class 3 BC</td>\n      <td>FAMILY</td>\n      <td>1.00</td>\n      <td>1</td>\n      <td>2.00</td>\n      <td>50</td>\n      <td>Paid</td>\n      <td>$1.49</td>\n      <td>Everyone</td>\n      <td>Education</td>\n    </tr>\n    <tr>\n      <th>240</th>\n      <td>House party - live chat</td>\n      <td>DATING</td>\n      <td>1.00</td>\n      <td>1</td>\n      <td>9.20</td>\n      <td>10</td>\n      <td>Free</td>\n      <td>0</td>\n      <td>Mature 17+</td>\n      <td>Dating</td>\n    </tr>\n    <tr>\n      <th>1271</th>\n      <td>MbH BM</td>\n      <td>MEDICAL</td>\n      <td>1.00</td>\n      <td>1</td>\n      <td>2.30</td>\n      <td>100</td>\n      <td>Free</td>\n      <td>0</td>\n      <td>Everyone</td>\n      <td>Medical</td>\n    </tr>\n    <tr>\n      <th>617</th>\n      <td>DT future1 cam</td>\n      <td>TOOLS</td>\n      <td>1.00</td>\n      <td>1</td>\n      <td>24.00</td>\n      <td>50</td>\n      <td>Free</td>\n      <td>0</td>\n      <td>Everyone</td>\n      <td>Tools</td>\n    </tr>\n  </tbody>\n</table>\n<p>8197 rows × 10 columns</p>\n</div>"
     },
     "execution_count": 262,
     "metadata": {},
     "output_type": "execute_result"
    }
   ]
  },
  {
   "cell_type": "markdown",
   "metadata": {
    "id": "28o1Tro4diUi"
   },
   "source": [
    "# Find 5 Largest Apps in terms of Size (MBs)\n",
    "\n",
    "**Challenge**: What's the size in megabytes (MB) of the largest Android apps in the Google Play Store. Based on the data, do you think there could be limit in place or can developers make apps as large as they please? "
   ]
  },
  {
   "cell_type": "code",
   "metadata": {
    "id": "n5r0pJCOn9Vu",
    "ExecuteTime": {
     "end_time": "2023-10-13T09:59:10.738719700Z",
     "start_time": "2023-10-13T09:59:07.076935400Z"
    }
   },
   "source": [
    "df_apps_clean.sort_values(\"Size_MBs\", ascending=False).head()"
   ],
   "execution_count": 263,
   "outputs": [
    {
     "data": {
      "text/plain": "                                  App            Category  Rating  Reviews  \\\n9942   Talking Babsy Baby: Baby Games           LIFESTYLE    4.00   140995   \n10687          Hungry Shark Evolution                GAME    4.50  6074334   \n9943            Miami crime simulator                GAME    4.00   254518   \n9944     Gangster Town: Vice District              FAMILY    4.30    65146   \n3144                       Vi Trainer  HEALTH_AND_FITNESS    3.60      124   \n\n       Size_MBs     Installs  Type Price Content_Rating  \\\n9942     100.00   10,000,000  Free     0       Everyone   \n10687    100.00  100,000,000  Free     0           Teen   \n9943     100.00   10,000,000  Free     0     Mature 17+   \n9944     100.00   10,000,000  Free     0     Mature 17+   \n3144     100.00        5,000  Free     0       Everyone   \n\n                       Genres  \n9942   Lifestyle;Pretend Play  \n10687                  Arcade  \n9943                   Action  \n9944               Simulation  \n3144         Health & Fitness  ",
      "text/html": "<div>\n<style scoped>\n    .dataframe tbody tr th:only-of-type {\n        vertical-align: middle;\n    }\n\n    .dataframe tbody tr th {\n        vertical-align: top;\n    }\n\n    .dataframe thead th {\n        text-align: right;\n    }\n</style>\n<table border=\"1\" class=\"dataframe\">\n  <thead>\n    <tr style=\"text-align: right;\">\n      <th></th>\n      <th>App</th>\n      <th>Category</th>\n      <th>Rating</th>\n      <th>Reviews</th>\n      <th>Size_MBs</th>\n      <th>Installs</th>\n      <th>Type</th>\n      <th>Price</th>\n      <th>Content_Rating</th>\n      <th>Genres</th>\n    </tr>\n  </thead>\n  <tbody>\n    <tr>\n      <th>9942</th>\n      <td>Talking Babsy Baby: Baby Games</td>\n      <td>LIFESTYLE</td>\n      <td>4.00</td>\n      <td>140995</td>\n      <td>100.00</td>\n      <td>10,000,000</td>\n      <td>Free</td>\n      <td>0</td>\n      <td>Everyone</td>\n      <td>Lifestyle;Pretend Play</td>\n    </tr>\n    <tr>\n      <th>10687</th>\n      <td>Hungry Shark Evolution</td>\n      <td>GAME</td>\n      <td>4.50</td>\n      <td>6074334</td>\n      <td>100.00</td>\n      <td>100,000,000</td>\n      <td>Free</td>\n      <td>0</td>\n      <td>Teen</td>\n      <td>Arcade</td>\n    </tr>\n    <tr>\n      <th>9943</th>\n      <td>Miami crime simulator</td>\n      <td>GAME</td>\n      <td>4.00</td>\n      <td>254518</td>\n      <td>100.00</td>\n      <td>10,000,000</td>\n      <td>Free</td>\n      <td>0</td>\n      <td>Mature 17+</td>\n      <td>Action</td>\n    </tr>\n    <tr>\n      <th>9944</th>\n      <td>Gangster Town: Vice District</td>\n      <td>FAMILY</td>\n      <td>4.30</td>\n      <td>65146</td>\n      <td>100.00</td>\n      <td>10,000,000</td>\n      <td>Free</td>\n      <td>0</td>\n      <td>Mature 17+</td>\n      <td>Simulation</td>\n    </tr>\n    <tr>\n      <th>3144</th>\n      <td>Vi Trainer</td>\n      <td>HEALTH_AND_FITNESS</td>\n      <td>3.60</td>\n      <td>124</td>\n      <td>100.00</td>\n      <td>5,000</td>\n      <td>Free</td>\n      <td>0</td>\n      <td>Everyone</td>\n      <td>Health &amp; Fitness</td>\n    </tr>\n  </tbody>\n</table>\n</div>"
     },
     "execution_count": 263,
     "metadata": {},
     "output_type": "execute_result"
    }
   ]
  },
  {
   "cell_type": "markdown",
   "metadata": {
    "id": "C3gTckh7diUk"
   },
   "source": [
    "# Find the 5 App with Most Reviews\n",
    "\n",
    "**Challenge**: Which apps have the highest number of reviews? Are there any paid apps among the top 50?"
   ]
  },
  {
   "cell_type": "code",
   "metadata": {
    "id": "TLt98G0Sn_De",
    "ExecuteTime": {
     "end_time": "2023-10-13T09:59:10.811771Z",
     "start_time": "2023-10-13T09:59:07.098458900Z"
    }
   },
   "source": [
    "df_apps_clean.sort_values('Reviews', ascending=False).head()"
   ],
   "execution_count": 264,
   "outputs": [
    {
     "data": {
      "text/plain": "                                            App       Category  Rating  \\\n10805                                  Facebook         SOCIAL    4.10   \n10785                        WhatsApp Messenger  COMMUNICATION    4.40   \n10806                                 Instagram         SOCIAL    4.50   \n10784  Messenger – Text and Video Chat for Free  COMMUNICATION    4.00   \n10650                            Clash of Clans           GAME    4.60   \n\n        Reviews  Size_MBs       Installs  Type Price Content_Rating  \\\n10805  78158306      5.30  1,000,000,000  Free     0           Teen   \n10785  69119316      3.50  1,000,000,000  Free     0       Everyone   \n10806  66577313      5.30  1,000,000,000  Free     0           Teen   \n10784  56642847      3.50  1,000,000,000  Free     0       Everyone   \n10650  44891723     98.00    100,000,000  Free     0   Everyone 10+   \n\n              Genres  \n10805         Social  \n10785  Communication  \n10806         Social  \n10784  Communication  \n10650       Strategy  ",
      "text/html": "<div>\n<style scoped>\n    .dataframe tbody tr th:only-of-type {\n        vertical-align: middle;\n    }\n\n    .dataframe tbody tr th {\n        vertical-align: top;\n    }\n\n    .dataframe thead th {\n        text-align: right;\n    }\n</style>\n<table border=\"1\" class=\"dataframe\">\n  <thead>\n    <tr style=\"text-align: right;\">\n      <th></th>\n      <th>App</th>\n      <th>Category</th>\n      <th>Rating</th>\n      <th>Reviews</th>\n      <th>Size_MBs</th>\n      <th>Installs</th>\n      <th>Type</th>\n      <th>Price</th>\n      <th>Content_Rating</th>\n      <th>Genres</th>\n    </tr>\n  </thead>\n  <tbody>\n    <tr>\n      <th>10805</th>\n      <td>Facebook</td>\n      <td>SOCIAL</td>\n      <td>4.10</td>\n      <td>78158306</td>\n      <td>5.30</td>\n      <td>1,000,000,000</td>\n      <td>Free</td>\n      <td>0</td>\n      <td>Teen</td>\n      <td>Social</td>\n    </tr>\n    <tr>\n      <th>10785</th>\n      <td>WhatsApp Messenger</td>\n      <td>COMMUNICATION</td>\n      <td>4.40</td>\n      <td>69119316</td>\n      <td>3.50</td>\n      <td>1,000,000,000</td>\n      <td>Free</td>\n      <td>0</td>\n      <td>Everyone</td>\n      <td>Communication</td>\n    </tr>\n    <tr>\n      <th>10806</th>\n      <td>Instagram</td>\n      <td>SOCIAL</td>\n      <td>4.50</td>\n      <td>66577313</td>\n      <td>5.30</td>\n      <td>1,000,000,000</td>\n      <td>Free</td>\n      <td>0</td>\n      <td>Teen</td>\n      <td>Social</td>\n    </tr>\n    <tr>\n      <th>10784</th>\n      <td>Messenger – Text and Video Chat for Free</td>\n      <td>COMMUNICATION</td>\n      <td>4.00</td>\n      <td>56642847</td>\n      <td>3.50</td>\n      <td>1,000,000,000</td>\n      <td>Free</td>\n      <td>0</td>\n      <td>Everyone</td>\n      <td>Communication</td>\n    </tr>\n    <tr>\n      <th>10650</th>\n      <td>Clash of Clans</td>\n      <td>GAME</td>\n      <td>4.60</td>\n      <td>44891723</td>\n      <td>98.00</td>\n      <td>100,000,000</td>\n      <td>Free</td>\n      <td>0</td>\n      <td>Everyone 10+</td>\n      <td>Strategy</td>\n    </tr>\n  </tbody>\n</table>\n</div>"
     },
     "execution_count": 264,
     "metadata": {},
     "output_type": "execute_result"
    }
   ]
  },
  {
   "cell_type": "markdown",
   "metadata": {
    "id": "BFoRqpezjebe"
   },
   "source": [
    "# Plotly Pie and Donut Charts - Visualise Categorical Data: Content Ratings"
   ]
  },
  {
   "cell_type": "code",
   "metadata": {
    "id": "c0IIxNGnoFKM",
    "ExecuteTime": {
     "end_time": "2023-10-13T09:59:10.811771Z",
     "start_time": "2023-10-13T09:59:07.133264100Z"
    }
   },
   "source": [
    "ratings = df_apps_clean.Content_Rating.value_counts()\n",
    "ratings"
   ],
   "execution_count": 265,
   "outputs": [
    {
     "data": {
      "text/plain": "Content_Rating\nEveryone           6619\nTeen                912\nMature 17+          357\nEveryone 10+        305\nAdults only 18+       3\nUnrated               1\nName: count, dtype: int64"
     },
     "execution_count": 265,
     "metadata": {},
     "output_type": "execute_result"
    }
   ]
  },
  {
   "cell_type": "code",
   "metadata": {
    "id": "TSiV6ZkjoFVg",
    "ExecuteTime": {
     "end_time": "2023-10-13T09:59:10.968899600Z",
     "start_time": "2023-10-13T09:59:07.141807800Z"
    }
   },
   "source": [
    "fig = px.pie(\n",
    "    labels=ratings.index, \n",
    "    values=ratings.values, \n",
    "    names=ratings.index,\n",
    "    title=\"Content Rating\",\n",
    "    width=800,\n",
    "    height=500\n",
    ")\n",
    "fig.update_traces(textposition=\"outside\", textinfo=\"percent+label\", textfont=dict(family=\"Arial\"))\n",
    "fig.show()"
   ],
   "execution_count": 266,
   "outputs": [
    {
     "data": {
      "application/vnd.plotly.v1+json": {
       "data": [
        {
         "domain": {
          "x": [
           0.0,
           1.0
          ],
          "y": [
           0.0,
           1.0
          ]
         },
         "hovertemplate": "label=%{label}<br>value=%{value}<extra></extra>",
         "labels": [
          "Everyone",
          "Teen",
          "Mature 17+",
          "Everyone 10+",
          "Adults only 18+",
          "Unrated"
         ],
         "legendgroup": "",
         "name": "",
         "showlegend": true,
         "values": [
          6619,
          912,
          357,
          305,
          3,
          1
         ],
         "type": "pie",
         "textfont": {
          "family": "Arial"
         },
         "textinfo": "percent+label",
         "textposition": "outside"
        }
       ],
       "layout": {
        "template": {
         "data": {
          "histogram2dcontour": [
           {
            "type": "histogram2dcontour",
            "colorbar": {
             "outlinewidth": 0,
             "ticks": ""
            },
            "colorscale": [
             [
              0.0,
              "#0d0887"
             ],
             [
              0.1111111111111111,
              "#46039f"
             ],
             [
              0.2222222222222222,
              "#7201a8"
             ],
             [
              0.3333333333333333,
              "#9c179e"
             ],
             [
              0.4444444444444444,
              "#bd3786"
             ],
             [
              0.5555555555555556,
              "#d8576b"
             ],
             [
              0.6666666666666666,
              "#ed7953"
             ],
             [
              0.7777777777777778,
              "#fb9f3a"
             ],
             [
              0.8888888888888888,
              "#fdca26"
             ],
             [
              1.0,
              "#f0f921"
             ]
            ]
           }
          ],
          "choropleth": [
           {
            "type": "choropleth",
            "colorbar": {
             "outlinewidth": 0,
             "ticks": ""
            }
           }
          ],
          "histogram2d": [
           {
            "type": "histogram2d",
            "colorbar": {
             "outlinewidth": 0,
             "ticks": ""
            },
            "colorscale": [
             [
              0.0,
              "#0d0887"
             ],
             [
              0.1111111111111111,
              "#46039f"
             ],
             [
              0.2222222222222222,
              "#7201a8"
             ],
             [
              0.3333333333333333,
              "#9c179e"
             ],
             [
              0.4444444444444444,
              "#bd3786"
             ],
             [
              0.5555555555555556,
              "#d8576b"
             ],
             [
              0.6666666666666666,
              "#ed7953"
             ],
             [
              0.7777777777777778,
              "#fb9f3a"
             ],
             [
              0.8888888888888888,
              "#fdca26"
             ],
             [
              1.0,
              "#f0f921"
             ]
            ]
           }
          ],
          "heatmap": [
           {
            "type": "heatmap",
            "colorbar": {
             "outlinewidth": 0,
             "ticks": ""
            },
            "colorscale": [
             [
              0.0,
              "#0d0887"
             ],
             [
              0.1111111111111111,
              "#46039f"
             ],
             [
              0.2222222222222222,
              "#7201a8"
             ],
             [
              0.3333333333333333,
              "#9c179e"
             ],
             [
              0.4444444444444444,
              "#bd3786"
             ],
             [
              0.5555555555555556,
              "#d8576b"
             ],
             [
              0.6666666666666666,
              "#ed7953"
             ],
             [
              0.7777777777777778,
              "#fb9f3a"
             ],
             [
              0.8888888888888888,
              "#fdca26"
             ],
             [
              1.0,
              "#f0f921"
             ]
            ]
           }
          ],
          "heatmapgl": [
           {
            "type": "heatmapgl",
            "colorbar": {
             "outlinewidth": 0,
             "ticks": ""
            },
            "colorscale": [
             [
              0.0,
              "#0d0887"
             ],
             [
              0.1111111111111111,
              "#46039f"
             ],
             [
              0.2222222222222222,
              "#7201a8"
             ],
             [
              0.3333333333333333,
              "#9c179e"
             ],
             [
              0.4444444444444444,
              "#bd3786"
             ],
             [
              0.5555555555555556,
              "#d8576b"
             ],
             [
              0.6666666666666666,
              "#ed7953"
             ],
             [
              0.7777777777777778,
              "#fb9f3a"
             ],
             [
              0.8888888888888888,
              "#fdca26"
             ],
             [
              1.0,
              "#f0f921"
             ]
            ]
           }
          ],
          "contourcarpet": [
           {
            "type": "contourcarpet",
            "colorbar": {
             "outlinewidth": 0,
             "ticks": ""
            }
           }
          ],
          "contour": [
           {
            "type": "contour",
            "colorbar": {
             "outlinewidth": 0,
             "ticks": ""
            },
            "colorscale": [
             [
              0.0,
              "#0d0887"
             ],
             [
              0.1111111111111111,
              "#46039f"
             ],
             [
              0.2222222222222222,
              "#7201a8"
             ],
             [
              0.3333333333333333,
              "#9c179e"
             ],
             [
              0.4444444444444444,
              "#bd3786"
             ],
             [
              0.5555555555555556,
              "#d8576b"
             ],
             [
              0.6666666666666666,
              "#ed7953"
             ],
             [
              0.7777777777777778,
              "#fb9f3a"
             ],
             [
              0.8888888888888888,
              "#fdca26"
             ],
             [
              1.0,
              "#f0f921"
             ]
            ]
           }
          ],
          "surface": [
           {
            "type": "surface",
            "colorbar": {
             "outlinewidth": 0,
             "ticks": ""
            },
            "colorscale": [
             [
              0.0,
              "#0d0887"
             ],
             [
              0.1111111111111111,
              "#46039f"
             ],
             [
              0.2222222222222222,
              "#7201a8"
             ],
             [
              0.3333333333333333,
              "#9c179e"
             ],
             [
              0.4444444444444444,
              "#bd3786"
             ],
             [
              0.5555555555555556,
              "#d8576b"
             ],
             [
              0.6666666666666666,
              "#ed7953"
             ],
             [
              0.7777777777777778,
              "#fb9f3a"
             ],
             [
              0.8888888888888888,
              "#fdca26"
             ],
             [
              1.0,
              "#f0f921"
             ]
            ]
           }
          ],
          "mesh3d": [
           {
            "type": "mesh3d",
            "colorbar": {
             "outlinewidth": 0,
             "ticks": ""
            }
           }
          ],
          "scatter": [
           {
            "marker": {
             "line": {
              "color": "#283442"
             }
            },
            "type": "scatter"
           }
          ],
          "parcoords": [
           {
            "type": "parcoords",
            "line": {
             "colorbar": {
              "outlinewidth": 0,
              "ticks": ""
             }
            }
           }
          ],
          "scatterpolargl": [
           {
            "type": "scatterpolargl",
            "marker": {
             "colorbar": {
              "outlinewidth": 0,
              "ticks": ""
             }
            }
           }
          ],
          "bar": [
           {
            "error_x": {
             "color": "#f2f5fa"
            },
            "error_y": {
             "color": "#f2f5fa"
            },
            "marker": {
             "line": {
              "color": "rgb(17,17,17)",
              "width": 0.5
             },
             "pattern": {
              "fillmode": "overlay",
              "size": 10,
              "solidity": 0.2
             }
            },
            "type": "bar"
           }
          ],
          "scattergeo": [
           {
            "type": "scattergeo",
            "marker": {
             "colorbar": {
              "outlinewidth": 0,
              "ticks": ""
             }
            }
           }
          ],
          "scatterpolar": [
           {
            "type": "scatterpolar",
            "marker": {
             "colorbar": {
              "outlinewidth": 0,
              "ticks": ""
             }
            }
           }
          ],
          "histogram": [
           {
            "marker": {
             "pattern": {
              "fillmode": "overlay",
              "size": 10,
              "solidity": 0.2
             }
            },
            "type": "histogram"
           }
          ],
          "scattergl": [
           {
            "marker": {
             "line": {
              "color": "#283442"
             }
            },
            "type": "scattergl"
           }
          ],
          "scatter3d": [
           {
            "type": "scatter3d",
            "line": {
             "colorbar": {
              "outlinewidth": 0,
              "ticks": ""
             }
            },
            "marker": {
             "colorbar": {
              "outlinewidth": 0,
              "ticks": ""
             }
            }
           }
          ],
          "scattermapbox": [
           {
            "type": "scattermapbox",
            "marker": {
             "colorbar": {
              "outlinewidth": 0,
              "ticks": ""
             }
            }
           }
          ],
          "scatterternary": [
           {
            "type": "scatterternary",
            "marker": {
             "colorbar": {
              "outlinewidth": 0,
              "ticks": ""
             }
            }
           }
          ],
          "scattercarpet": [
           {
            "type": "scattercarpet",
            "marker": {
             "colorbar": {
              "outlinewidth": 0,
              "ticks": ""
             }
            }
           }
          ],
          "carpet": [
           {
            "aaxis": {
             "endlinecolor": "#A2B1C6",
             "gridcolor": "#506784",
             "linecolor": "#506784",
             "minorgridcolor": "#506784",
             "startlinecolor": "#A2B1C6"
            },
            "baxis": {
             "endlinecolor": "#A2B1C6",
             "gridcolor": "#506784",
             "linecolor": "#506784",
             "minorgridcolor": "#506784",
             "startlinecolor": "#A2B1C6"
            },
            "type": "carpet"
           }
          ],
          "table": [
           {
            "cells": {
             "fill": {
              "color": "#506784"
             },
             "line": {
              "color": "rgb(17,17,17)"
             }
            },
            "header": {
             "fill": {
              "color": "#2a3f5f"
             },
             "line": {
              "color": "rgb(17,17,17)"
             }
            },
            "type": "table"
           }
          ],
          "barpolar": [
           {
            "marker": {
             "line": {
              "color": "rgb(17,17,17)",
              "width": 0.5
             },
             "pattern": {
              "fillmode": "overlay",
              "size": 10,
              "solidity": 0.2
             }
            },
            "type": "barpolar"
           }
          ],
          "pie": [
           {
            "automargin": true,
            "type": "pie"
           }
          ]
         },
         "layout": {
          "autotypenumbers": "strict",
          "colorway": [
           "#636efa",
           "#EF553B",
           "#00cc96",
           "#ab63fa",
           "#FFA15A",
           "#19d3f3",
           "#FF6692",
           "#B6E880",
           "#FF97FF",
           "#FECB52"
          ],
          "font": {
           "color": "#f2f5fa"
          },
          "hovermode": "closest",
          "hoverlabel": {
           "align": "left"
          },
          "paper_bgcolor": "rgb(17,17,17)",
          "plot_bgcolor": "rgb(17,17,17)",
          "polar": {
           "bgcolor": "rgb(17,17,17)",
           "angularaxis": {
            "gridcolor": "#506784",
            "linecolor": "#506784",
            "ticks": ""
           },
           "radialaxis": {
            "gridcolor": "#506784",
            "linecolor": "#506784",
            "ticks": ""
           }
          },
          "ternary": {
           "bgcolor": "rgb(17,17,17)",
           "aaxis": {
            "gridcolor": "#506784",
            "linecolor": "#506784",
            "ticks": ""
           },
           "baxis": {
            "gridcolor": "#506784",
            "linecolor": "#506784",
            "ticks": ""
           },
           "caxis": {
            "gridcolor": "#506784",
            "linecolor": "#506784",
            "ticks": ""
           }
          },
          "coloraxis": {
           "colorbar": {
            "outlinewidth": 0,
            "ticks": ""
           }
          },
          "colorscale": {
           "sequential": [
            [
             0.0,
             "#0d0887"
            ],
            [
             0.1111111111111111,
             "#46039f"
            ],
            [
             0.2222222222222222,
             "#7201a8"
            ],
            [
             0.3333333333333333,
             "#9c179e"
            ],
            [
             0.4444444444444444,
             "#bd3786"
            ],
            [
             0.5555555555555556,
             "#d8576b"
            ],
            [
             0.6666666666666666,
             "#ed7953"
            ],
            [
             0.7777777777777778,
             "#fb9f3a"
            ],
            [
             0.8888888888888888,
             "#fdca26"
            ],
            [
             1.0,
             "#f0f921"
            ]
           ],
           "sequentialminus": [
            [
             0.0,
             "#0d0887"
            ],
            [
             0.1111111111111111,
             "#46039f"
            ],
            [
             0.2222222222222222,
             "#7201a8"
            ],
            [
             0.3333333333333333,
             "#9c179e"
            ],
            [
             0.4444444444444444,
             "#bd3786"
            ],
            [
             0.5555555555555556,
             "#d8576b"
            ],
            [
             0.6666666666666666,
             "#ed7953"
            ],
            [
             0.7777777777777778,
             "#fb9f3a"
            ],
            [
             0.8888888888888888,
             "#fdca26"
            ],
            [
             1.0,
             "#f0f921"
            ]
           ],
           "diverging": [
            [
             0,
             "#8e0152"
            ],
            [
             0.1,
             "#c51b7d"
            ],
            [
             0.2,
             "#de77ae"
            ],
            [
             0.3,
             "#f1b6da"
            ],
            [
             0.4,
             "#fde0ef"
            ],
            [
             0.5,
             "#f7f7f7"
            ],
            [
             0.6,
             "#e6f5d0"
            ],
            [
             0.7,
             "#b8e186"
            ],
            [
             0.8,
             "#7fbc41"
            ],
            [
             0.9,
             "#4d9221"
            ],
            [
             1,
             "#276419"
            ]
           ]
          },
          "xaxis": {
           "gridcolor": "#283442",
           "linecolor": "#506784",
           "ticks": "",
           "title": {
            "standoff": 15
           },
           "zerolinecolor": "#283442",
           "automargin": true,
           "zerolinewidth": 2
          },
          "yaxis": {
           "gridcolor": "#283442",
           "linecolor": "#506784",
           "ticks": "",
           "title": {
            "standoff": 15
           },
           "zerolinecolor": "#283442",
           "automargin": true,
           "zerolinewidth": 2
          },
          "scene": {
           "xaxis": {
            "backgroundcolor": "rgb(17,17,17)",
            "gridcolor": "#506784",
            "linecolor": "#506784",
            "showbackground": true,
            "ticks": "",
            "zerolinecolor": "#C8D4E3",
            "gridwidth": 2
           },
           "yaxis": {
            "backgroundcolor": "rgb(17,17,17)",
            "gridcolor": "#506784",
            "linecolor": "#506784",
            "showbackground": true,
            "ticks": "",
            "zerolinecolor": "#C8D4E3",
            "gridwidth": 2
           },
           "zaxis": {
            "backgroundcolor": "rgb(17,17,17)",
            "gridcolor": "#506784",
            "linecolor": "#506784",
            "showbackground": true,
            "ticks": "",
            "zerolinecolor": "#C8D4E3",
            "gridwidth": 2
           }
          },
          "shapedefaults": {
           "line": {
            "color": "#f2f5fa"
           }
          },
          "annotationdefaults": {
           "arrowcolor": "#f2f5fa",
           "arrowhead": 0,
           "arrowwidth": 1
          },
          "geo": {
           "bgcolor": "rgb(17,17,17)",
           "landcolor": "rgb(17,17,17)",
           "subunitcolor": "#506784",
           "showland": true,
           "showlakes": true,
           "lakecolor": "rgb(17,17,17)"
          },
          "title": {
           "x": 0.05
          },
          "updatemenudefaults": {
           "bgcolor": "#506784",
           "borderwidth": 0
          },
          "sliderdefaults": {
           "bgcolor": "#C8D4E3",
           "borderwidth": 1,
           "bordercolor": "rgb(17,17,17)",
           "tickwidth": 0
          },
          "mapbox": {
           "style": "dark"
          }
         }
        },
        "legend": {
         "tracegroupgap": 0
        },
        "title": {
         "text": "Content Rating"
        },
        "height": 500,
        "width": 800
       },
       "config": {
        "plotlyServerURL": "https://plot.ly"
       }
      },
      "text/html": "<div>                            <div id=\"ae04343a-f52f-4a53-b521-b27569e35d47\" class=\"plotly-graph-div\" style=\"height:500px; width:800px;\"></div>            <script type=\"text/javascript\">                require([\"plotly\"], function(Plotly) {                    window.PLOTLYENV=window.PLOTLYENV || {};                                    if (document.getElementById(\"ae04343a-f52f-4a53-b521-b27569e35d47\")) {                    Plotly.newPlot(                        \"ae04343a-f52f-4a53-b521-b27569e35d47\",                        [{\"domain\":{\"x\":[0.0,1.0],\"y\":[0.0,1.0]},\"hovertemplate\":\"label=%{label}\\u003cbr\\u003evalue=%{value}\\u003cextra\\u003e\\u003c\\u002fextra\\u003e\",\"labels\":[\"Everyone\",\"Teen\",\"Mature 17+\",\"Everyone 10+\",\"Adults only 18+\",\"Unrated\"],\"legendgroup\":\"\",\"name\":\"\",\"showlegend\":true,\"values\":[6619,912,357,305,3,1],\"type\":\"pie\",\"textfont\":{\"family\":\"Arial\"},\"textinfo\":\"percent+label\",\"textposition\":\"outside\"}],                        {\"template\":{\"data\":{\"histogram2dcontour\":[{\"type\":\"histogram2dcontour\",\"colorbar\":{\"outlinewidth\":0,\"ticks\":\"\"},\"colorscale\":[[0.0,\"#0d0887\"],[0.1111111111111111,\"#46039f\"],[0.2222222222222222,\"#7201a8\"],[0.3333333333333333,\"#9c179e\"],[0.4444444444444444,\"#bd3786\"],[0.5555555555555556,\"#d8576b\"],[0.6666666666666666,\"#ed7953\"],[0.7777777777777778,\"#fb9f3a\"],[0.8888888888888888,\"#fdca26\"],[1.0,\"#f0f921\"]]}],\"choropleth\":[{\"type\":\"choropleth\",\"colorbar\":{\"outlinewidth\":0,\"ticks\":\"\"}}],\"histogram2d\":[{\"type\":\"histogram2d\",\"colorbar\":{\"outlinewidth\":0,\"ticks\":\"\"},\"colorscale\":[[0.0,\"#0d0887\"],[0.1111111111111111,\"#46039f\"],[0.2222222222222222,\"#7201a8\"],[0.3333333333333333,\"#9c179e\"],[0.4444444444444444,\"#bd3786\"],[0.5555555555555556,\"#d8576b\"],[0.6666666666666666,\"#ed7953\"],[0.7777777777777778,\"#fb9f3a\"],[0.8888888888888888,\"#fdca26\"],[1.0,\"#f0f921\"]]}],\"heatmap\":[{\"type\":\"heatmap\",\"colorbar\":{\"outlinewidth\":0,\"ticks\":\"\"},\"colorscale\":[[0.0,\"#0d0887\"],[0.1111111111111111,\"#46039f\"],[0.2222222222222222,\"#7201a8\"],[0.3333333333333333,\"#9c179e\"],[0.4444444444444444,\"#bd3786\"],[0.5555555555555556,\"#d8576b\"],[0.6666666666666666,\"#ed7953\"],[0.7777777777777778,\"#fb9f3a\"],[0.8888888888888888,\"#fdca26\"],[1.0,\"#f0f921\"]]}],\"heatmapgl\":[{\"type\":\"heatmapgl\",\"colorbar\":{\"outlinewidth\":0,\"ticks\":\"\"},\"colorscale\":[[0.0,\"#0d0887\"],[0.1111111111111111,\"#46039f\"],[0.2222222222222222,\"#7201a8\"],[0.3333333333333333,\"#9c179e\"],[0.4444444444444444,\"#bd3786\"],[0.5555555555555556,\"#d8576b\"],[0.6666666666666666,\"#ed7953\"],[0.7777777777777778,\"#fb9f3a\"],[0.8888888888888888,\"#fdca26\"],[1.0,\"#f0f921\"]]}],\"contourcarpet\":[{\"type\":\"contourcarpet\",\"colorbar\":{\"outlinewidth\":0,\"ticks\":\"\"}}],\"contour\":[{\"type\":\"contour\",\"colorbar\":{\"outlinewidth\":0,\"ticks\":\"\"},\"colorscale\":[[0.0,\"#0d0887\"],[0.1111111111111111,\"#46039f\"],[0.2222222222222222,\"#7201a8\"],[0.3333333333333333,\"#9c179e\"],[0.4444444444444444,\"#bd3786\"],[0.5555555555555556,\"#d8576b\"],[0.6666666666666666,\"#ed7953\"],[0.7777777777777778,\"#fb9f3a\"],[0.8888888888888888,\"#fdca26\"],[1.0,\"#f0f921\"]]}],\"surface\":[{\"type\":\"surface\",\"colorbar\":{\"outlinewidth\":0,\"ticks\":\"\"},\"colorscale\":[[0.0,\"#0d0887\"],[0.1111111111111111,\"#46039f\"],[0.2222222222222222,\"#7201a8\"],[0.3333333333333333,\"#9c179e\"],[0.4444444444444444,\"#bd3786\"],[0.5555555555555556,\"#d8576b\"],[0.6666666666666666,\"#ed7953\"],[0.7777777777777778,\"#fb9f3a\"],[0.8888888888888888,\"#fdca26\"],[1.0,\"#f0f921\"]]}],\"mesh3d\":[{\"type\":\"mesh3d\",\"colorbar\":{\"outlinewidth\":0,\"ticks\":\"\"}}],\"scatter\":[{\"marker\":{\"line\":{\"color\":\"#283442\"}},\"type\":\"scatter\"}],\"parcoords\":[{\"type\":\"parcoords\",\"line\":{\"colorbar\":{\"outlinewidth\":0,\"ticks\":\"\"}}}],\"scatterpolargl\":[{\"type\":\"scatterpolargl\",\"marker\":{\"colorbar\":{\"outlinewidth\":0,\"ticks\":\"\"}}}],\"bar\":[{\"error_x\":{\"color\":\"#f2f5fa\"},\"error_y\":{\"color\":\"#f2f5fa\"},\"marker\":{\"line\":{\"color\":\"rgb(17,17,17)\",\"width\":0.5},\"pattern\":{\"fillmode\":\"overlay\",\"size\":10,\"solidity\":0.2}},\"type\":\"bar\"}],\"scattergeo\":[{\"type\":\"scattergeo\",\"marker\":{\"colorbar\":{\"outlinewidth\":0,\"ticks\":\"\"}}}],\"scatterpolar\":[{\"type\":\"scatterpolar\",\"marker\":{\"colorbar\":{\"outlinewidth\":0,\"ticks\":\"\"}}}],\"histogram\":[{\"marker\":{\"pattern\":{\"fillmode\":\"overlay\",\"size\":10,\"solidity\":0.2}},\"type\":\"histogram\"}],\"scattergl\":[{\"marker\":{\"line\":{\"color\":\"#283442\"}},\"type\":\"scattergl\"}],\"scatter3d\":[{\"type\":\"scatter3d\",\"line\":{\"colorbar\":{\"outlinewidth\":0,\"ticks\":\"\"}},\"marker\":{\"colorbar\":{\"outlinewidth\":0,\"ticks\":\"\"}}}],\"scattermapbox\":[{\"type\":\"scattermapbox\",\"marker\":{\"colorbar\":{\"outlinewidth\":0,\"ticks\":\"\"}}}],\"scatterternary\":[{\"type\":\"scatterternary\",\"marker\":{\"colorbar\":{\"outlinewidth\":0,\"ticks\":\"\"}}}],\"scattercarpet\":[{\"type\":\"scattercarpet\",\"marker\":{\"colorbar\":{\"outlinewidth\":0,\"ticks\":\"\"}}}],\"carpet\":[{\"aaxis\":{\"endlinecolor\":\"#A2B1C6\",\"gridcolor\":\"#506784\",\"linecolor\":\"#506784\",\"minorgridcolor\":\"#506784\",\"startlinecolor\":\"#A2B1C6\"},\"baxis\":{\"endlinecolor\":\"#A2B1C6\",\"gridcolor\":\"#506784\",\"linecolor\":\"#506784\",\"minorgridcolor\":\"#506784\",\"startlinecolor\":\"#A2B1C6\"},\"type\":\"carpet\"}],\"table\":[{\"cells\":{\"fill\":{\"color\":\"#506784\"},\"line\":{\"color\":\"rgb(17,17,17)\"}},\"header\":{\"fill\":{\"color\":\"#2a3f5f\"},\"line\":{\"color\":\"rgb(17,17,17)\"}},\"type\":\"table\"}],\"barpolar\":[{\"marker\":{\"line\":{\"color\":\"rgb(17,17,17)\",\"width\":0.5},\"pattern\":{\"fillmode\":\"overlay\",\"size\":10,\"solidity\":0.2}},\"type\":\"barpolar\"}],\"pie\":[{\"automargin\":true,\"type\":\"pie\"}]},\"layout\":{\"autotypenumbers\":\"strict\",\"colorway\":[\"#636efa\",\"#EF553B\",\"#00cc96\",\"#ab63fa\",\"#FFA15A\",\"#19d3f3\",\"#FF6692\",\"#B6E880\",\"#FF97FF\",\"#FECB52\"],\"font\":{\"color\":\"#f2f5fa\"},\"hovermode\":\"closest\",\"hoverlabel\":{\"align\":\"left\"},\"paper_bgcolor\":\"rgb(17,17,17)\",\"plot_bgcolor\":\"rgb(17,17,17)\",\"polar\":{\"bgcolor\":\"rgb(17,17,17)\",\"angularaxis\":{\"gridcolor\":\"#506784\",\"linecolor\":\"#506784\",\"ticks\":\"\"},\"radialaxis\":{\"gridcolor\":\"#506784\",\"linecolor\":\"#506784\",\"ticks\":\"\"}},\"ternary\":{\"bgcolor\":\"rgb(17,17,17)\",\"aaxis\":{\"gridcolor\":\"#506784\",\"linecolor\":\"#506784\",\"ticks\":\"\"},\"baxis\":{\"gridcolor\":\"#506784\",\"linecolor\":\"#506784\",\"ticks\":\"\"},\"caxis\":{\"gridcolor\":\"#506784\",\"linecolor\":\"#506784\",\"ticks\":\"\"}},\"coloraxis\":{\"colorbar\":{\"outlinewidth\":0,\"ticks\":\"\"}},\"colorscale\":{\"sequential\":[[0.0,\"#0d0887\"],[0.1111111111111111,\"#46039f\"],[0.2222222222222222,\"#7201a8\"],[0.3333333333333333,\"#9c179e\"],[0.4444444444444444,\"#bd3786\"],[0.5555555555555556,\"#d8576b\"],[0.6666666666666666,\"#ed7953\"],[0.7777777777777778,\"#fb9f3a\"],[0.8888888888888888,\"#fdca26\"],[1.0,\"#f0f921\"]],\"sequentialminus\":[[0.0,\"#0d0887\"],[0.1111111111111111,\"#46039f\"],[0.2222222222222222,\"#7201a8\"],[0.3333333333333333,\"#9c179e\"],[0.4444444444444444,\"#bd3786\"],[0.5555555555555556,\"#d8576b\"],[0.6666666666666666,\"#ed7953\"],[0.7777777777777778,\"#fb9f3a\"],[0.8888888888888888,\"#fdca26\"],[1.0,\"#f0f921\"]],\"diverging\":[[0,\"#8e0152\"],[0.1,\"#c51b7d\"],[0.2,\"#de77ae\"],[0.3,\"#f1b6da\"],[0.4,\"#fde0ef\"],[0.5,\"#f7f7f7\"],[0.6,\"#e6f5d0\"],[0.7,\"#b8e186\"],[0.8,\"#7fbc41\"],[0.9,\"#4d9221\"],[1,\"#276419\"]]},\"xaxis\":{\"gridcolor\":\"#283442\",\"linecolor\":\"#506784\",\"ticks\":\"\",\"title\":{\"standoff\":15},\"zerolinecolor\":\"#283442\",\"automargin\":true,\"zerolinewidth\":2},\"yaxis\":{\"gridcolor\":\"#283442\",\"linecolor\":\"#506784\",\"ticks\":\"\",\"title\":{\"standoff\":15},\"zerolinecolor\":\"#283442\",\"automargin\":true,\"zerolinewidth\":2},\"scene\":{\"xaxis\":{\"backgroundcolor\":\"rgb(17,17,17)\",\"gridcolor\":\"#506784\",\"linecolor\":\"#506784\",\"showbackground\":true,\"ticks\":\"\",\"zerolinecolor\":\"#C8D4E3\",\"gridwidth\":2},\"yaxis\":{\"backgroundcolor\":\"rgb(17,17,17)\",\"gridcolor\":\"#506784\",\"linecolor\":\"#506784\",\"showbackground\":true,\"ticks\":\"\",\"zerolinecolor\":\"#C8D4E3\",\"gridwidth\":2},\"zaxis\":{\"backgroundcolor\":\"rgb(17,17,17)\",\"gridcolor\":\"#506784\",\"linecolor\":\"#506784\",\"showbackground\":true,\"ticks\":\"\",\"zerolinecolor\":\"#C8D4E3\",\"gridwidth\":2}},\"shapedefaults\":{\"line\":{\"color\":\"#f2f5fa\"}},\"annotationdefaults\":{\"arrowcolor\":\"#f2f5fa\",\"arrowhead\":0,\"arrowwidth\":1},\"geo\":{\"bgcolor\":\"rgb(17,17,17)\",\"landcolor\":\"rgb(17,17,17)\",\"subunitcolor\":\"#506784\",\"showland\":true,\"showlakes\":true,\"lakecolor\":\"rgb(17,17,17)\"},\"title\":{\"x\":0.05},\"updatemenudefaults\":{\"bgcolor\":\"#506784\",\"borderwidth\":0},\"sliderdefaults\":{\"bgcolor\":\"#C8D4E3\",\"borderwidth\":1,\"bordercolor\":\"rgb(17,17,17)\",\"tickwidth\":0},\"mapbox\":{\"style\":\"dark\"}}},\"legend\":{\"tracegroupgap\":0},\"title\":{\"text\":\"Content Rating\"},\"height\":500,\"width\":800},                        {\"responsive\": true}                    ).then(function(){\n                            \nvar gd = document.getElementById('ae04343a-f52f-4a53-b521-b27569e35d47');\nvar x = new MutationObserver(function (mutations, observer) {{\n        var display = window.getComputedStyle(gd).display;\n        if (!display || display === 'none') {{\n            console.log([gd, 'removed!']);\n            Plotly.purge(gd);\n            observer.disconnect();\n        }}\n}});\n\n// Listen for the removal of the full notebook cells\nvar notebookContainer = gd.closest('#notebook-container');\nif (notebookContainer) {{\n    x.observe(notebookContainer, {childList: true});\n}}\n\n// Listen for the clearing of the current output cell\nvar outputEl = gd.closest('.output');\nif (outputEl) {{\n    x.observe(outputEl, {childList: true});\n}}\n\n                        })                };                });            </script>        </div>"
     },
     "metadata": {},
     "output_type": "display_data"
    }
   ]
  },
  {
   "cell_type": "code",
   "metadata": {
    "id": "7kil2mdfoFOr",
    "ExecuteTime": {
     "end_time": "2023-10-13T09:59:11.063150Z",
     "start_time": "2023-10-13T09:59:07.235208300Z"
    }
   },
   "source": [
    "ratings\n",
    "fig = px.pie(\n",
    "    labels=ratings.index,\n",
    "    values=ratings.values,\n",
    "    names=ratings.index,\n",
    "    title=\"Content Rating\",\n",
    "    width=800,\n",
    "    height=500,\n",
    "    hole=0.5\n",
    ")\n",
    "fig.update_traces(textposition=\"outside\", textinfo=\"percent+label\", textfont=dict(family=\"Arial\"))\n",
    "fig.show()"
   ],
   "execution_count": 267,
   "outputs": [
    {
     "data": {
      "application/vnd.plotly.v1+json": {
       "data": [
        {
         "domain": {
          "x": [
           0.0,
           1.0
          ],
          "y": [
           0.0,
           1.0
          ]
         },
         "hole": 0.5,
         "hovertemplate": "label=%{label}<br>value=%{value}<extra></extra>",
         "labels": [
          "Everyone",
          "Teen",
          "Mature 17+",
          "Everyone 10+",
          "Adults only 18+",
          "Unrated"
         ],
         "legendgroup": "",
         "name": "",
         "showlegend": true,
         "values": [
          6619,
          912,
          357,
          305,
          3,
          1
         ],
         "type": "pie",
         "textfont": {
          "family": "Arial"
         },
         "textinfo": "percent+label",
         "textposition": "outside"
        }
       ],
       "layout": {
        "template": {
         "data": {
          "histogram2dcontour": [
           {
            "type": "histogram2dcontour",
            "colorbar": {
             "outlinewidth": 0,
             "ticks": ""
            },
            "colorscale": [
             [
              0.0,
              "#0d0887"
             ],
             [
              0.1111111111111111,
              "#46039f"
             ],
             [
              0.2222222222222222,
              "#7201a8"
             ],
             [
              0.3333333333333333,
              "#9c179e"
             ],
             [
              0.4444444444444444,
              "#bd3786"
             ],
             [
              0.5555555555555556,
              "#d8576b"
             ],
             [
              0.6666666666666666,
              "#ed7953"
             ],
             [
              0.7777777777777778,
              "#fb9f3a"
             ],
             [
              0.8888888888888888,
              "#fdca26"
             ],
             [
              1.0,
              "#f0f921"
             ]
            ]
           }
          ],
          "choropleth": [
           {
            "type": "choropleth",
            "colorbar": {
             "outlinewidth": 0,
             "ticks": ""
            }
           }
          ],
          "histogram2d": [
           {
            "type": "histogram2d",
            "colorbar": {
             "outlinewidth": 0,
             "ticks": ""
            },
            "colorscale": [
             [
              0.0,
              "#0d0887"
             ],
             [
              0.1111111111111111,
              "#46039f"
             ],
             [
              0.2222222222222222,
              "#7201a8"
             ],
             [
              0.3333333333333333,
              "#9c179e"
             ],
             [
              0.4444444444444444,
              "#bd3786"
             ],
             [
              0.5555555555555556,
              "#d8576b"
             ],
             [
              0.6666666666666666,
              "#ed7953"
             ],
             [
              0.7777777777777778,
              "#fb9f3a"
             ],
             [
              0.8888888888888888,
              "#fdca26"
             ],
             [
              1.0,
              "#f0f921"
             ]
            ]
           }
          ],
          "heatmap": [
           {
            "type": "heatmap",
            "colorbar": {
             "outlinewidth": 0,
             "ticks": ""
            },
            "colorscale": [
             [
              0.0,
              "#0d0887"
             ],
             [
              0.1111111111111111,
              "#46039f"
             ],
             [
              0.2222222222222222,
              "#7201a8"
             ],
             [
              0.3333333333333333,
              "#9c179e"
             ],
             [
              0.4444444444444444,
              "#bd3786"
             ],
             [
              0.5555555555555556,
              "#d8576b"
             ],
             [
              0.6666666666666666,
              "#ed7953"
             ],
             [
              0.7777777777777778,
              "#fb9f3a"
             ],
             [
              0.8888888888888888,
              "#fdca26"
             ],
             [
              1.0,
              "#f0f921"
             ]
            ]
           }
          ],
          "heatmapgl": [
           {
            "type": "heatmapgl",
            "colorbar": {
             "outlinewidth": 0,
             "ticks": ""
            },
            "colorscale": [
             [
              0.0,
              "#0d0887"
             ],
             [
              0.1111111111111111,
              "#46039f"
             ],
             [
              0.2222222222222222,
              "#7201a8"
             ],
             [
              0.3333333333333333,
              "#9c179e"
             ],
             [
              0.4444444444444444,
              "#bd3786"
             ],
             [
              0.5555555555555556,
              "#d8576b"
             ],
             [
              0.6666666666666666,
              "#ed7953"
             ],
             [
              0.7777777777777778,
              "#fb9f3a"
             ],
             [
              0.8888888888888888,
              "#fdca26"
             ],
             [
              1.0,
              "#f0f921"
             ]
            ]
           }
          ],
          "contourcarpet": [
           {
            "type": "contourcarpet",
            "colorbar": {
             "outlinewidth": 0,
             "ticks": ""
            }
           }
          ],
          "contour": [
           {
            "type": "contour",
            "colorbar": {
             "outlinewidth": 0,
             "ticks": ""
            },
            "colorscale": [
             [
              0.0,
              "#0d0887"
             ],
             [
              0.1111111111111111,
              "#46039f"
             ],
             [
              0.2222222222222222,
              "#7201a8"
             ],
             [
              0.3333333333333333,
              "#9c179e"
             ],
             [
              0.4444444444444444,
              "#bd3786"
             ],
             [
              0.5555555555555556,
              "#d8576b"
             ],
             [
              0.6666666666666666,
              "#ed7953"
             ],
             [
              0.7777777777777778,
              "#fb9f3a"
             ],
             [
              0.8888888888888888,
              "#fdca26"
             ],
             [
              1.0,
              "#f0f921"
             ]
            ]
           }
          ],
          "surface": [
           {
            "type": "surface",
            "colorbar": {
             "outlinewidth": 0,
             "ticks": ""
            },
            "colorscale": [
             [
              0.0,
              "#0d0887"
             ],
             [
              0.1111111111111111,
              "#46039f"
             ],
             [
              0.2222222222222222,
              "#7201a8"
             ],
             [
              0.3333333333333333,
              "#9c179e"
             ],
             [
              0.4444444444444444,
              "#bd3786"
             ],
             [
              0.5555555555555556,
              "#d8576b"
             ],
             [
              0.6666666666666666,
              "#ed7953"
             ],
             [
              0.7777777777777778,
              "#fb9f3a"
             ],
             [
              0.8888888888888888,
              "#fdca26"
             ],
             [
              1.0,
              "#f0f921"
             ]
            ]
           }
          ],
          "mesh3d": [
           {
            "type": "mesh3d",
            "colorbar": {
             "outlinewidth": 0,
             "ticks": ""
            }
           }
          ],
          "scatter": [
           {
            "marker": {
             "line": {
              "color": "#283442"
             }
            },
            "type": "scatter"
           }
          ],
          "parcoords": [
           {
            "type": "parcoords",
            "line": {
             "colorbar": {
              "outlinewidth": 0,
              "ticks": ""
             }
            }
           }
          ],
          "scatterpolargl": [
           {
            "type": "scatterpolargl",
            "marker": {
             "colorbar": {
              "outlinewidth": 0,
              "ticks": ""
             }
            }
           }
          ],
          "bar": [
           {
            "error_x": {
             "color": "#f2f5fa"
            },
            "error_y": {
             "color": "#f2f5fa"
            },
            "marker": {
             "line": {
              "color": "rgb(17,17,17)",
              "width": 0.5
             },
             "pattern": {
              "fillmode": "overlay",
              "size": 10,
              "solidity": 0.2
             }
            },
            "type": "bar"
           }
          ],
          "scattergeo": [
           {
            "type": "scattergeo",
            "marker": {
             "colorbar": {
              "outlinewidth": 0,
              "ticks": ""
             }
            }
           }
          ],
          "scatterpolar": [
           {
            "type": "scatterpolar",
            "marker": {
             "colorbar": {
              "outlinewidth": 0,
              "ticks": ""
             }
            }
           }
          ],
          "histogram": [
           {
            "marker": {
             "pattern": {
              "fillmode": "overlay",
              "size": 10,
              "solidity": 0.2
             }
            },
            "type": "histogram"
           }
          ],
          "scattergl": [
           {
            "marker": {
             "line": {
              "color": "#283442"
             }
            },
            "type": "scattergl"
           }
          ],
          "scatter3d": [
           {
            "type": "scatter3d",
            "line": {
             "colorbar": {
              "outlinewidth": 0,
              "ticks": ""
             }
            },
            "marker": {
             "colorbar": {
              "outlinewidth": 0,
              "ticks": ""
             }
            }
           }
          ],
          "scattermapbox": [
           {
            "type": "scattermapbox",
            "marker": {
             "colorbar": {
              "outlinewidth": 0,
              "ticks": ""
             }
            }
           }
          ],
          "scatterternary": [
           {
            "type": "scatterternary",
            "marker": {
             "colorbar": {
              "outlinewidth": 0,
              "ticks": ""
             }
            }
           }
          ],
          "scattercarpet": [
           {
            "type": "scattercarpet",
            "marker": {
             "colorbar": {
              "outlinewidth": 0,
              "ticks": ""
             }
            }
           }
          ],
          "carpet": [
           {
            "aaxis": {
             "endlinecolor": "#A2B1C6",
             "gridcolor": "#506784",
             "linecolor": "#506784",
             "minorgridcolor": "#506784",
             "startlinecolor": "#A2B1C6"
            },
            "baxis": {
             "endlinecolor": "#A2B1C6",
             "gridcolor": "#506784",
             "linecolor": "#506784",
             "minorgridcolor": "#506784",
             "startlinecolor": "#A2B1C6"
            },
            "type": "carpet"
           }
          ],
          "table": [
           {
            "cells": {
             "fill": {
              "color": "#506784"
             },
             "line": {
              "color": "rgb(17,17,17)"
             }
            },
            "header": {
             "fill": {
              "color": "#2a3f5f"
             },
             "line": {
              "color": "rgb(17,17,17)"
             }
            },
            "type": "table"
           }
          ],
          "barpolar": [
           {
            "marker": {
             "line": {
              "color": "rgb(17,17,17)",
              "width": 0.5
             },
             "pattern": {
              "fillmode": "overlay",
              "size": 10,
              "solidity": 0.2
             }
            },
            "type": "barpolar"
           }
          ],
          "pie": [
           {
            "automargin": true,
            "type": "pie"
           }
          ]
         },
         "layout": {
          "autotypenumbers": "strict",
          "colorway": [
           "#636efa",
           "#EF553B",
           "#00cc96",
           "#ab63fa",
           "#FFA15A",
           "#19d3f3",
           "#FF6692",
           "#B6E880",
           "#FF97FF",
           "#FECB52"
          ],
          "font": {
           "color": "#f2f5fa"
          },
          "hovermode": "closest",
          "hoverlabel": {
           "align": "left"
          },
          "paper_bgcolor": "rgb(17,17,17)",
          "plot_bgcolor": "rgb(17,17,17)",
          "polar": {
           "bgcolor": "rgb(17,17,17)",
           "angularaxis": {
            "gridcolor": "#506784",
            "linecolor": "#506784",
            "ticks": ""
           },
           "radialaxis": {
            "gridcolor": "#506784",
            "linecolor": "#506784",
            "ticks": ""
           }
          },
          "ternary": {
           "bgcolor": "rgb(17,17,17)",
           "aaxis": {
            "gridcolor": "#506784",
            "linecolor": "#506784",
            "ticks": ""
           },
           "baxis": {
            "gridcolor": "#506784",
            "linecolor": "#506784",
            "ticks": ""
           },
           "caxis": {
            "gridcolor": "#506784",
            "linecolor": "#506784",
            "ticks": ""
           }
          },
          "coloraxis": {
           "colorbar": {
            "outlinewidth": 0,
            "ticks": ""
           }
          },
          "colorscale": {
           "sequential": [
            [
             0.0,
             "#0d0887"
            ],
            [
             0.1111111111111111,
             "#46039f"
            ],
            [
             0.2222222222222222,
             "#7201a8"
            ],
            [
             0.3333333333333333,
             "#9c179e"
            ],
            [
             0.4444444444444444,
             "#bd3786"
            ],
            [
             0.5555555555555556,
             "#d8576b"
            ],
            [
             0.6666666666666666,
             "#ed7953"
            ],
            [
             0.7777777777777778,
             "#fb9f3a"
            ],
            [
             0.8888888888888888,
             "#fdca26"
            ],
            [
             1.0,
             "#f0f921"
            ]
           ],
           "sequentialminus": [
            [
             0.0,
             "#0d0887"
            ],
            [
             0.1111111111111111,
             "#46039f"
            ],
            [
             0.2222222222222222,
             "#7201a8"
            ],
            [
             0.3333333333333333,
             "#9c179e"
            ],
            [
             0.4444444444444444,
             "#bd3786"
            ],
            [
             0.5555555555555556,
             "#d8576b"
            ],
            [
             0.6666666666666666,
             "#ed7953"
            ],
            [
             0.7777777777777778,
             "#fb9f3a"
            ],
            [
             0.8888888888888888,
             "#fdca26"
            ],
            [
             1.0,
             "#f0f921"
            ]
           ],
           "diverging": [
            [
             0,
             "#8e0152"
            ],
            [
             0.1,
             "#c51b7d"
            ],
            [
             0.2,
             "#de77ae"
            ],
            [
             0.3,
             "#f1b6da"
            ],
            [
             0.4,
             "#fde0ef"
            ],
            [
             0.5,
             "#f7f7f7"
            ],
            [
             0.6,
             "#e6f5d0"
            ],
            [
             0.7,
             "#b8e186"
            ],
            [
             0.8,
             "#7fbc41"
            ],
            [
             0.9,
             "#4d9221"
            ],
            [
             1,
             "#276419"
            ]
           ]
          },
          "xaxis": {
           "gridcolor": "#283442",
           "linecolor": "#506784",
           "ticks": "",
           "title": {
            "standoff": 15
           },
           "zerolinecolor": "#283442",
           "automargin": true,
           "zerolinewidth": 2
          },
          "yaxis": {
           "gridcolor": "#283442",
           "linecolor": "#506784",
           "ticks": "",
           "title": {
            "standoff": 15
           },
           "zerolinecolor": "#283442",
           "automargin": true,
           "zerolinewidth": 2
          },
          "scene": {
           "xaxis": {
            "backgroundcolor": "rgb(17,17,17)",
            "gridcolor": "#506784",
            "linecolor": "#506784",
            "showbackground": true,
            "ticks": "",
            "zerolinecolor": "#C8D4E3",
            "gridwidth": 2
           },
           "yaxis": {
            "backgroundcolor": "rgb(17,17,17)",
            "gridcolor": "#506784",
            "linecolor": "#506784",
            "showbackground": true,
            "ticks": "",
            "zerolinecolor": "#C8D4E3",
            "gridwidth": 2
           },
           "zaxis": {
            "backgroundcolor": "rgb(17,17,17)",
            "gridcolor": "#506784",
            "linecolor": "#506784",
            "showbackground": true,
            "ticks": "",
            "zerolinecolor": "#C8D4E3",
            "gridwidth": 2
           }
          },
          "shapedefaults": {
           "line": {
            "color": "#f2f5fa"
           }
          },
          "annotationdefaults": {
           "arrowcolor": "#f2f5fa",
           "arrowhead": 0,
           "arrowwidth": 1
          },
          "geo": {
           "bgcolor": "rgb(17,17,17)",
           "landcolor": "rgb(17,17,17)",
           "subunitcolor": "#506784",
           "showland": true,
           "showlakes": true,
           "lakecolor": "rgb(17,17,17)"
          },
          "title": {
           "x": 0.05
          },
          "updatemenudefaults": {
           "bgcolor": "#506784",
           "borderwidth": 0
          },
          "sliderdefaults": {
           "bgcolor": "#C8D4E3",
           "borderwidth": 1,
           "bordercolor": "rgb(17,17,17)",
           "tickwidth": 0
          },
          "mapbox": {
           "style": "dark"
          }
         }
        },
        "legend": {
         "tracegroupgap": 0
        },
        "title": {
         "text": "Content Rating"
        },
        "height": 500,
        "width": 800
       },
       "config": {
        "plotlyServerURL": "https://plot.ly"
       }
      },
      "text/html": "<div>                            <div id=\"dbccfcfc-b8b1-4a2d-b8d0-0f81e92ac552\" class=\"plotly-graph-div\" style=\"height:500px; width:800px;\"></div>            <script type=\"text/javascript\">                require([\"plotly\"], function(Plotly) {                    window.PLOTLYENV=window.PLOTLYENV || {};                                    if (document.getElementById(\"dbccfcfc-b8b1-4a2d-b8d0-0f81e92ac552\")) {                    Plotly.newPlot(                        \"dbccfcfc-b8b1-4a2d-b8d0-0f81e92ac552\",                        [{\"domain\":{\"x\":[0.0,1.0],\"y\":[0.0,1.0]},\"hole\":0.5,\"hovertemplate\":\"label=%{label}\\u003cbr\\u003evalue=%{value}\\u003cextra\\u003e\\u003c\\u002fextra\\u003e\",\"labels\":[\"Everyone\",\"Teen\",\"Mature 17+\",\"Everyone 10+\",\"Adults only 18+\",\"Unrated\"],\"legendgroup\":\"\",\"name\":\"\",\"showlegend\":true,\"values\":[6619,912,357,305,3,1],\"type\":\"pie\",\"textfont\":{\"family\":\"Arial\"},\"textinfo\":\"percent+label\",\"textposition\":\"outside\"}],                        {\"template\":{\"data\":{\"histogram2dcontour\":[{\"type\":\"histogram2dcontour\",\"colorbar\":{\"outlinewidth\":0,\"ticks\":\"\"},\"colorscale\":[[0.0,\"#0d0887\"],[0.1111111111111111,\"#46039f\"],[0.2222222222222222,\"#7201a8\"],[0.3333333333333333,\"#9c179e\"],[0.4444444444444444,\"#bd3786\"],[0.5555555555555556,\"#d8576b\"],[0.6666666666666666,\"#ed7953\"],[0.7777777777777778,\"#fb9f3a\"],[0.8888888888888888,\"#fdca26\"],[1.0,\"#f0f921\"]]}],\"choropleth\":[{\"type\":\"choropleth\",\"colorbar\":{\"outlinewidth\":0,\"ticks\":\"\"}}],\"histogram2d\":[{\"type\":\"histogram2d\",\"colorbar\":{\"outlinewidth\":0,\"ticks\":\"\"},\"colorscale\":[[0.0,\"#0d0887\"],[0.1111111111111111,\"#46039f\"],[0.2222222222222222,\"#7201a8\"],[0.3333333333333333,\"#9c179e\"],[0.4444444444444444,\"#bd3786\"],[0.5555555555555556,\"#d8576b\"],[0.6666666666666666,\"#ed7953\"],[0.7777777777777778,\"#fb9f3a\"],[0.8888888888888888,\"#fdca26\"],[1.0,\"#f0f921\"]]}],\"heatmap\":[{\"type\":\"heatmap\",\"colorbar\":{\"outlinewidth\":0,\"ticks\":\"\"},\"colorscale\":[[0.0,\"#0d0887\"],[0.1111111111111111,\"#46039f\"],[0.2222222222222222,\"#7201a8\"],[0.3333333333333333,\"#9c179e\"],[0.4444444444444444,\"#bd3786\"],[0.5555555555555556,\"#d8576b\"],[0.6666666666666666,\"#ed7953\"],[0.7777777777777778,\"#fb9f3a\"],[0.8888888888888888,\"#fdca26\"],[1.0,\"#f0f921\"]]}],\"heatmapgl\":[{\"type\":\"heatmapgl\",\"colorbar\":{\"outlinewidth\":0,\"ticks\":\"\"},\"colorscale\":[[0.0,\"#0d0887\"],[0.1111111111111111,\"#46039f\"],[0.2222222222222222,\"#7201a8\"],[0.3333333333333333,\"#9c179e\"],[0.4444444444444444,\"#bd3786\"],[0.5555555555555556,\"#d8576b\"],[0.6666666666666666,\"#ed7953\"],[0.7777777777777778,\"#fb9f3a\"],[0.8888888888888888,\"#fdca26\"],[1.0,\"#f0f921\"]]}],\"contourcarpet\":[{\"type\":\"contourcarpet\",\"colorbar\":{\"outlinewidth\":0,\"ticks\":\"\"}}],\"contour\":[{\"type\":\"contour\",\"colorbar\":{\"outlinewidth\":0,\"ticks\":\"\"},\"colorscale\":[[0.0,\"#0d0887\"],[0.1111111111111111,\"#46039f\"],[0.2222222222222222,\"#7201a8\"],[0.3333333333333333,\"#9c179e\"],[0.4444444444444444,\"#bd3786\"],[0.5555555555555556,\"#d8576b\"],[0.6666666666666666,\"#ed7953\"],[0.7777777777777778,\"#fb9f3a\"],[0.8888888888888888,\"#fdca26\"],[1.0,\"#f0f921\"]]}],\"surface\":[{\"type\":\"surface\",\"colorbar\":{\"outlinewidth\":0,\"ticks\":\"\"},\"colorscale\":[[0.0,\"#0d0887\"],[0.1111111111111111,\"#46039f\"],[0.2222222222222222,\"#7201a8\"],[0.3333333333333333,\"#9c179e\"],[0.4444444444444444,\"#bd3786\"],[0.5555555555555556,\"#d8576b\"],[0.6666666666666666,\"#ed7953\"],[0.7777777777777778,\"#fb9f3a\"],[0.8888888888888888,\"#fdca26\"],[1.0,\"#f0f921\"]]}],\"mesh3d\":[{\"type\":\"mesh3d\",\"colorbar\":{\"outlinewidth\":0,\"ticks\":\"\"}}],\"scatter\":[{\"marker\":{\"line\":{\"color\":\"#283442\"}},\"type\":\"scatter\"}],\"parcoords\":[{\"type\":\"parcoords\",\"line\":{\"colorbar\":{\"outlinewidth\":0,\"ticks\":\"\"}}}],\"scatterpolargl\":[{\"type\":\"scatterpolargl\",\"marker\":{\"colorbar\":{\"outlinewidth\":0,\"ticks\":\"\"}}}],\"bar\":[{\"error_x\":{\"color\":\"#f2f5fa\"},\"error_y\":{\"color\":\"#f2f5fa\"},\"marker\":{\"line\":{\"color\":\"rgb(17,17,17)\",\"width\":0.5},\"pattern\":{\"fillmode\":\"overlay\",\"size\":10,\"solidity\":0.2}},\"type\":\"bar\"}],\"scattergeo\":[{\"type\":\"scattergeo\",\"marker\":{\"colorbar\":{\"outlinewidth\":0,\"ticks\":\"\"}}}],\"scatterpolar\":[{\"type\":\"scatterpolar\",\"marker\":{\"colorbar\":{\"outlinewidth\":0,\"ticks\":\"\"}}}],\"histogram\":[{\"marker\":{\"pattern\":{\"fillmode\":\"overlay\",\"size\":10,\"solidity\":0.2}},\"type\":\"histogram\"}],\"scattergl\":[{\"marker\":{\"line\":{\"color\":\"#283442\"}},\"type\":\"scattergl\"}],\"scatter3d\":[{\"type\":\"scatter3d\",\"line\":{\"colorbar\":{\"outlinewidth\":0,\"ticks\":\"\"}},\"marker\":{\"colorbar\":{\"outlinewidth\":0,\"ticks\":\"\"}}}],\"scattermapbox\":[{\"type\":\"scattermapbox\",\"marker\":{\"colorbar\":{\"outlinewidth\":0,\"ticks\":\"\"}}}],\"scatterternary\":[{\"type\":\"scatterternary\",\"marker\":{\"colorbar\":{\"outlinewidth\":0,\"ticks\":\"\"}}}],\"scattercarpet\":[{\"type\":\"scattercarpet\",\"marker\":{\"colorbar\":{\"outlinewidth\":0,\"ticks\":\"\"}}}],\"carpet\":[{\"aaxis\":{\"endlinecolor\":\"#A2B1C6\",\"gridcolor\":\"#506784\",\"linecolor\":\"#506784\",\"minorgridcolor\":\"#506784\",\"startlinecolor\":\"#A2B1C6\"},\"baxis\":{\"endlinecolor\":\"#A2B1C6\",\"gridcolor\":\"#506784\",\"linecolor\":\"#506784\",\"minorgridcolor\":\"#506784\",\"startlinecolor\":\"#A2B1C6\"},\"type\":\"carpet\"}],\"table\":[{\"cells\":{\"fill\":{\"color\":\"#506784\"},\"line\":{\"color\":\"rgb(17,17,17)\"}},\"header\":{\"fill\":{\"color\":\"#2a3f5f\"},\"line\":{\"color\":\"rgb(17,17,17)\"}},\"type\":\"table\"}],\"barpolar\":[{\"marker\":{\"line\":{\"color\":\"rgb(17,17,17)\",\"width\":0.5},\"pattern\":{\"fillmode\":\"overlay\",\"size\":10,\"solidity\":0.2}},\"type\":\"barpolar\"}],\"pie\":[{\"automargin\":true,\"type\":\"pie\"}]},\"layout\":{\"autotypenumbers\":\"strict\",\"colorway\":[\"#636efa\",\"#EF553B\",\"#00cc96\",\"#ab63fa\",\"#FFA15A\",\"#19d3f3\",\"#FF6692\",\"#B6E880\",\"#FF97FF\",\"#FECB52\"],\"font\":{\"color\":\"#f2f5fa\"},\"hovermode\":\"closest\",\"hoverlabel\":{\"align\":\"left\"},\"paper_bgcolor\":\"rgb(17,17,17)\",\"plot_bgcolor\":\"rgb(17,17,17)\",\"polar\":{\"bgcolor\":\"rgb(17,17,17)\",\"angularaxis\":{\"gridcolor\":\"#506784\",\"linecolor\":\"#506784\",\"ticks\":\"\"},\"radialaxis\":{\"gridcolor\":\"#506784\",\"linecolor\":\"#506784\",\"ticks\":\"\"}},\"ternary\":{\"bgcolor\":\"rgb(17,17,17)\",\"aaxis\":{\"gridcolor\":\"#506784\",\"linecolor\":\"#506784\",\"ticks\":\"\"},\"baxis\":{\"gridcolor\":\"#506784\",\"linecolor\":\"#506784\",\"ticks\":\"\"},\"caxis\":{\"gridcolor\":\"#506784\",\"linecolor\":\"#506784\",\"ticks\":\"\"}},\"coloraxis\":{\"colorbar\":{\"outlinewidth\":0,\"ticks\":\"\"}},\"colorscale\":{\"sequential\":[[0.0,\"#0d0887\"],[0.1111111111111111,\"#46039f\"],[0.2222222222222222,\"#7201a8\"],[0.3333333333333333,\"#9c179e\"],[0.4444444444444444,\"#bd3786\"],[0.5555555555555556,\"#d8576b\"],[0.6666666666666666,\"#ed7953\"],[0.7777777777777778,\"#fb9f3a\"],[0.8888888888888888,\"#fdca26\"],[1.0,\"#f0f921\"]],\"sequentialminus\":[[0.0,\"#0d0887\"],[0.1111111111111111,\"#46039f\"],[0.2222222222222222,\"#7201a8\"],[0.3333333333333333,\"#9c179e\"],[0.4444444444444444,\"#bd3786\"],[0.5555555555555556,\"#d8576b\"],[0.6666666666666666,\"#ed7953\"],[0.7777777777777778,\"#fb9f3a\"],[0.8888888888888888,\"#fdca26\"],[1.0,\"#f0f921\"]],\"diverging\":[[0,\"#8e0152\"],[0.1,\"#c51b7d\"],[0.2,\"#de77ae\"],[0.3,\"#f1b6da\"],[0.4,\"#fde0ef\"],[0.5,\"#f7f7f7\"],[0.6,\"#e6f5d0\"],[0.7,\"#b8e186\"],[0.8,\"#7fbc41\"],[0.9,\"#4d9221\"],[1,\"#276419\"]]},\"xaxis\":{\"gridcolor\":\"#283442\",\"linecolor\":\"#506784\",\"ticks\":\"\",\"title\":{\"standoff\":15},\"zerolinecolor\":\"#283442\",\"automargin\":true,\"zerolinewidth\":2},\"yaxis\":{\"gridcolor\":\"#283442\",\"linecolor\":\"#506784\",\"ticks\":\"\",\"title\":{\"standoff\":15},\"zerolinecolor\":\"#283442\",\"automargin\":true,\"zerolinewidth\":2},\"scene\":{\"xaxis\":{\"backgroundcolor\":\"rgb(17,17,17)\",\"gridcolor\":\"#506784\",\"linecolor\":\"#506784\",\"showbackground\":true,\"ticks\":\"\",\"zerolinecolor\":\"#C8D4E3\",\"gridwidth\":2},\"yaxis\":{\"backgroundcolor\":\"rgb(17,17,17)\",\"gridcolor\":\"#506784\",\"linecolor\":\"#506784\",\"showbackground\":true,\"ticks\":\"\",\"zerolinecolor\":\"#C8D4E3\",\"gridwidth\":2},\"zaxis\":{\"backgroundcolor\":\"rgb(17,17,17)\",\"gridcolor\":\"#506784\",\"linecolor\":\"#506784\",\"showbackground\":true,\"ticks\":\"\",\"zerolinecolor\":\"#C8D4E3\",\"gridwidth\":2}},\"shapedefaults\":{\"line\":{\"color\":\"#f2f5fa\"}},\"annotationdefaults\":{\"arrowcolor\":\"#f2f5fa\",\"arrowhead\":0,\"arrowwidth\":1},\"geo\":{\"bgcolor\":\"rgb(17,17,17)\",\"landcolor\":\"rgb(17,17,17)\",\"subunitcolor\":\"#506784\",\"showland\":true,\"showlakes\":true,\"lakecolor\":\"rgb(17,17,17)\"},\"title\":{\"x\":0.05},\"updatemenudefaults\":{\"bgcolor\":\"#506784\",\"borderwidth\":0},\"sliderdefaults\":{\"bgcolor\":\"#C8D4E3\",\"borderwidth\":1,\"bordercolor\":\"rgb(17,17,17)\",\"tickwidth\":0},\"mapbox\":{\"style\":\"dark\"}}},\"legend\":{\"tracegroupgap\":0},\"title\":{\"text\":\"Content Rating\"},\"height\":500,\"width\":800},                        {\"responsive\": true}                    ).then(function(){\n                            \nvar gd = document.getElementById('dbccfcfc-b8b1-4a2d-b8d0-0f81e92ac552');\nvar x = new MutationObserver(function (mutations, observer) {{\n        var display = window.getComputedStyle(gd).display;\n        if (!display || display === 'none') {{\n            console.log([gd, 'removed!']);\n            Plotly.purge(gd);\n            observer.disconnect();\n        }}\n}});\n\n// Listen for the removal of the full notebook cells\nvar notebookContainer = gd.closest('#notebook-container');\nif (notebookContainer) {{\n    x.observe(notebookContainer, {childList: true});\n}}\n\n// Listen for the clearing of the current output cell\nvar outputEl = gd.closest('.output');\nif (outputEl) {{\n    x.observe(outputEl, {childList: true});\n}}\n\n                        })                };                });            </script>        </div>"
     },
     "metadata": {},
     "output_type": "display_data"
    }
   ]
  },
  {
   "cell_type": "code",
   "metadata": {
    "id": "6ZaHYNy2oFEE",
    "ExecuteTime": {
     "end_time": "2023-10-13T09:59:11.063150Z",
     "start_time": "2023-10-13T09:59:07.344200700Z"
    }
   },
   "source": [],
   "execution_count": 267,
   "outputs": []
  },
  {
   "cell_type": "markdown",
   "metadata": {
    "id": "RoPpW37xdiUm"
   },
   "source": [
    "# Numeric Type Conversion: Examine the Number of Installs\n",
    "\n",
    "**Challenge**: How many apps had over 1 billion (that's right - BILLION) installations? How many apps just had a single install? \n",
    "\n",
    "Check the datatype of the Installs column.\n",
    "\n",
    "Count the number of apps at each level of installations. \n",
    "\n",
    "Convert the number of installations (the Installs column) to a numeric data type. Hint: this is a 2-step process. You'll have make sure you remove non-numeric characters first. "
   ]
  },
  {
   "cell_type": "code",
   "metadata": {
    "id": "uTNyWsPboJLq",
    "ExecuteTime": {
     "end_time": "2023-10-13T09:59:11.063150Z",
     "start_time": "2023-10-13T09:59:07.360107200Z"
    }
   },
   "source": [
    "type(df_apps_clean.Installs.values[0])"
   ],
   "execution_count": 268,
   "outputs": [
    {
     "data": {
      "text/plain": "str"
     },
     "execution_count": 268,
     "metadata": {},
     "output_type": "execute_result"
    }
   ]
  },
  {
   "cell_type": "code",
   "metadata": {
    "id": "yzR49fYcoJRI",
    "ExecuteTime": {
     "end_time": "2023-10-13T09:59:11.063150Z",
     "start_time": "2023-10-13T09:59:07.371121200Z"
    }
   },
   "source": [
    "df_apps_clean.Installs = pd.to_numeric(df_apps_clean.Installs.str.replace(\",\", \"\"))"
   ],
   "execution_count": 269,
   "outputs": [
    {
     "name": "stderr",
     "output_type": "stream",
     "text": [
      "C:\\Users\\gerar\\AppData\\Local\\Temp\\ipykernel_14064\\630864278.py:1: SettingWithCopyWarning:\n",
      "\n",
      "\n",
      "A value is trying to be set on a copy of a slice from a DataFrame.\n",
      "Try using .loc[row_indexer,col_indexer] = value instead\n",
      "\n",
      "See the caveats in the documentation: https://pandas.pydata.org/pandas-docs/stable/user_guide/indexing.html#returning-a-view-versus-a-copy\n",
      "\n"
     ]
    }
   ]
  },
  {
   "cell_type": "code",
   "metadata": {
    "id": "cFjptR-JoJOE",
    "ExecuteTime": {
     "end_time": "2023-10-13T09:59:11.125642100Z",
     "start_time": "2023-10-13T09:59:07.412116800Z"
    }
   },
   "source": [
    "df_apps_clean"
   ],
   "execution_count": 270,
   "outputs": [
    {
     "data": {
      "text/plain": "                                                   App            Category  \\\n21                                 KBA-EZ Health Guide             MEDICAL   \n28                                            Ra Ga Ba                GAME   \n47                                             Mu.F.O.                GAME   \n82                                    Brick Breaker BR                GAME   \n99     Anatomy & Physiology Vocabulary Exam Review App             MEDICAL   \n...                                                ...                 ...   \n10824                                     Google Drive        PRODUCTIVITY   \n10828                                          YouTube       VIDEO_PLAYERS   \n10829                          Google Play Movies & TV       VIDEO_PLAYERS   \n10831                                      Google News  NEWS_AND_MAGAZINES   \n10835                                   Subway Surfers                GAME   \n\n       Rating   Reviews  Size_MBs    Installs  Type  Price Content_Rating  \\\n21       5.00         4     25.00           1  Free      0       Everyone   \n28       5.00         2     20.00           1  Paid  $1.49       Everyone   \n47       5.00         2     16.00           1  Paid  $0.99       Everyone   \n82       5.00         7     19.00           5  Free      0       Everyone   \n99       5.00         1      4.60           5  Free      0       Everyone   \n...       ...       ...       ...         ...   ...    ...            ...   \n10824    4.40   2731171      4.00  1000000000  Free      0       Everyone   \n10828    4.30  25655305      4.65  1000000000  Free      0           Teen   \n10829    3.70    906384      4.65  1000000000  Free      0           Teen   \n10831    3.90    877635     13.00  1000000000  Free      0           Teen   \n10835    4.50  27722264     76.00  1000000000  Free      0   Everyone 10+   \n\n                        Genres  \n21                     Medical  \n28                      Arcade  \n47                      Arcade  \n82                      Arcade  \n99                     Medical  \n...                        ...  \n10824             Productivity  \n10828  Video Players & Editors  \n10829  Video Players & Editors  \n10831         News & Magazines  \n10835                   Arcade  \n\n[8197 rows x 10 columns]",
      "text/html": "<div>\n<style scoped>\n    .dataframe tbody tr th:only-of-type {\n        vertical-align: middle;\n    }\n\n    .dataframe tbody tr th {\n        vertical-align: top;\n    }\n\n    .dataframe thead th {\n        text-align: right;\n    }\n</style>\n<table border=\"1\" class=\"dataframe\">\n  <thead>\n    <tr style=\"text-align: right;\">\n      <th></th>\n      <th>App</th>\n      <th>Category</th>\n      <th>Rating</th>\n      <th>Reviews</th>\n      <th>Size_MBs</th>\n      <th>Installs</th>\n      <th>Type</th>\n      <th>Price</th>\n      <th>Content_Rating</th>\n      <th>Genres</th>\n    </tr>\n  </thead>\n  <tbody>\n    <tr>\n      <th>21</th>\n      <td>KBA-EZ Health Guide</td>\n      <td>MEDICAL</td>\n      <td>5.00</td>\n      <td>4</td>\n      <td>25.00</td>\n      <td>1</td>\n      <td>Free</td>\n      <td>0</td>\n      <td>Everyone</td>\n      <td>Medical</td>\n    </tr>\n    <tr>\n      <th>28</th>\n      <td>Ra Ga Ba</td>\n      <td>GAME</td>\n      <td>5.00</td>\n      <td>2</td>\n      <td>20.00</td>\n      <td>1</td>\n      <td>Paid</td>\n      <td>$1.49</td>\n      <td>Everyone</td>\n      <td>Arcade</td>\n    </tr>\n    <tr>\n      <th>47</th>\n      <td>Mu.F.O.</td>\n      <td>GAME</td>\n      <td>5.00</td>\n      <td>2</td>\n      <td>16.00</td>\n      <td>1</td>\n      <td>Paid</td>\n      <td>$0.99</td>\n      <td>Everyone</td>\n      <td>Arcade</td>\n    </tr>\n    <tr>\n      <th>82</th>\n      <td>Brick Breaker BR</td>\n      <td>GAME</td>\n      <td>5.00</td>\n      <td>7</td>\n      <td>19.00</td>\n      <td>5</td>\n      <td>Free</td>\n      <td>0</td>\n      <td>Everyone</td>\n      <td>Arcade</td>\n    </tr>\n    <tr>\n      <th>99</th>\n      <td>Anatomy &amp; Physiology Vocabulary Exam Review App</td>\n      <td>MEDICAL</td>\n      <td>5.00</td>\n      <td>1</td>\n      <td>4.60</td>\n      <td>5</td>\n      <td>Free</td>\n      <td>0</td>\n      <td>Everyone</td>\n      <td>Medical</td>\n    </tr>\n    <tr>\n      <th>...</th>\n      <td>...</td>\n      <td>...</td>\n      <td>...</td>\n      <td>...</td>\n      <td>...</td>\n      <td>...</td>\n      <td>...</td>\n      <td>...</td>\n      <td>...</td>\n      <td>...</td>\n    </tr>\n    <tr>\n      <th>10824</th>\n      <td>Google Drive</td>\n      <td>PRODUCTIVITY</td>\n      <td>4.40</td>\n      <td>2731171</td>\n      <td>4.00</td>\n      <td>1000000000</td>\n      <td>Free</td>\n      <td>0</td>\n      <td>Everyone</td>\n      <td>Productivity</td>\n    </tr>\n    <tr>\n      <th>10828</th>\n      <td>YouTube</td>\n      <td>VIDEO_PLAYERS</td>\n      <td>4.30</td>\n      <td>25655305</td>\n      <td>4.65</td>\n      <td>1000000000</td>\n      <td>Free</td>\n      <td>0</td>\n      <td>Teen</td>\n      <td>Video Players &amp; Editors</td>\n    </tr>\n    <tr>\n      <th>10829</th>\n      <td>Google Play Movies &amp; TV</td>\n      <td>VIDEO_PLAYERS</td>\n      <td>3.70</td>\n      <td>906384</td>\n      <td>4.65</td>\n      <td>1000000000</td>\n      <td>Free</td>\n      <td>0</td>\n      <td>Teen</td>\n      <td>Video Players &amp; Editors</td>\n    </tr>\n    <tr>\n      <th>10831</th>\n      <td>Google News</td>\n      <td>NEWS_AND_MAGAZINES</td>\n      <td>3.90</td>\n      <td>877635</td>\n      <td>13.00</td>\n      <td>1000000000</td>\n      <td>Free</td>\n      <td>0</td>\n      <td>Teen</td>\n      <td>News &amp; Magazines</td>\n    </tr>\n    <tr>\n      <th>10835</th>\n      <td>Subway Surfers</td>\n      <td>GAME</td>\n      <td>4.50</td>\n      <td>27722264</td>\n      <td>76.00</td>\n      <td>1000000000</td>\n      <td>Free</td>\n      <td>0</td>\n      <td>Everyone 10+</td>\n      <td>Arcade</td>\n    </tr>\n  </tbody>\n</table>\n<p>8197 rows × 10 columns</p>\n</div>"
     },
     "execution_count": 270,
     "metadata": {},
     "output_type": "execute_result"
    }
   ]
  },
  {
   "cell_type": "code",
   "metadata": {
    "id": "8AMmxKHgoJGT",
    "ExecuteTime": {
     "end_time": "2023-10-13T09:59:11.141750700Z",
     "start_time": "2023-10-13T09:59:07.471051100Z"
    }
   },
   "source": [
    "df_apps_clean[df_apps_clean.Installs >= 1000000000]"
   ],
   "execution_count": 271,
   "outputs": [
    {
     "data": {
      "text/plain": "                                            App             Category  Rating  \\\n10783                         Google Play Books  BOOKS_AND_REFERENCE    3.90   \n10784  Messenger – Text and Video Chat for Free        COMMUNICATION    4.00   \n10785                        WhatsApp Messenger        COMMUNICATION    4.40   \n10786              Google Chrome: Fast & Secure        COMMUNICATION    4.30   \n10787                                     Gmail        COMMUNICATION    4.30   \n10788                                  Hangouts        COMMUNICATION    4.00   \n10792             Skype - free IM & video calls        COMMUNICATION    4.10   \n10803                         Google Play Games        ENTERTAINMENT    4.30   \n10805                                  Facebook               SOCIAL    4.10   \n10806                                 Instagram               SOCIAL    4.50   \n10807                                   Google+               SOCIAL    4.20   \n10813                             Google Photos          PHOTOGRAPHY    4.50   \n10817                 Maps - Navigate & Explore     TRAVEL_AND_LOCAL    4.30   \n10818                        Google Street View     TRAVEL_AND_LOCAL    4.20   \n10822                                    Google                TOOLS    4.40   \n10824                              Google Drive         PRODUCTIVITY    4.40   \n10828                                   YouTube        VIDEO_PLAYERS    4.30   \n10829                   Google Play Movies & TV        VIDEO_PLAYERS    3.70   \n10831                               Google News   NEWS_AND_MAGAZINES    3.90   \n10835                            Subway Surfers                 GAME    4.50   \n\n        Reviews  Size_MBs    Installs  Type Price Content_Rating  \\\n10783   1433233      5.70  1000000000  Free     0           Teen   \n10784  56642847      3.50  1000000000  Free     0       Everyone   \n10785  69119316      3.50  1000000000  Free     0       Everyone   \n10786   9642995      3.50  1000000000  Free     0       Everyone   \n10787   4604324      3.50  1000000000  Free     0       Everyone   \n10788   3419249      3.50  1000000000  Free     0       Everyone   \n10792  10484169      3.50  1000000000  Free     0       Everyone   \n10803   7165362      9.35  1000000000  Free     0           Teen   \n10805  78158306      5.30  1000000000  Free     0           Teen   \n10806  66577313      5.30  1000000000  Free     0           Teen   \n10807   4831125      5.30  1000000000  Free     0           Teen   \n10813  10858556      6.90  1000000000  Free     0       Everyone   \n10817   9235155     12.00  1000000000  Free     0       Everyone   \n10818   2129689     12.00  1000000000  Free     0       Everyone   \n10822   8033493      3.40  1000000000  Free     0       Everyone   \n10824   2731171      4.00  1000000000  Free     0       Everyone   \n10828  25655305      4.65  1000000000  Free     0           Teen   \n10829    906384      4.65  1000000000  Free     0           Teen   \n10831    877635     13.00  1000000000  Free     0           Teen   \n10835  27722264     76.00  1000000000  Free     0   Everyone 10+   \n\n                        Genres  \n10783        Books & Reference  \n10784            Communication  \n10785            Communication  \n10786            Communication  \n10787            Communication  \n10788            Communication  \n10792            Communication  \n10803            Entertainment  \n10805                   Social  \n10806                   Social  \n10807                   Social  \n10813              Photography  \n10817           Travel & Local  \n10818           Travel & Local  \n10822                    Tools  \n10824             Productivity  \n10828  Video Players & Editors  \n10829  Video Players & Editors  \n10831         News & Magazines  \n10835                   Arcade  ",
      "text/html": "<div>\n<style scoped>\n    .dataframe tbody tr th:only-of-type {\n        vertical-align: middle;\n    }\n\n    .dataframe tbody tr th {\n        vertical-align: top;\n    }\n\n    .dataframe thead th {\n        text-align: right;\n    }\n</style>\n<table border=\"1\" class=\"dataframe\">\n  <thead>\n    <tr style=\"text-align: right;\">\n      <th></th>\n      <th>App</th>\n      <th>Category</th>\n      <th>Rating</th>\n      <th>Reviews</th>\n      <th>Size_MBs</th>\n      <th>Installs</th>\n      <th>Type</th>\n      <th>Price</th>\n      <th>Content_Rating</th>\n      <th>Genres</th>\n    </tr>\n  </thead>\n  <tbody>\n    <tr>\n      <th>10783</th>\n      <td>Google Play Books</td>\n      <td>BOOKS_AND_REFERENCE</td>\n      <td>3.90</td>\n      <td>1433233</td>\n      <td>5.70</td>\n      <td>1000000000</td>\n      <td>Free</td>\n      <td>0</td>\n      <td>Teen</td>\n      <td>Books &amp; Reference</td>\n    </tr>\n    <tr>\n      <th>10784</th>\n      <td>Messenger – Text and Video Chat for Free</td>\n      <td>COMMUNICATION</td>\n      <td>4.00</td>\n      <td>56642847</td>\n      <td>3.50</td>\n      <td>1000000000</td>\n      <td>Free</td>\n      <td>0</td>\n      <td>Everyone</td>\n      <td>Communication</td>\n    </tr>\n    <tr>\n      <th>10785</th>\n      <td>WhatsApp Messenger</td>\n      <td>COMMUNICATION</td>\n      <td>4.40</td>\n      <td>69119316</td>\n      <td>3.50</td>\n      <td>1000000000</td>\n      <td>Free</td>\n      <td>0</td>\n      <td>Everyone</td>\n      <td>Communication</td>\n    </tr>\n    <tr>\n      <th>10786</th>\n      <td>Google Chrome: Fast &amp; Secure</td>\n      <td>COMMUNICATION</td>\n      <td>4.30</td>\n      <td>9642995</td>\n      <td>3.50</td>\n      <td>1000000000</td>\n      <td>Free</td>\n      <td>0</td>\n      <td>Everyone</td>\n      <td>Communication</td>\n    </tr>\n    <tr>\n      <th>10787</th>\n      <td>Gmail</td>\n      <td>COMMUNICATION</td>\n      <td>4.30</td>\n      <td>4604324</td>\n      <td>3.50</td>\n      <td>1000000000</td>\n      <td>Free</td>\n      <td>0</td>\n      <td>Everyone</td>\n      <td>Communication</td>\n    </tr>\n    <tr>\n      <th>10788</th>\n      <td>Hangouts</td>\n      <td>COMMUNICATION</td>\n      <td>4.00</td>\n      <td>3419249</td>\n      <td>3.50</td>\n      <td>1000000000</td>\n      <td>Free</td>\n      <td>0</td>\n      <td>Everyone</td>\n      <td>Communication</td>\n    </tr>\n    <tr>\n      <th>10792</th>\n      <td>Skype - free IM &amp; video calls</td>\n      <td>COMMUNICATION</td>\n      <td>4.10</td>\n      <td>10484169</td>\n      <td>3.50</td>\n      <td>1000000000</td>\n      <td>Free</td>\n      <td>0</td>\n      <td>Everyone</td>\n      <td>Communication</td>\n    </tr>\n    <tr>\n      <th>10803</th>\n      <td>Google Play Games</td>\n      <td>ENTERTAINMENT</td>\n      <td>4.30</td>\n      <td>7165362</td>\n      <td>9.35</td>\n      <td>1000000000</td>\n      <td>Free</td>\n      <td>0</td>\n      <td>Teen</td>\n      <td>Entertainment</td>\n    </tr>\n    <tr>\n      <th>10805</th>\n      <td>Facebook</td>\n      <td>SOCIAL</td>\n      <td>4.10</td>\n      <td>78158306</td>\n      <td>5.30</td>\n      <td>1000000000</td>\n      <td>Free</td>\n      <td>0</td>\n      <td>Teen</td>\n      <td>Social</td>\n    </tr>\n    <tr>\n      <th>10806</th>\n      <td>Instagram</td>\n      <td>SOCIAL</td>\n      <td>4.50</td>\n      <td>66577313</td>\n      <td>5.30</td>\n      <td>1000000000</td>\n      <td>Free</td>\n      <td>0</td>\n      <td>Teen</td>\n      <td>Social</td>\n    </tr>\n    <tr>\n      <th>10807</th>\n      <td>Google+</td>\n      <td>SOCIAL</td>\n      <td>4.20</td>\n      <td>4831125</td>\n      <td>5.30</td>\n      <td>1000000000</td>\n      <td>Free</td>\n      <td>0</td>\n      <td>Teen</td>\n      <td>Social</td>\n    </tr>\n    <tr>\n      <th>10813</th>\n      <td>Google Photos</td>\n      <td>PHOTOGRAPHY</td>\n      <td>4.50</td>\n      <td>10858556</td>\n      <td>6.90</td>\n      <td>1000000000</td>\n      <td>Free</td>\n      <td>0</td>\n      <td>Everyone</td>\n      <td>Photography</td>\n    </tr>\n    <tr>\n      <th>10817</th>\n      <td>Maps - Navigate &amp; Explore</td>\n      <td>TRAVEL_AND_LOCAL</td>\n      <td>4.30</td>\n      <td>9235155</td>\n      <td>12.00</td>\n      <td>1000000000</td>\n      <td>Free</td>\n      <td>0</td>\n      <td>Everyone</td>\n      <td>Travel &amp; Local</td>\n    </tr>\n    <tr>\n      <th>10818</th>\n      <td>Google Street View</td>\n      <td>TRAVEL_AND_LOCAL</td>\n      <td>4.20</td>\n      <td>2129689</td>\n      <td>12.00</td>\n      <td>1000000000</td>\n      <td>Free</td>\n      <td>0</td>\n      <td>Everyone</td>\n      <td>Travel &amp; Local</td>\n    </tr>\n    <tr>\n      <th>10822</th>\n      <td>Google</td>\n      <td>TOOLS</td>\n      <td>4.40</td>\n      <td>8033493</td>\n      <td>3.40</td>\n      <td>1000000000</td>\n      <td>Free</td>\n      <td>0</td>\n      <td>Everyone</td>\n      <td>Tools</td>\n    </tr>\n    <tr>\n      <th>10824</th>\n      <td>Google Drive</td>\n      <td>PRODUCTIVITY</td>\n      <td>4.40</td>\n      <td>2731171</td>\n      <td>4.00</td>\n      <td>1000000000</td>\n      <td>Free</td>\n      <td>0</td>\n      <td>Everyone</td>\n      <td>Productivity</td>\n    </tr>\n    <tr>\n      <th>10828</th>\n      <td>YouTube</td>\n      <td>VIDEO_PLAYERS</td>\n      <td>4.30</td>\n      <td>25655305</td>\n      <td>4.65</td>\n      <td>1000000000</td>\n      <td>Free</td>\n      <td>0</td>\n      <td>Teen</td>\n      <td>Video Players &amp; Editors</td>\n    </tr>\n    <tr>\n      <th>10829</th>\n      <td>Google Play Movies &amp; TV</td>\n      <td>VIDEO_PLAYERS</td>\n      <td>3.70</td>\n      <td>906384</td>\n      <td>4.65</td>\n      <td>1000000000</td>\n      <td>Free</td>\n      <td>0</td>\n      <td>Teen</td>\n      <td>Video Players &amp; Editors</td>\n    </tr>\n    <tr>\n      <th>10831</th>\n      <td>Google News</td>\n      <td>NEWS_AND_MAGAZINES</td>\n      <td>3.90</td>\n      <td>877635</td>\n      <td>13.00</td>\n      <td>1000000000</td>\n      <td>Free</td>\n      <td>0</td>\n      <td>Teen</td>\n      <td>News &amp; Magazines</td>\n    </tr>\n    <tr>\n      <th>10835</th>\n      <td>Subway Surfers</td>\n      <td>GAME</td>\n      <td>4.50</td>\n      <td>27722264</td>\n      <td>76.00</td>\n      <td>1000000000</td>\n      <td>Free</td>\n      <td>0</td>\n      <td>Everyone 10+</td>\n      <td>Arcade</td>\n    </tr>\n  </tbody>\n</table>\n</div>"
     },
     "execution_count": 271,
     "metadata": {},
     "output_type": "execute_result"
    }
   ]
  },
  {
   "cell_type": "markdown",
   "metadata": {
    "id": "7T4sfNpFdiUv"
   },
   "source": [
    "# Find the Most Expensive Apps, Filter out the Junk, and Calculate a (ballpark) Sales Revenue Estimate\n",
    "\n",
    "Let's examine the Price column more closely.\n",
    "\n",
    "**Challenge**: Convert the price column to numeric data. Then investigate the top 20 most expensive apps in the dataset.\n",
    "\n",
    "Remove all apps that cost more than $250 from the `df_apps_clean` DataFrame.\n",
    "\n",
    "Add a column called 'Revenue_Estimate' to the DataFrame. This column should hold the price of the app times the number of installs. What are the top 10 highest grossing paid apps according to this estimate? Out of the top 10 highest grossing paid apps, how many are games?\n"
   ]
  },
  {
   "cell_type": "code",
   "metadata": {
    "id": "CqhX2WCJoQEp",
    "ExecuteTime": {
     "end_time": "2023-10-13T09:59:11.141750700Z",
     "start_time": "2023-10-13T09:59:07.505740800Z"
    }
   },
   "source": [
    "df_apps_clean.Price = pd.to_numeric(df_apps_clean.Price.str.replace(\"$\", \"\"))"
   ],
   "execution_count": 272,
   "outputs": [
    {
     "name": "stderr",
     "output_type": "stream",
     "text": [
      "C:\\Users\\gerar\\AppData\\Local\\Temp\\ipykernel_14064\\1705227815.py:1: SettingWithCopyWarning:\n",
      "\n",
      "\n",
      "A value is trying to be set on a copy of a slice from a DataFrame.\n",
      "Try using .loc[row_indexer,col_indexer] = value instead\n",
      "\n",
      "See the caveats in the documentation: https://pandas.pydata.org/pandas-docs/stable/user_guide/indexing.html#returning-a-view-versus-a-copy\n",
      "\n"
     ]
    }
   ]
  },
  {
   "cell_type": "code",
   "execution_count": 273,
   "outputs": [
    {
     "data": {
      "text/plain": "                                  App   Category  Rating   Reviews  Size_MBs  \\\n3946         I'm Rich - Trump Edition  LIFESTYLE    3.60       275      7.30   \n2461               I AM RICH PRO PLUS    FINANCE    4.00        36     41.00   \n1331           most expensive app (H)     FAMILY    4.30         6      1.50   \n5765                        I am rich  LIFESTYLE    3.80      3547      1.80   \n1946   I am rich (Most expensive app)    FINANCE    4.10       129      2.70   \n...                               ...        ...     ...       ...       ...   \n4507                    AK Math Coach     FAMILY    3.60       283     18.00   \n4506             Forgotten Hill: Fall       GAME    4.40      1063     18.00   \n4505                   AE Video Poker       GAME    4.00       721     18.00   \n4504                        AE Jewels       GAME    4.20       960     18.00   \n10835                  Subway Surfers       GAME    4.50  27722264     76.00   \n\n         Installs  Type  Price Content_Rating         Genres  \n3946        10000  Paid 400.00       Everyone      Lifestyle  \n2461         1000  Paid 399.99       Everyone        Finance  \n1331          100  Paid 399.99       Everyone  Entertainment  \n5765       100000  Paid 399.99       Everyone      Lifestyle  \n1946         1000  Paid 399.99           Teen        Finance  \n...           ...   ...    ...            ...            ...  \n4507        50000  Free   0.00       Everyone      Education  \n4506        50000  Free   0.00           Teen      Adventure  \n4505        50000  Free   0.00           Teen         Casino  \n4504        50000  Free   0.00       Everyone         Action  \n10835  1000000000  Free   0.00   Everyone 10+         Arcade  \n\n[8197 rows x 10 columns]",
      "text/html": "<div>\n<style scoped>\n    .dataframe tbody tr th:only-of-type {\n        vertical-align: middle;\n    }\n\n    .dataframe tbody tr th {\n        vertical-align: top;\n    }\n\n    .dataframe thead th {\n        text-align: right;\n    }\n</style>\n<table border=\"1\" class=\"dataframe\">\n  <thead>\n    <tr style=\"text-align: right;\">\n      <th></th>\n      <th>App</th>\n      <th>Category</th>\n      <th>Rating</th>\n      <th>Reviews</th>\n      <th>Size_MBs</th>\n      <th>Installs</th>\n      <th>Type</th>\n      <th>Price</th>\n      <th>Content_Rating</th>\n      <th>Genres</th>\n    </tr>\n  </thead>\n  <tbody>\n    <tr>\n      <th>3946</th>\n      <td>I'm Rich - Trump Edition</td>\n      <td>LIFESTYLE</td>\n      <td>3.60</td>\n      <td>275</td>\n      <td>7.30</td>\n      <td>10000</td>\n      <td>Paid</td>\n      <td>400.00</td>\n      <td>Everyone</td>\n      <td>Lifestyle</td>\n    </tr>\n    <tr>\n      <th>2461</th>\n      <td>I AM RICH PRO PLUS</td>\n      <td>FINANCE</td>\n      <td>4.00</td>\n      <td>36</td>\n      <td>41.00</td>\n      <td>1000</td>\n      <td>Paid</td>\n      <td>399.99</td>\n      <td>Everyone</td>\n      <td>Finance</td>\n    </tr>\n    <tr>\n      <th>1331</th>\n      <td>most expensive app (H)</td>\n      <td>FAMILY</td>\n      <td>4.30</td>\n      <td>6</td>\n      <td>1.50</td>\n      <td>100</td>\n      <td>Paid</td>\n      <td>399.99</td>\n      <td>Everyone</td>\n      <td>Entertainment</td>\n    </tr>\n    <tr>\n      <th>5765</th>\n      <td>I am rich</td>\n      <td>LIFESTYLE</td>\n      <td>3.80</td>\n      <td>3547</td>\n      <td>1.80</td>\n      <td>100000</td>\n      <td>Paid</td>\n      <td>399.99</td>\n      <td>Everyone</td>\n      <td>Lifestyle</td>\n    </tr>\n    <tr>\n      <th>1946</th>\n      <td>I am rich (Most expensive app)</td>\n      <td>FINANCE</td>\n      <td>4.10</td>\n      <td>129</td>\n      <td>2.70</td>\n      <td>1000</td>\n      <td>Paid</td>\n      <td>399.99</td>\n      <td>Teen</td>\n      <td>Finance</td>\n    </tr>\n    <tr>\n      <th>...</th>\n      <td>...</td>\n      <td>...</td>\n      <td>...</td>\n      <td>...</td>\n      <td>...</td>\n      <td>...</td>\n      <td>...</td>\n      <td>...</td>\n      <td>...</td>\n      <td>...</td>\n    </tr>\n    <tr>\n      <th>4507</th>\n      <td>AK Math Coach</td>\n      <td>FAMILY</td>\n      <td>3.60</td>\n      <td>283</td>\n      <td>18.00</td>\n      <td>50000</td>\n      <td>Free</td>\n      <td>0.00</td>\n      <td>Everyone</td>\n      <td>Education</td>\n    </tr>\n    <tr>\n      <th>4506</th>\n      <td>Forgotten Hill: Fall</td>\n      <td>GAME</td>\n      <td>4.40</td>\n      <td>1063</td>\n      <td>18.00</td>\n      <td>50000</td>\n      <td>Free</td>\n      <td>0.00</td>\n      <td>Teen</td>\n      <td>Adventure</td>\n    </tr>\n    <tr>\n      <th>4505</th>\n      <td>AE Video Poker</td>\n      <td>GAME</td>\n      <td>4.00</td>\n      <td>721</td>\n      <td>18.00</td>\n      <td>50000</td>\n      <td>Free</td>\n      <td>0.00</td>\n      <td>Teen</td>\n      <td>Casino</td>\n    </tr>\n    <tr>\n      <th>4504</th>\n      <td>AE Jewels</td>\n      <td>GAME</td>\n      <td>4.20</td>\n      <td>960</td>\n      <td>18.00</td>\n      <td>50000</td>\n      <td>Free</td>\n      <td>0.00</td>\n      <td>Everyone</td>\n      <td>Action</td>\n    </tr>\n    <tr>\n      <th>10835</th>\n      <td>Subway Surfers</td>\n      <td>GAME</td>\n      <td>4.50</td>\n      <td>27722264</td>\n      <td>76.00</td>\n      <td>1000000000</td>\n      <td>Free</td>\n      <td>0.00</td>\n      <td>Everyone 10+</td>\n      <td>Arcade</td>\n    </tr>\n  </tbody>\n</table>\n<p>8197 rows × 10 columns</p>\n</div>"
     },
     "execution_count": 273,
     "metadata": {},
     "output_type": "execute_result"
    }
   ],
   "source": [
    "df_apps_clean.sort_values(\"Price\", ascending=False)"
   ],
   "metadata": {
    "collapsed": false,
    "ExecuteTime": {
     "end_time": "2023-10-13T09:59:11.141750700Z",
     "start_time": "2023-10-13T09:59:07.533571900Z"
    }
   }
  },
  {
   "cell_type": "markdown",
   "metadata": {
    "id": "Rgposh-CdiU4"
   },
   "source": [
    "### The most expensive apps sub $250"
   ]
  },
  {
   "cell_type": "code",
   "metadata": {
    "id": "c8_n8z8XoUML",
    "ExecuteTime": {
     "end_time": "2023-10-13T09:59:11.141750700Z",
     "start_time": "2023-10-13T09:59:07.562191100Z"
    }
   },
   "source": [
    "df_apps_clean = df_apps_clean[df_apps_clean.Price < 250]"
   ],
   "execution_count": 274,
   "outputs": []
  },
  {
   "cell_type": "code",
   "execution_count": 275,
   "outputs": [
    {
     "data": {
      "text/plain": "                            App Category  Rating  Reviews  Size_MBs  Installs  \\\n2281  Vargo Anesthesia Mega App  MEDICAL    4.60       92     32.00      1000   \n\n      Type  Price Content_Rating   Genres  \n2281  Paid  79.99       Everyone  Medical  ",
      "text/html": "<div>\n<style scoped>\n    .dataframe tbody tr th:only-of-type {\n        vertical-align: middle;\n    }\n\n    .dataframe tbody tr th {\n        vertical-align: top;\n    }\n\n    .dataframe thead th {\n        text-align: right;\n    }\n</style>\n<table border=\"1\" class=\"dataframe\">\n  <thead>\n    <tr style=\"text-align: right;\">\n      <th></th>\n      <th>App</th>\n      <th>Category</th>\n      <th>Rating</th>\n      <th>Reviews</th>\n      <th>Size_MBs</th>\n      <th>Installs</th>\n      <th>Type</th>\n      <th>Price</th>\n      <th>Content_Rating</th>\n      <th>Genres</th>\n    </tr>\n  </thead>\n  <tbody>\n    <tr>\n      <th>2281</th>\n      <td>Vargo Anesthesia Mega App</td>\n      <td>MEDICAL</td>\n      <td>4.60</td>\n      <td>92</td>\n      <td>32.00</td>\n      <td>1000</td>\n      <td>Paid</td>\n      <td>79.99</td>\n      <td>Everyone</td>\n      <td>Medical</td>\n    </tr>\n  </tbody>\n</table>\n</div>"
     },
     "execution_count": 275,
     "metadata": {},
     "output_type": "execute_result"
    }
   ],
   "source": [
    "df_apps_clean.sort_values(\"Price\", ascending=False).head(1)"
   ],
   "metadata": {
    "collapsed": false,
    "ExecuteTime": {
     "end_time": "2023-10-13T09:59:11.141750700Z",
     "start_time": "2023-10-13T09:59:07.578357400Z"
    }
   }
  },
  {
   "cell_type": "markdown",
   "metadata": {
    "id": "VGu85CLb4OOH"
   },
   "source": [
    "### Highest Grossing Paid Apps (ballpark estimate)"
   ]
  },
  {
   "cell_type": "code",
   "metadata": {
    "id": "3mDi45iIoVzE",
    "ExecuteTime": {
     "end_time": "2023-10-13T09:59:11.188639Z",
     "start_time": "2023-10-13T09:59:07.609665300Z"
    }
   },
   "source": [
    "df_apps_clean[\"Revenue_Estimate\"] = df_apps_clean.Price * df_apps_clean.Installs\n",
    "df_apps_clean"
   ],
   "execution_count": 276,
   "outputs": [
    {
     "name": "stderr",
     "output_type": "stream",
     "text": [
      "C:\\Users\\gerar\\AppData\\Local\\Temp\\ipykernel_14064\\647316482.py:1: SettingWithCopyWarning:\n",
      "\n",
      "\n",
      "A value is trying to be set on a copy of a slice from a DataFrame.\n",
      "Try using .loc[row_indexer,col_indexer] = value instead\n",
      "\n",
      "See the caveats in the documentation: https://pandas.pydata.org/pandas-docs/stable/user_guide/indexing.html#returning-a-view-versus-a-copy\n",
      "\n"
     ]
    },
    {
     "data": {
      "text/plain": "                                                   App            Category  \\\n21                                 KBA-EZ Health Guide             MEDICAL   \n28                                            Ra Ga Ba                GAME   \n47                                             Mu.F.O.                GAME   \n82                                    Brick Breaker BR                GAME   \n99     Anatomy & Physiology Vocabulary Exam Review App             MEDICAL   \n...                                                ...                 ...   \n10824                                     Google Drive        PRODUCTIVITY   \n10828                                          YouTube       VIDEO_PLAYERS   \n10829                          Google Play Movies & TV       VIDEO_PLAYERS   \n10831                                      Google News  NEWS_AND_MAGAZINES   \n10835                                   Subway Surfers                GAME   \n\n       Rating   Reviews  Size_MBs    Installs  Type  Price Content_Rating  \\\n21       5.00         4     25.00           1  Free   0.00       Everyone   \n28       5.00         2     20.00           1  Paid   1.49       Everyone   \n47       5.00         2     16.00           1  Paid   0.99       Everyone   \n82       5.00         7     19.00           5  Free   0.00       Everyone   \n99       5.00         1      4.60           5  Free   0.00       Everyone   \n...       ...       ...       ...         ...   ...    ...            ...   \n10824    4.40   2731171      4.00  1000000000  Free   0.00       Everyone   \n10828    4.30  25655305      4.65  1000000000  Free   0.00           Teen   \n10829    3.70    906384      4.65  1000000000  Free   0.00           Teen   \n10831    3.90    877635     13.00  1000000000  Free   0.00           Teen   \n10835    4.50  27722264     76.00  1000000000  Free   0.00   Everyone 10+   \n\n                        Genres  Revenue_Estimate  \n21                     Medical              0.00  \n28                      Arcade              1.49  \n47                      Arcade              0.99  \n82                      Arcade              0.00  \n99                     Medical              0.00  \n...                        ...               ...  \n10824             Productivity              0.00  \n10828  Video Players & Editors              0.00  \n10829  Video Players & Editors              0.00  \n10831         News & Magazines              0.00  \n10835                   Arcade              0.00  \n\n[8182 rows x 11 columns]",
      "text/html": "<div>\n<style scoped>\n    .dataframe tbody tr th:only-of-type {\n        vertical-align: middle;\n    }\n\n    .dataframe tbody tr th {\n        vertical-align: top;\n    }\n\n    .dataframe thead th {\n        text-align: right;\n    }\n</style>\n<table border=\"1\" class=\"dataframe\">\n  <thead>\n    <tr style=\"text-align: right;\">\n      <th></th>\n      <th>App</th>\n      <th>Category</th>\n      <th>Rating</th>\n      <th>Reviews</th>\n      <th>Size_MBs</th>\n      <th>Installs</th>\n      <th>Type</th>\n      <th>Price</th>\n      <th>Content_Rating</th>\n      <th>Genres</th>\n      <th>Revenue_Estimate</th>\n    </tr>\n  </thead>\n  <tbody>\n    <tr>\n      <th>21</th>\n      <td>KBA-EZ Health Guide</td>\n      <td>MEDICAL</td>\n      <td>5.00</td>\n      <td>4</td>\n      <td>25.00</td>\n      <td>1</td>\n      <td>Free</td>\n      <td>0.00</td>\n      <td>Everyone</td>\n      <td>Medical</td>\n      <td>0.00</td>\n    </tr>\n    <tr>\n      <th>28</th>\n      <td>Ra Ga Ba</td>\n      <td>GAME</td>\n      <td>5.00</td>\n      <td>2</td>\n      <td>20.00</td>\n      <td>1</td>\n      <td>Paid</td>\n      <td>1.49</td>\n      <td>Everyone</td>\n      <td>Arcade</td>\n      <td>1.49</td>\n    </tr>\n    <tr>\n      <th>47</th>\n      <td>Mu.F.O.</td>\n      <td>GAME</td>\n      <td>5.00</td>\n      <td>2</td>\n      <td>16.00</td>\n      <td>1</td>\n      <td>Paid</td>\n      <td>0.99</td>\n      <td>Everyone</td>\n      <td>Arcade</td>\n      <td>0.99</td>\n    </tr>\n    <tr>\n      <th>82</th>\n      <td>Brick Breaker BR</td>\n      <td>GAME</td>\n      <td>5.00</td>\n      <td>7</td>\n      <td>19.00</td>\n      <td>5</td>\n      <td>Free</td>\n      <td>0.00</td>\n      <td>Everyone</td>\n      <td>Arcade</td>\n      <td>0.00</td>\n    </tr>\n    <tr>\n      <th>99</th>\n      <td>Anatomy &amp; Physiology Vocabulary Exam Review App</td>\n      <td>MEDICAL</td>\n      <td>5.00</td>\n      <td>1</td>\n      <td>4.60</td>\n      <td>5</td>\n      <td>Free</td>\n      <td>0.00</td>\n      <td>Everyone</td>\n      <td>Medical</td>\n      <td>0.00</td>\n    </tr>\n    <tr>\n      <th>...</th>\n      <td>...</td>\n      <td>...</td>\n      <td>...</td>\n      <td>...</td>\n      <td>...</td>\n      <td>...</td>\n      <td>...</td>\n      <td>...</td>\n      <td>...</td>\n      <td>...</td>\n      <td>...</td>\n    </tr>\n    <tr>\n      <th>10824</th>\n      <td>Google Drive</td>\n      <td>PRODUCTIVITY</td>\n      <td>4.40</td>\n      <td>2731171</td>\n      <td>4.00</td>\n      <td>1000000000</td>\n      <td>Free</td>\n      <td>0.00</td>\n      <td>Everyone</td>\n      <td>Productivity</td>\n      <td>0.00</td>\n    </tr>\n    <tr>\n      <th>10828</th>\n      <td>YouTube</td>\n      <td>VIDEO_PLAYERS</td>\n      <td>4.30</td>\n      <td>25655305</td>\n      <td>4.65</td>\n      <td>1000000000</td>\n      <td>Free</td>\n      <td>0.00</td>\n      <td>Teen</td>\n      <td>Video Players &amp; Editors</td>\n      <td>0.00</td>\n    </tr>\n    <tr>\n      <th>10829</th>\n      <td>Google Play Movies &amp; TV</td>\n      <td>VIDEO_PLAYERS</td>\n      <td>3.70</td>\n      <td>906384</td>\n      <td>4.65</td>\n      <td>1000000000</td>\n      <td>Free</td>\n      <td>0.00</td>\n      <td>Teen</td>\n      <td>Video Players &amp; Editors</td>\n      <td>0.00</td>\n    </tr>\n    <tr>\n      <th>10831</th>\n      <td>Google News</td>\n      <td>NEWS_AND_MAGAZINES</td>\n      <td>3.90</td>\n      <td>877635</td>\n      <td>13.00</td>\n      <td>1000000000</td>\n      <td>Free</td>\n      <td>0.00</td>\n      <td>Teen</td>\n      <td>News &amp; Magazines</td>\n      <td>0.00</td>\n    </tr>\n    <tr>\n      <th>10835</th>\n      <td>Subway Surfers</td>\n      <td>GAME</td>\n      <td>4.50</td>\n      <td>27722264</td>\n      <td>76.00</td>\n      <td>1000000000</td>\n      <td>Free</td>\n      <td>0.00</td>\n      <td>Everyone 10+</td>\n      <td>Arcade</td>\n      <td>0.00</td>\n    </tr>\n  </tbody>\n</table>\n<p>8182 rows × 11 columns</p>\n</div>"
     },
     "execution_count": 276,
     "metadata": {},
     "output_type": "execute_result"
    }
   ]
  },
  {
   "cell_type": "code",
   "execution_count": 277,
   "outputs": [
    {
     "data": {
      "text/plain": "                                 App     Category  Rating   Reviews  Size_MBs  \\\n9220                       Minecraft       FAMILY    4.50   2376564     19.00   \n8825                   Hitman Sniper         GAME    4.60    408292     29.00   \n7151   Grand Theft Auto: San Andreas         GAME    4.40    348962     26.00   \n7477             Facetune - For Free  PHOTOGRAPHY    4.40     49553     48.00   \n7977         Sleep as Android Unlock    LIFESTYLE    4.50     23966      0.85   \n...                              ...          ...     ...       ...       ...   \n4507                   AK Math Coach       FAMILY    3.60       283     18.00   \n4506            Forgotten Hill: Fall         GAME    4.40      1063     18.00   \n4505                  AE Video Poker         GAME    4.00       721     18.00   \n4504                       AE Jewels         GAME    4.20       960     18.00   \n10835                 Subway Surfers         GAME    4.50  27722264     76.00   \n\n         Installs  Type  Price Content_Rating                     Genres  \\\n9220     10000000  Paid   6.99   Everyone 10+  Arcade;Action & Adventure   \n8825     10000000  Paid   0.99     Mature 17+                     Action   \n7151      1000000  Paid   6.99     Mature 17+                     Action   \n7477      1000000  Paid   5.99       Everyone                Photography   \n7977      1000000  Paid   5.99       Everyone                  Lifestyle   \n...           ...   ...    ...            ...                        ...   \n4507        50000  Free   0.00       Everyone                  Education   \n4506        50000  Free   0.00           Teen                  Adventure   \n4505        50000  Free   0.00           Teen                     Casino   \n4504        50000  Free   0.00       Everyone                     Action   \n10835  1000000000  Free   0.00   Everyone 10+                     Arcade   \n\n       Revenue_Estimate  \n9220      69,900,000.00  \n8825       9,900,000.00  \n7151       6,990,000.00  \n7477       5,990,000.00  \n7977       5,990,000.00  \n...                 ...  \n4507               0.00  \n4506               0.00  \n4505               0.00  \n4504               0.00  \n10835              0.00  \n\n[8182 rows x 11 columns]",
      "text/html": "<div>\n<style scoped>\n    .dataframe tbody tr th:only-of-type {\n        vertical-align: middle;\n    }\n\n    .dataframe tbody tr th {\n        vertical-align: top;\n    }\n\n    .dataframe thead th {\n        text-align: right;\n    }\n</style>\n<table border=\"1\" class=\"dataframe\">\n  <thead>\n    <tr style=\"text-align: right;\">\n      <th></th>\n      <th>App</th>\n      <th>Category</th>\n      <th>Rating</th>\n      <th>Reviews</th>\n      <th>Size_MBs</th>\n      <th>Installs</th>\n      <th>Type</th>\n      <th>Price</th>\n      <th>Content_Rating</th>\n      <th>Genres</th>\n      <th>Revenue_Estimate</th>\n    </tr>\n  </thead>\n  <tbody>\n    <tr>\n      <th>9220</th>\n      <td>Minecraft</td>\n      <td>FAMILY</td>\n      <td>4.50</td>\n      <td>2376564</td>\n      <td>19.00</td>\n      <td>10000000</td>\n      <td>Paid</td>\n      <td>6.99</td>\n      <td>Everyone 10+</td>\n      <td>Arcade;Action &amp; Adventure</td>\n      <td>69,900,000.00</td>\n    </tr>\n    <tr>\n      <th>8825</th>\n      <td>Hitman Sniper</td>\n      <td>GAME</td>\n      <td>4.60</td>\n      <td>408292</td>\n      <td>29.00</td>\n      <td>10000000</td>\n      <td>Paid</td>\n      <td>0.99</td>\n      <td>Mature 17+</td>\n      <td>Action</td>\n      <td>9,900,000.00</td>\n    </tr>\n    <tr>\n      <th>7151</th>\n      <td>Grand Theft Auto: San Andreas</td>\n      <td>GAME</td>\n      <td>4.40</td>\n      <td>348962</td>\n      <td>26.00</td>\n      <td>1000000</td>\n      <td>Paid</td>\n      <td>6.99</td>\n      <td>Mature 17+</td>\n      <td>Action</td>\n      <td>6,990,000.00</td>\n    </tr>\n    <tr>\n      <th>7477</th>\n      <td>Facetune - For Free</td>\n      <td>PHOTOGRAPHY</td>\n      <td>4.40</td>\n      <td>49553</td>\n      <td>48.00</td>\n      <td>1000000</td>\n      <td>Paid</td>\n      <td>5.99</td>\n      <td>Everyone</td>\n      <td>Photography</td>\n      <td>5,990,000.00</td>\n    </tr>\n    <tr>\n      <th>7977</th>\n      <td>Sleep as Android Unlock</td>\n      <td>LIFESTYLE</td>\n      <td>4.50</td>\n      <td>23966</td>\n      <td>0.85</td>\n      <td>1000000</td>\n      <td>Paid</td>\n      <td>5.99</td>\n      <td>Everyone</td>\n      <td>Lifestyle</td>\n      <td>5,990,000.00</td>\n    </tr>\n    <tr>\n      <th>...</th>\n      <td>...</td>\n      <td>...</td>\n      <td>...</td>\n      <td>...</td>\n      <td>...</td>\n      <td>...</td>\n      <td>...</td>\n      <td>...</td>\n      <td>...</td>\n      <td>...</td>\n      <td>...</td>\n    </tr>\n    <tr>\n      <th>4507</th>\n      <td>AK Math Coach</td>\n      <td>FAMILY</td>\n      <td>3.60</td>\n      <td>283</td>\n      <td>18.00</td>\n      <td>50000</td>\n      <td>Free</td>\n      <td>0.00</td>\n      <td>Everyone</td>\n      <td>Education</td>\n      <td>0.00</td>\n    </tr>\n    <tr>\n      <th>4506</th>\n      <td>Forgotten Hill: Fall</td>\n      <td>GAME</td>\n      <td>4.40</td>\n      <td>1063</td>\n      <td>18.00</td>\n      <td>50000</td>\n      <td>Free</td>\n      <td>0.00</td>\n      <td>Teen</td>\n      <td>Adventure</td>\n      <td>0.00</td>\n    </tr>\n    <tr>\n      <th>4505</th>\n      <td>AE Video Poker</td>\n      <td>GAME</td>\n      <td>4.00</td>\n      <td>721</td>\n      <td>18.00</td>\n      <td>50000</td>\n      <td>Free</td>\n      <td>0.00</td>\n      <td>Teen</td>\n      <td>Casino</td>\n      <td>0.00</td>\n    </tr>\n    <tr>\n      <th>4504</th>\n      <td>AE Jewels</td>\n      <td>GAME</td>\n      <td>4.20</td>\n      <td>960</td>\n      <td>18.00</td>\n      <td>50000</td>\n      <td>Free</td>\n      <td>0.00</td>\n      <td>Everyone</td>\n      <td>Action</td>\n      <td>0.00</td>\n    </tr>\n    <tr>\n      <th>10835</th>\n      <td>Subway Surfers</td>\n      <td>GAME</td>\n      <td>4.50</td>\n      <td>27722264</td>\n      <td>76.00</td>\n      <td>1000000000</td>\n      <td>Free</td>\n      <td>0.00</td>\n      <td>Everyone 10+</td>\n      <td>Arcade</td>\n      <td>0.00</td>\n    </tr>\n  </tbody>\n</table>\n<p>8182 rows × 11 columns</p>\n</div>"
     },
     "execution_count": 277,
     "metadata": {},
     "output_type": "execute_result"
    }
   ],
   "source": [
    "df_apps_clean.sort_values(\"Revenue_Estimate\", ascending=False)"
   ],
   "metadata": {
    "collapsed": false,
    "ExecuteTime": {
     "end_time": "2023-10-13T09:59:11.188639Z",
     "start_time": "2023-10-13T09:59:07.641366400Z"
    }
   }
  },
  {
   "cell_type": "markdown",
   "metadata": {
    "dc": {
     "key": "18"
    },
    "run_control": {
     "frozen": true
    },
    "tags": [
     "context"
    ],
    "id": "lvpM2MyTdiU6"
   },
   "source": [
    "# Plotly Bar Charts & Scatter Plots: Analysing App Categories"
   ]
  },
  {
   "cell_type": "code",
   "metadata": {
    "id": "3L6hK0aLoYxY",
    "ExecuteTime": {
     "end_time": "2023-10-13T09:59:11.188639Z",
     "start_time": "2023-10-13T09:59:07.688219400Z"
    }
   },
   "source": [
    "df_apps_clean.Category.nunique()"
   ],
   "execution_count": 278,
   "outputs": [
    {
     "data": {
      "text/plain": "33"
     },
     "execution_count": 278,
     "metadata": {},
     "output_type": "execute_result"
    }
   ]
  },
  {
   "cell_type": "code",
   "metadata": {
    "id": "mg50Ts9joYz1",
    "ExecuteTime": {
     "end_time": "2023-10-13T09:59:11.188639Z",
     "start_time": "2023-10-13T09:59:07.719918100Z"
    }
   },
   "source": [
    "top10_category = df_apps_clean.Category.value_counts()[:10]"
   ],
   "execution_count": 279,
   "outputs": []
  },
  {
   "cell_type": "markdown",
   "metadata": {
    "id": "0tTurR7qdiU9"
   },
   "source": [
    "### Vertical Bar Chart - Highest Competition (Number of Apps)"
   ]
  },
  {
   "cell_type": "code",
   "metadata": {
    "id": "SFSMH00AoaMB",
    "ExecuteTime": {
     "end_time": "2023-10-13T09:59:11.235755300Z",
     "start_time": "2023-10-13T09:59:07.735788400Z"
    }
   },
   "source": [
    "bar = px.bar(x = top10_category.index, # index = category name\n",
    "             y = top10_category.values)\n",
    " \n",
    "bar.show()"
   ],
   "execution_count": 280,
   "outputs": [
    {
     "data": {
      "application/vnd.plotly.v1+json": {
       "data": [
        {
         "alignmentgroup": "True",
         "hovertemplate": "x=%{x}<br>y=%{y}<extra></extra>",
         "legendgroup": "",
         "marker": {
          "color": "#636efa",
          "pattern": {
           "shape": ""
          }
         },
         "name": "",
         "offsetgroup": "",
         "orientation": "v",
         "showlegend": false,
         "textposition": "auto",
         "x": [
          "FAMILY",
          "GAME",
          "TOOLS",
          "PRODUCTIVITY",
          "PERSONALIZATION",
          "LIFESTYLE",
          "FINANCE",
          "MEDICAL",
          "PHOTOGRAPHY",
          "BUSINESS"
         ],
         "xaxis": "x",
         "y": [
          1606,
          910,
          718,
          301,
          298,
          297,
          296,
          291,
          263,
          262
         ],
         "yaxis": "y",
         "type": "bar"
        }
       ],
       "layout": {
        "template": {
         "data": {
          "histogram2dcontour": [
           {
            "type": "histogram2dcontour",
            "colorbar": {
             "outlinewidth": 0,
             "ticks": ""
            },
            "colorscale": [
             [
              0.0,
              "#0d0887"
             ],
             [
              0.1111111111111111,
              "#46039f"
             ],
             [
              0.2222222222222222,
              "#7201a8"
             ],
             [
              0.3333333333333333,
              "#9c179e"
             ],
             [
              0.4444444444444444,
              "#bd3786"
             ],
             [
              0.5555555555555556,
              "#d8576b"
             ],
             [
              0.6666666666666666,
              "#ed7953"
             ],
             [
              0.7777777777777778,
              "#fb9f3a"
             ],
             [
              0.8888888888888888,
              "#fdca26"
             ],
             [
              1.0,
              "#f0f921"
             ]
            ]
           }
          ],
          "choropleth": [
           {
            "type": "choropleth",
            "colorbar": {
             "outlinewidth": 0,
             "ticks": ""
            }
           }
          ],
          "histogram2d": [
           {
            "type": "histogram2d",
            "colorbar": {
             "outlinewidth": 0,
             "ticks": ""
            },
            "colorscale": [
             [
              0.0,
              "#0d0887"
             ],
             [
              0.1111111111111111,
              "#46039f"
             ],
             [
              0.2222222222222222,
              "#7201a8"
             ],
             [
              0.3333333333333333,
              "#9c179e"
             ],
             [
              0.4444444444444444,
              "#bd3786"
             ],
             [
              0.5555555555555556,
              "#d8576b"
             ],
             [
              0.6666666666666666,
              "#ed7953"
             ],
             [
              0.7777777777777778,
              "#fb9f3a"
             ],
             [
              0.8888888888888888,
              "#fdca26"
             ],
             [
              1.0,
              "#f0f921"
             ]
            ]
           }
          ],
          "heatmap": [
           {
            "type": "heatmap",
            "colorbar": {
             "outlinewidth": 0,
             "ticks": ""
            },
            "colorscale": [
             [
              0.0,
              "#0d0887"
             ],
             [
              0.1111111111111111,
              "#46039f"
             ],
             [
              0.2222222222222222,
              "#7201a8"
             ],
             [
              0.3333333333333333,
              "#9c179e"
             ],
             [
              0.4444444444444444,
              "#bd3786"
             ],
             [
              0.5555555555555556,
              "#d8576b"
             ],
             [
              0.6666666666666666,
              "#ed7953"
             ],
             [
              0.7777777777777778,
              "#fb9f3a"
             ],
             [
              0.8888888888888888,
              "#fdca26"
             ],
             [
              1.0,
              "#f0f921"
             ]
            ]
           }
          ],
          "heatmapgl": [
           {
            "type": "heatmapgl",
            "colorbar": {
             "outlinewidth": 0,
             "ticks": ""
            },
            "colorscale": [
             [
              0.0,
              "#0d0887"
             ],
             [
              0.1111111111111111,
              "#46039f"
             ],
             [
              0.2222222222222222,
              "#7201a8"
             ],
             [
              0.3333333333333333,
              "#9c179e"
             ],
             [
              0.4444444444444444,
              "#bd3786"
             ],
             [
              0.5555555555555556,
              "#d8576b"
             ],
             [
              0.6666666666666666,
              "#ed7953"
             ],
             [
              0.7777777777777778,
              "#fb9f3a"
             ],
             [
              0.8888888888888888,
              "#fdca26"
             ],
             [
              1.0,
              "#f0f921"
             ]
            ]
           }
          ],
          "contourcarpet": [
           {
            "type": "contourcarpet",
            "colorbar": {
             "outlinewidth": 0,
             "ticks": ""
            }
           }
          ],
          "contour": [
           {
            "type": "contour",
            "colorbar": {
             "outlinewidth": 0,
             "ticks": ""
            },
            "colorscale": [
             [
              0.0,
              "#0d0887"
             ],
             [
              0.1111111111111111,
              "#46039f"
             ],
             [
              0.2222222222222222,
              "#7201a8"
             ],
             [
              0.3333333333333333,
              "#9c179e"
             ],
             [
              0.4444444444444444,
              "#bd3786"
             ],
             [
              0.5555555555555556,
              "#d8576b"
             ],
             [
              0.6666666666666666,
              "#ed7953"
             ],
             [
              0.7777777777777778,
              "#fb9f3a"
             ],
             [
              0.8888888888888888,
              "#fdca26"
             ],
             [
              1.0,
              "#f0f921"
             ]
            ]
           }
          ],
          "surface": [
           {
            "type": "surface",
            "colorbar": {
             "outlinewidth": 0,
             "ticks": ""
            },
            "colorscale": [
             [
              0.0,
              "#0d0887"
             ],
             [
              0.1111111111111111,
              "#46039f"
             ],
             [
              0.2222222222222222,
              "#7201a8"
             ],
             [
              0.3333333333333333,
              "#9c179e"
             ],
             [
              0.4444444444444444,
              "#bd3786"
             ],
             [
              0.5555555555555556,
              "#d8576b"
             ],
             [
              0.6666666666666666,
              "#ed7953"
             ],
             [
              0.7777777777777778,
              "#fb9f3a"
             ],
             [
              0.8888888888888888,
              "#fdca26"
             ],
             [
              1.0,
              "#f0f921"
             ]
            ]
           }
          ],
          "mesh3d": [
           {
            "type": "mesh3d",
            "colorbar": {
             "outlinewidth": 0,
             "ticks": ""
            }
           }
          ],
          "scatter": [
           {
            "marker": {
             "line": {
              "color": "#283442"
             }
            },
            "type": "scatter"
           }
          ],
          "parcoords": [
           {
            "type": "parcoords",
            "line": {
             "colorbar": {
              "outlinewidth": 0,
              "ticks": ""
             }
            }
           }
          ],
          "scatterpolargl": [
           {
            "type": "scatterpolargl",
            "marker": {
             "colorbar": {
              "outlinewidth": 0,
              "ticks": ""
             }
            }
           }
          ],
          "bar": [
           {
            "error_x": {
             "color": "#f2f5fa"
            },
            "error_y": {
             "color": "#f2f5fa"
            },
            "marker": {
             "line": {
              "color": "rgb(17,17,17)",
              "width": 0.5
             },
             "pattern": {
              "fillmode": "overlay",
              "size": 10,
              "solidity": 0.2
             }
            },
            "type": "bar"
           }
          ],
          "scattergeo": [
           {
            "type": "scattergeo",
            "marker": {
             "colorbar": {
              "outlinewidth": 0,
              "ticks": ""
             }
            }
           }
          ],
          "scatterpolar": [
           {
            "type": "scatterpolar",
            "marker": {
             "colorbar": {
              "outlinewidth": 0,
              "ticks": ""
             }
            }
           }
          ],
          "histogram": [
           {
            "marker": {
             "pattern": {
              "fillmode": "overlay",
              "size": 10,
              "solidity": 0.2
             }
            },
            "type": "histogram"
           }
          ],
          "scattergl": [
           {
            "marker": {
             "line": {
              "color": "#283442"
             }
            },
            "type": "scattergl"
           }
          ],
          "scatter3d": [
           {
            "type": "scatter3d",
            "line": {
             "colorbar": {
              "outlinewidth": 0,
              "ticks": ""
             }
            },
            "marker": {
             "colorbar": {
              "outlinewidth": 0,
              "ticks": ""
             }
            }
           }
          ],
          "scattermapbox": [
           {
            "type": "scattermapbox",
            "marker": {
             "colorbar": {
              "outlinewidth": 0,
              "ticks": ""
             }
            }
           }
          ],
          "scatterternary": [
           {
            "type": "scatterternary",
            "marker": {
             "colorbar": {
              "outlinewidth": 0,
              "ticks": ""
             }
            }
           }
          ],
          "scattercarpet": [
           {
            "type": "scattercarpet",
            "marker": {
             "colorbar": {
              "outlinewidth": 0,
              "ticks": ""
             }
            }
           }
          ],
          "carpet": [
           {
            "aaxis": {
             "endlinecolor": "#A2B1C6",
             "gridcolor": "#506784",
             "linecolor": "#506784",
             "minorgridcolor": "#506784",
             "startlinecolor": "#A2B1C6"
            },
            "baxis": {
             "endlinecolor": "#A2B1C6",
             "gridcolor": "#506784",
             "linecolor": "#506784",
             "minorgridcolor": "#506784",
             "startlinecolor": "#A2B1C6"
            },
            "type": "carpet"
           }
          ],
          "table": [
           {
            "cells": {
             "fill": {
              "color": "#506784"
             },
             "line": {
              "color": "rgb(17,17,17)"
             }
            },
            "header": {
             "fill": {
              "color": "#2a3f5f"
             },
             "line": {
              "color": "rgb(17,17,17)"
             }
            },
            "type": "table"
           }
          ],
          "barpolar": [
           {
            "marker": {
             "line": {
              "color": "rgb(17,17,17)",
              "width": 0.5
             },
             "pattern": {
              "fillmode": "overlay",
              "size": 10,
              "solidity": 0.2
             }
            },
            "type": "barpolar"
           }
          ],
          "pie": [
           {
            "automargin": true,
            "type": "pie"
           }
          ]
         },
         "layout": {
          "autotypenumbers": "strict",
          "colorway": [
           "#636efa",
           "#EF553B",
           "#00cc96",
           "#ab63fa",
           "#FFA15A",
           "#19d3f3",
           "#FF6692",
           "#B6E880",
           "#FF97FF",
           "#FECB52"
          ],
          "font": {
           "color": "#f2f5fa"
          },
          "hovermode": "closest",
          "hoverlabel": {
           "align": "left"
          },
          "paper_bgcolor": "rgb(17,17,17)",
          "plot_bgcolor": "rgb(17,17,17)",
          "polar": {
           "bgcolor": "rgb(17,17,17)",
           "angularaxis": {
            "gridcolor": "#506784",
            "linecolor": "#506784",
            "ticks": ""
           },
           "radialaxis": {
            "gridcolor": "#506784",
            "linecolor": "#506784",
            "ticks": ""
           }
          },
          "ternary": {
           "bgcolor": "rgb(17,17,17)",
           "aaxis": {
            "gridcolor": "#506784",
            "linecolor": "#506784",
            "ticks": ""
           },
           "baxis": {
            "gridcolor": "#506784",
            "linecolor": "#506784",
            "ticks": ""
           },
           "caxis": {
            "gridcolor": "#506784",
            "linecolor": "#506784",
            "ticks": ""
           }
          },
          "coloraxis": {
           "colorbar": {
            "outlinewidth": 0,
            "ticks": ""
           }
          },
          "colorscale": {
           "sequential": [
            [
             0.0,
             "#0d0887"
            ],
            [
             0.1111111111111111,
             "#46039f"
            ],
            [
             0.2222222222222222,
             "#7201a8"
            ],
            [
             0.3333333333333333,
             "#9c179e"
            ],
            [
             0.4444444444444444,
             "#bd3786"
            ],
            [
             0.5555555555555556,
             "#d8576b"
            ],
            [
             0.6666666666666666,
             "#ed7953"
            ],
            [
             0.7777777777777778,
             "#fb9f3a"
            ],
            [
             0.8888888888888888,
             "#fdca26"
            ],
            [
             1.0,
             "#f0f921"
            ]
           ],
           "sequentialminus": [
            [
             0.0,
             "#0d0887"
            ],
            [
             0.1111111111111111,
             "#46039f"
            ],
            [
             0.2222222222222222,
             "#7201a8"
            ],
            [
             0.3333333333333333,
             "#9c179e"
            ],
            [
             0.4444444444444444,
             "#bd3786"
            ],
            [
             0.5555555555555556,
             "#d8576b"
            ],
            [
             0.6666666666666666,
             "#ed7953"
            ],
            [
             0.7777777777777778,
             "#fb9f3a"
            ],
            [
             0.8888888888888888,
             "#fdca26"
            ],
            [
             1.0,
             "#f0f921"
            ]
           ],
           "diverging": [
            [
             0,
             "#8e0152"
            ],
            [
             0.1,
             "#c51b7d"
            ],
            [
             0.2,
             "#de77ae"
            ],
            [
             0.3,
             "#f1b6da"
            ],
            [
             0.4,
             "#fde0ef"
            ],
            [
             0.5,
             "#f7f7f7"
            ],
            [
             0.6,
             "#e6f5d0"
            ],
            [
             0.7,
             "#b8e186"
            ],
            [
             0.8,
             "#7fbc41"
            ],
            [
             0.9,
             "#4d9221"
            ],
            [
             1,
             "#276419"
            ]
           ]
          },
          "xaxis": {
           "gridcolor": "#283442",
           "linecolor": "#506784",
           "ticks": "",
           "title": {
            "standoff": 15
           },
           "zerolinecolor": "#283442",
           "automargin": true,
           "zerolinewidth": 2
          },
          "yaxis": {
           "gridcolor": "#283442",
           "linecolor": "#506784",
           "ticks": "",
           "title": {
            "standoff": 15
           },
           "zerolinecolor": "#283442",
           "automargin": true,
           "zerolinewidth": 2
          },
          "scene": {
           "xaxis": {
            "backgroundcolor": "rgb(17,17,17)",
            "gridcolor": "#506784",
            "linecolor": "#506784",
            "showbackground": true,
            "ticks": "",
            "zerolinecolor": "#C8D4E3",
            "gridwidth": 2
           },
           "yaxis": {
            "backgroundcolor": "rgb(17,17,17)",
            "gridcolor": "#506784",
            "linecolor": "#506784",
            "showbackground": true,
            "ticks": "",
            "zerolinecolor": "#C8D4E3",
            "gridwidth": 2
           },
           "zaxis": {
            "backgroundcolor": "rgb(17,17,17)",
            "gridcolor": "#506784",
            "linecolor": "#506784",
            "showbackground": true,
            "ticks": "",
            "zerolinecolor": "#C8D4E3",
            "gridwidth": 2
           }
          },
          "shapedefaults": {
           "line": {
            "color": "#f2f5fa"
           }
          },
          "annotationdefaults": {
           "arrowcolor": "#f2f5fa",
           "arrowhead": 0,
           "arrowwidth": 1
          },
          "geo": {
           "bgcolor": "rgb(17,17,17)",
           "landcolor": "rgb(17,17,17)",
           "subunitcolor": "#506784",
           "showland": true,
           "showlakes": true,
           "lakecolor": "rgb(17,17,17)"
          },
          "title": {
           "x": 0.05
          },
          "updatemenudefaults": {
           "bgcolor": "#506784",
           "borderwidth": 0
          },
          "sliderdefaults": {
           "bgcolor": "#C8D4E3",
           "borderwidth": 1,
           "bordercolor": "rgb(17,17,17)",
           "tickwidth": 0
          },
          "mapbox": {
           "style": "dark"
          }
         }
        },
        "xaxis": {
         "anchor": "y",
         "domain": [
          0.0,
          1.0
         ],
         "title": {
          "text": "x"
         }
        },
        "yaxis": {
         "anchor": "x",
         "domain": [
          0.0,
          1.0
         ],
         "title": {
          "text": "y"
         }
        },
        "legend": {
         "tracegroupgap": 0
        },
        "margin": {
         "t": 60
        },
        "barmode": "relative"
       },
       "config": {
        "plotlyServerURL": "https://plot.ly"
       }
      },
      "text/html": "<div>                            <div id=\"aa8202b8-f171-4e31-a379-5385b702ffee\" class=\"plotly-graph-div\" style=\"height:525px; width:100%;\"></div>            <script type=\"text/javascript\">                require([\"plotly\"], function(Plotly) {                    window.PLOTLYENV=window.PLOTLYENV || {};                                    if (document.getElementById(\"aa8202b8-f171-4e31-a379-5385b702ffee\")) {                    Plotly.newPlot(                        \"aa8202b8-f171-4e31-a379-5385b702ffee\",                        [{\"alignmentgroup\":\"True\",\"hovertemplate\":\"x=%{x}\\u003cbr\\u003ey=%{y}\\u003cextra\\u003e\\u003c\\u002fextra\\u003e\",\"legendgroup\":\"\",\"marker\":{\"color\":\"#636efa\",\"pattern\":{\"shape\":\"\"}},\"name\":\"\",\"offsetgroup\":\"\",\"orientation\":\"v\",\"showlegend\":false,\"textposition\":\"auto\",\"x\":[\"FAMILY\",\"GAME\",\"TOOLS\",\"PRODUCTIVITY\",\"PERSONALIZATION\",\"LIFESTYLE\",\"FINANCE\",\"MEDICAL\",\"PHOTOGRAPHY\",\"BUSINESS\"],\"xaxis\":\"x\",\"y\":[1606,910,718,301,298,297,296,291,263,262],\"yaxis\":\"y\",\"type\":\"bar\"}],                        {\"template\":{\"data\":{\"histogram2dcontour\":[{\"type\":\"histogram2dcontour\",\"colorbar\":{\"outlinewidth\":0,\"ticks\":\"\"},\"colorscale\":[[0.0,\"#0d0887\"],[0.1111111111111111,\"#46039f\"],[0.2222222222222222,\"#7201a8\"],[0.3333333333333333,\"#9c179e\"],[0.4444444444444444,\"#bd3786\"],[0.5555555555555556,\"#d8576b\"],[0.6666666666666666,\"#ed7953\"],[0.7777777777777778,\"#fb9f3a\"],[0.8888888888888888,\"#fdca26\"],[1.0,\"#f0f921\"]]}],\"choropleth\":[{\"type\":\"choropleth\",\"colorbar\":{\"outlinewidth\":0,\"ticks\":\"\"}}],\"histogram2d\":[{\"type\":\"histogram2d\",\"colorbar\":{\"outlinewidth\":0,\"ticks\":\"\"},\"colorscale\":[[0.0,\"#0d0887\"],[0.1111111111111111,\"#46039f\"],[0.2222222222222222,\"#7201a8\"],[0.3333333333333333,\"#9c179e\"],[0.4444444444444444,\"#bd3786\"],[0.5555555555555556,\"#d8576b\"],[0.6666666666666666,\"#ed7953\"],[0.7777777777777778,\"#fb9f3a\"],[0.8888888888888888,\"#fdca26\"],[1.0,\"#f0f921\"]]}],\"heatmap\":[{\"type\":\"heatmap\",\"colorbar\":{\"outlinewidth\":0,\"ticks\":\"\"},\"colorscale\":[[0.0,\"#0d0887\"],[0.1111111111111111,\"#46039f\"],[0.2222222222222222,\"#7201a8\"],[0.3333333333333333,\"#9c179e\"],[0.4444444444444444,\"#bd3786\"],[0.5555555555555556,\"#d8576b\"],[0.6666666666666666,\"#ed7953\"],[0.7777777777777778,\"#fb9f3a\"],[0.8888888888888888,\"#fdca26\"],[1.0,\"#f0f921\"]]}],\"heatmapgl\":[{\"type\":\"heatmapgl\",\"colorbar\":{\"outlinewidth\":0,\"ticks\":\"\"},\"colorscale\":[[0.0,\"#0d0887\"],[0.1111111111111111,\"#46039f\"],[0.2222222222222222,\"#7201a8\"],[0.3333333333333333,\"#9c179e\"],[0.4444444444444444,\"#bd3786\"],[0.5555555555555556,\"#d8576b\"],[0.6666666666666666,\"#ed7953\"],[0.7777777777777778,\"#fb9f3a\"],[0.8888888888888888,\"#fdca26\"],[1.0,\"#f0f921\"]]}],\"contourcarpet\":[{\"type\":\"contourcarpet\",\"colorbar\":{\"outlinewidth\":0,\"ticks\":\"\"}}],\"contour\":[{\"type\":\"contour\",\"colorbar\":{\"outlinewidth\":0,\"ticks\":\"\"},\"colorscale\":[[0.0,\"#0d0887\"],[0.1111111111111111,\"#46039f\"],[0.2222222222222222,\"#7201a8\"],[0.3333333333333333,\"#9c179e\"],[0.4444444444444444,\"#bd3786\"],[0.5555555555555556,\"#d8576b\"],[0.6666666666666666,\"#ed7953\"],[0.7777777777777778,\"#fb9f3a\"],[0.8888888888888888,\"#fdca26\"],[1.0,\"#f0f921\"]]}],\"surface\":[{\"type\":\"surface\",\"colorbar\":{\"outlinewidth\":0,\"ticks\":\"\"},\"colorscale\":[[0.0,\"#0d0887\"],[0.1111111111111111,\"#46039f\"],[0.2222222222222222,\"#7201a8\"],[0.3333333333333333,\"#9c179e\"],[0.4444444444444444,\"#bd3786\"],[0.5555555555555556,\"#d8576b\"],[0.6666666666666666,\"#ed7953\"],[0.7777777777777778,\"#fb9f3a\"],[0.8888888888888888,\"#fdca26\"],[1.0,\"#f0f921\"]]}],\"mesh3d\":[{\"type\":\"mesh3d\",\"colorbar\":{\"outlinewidth\":0,\"ticks\":\"\"}}],\"scatter\":[{\"marker\":{\"line\":{\"color\":\"#283442\"}},\"type\":\"scatter\"}],\"parcoords\":[{\"type\":\"parcoords\",\"line\":{\"colorbar\":{\"outlinewidth\":0,\"ticks\":\"\"}}}],\"scatterpolargl\":[{\"type\":\"scatterpolargl\",\"marker\":{\"colorbar\":{\"outlinewidth\":0,\"ticks\":\"\"}}}],\"bar\":[{\"error_x\":{\"color\":\"#f2f5fa\"},\"error_y\":{\"color\":\"#f2f5fa\"},\"marker\":{\"line\":{\"color\":\"rgb(17,17,17)\",\"width\":0.5},\"pattern\":{\"fillmode\":\"overlay\",\"size\":10,\"solidity\":0.2}},\"type\":\"bar\"}],\"scattergeo\":[{\"type\":\"scattergeo\",\"marker\":{\"colorbar\":{\"outlinewidth\":0,\"ticks\":\"\"}}}],\"scatterpolar\":[{\"type\":\"scatterpolar\",\"marker\":{\"colorbar\":{\"outlinewidth\":0,\"ticks\":\"\"}}}],\"histogram\":[{\"marker\":{\"pattern\":{\"fillmode\":\"overlay\",\"size\":10,\"solidity\":0.2}},\"type\":\"histogram\"}],\"scattergl\":[{\"marker\":{\"line\":{\"color\":\"#283442\"}},\"type\":\"scattergl\"}],\"scatter3d\":[{\"type\":\"scatter3d\",\"line\":{\"colorbar\":{\"outlinewidth\":0,\"ticks\":\"\"}},\"marker\":{\"colorbar\":{\"outlinewidth\":0,\"ticks\":\"\"}}}],\"scattermapbox\":[{\"type\":\"scattermapbox\",\"marker\":{\"colorbar\":{\"outlinewidth\":0,\"ticks\":\"\"}}}],\"scatterternary\":[{\"type\":\"scatterternary\",\"marker\":{\"colorbar\":{\"outlinewidth\":0,\"ticks\":\"\"}}}],\"scattercarpet\":[{\"type\":\"scattercarpet\",\"marker\":{\"colorbar\":{\"outlinewidth\":0,\"ticks\":\"\"}}}],\"carpet\":[{\"aaxis\":{\"endlinecolor\":\"#A2B1C6\",\"gridcolor\":\"#506784\",\"linecolor\":\"#506784\",\"minorgridcolor\":\"#506784\",\"startlinecolor\":\"#A2B1C6\"},\"baxis\":{\"endlinecolor\":\"#A2B1C6\",\"gridcolor\":\"#506784\",\"linecolor\":\"#506784\",\"minorgridcolor\":\"#506784\",\"startlinecolor\":\"#A2B1C6\"},\"type\":\"carpet\"}],\"table\":[{\"cells\":{\"fill\":{\"color\":\"#506784\"},\"line\":{\"color\":\"rgb(17,17,17)\"}},\"header\":{\"fill\":{\"color\":\"#2a3f5f\"},\"line\":{\"color\":\"rgb(17,17,17)\"}},\"type\":\"table\"}],\"barpolar\":[{\"marker\":{\"line\":{\"color\":\"rgb(17,17,17)\",\"width\":0.5},\"pattern\":{\"fillmode\":\"overlay\",\"size\":10,\"solidity\":0.2}},\"type\":\"barpolar\"}],\"pie\":[{\"automargin\":true,\"type\":\"pie\"}]},\"layout\":{\"autotypenumbers\":\"strict\",\"colorway\":[\"#636efa\",\"#EF553B\",\"#00cc96\",\"#ab63fa\",\"#FFA15A\",\"#19d3f3\",\"#FF6692\",\"#B6E880\",\"#FF97FF\",\"#FECB52\"],\"font\":{\"color\":\"#f2f5fa\"},\"hovermode\":\"closest\",\"hoverlabel\":{\"align\":\"left\"},\"paper_bgcolor\":\"rgb(17,17,17)\",\"plot_bgcolor\":\"rgb(17,17,17)\",\"polar\":{\"bgcolor\":\"rgb(17,17,17)\",\"angularaxis\":{\"gridcolor\":\"#506784\",\"linecolor\":\"#506784\",\"ticks\":\"\"},\"radialaxis\":{\"gridcolor\":\"#506784\",\"linecolor\":\"#506784\",\"ticks\":\"\"}},\"ternary\":{\"bgcolor\":\"rgb(17,17,17)\",\"aaxis\":{\"gridcolor\":\"#506784\",\"linecolor\":\"#506784\",\"ticks\":\"\"},\"baxis\":{\"gridcolor\":\"#506784\",\"linecolor\":\"#506784\",\"ticks\":\"\"},\"caxis\":{\"gridcolor\":\"#506784\",\"linecolor\":\"#506784\",\"ticks\":\"\"}},\"coloraxis\":{\"colorbar\":{\"outlinewidth\":0,\"ticks\":\"\"}},\"colorscale\":{\"sequential\":[[0.0,\"#0d0887\"],[0.1111111111111111,\"#46039f\"],[0.2222222222222222,\"#7201a8\"],[0.3333333333333333,\"#9c179e\"],[0.4444444444444444,\"#bd3786\"],[0.5555555555555556,\"#d8576b\"],[0.6666666666666666,\"#ed7953\"],[0.7777777777777778,\"#fb9f3a\"],[0.8888888888888888,\"#fdca26\"],[1.0,\"#f0f921\"]],\"sequentialminus\":[[0.0,\"#0d0887\"],[0.1111111111111111,\"#46039f\"],[0.2222222222222222,\"#7201a8\"],[0.3333333333333333,\"#9c179e\"],[0.4444444444444444,\"#bd3786\"],[0.5555555555555556,\"#d8576b\"],[0.6666666666666666,\"#ed7953\"],[0.7777777777777778,\"#fb9f3a\"],[0.8888888888888888,\"#fdca26\"],[1.0,\"#f0f921\"]],\"diverging\":[[0,\"#8e0152\"],[0.1,\"#c51b7d\"],[0.2,\"#de77ae\"],[0.3,\"#f1b6da\"],[0.4,\"#fde0ef\"],[0.5,\"#f7f7f7\"],[0.6,\"#e6f5d0\"],[0.7,\"#b8e186\"],[0.8,\"#7fbc41\"],[0.9,\"#4d9221\"],[1,\"#276419\"]]},\"xaxis\":{\"gridcolor\":\"#283442\",\"linecolor\":\"#506784\",\"ticks\":\"\",\"title\":{\"standoff\":15},\"zerolinecolor\":\"#283442\",\"automargin\":true,\"zerolinewidth\":2},\"yaxis\":{\"gridcolor\":\"#283442\",\"linecolor\":\"#506784\",\"ticks\":\"\",\"title\":{\"standoff\":15},\"zerolinecolor\":\"#283442\",\"automargin\":true,\"zerolinewidth\":2},\"scene\":{\"xaxis\":{\"backgroundcolor\":\"rgb(17,17,17)\",\"gridcolor\":\"#506784\",\"linecolor\":\"#506784\",\"showbackground\":true,\"ticks\":\"\",\"zerolinecolor\":\"#C8D4E3\",\"gridwidth\":2},\"yaxis\":{\"backgroundcolor\":\"rgb(17,17,17)\",\"gridcolor\":\"#506784\",\"linecolor\":\"#506784\",\"showbackground\":true,\"ticks\":\"\",\"zerolinecolor\":\"#C8D4E3\",\"gridwidth\":2},\"zaxis\":{\"backgroundcolor\":\"rgb(17,17,17)\",\"gridcolor\":\"#506784\",\"linecolor\":\"#506784\",\"showbackground\":true,\"ticks\":\"\",\"zerolinecolor\":\"#C8D4E3\",\"gridwidth\":2}},\"shapedefaults\":{\"line\":{\"color\":\"#f2f5fa\"}},\"annotationdefaults\":{\"arrowcolor\":\"#f2f5fa\",\"arrowhead\":0,\"arrowwidth\":1},\"geo\":{\"bgcolor\":\"rgb(17,17,17)\",\"landcolor\":\"rgb(17,17,17)\",\"subunitcolor\":\"#506784\",\"showland\":true,\"showlakes\":true,\"lakecolor\":\"rgb(17,17,17)\"},\"title\":{\"x\":0.05},\"updatemenudefaults\":{\"bgcolor\":\"#506784\",\"borderwidth\":0},\"sliderdefaults\":{\"bgcolor\":\"#C8D4E3\",\"borderwidth\":1,\"bordercolor\":\"rgb(17,17,17)\",\"tickwidth\":0},\"mapbox\":{\"style\":\"dark\"}}},\"xaxis\":{\"anchor\":\"y\",\"domain\":[0.0,1.0],\"title\":{\"text\":\"x\"}},\"yaxis\":{\"anchor\":\"x\",\"domain\":[0.0,1.0],\"title\":{\"text\":\"y\"}},\"legend\":{\"tracegroupgap\":0},\"margin\":{\"t\":60},\"barmode\":\"relative\"},                        {\"responsive\": true}                    ).then(function(){\n                            \nvar gd = document.getElementById('aa8202b8-f171-4e31-a379-5385b702ffee');\nvar x = new MutationObserver(function (mutations, observer) {{\n        var display = window.getComputedStyle(gd).display;\n        if (!display || display === 'none') {{\n            console.log([gd, 'removed!']);\n            Plotly.purge(gd);\n            observer.disconnect();\n        }}\n}});\n\n// Listen for the removal of the full notebook cells\nvar notebookContainer = gd.closest('#notebook-container');\nif (notebookContainer) {{\n    x.observe(notebookContainer, {childList: true});\n}}\n\n// Listen for the clearing of the current output cell\nvar outputEl = gd.closest('.output');\nif (outputEl) {{\n    x.observe(outputEl, {childList: true});\n}}\n\n                        })                };                });            </script>        </div>"
     },
     "metadata": {},
     "output_type": "display_data"
    }
   ]
  },
  {
   "cell_type": "markdown",
   "metadata": {
    "id": "57mowetLdiU_"
   },
   "source": [
    "### Horizontal Bar Chart - Most Popular Categories (Highest Downloads)"
   ]
  },
  {
   "cell_type": "code",
   "metadata": {
    "id": "zHO7eTJmocLm",
    "ExecuteTime": {
     "end_time": "2023-10-13T09:59:11.235755300Z",
     "start_time": "2023-10-13T09:59:07.845252300Z"
    }
   },
   "source": [
    "category_downloads = df_apps_clean.groupby(\"Category\").agg({\"Installs\": \"sum\"}).sort_values(\"Installs\", ascending=True)"
   ],
   "execution_count": 281,
   "outputs": []
  },
  {
   "cell_type": "code",
   "metadata": {
    "id": "h7aUARLtocCy",
    "ExecuteTime": {
     "end_time": "2023-10-13T09:59:11.314387300Z",
     "start_time": "2023-10-13T09:59:07.861037500Z"
    }
   },
   "source": [
    "h_bar = px.bar(x = category_downloads.Installs,\n",
    "               y = category_downloads.index,\n",
    "               orientation='h')\n",
    " \n",
    "h_bar.show()"
   ],
   "execution_count": 282,
   "outputs": [
    {
     "data": {
      "application/vnd.plotly.v1+json": {
       "data": [
        {
         "alignmentgroup": "True",
         "hovertemplate": "x=%{x}<br>y=%{y}<extra></extra>",
         "legendgroup": "",
         "marker": {
          "color": "#636efa",
          "pattern": {
           "shape": ""
          }
         },
         "name": "",
         "offsetgroup": "",
         "orientation": "h",
         "showlegend": false,
         "textposition": "auto",
         "x": [
          15949410,
          26916200,
          31116110,
          39062676,
          44931100,
          52083000,
          53129800,
          97082000,
          114233100,
          140912410,
          211677750,
          352852000,
          361096500,
          455249400,
          503267560,
          503611120,
          692018120,
          1096431465,
          1134006220,
          1400331540,
          1532352930,
          1665791655,
          2113660000,
          2369110650,
          2894859300,
          3916897200,
          4437554490,
          4649143130,
          5487841475,
          5788070180,
          7999724500,
          11039241530,
          13858762717
         ],
         "xaxis": "x",
         "y": [
          "EVENTS",
          "BEAUTY",
          "PARENTING",
          "MEDICAL",
          "COMICS",
          "LIBRARIES_AND_DEMO",
          "AUTO_AND_VEHICLES",
          "HOUSE_AND_HOME",
          "ART_AND_DESIGN",
          "DATING",
          "FOOD_AND_DRINK",
          "EDUCATION",
          "WEATHER",
          "FINANCE",
          "MAPS_AND_NAVIGATION",
          "LIFESTYLE",
          "BUSINESS",
          "SPORTS",
          "HEALTH_AND_FITNESS",
          "SHOPPING",
          "PERSONALIZATION",
          "BOOKS_AND_REFERENCE",
          "ENTERTAINMENT",
          "NEWS_AND_MAGAZINES",
          "TRAVEL_AND_LOCAL",
          "VIDEO_PLAYERS",
          "FAMILY",
          "PHOTOGRAPHY",
          "SOCIAL",
          "PRODUCTIVITY",
          "TOOLS",
          "COMMUNICATION",
          "GAME"
         ],
         "yaxis": "y",
         "type": "bar"
        }
       ],
       "layout": {
        "template": {
         "data": {
          "histogram2dcontour": [
           {
            "type": "histogram2dcontour",
            "colorbar": {
             "outlinewidth": 0,
             "ticks": ""
            },
            "colorscale": [
             [
              0.0,
              "#0d0887"
             ],
             [
              0.1111111111111111,
              "#46039f"
             ],
             [
              0.2222222222222222,
              "#7201a8"
             ],
             [
              0.3333333333333333,
              "#9c179e"
             ],
             [
              0.4444444444444444,
              "#bd3786"
             ],
             [
              0.5555555555555556,
              "#d8576b"
             ],
             [
              0.6666666666666666,
              "#ed7953"
             ],
             [
              0.7777777777777778,
              "#fb9f3a"
             ],
             [
              0.8888888888888888,
              "#fdca26"
             ],
             [
              1.0,
              "#f0f921"
             ]
            ]
           }
          ],
          "choropleth": [
           {
            "type": "choropleth",
            "colorbar": {
             "outlinewidth": 0,
             "ticks": ""
            }
           }
          ],
          "histogram2d": [
           {
            "type": "histogram2d",
            "colorbar": {
             "outlinewidth": 0,
             "ticks": ""
            },
            "colorscale": [
             [
              0.0,
              "#0d0887"
             ],
             [
              0.1111111111111111,
              "#46039f"
             ],
             [
              0.2222222222222222,
              "#7201a8"
             ],
             [
              0.3333333333333333,
              "#9c179e"
             ],
             [
              0.4444444444444444,
              "#bd3786"
             ],
             [
              0.5555555555555556,
              "#d8576b"
             ],
             [
              0.6666666666666666,
              "#ed7953"
             ],
             [
              0.7777777777777778,
              "#fb9f3a"
             ],
             [
              0.8888888888888888,
              "#fdca26"
             ],
             [
              1.0,
              "#f0f921"
             ]
            ]
           }
          ],
          "heatmap": [
           {
            "type": "heatmap",
            "colorbar": {
             "outlinewidth": 0,
             "ticks": ""
            },
            "colorscale": [
             [
              0.0,
              "#0d0887"
             ],
             [
              0.1111111111111111,
              "#46039f"
             ],
             [
              0.2222222222222222,
              "#7201a8"
             ],
             [
              0.3333333333333333,
              "#9c179e"
             ],
             [
              0.4444444444444444,
              "#bd3786"
             ],
             [
              0.5555555555555556,
              "#d8576b"
             ],
             [
              0.6666666666666666,
              "#ed7953"
             ],
             [
              0.7777777777777778,
              "#fb9f3a"
             ],
             [
              0.8888888888888888,
              "#fdca26"
             ],
             [
              1.0,
              "#f0f921"
             ]
            ]
           }
          ],
          "heatmapgl": [
           {
            "type": "heatmapgl",
            "colorbar": {
             "outlinewidth": 0,
             "ticks": ""
            },
            "colorscale": [
             [
              0.0,
              "#0d0887"
             ],
             [
              0.1111111111111111,
              "#46039f"
             ],
             [
              0.2222222222222222,
              "#7201a8"
             ],
             [
              0.3333333333333333,
              "#9c179e"
             ],
             [
              0.4444444444444444,
              "#bd3786"
             ],
             [
              0.5555555555555556,
              "#d8576b"
             ],
             [
              0.6666666666666666,
              "#ed7953"
             ],
             [
              0.7777777777777778,
              "#fb9f3a"
             ],
             [
              0.8888888888888888,
              "#fdca26"
             ],
             [
              1.0,
              "#f0f921"
             ]
            ]
           }
          ],
          "contourcarpet": [
           {
            "type": "contourcarpet",
            "colorbar": {
             "outlinewidth": 0,
             "ticks": ""
            }
           }
          ],
          "contour": [
           {
            "type": "contour",
            "colorbar": {
             "outlinewidth": 0,
             "ticks": ""
            },
            "colorscale": [
             [
              0.0,
              "#0d0887"
             ],
             [
              0.1111111111111111,
              "#46039f"
             ],
             [
              0.2222222222222222,
              "#7201a8"
             ],
             [
              0.3333333333333333,
              "#9c179e"
             ],
             [
              0.4444444444444444,
              "#bd3786"
             ],
             [
              0.5555555555555556,
              "#d8576b"
             ],
             [
              0.6666666666666666,
              "#ed7953"
             ],
             [
              0.7777777777777778,
              "#fb9f3a"
             ],
             [
              0.8888888888888888,
              "#fdca26"
             ],
             [
              1.0,
              "#f0f921"
             ]
            ]
           }
          ],
          "surface": [
           {
            "type": "surface",
            "colorbar": {
             "outlinewidth": 0,
             "ticks": ""
            },
            "colorscale": [
             [
              0.0,
              "#0d0887"
             ],
             [
              0.1111111111111111,
              "#46039f"
             ],
             [
              0.2222222222222222,
              "#7201a8"
             ],
             [
              0.3333333333333333,
              "#9c179e"
             ],
             [
              0.4444444444444444,
              "#bd3786"
             ],
             [
              0.5555555555555556,
              "#d8576b"
             ],
             [
              0.6666666666666666,
              "#ed7953"
             ],
             [
              0.7777777777777778,
              "#fb9f3a"
             ],
             [
              0.8888888888888888,
              "#fdca26"
             ],
             [
              1.0,
              "#f0f921"
             ]
            ]
           }
          ],
          "mesh3d": [
           {
            "type": "mesh3d",
            "colorbar": {
             "outlinewidth": 0,
             "ticks": ""
            }
           }
          ],
          "scatter": [
           {
            "marker": {
             "line": {
              "color": "#283442"
             }
            },
            "type": "scatter"
           }
          ],
          "parcoords": [
           {
            "type": "parcoords",
            "line": {
             "colorbar": {
              "outlinewidth": 0,
              "ticks": ""
             }
            }
           }
          ],
          "scatterpolargl": [
           {
            "type": "scatterpolargl",
            "marker": {
             "colorbar": {
              "outlinewidth": 0,
              "ticks": ""
             }
            }
           }
          ],
          "bar": [
           {
            "error_x": {
             "color": "#f2f5fa"
            },
            "error_y": {
             "color": "#f2f5fa"
            },
            "marker": {
             "line": {
              "color": "rgb(17,17,17)",
              "width": 0.5
             },
             "pattern": {
              "fillmode": "overlay",
              "size": 10,
              "solidity": 0.2
             }
            },
            "type": "bar"
           }
          ],
          "scattergeo": [
           {
            "type": "scattergeo",
            "marker": {
             "colorbar": {
              "outlinewidth": 0,
              "ticks": ""
             }
            }
           }
          ],
          "scatterpolar": [
           {
            "type": "scatterpolar",
            "marker": {
             "colorbar": {
              "outlinewidth": 0,
              "ticks": ""
             }
            }
           }
          ],
          "histogram": [
           {
            "marker": {
             "pattern": {
              "fillmode": "overlay",
              "size": 10,
              "solidity": 0.2
             }
            },
            "type": "histogram"
           }
          ],
          "scattergl": [
           {
            "marker": {
             "line": {
              "color": "#283442"
             }
            },
            "type": "scattergl"
           }
          ],
          "scatter3d": [
           {
            "type": "scatter3d",
            "line": {
             "colorbar": {
              "outlinewidth": 0,
              "ticks": ""
             }
            },
            "marker": {
             "colorbar": {
              "outlinewidth": 0,
              "ticks": ""
             }
            }
           }
          ],
          "scattermapbox": [
           {
            "type": "scattermapbox",
            "marker": {
             "colorbar": {
              "outlinewidth": 0,
              "ticks": ""
             }
            }
           }
          ],
          "scatterternary": [
           {
            "type": "scatterternary",
            "marker": {
             "colorbar": {
              "outlinewidth": 0,
              "ticks": ""
             }
            }
           }
          ],
          "scattercarpet": [
           {
            "type": "scattercarpet",
            "marker": {
             "colorbar": {
              "outlinewidth": 0,
              "ticks": ""
             }
            }
           }
          ],
          "carpet": [
           {
            "aaxis": {
             "endlinecolor": "#A2B1C6",
             "gridcolor": "#506784",
             "linecolor": "#506784",
             "minorgridcolor": "#506784",
             "startlinecolor": "#A2B1C6"
            },
            "baxis": {
             "endlinecolor": "#A2B1C6",
             "gridcolor": "#506784",
             "linecolor": "#506784",
             "minorgridcolor": "#506784",
             "startlinecolor": "#A2B1C6"
            },
            "type": "carpet"
           }
          ],
          "table": [
           {
            "cells": {
             "fill": {
              "color": "#506784"
             },
             "line": {
              "color": "rgb(17,17,17)"
             }
            },
            "header": {
             "fill": {
              "color": "#2a3f5f"
             },
             "line": {
              "color": "rgb(17,17,17)"
             }
            },
            "type": "table"
           }
          ],
          "barpolar": [
           {
            "marker": {
             "line": {
              "color": "rgb(17,17,17)",
              "width": 0.5
             },
             "pattern": {
              "fillmode": "overlay",
              "size": 10,
              "solidity": 0.2
             }
            },
            "type": "barpolar"
           }
          ],
          "pie": [
           {
            "automargin": true,
            "type": "pie"
           }
          ]
         },
         "layout": {
          "autotypenumbers": "strict",
          "colorway": [
           "#636efa",
           "#EF553B",
           "#00cc96",
           "#ab63fa",
           "#FFA15A",
           "#19d3f3",
           "#FF6692",
           "#B6E880",
           "#FF97FF",
           "#FECB52"
          ],
          "font": {
           "color": "#f2f5fa"
          },
          "hovermode": "closest",
          "hoverlabel": {
           "align": "left"
          },
          "paper_bgcolor": "rgb(17,17,17)",
          "plot_bgcolor": "rgb(17,17,17)",
          "polar": {
           "bgcolor": "rgb(17,17,17)",
           "angularaxis": {
            "gridcolor": "#506784",
            "linecolor": "#506784",
            "ticks": ""
           },
           "radialaxis": {
            "gridcolor": "#506784",
            "linecolor": "#506784",
            "ticks": ""
           }
          },
          "ternary": {
           "bgcolor": "rgb(17,17,17)",
           "aaxis": {
            "gridcolor": "#506784",
            "linecolor": "#506784",
            "ticks": ""
           },
           "baxis": {
            "gridcolor": "#506784",
            "linecolor": "#506784",
            "ticks": ""
           },
           "caxis": {
            "gridcolor": "#506784",
            "linecolor": "#506784",
            "ticks": ""
           }
          },
          "coloraxis": {
           "colorbar": {
            "outlinewidth": 0,
            "ticks": ""
           }
          },
          "colorscale": {
           "sequential": [
            [
             0.0,
             "#0d0887"
            ],
            [
             0.1111111111111111,
             "#46039f"
            ],
            [
             0.2222222222222222,
             "#7201a8"
            ],
            [
             0.3333333333333333,
             "#9c179e"
            ],
            [
             0.4444444444444444,
             "#bd3786"
            ],
            [
             0.5555555555555556,
             "#d8576b"
            ],
            [
             0.6666666666666666,
             "#ed7953"
            ],
            [
             0.7777777777777778,
             "#fb9f3a"
            ],
            [
             0.8888888888888888,
             "#fdca26"
            ],
            [
             1.0,
             "#f0f921"
            ]
           ],
           "sequentialminus": [
            [
             0.0,
             "#0d0887"
            ],
            [
             0.1111111111111111,
             "#46039f"
            ],
            [
             0.2222222222222222,
             "#7201a8"
            ],
            [
             0.3333333333333333,
             "#9c179e"
            ],
            [
             0.4444444444444444,
             "#bd3786"
            ],
            [
             0.5555555555555556,
             "#d8576b"
            ],
            [
             0.6666666666666666,
             "#ed7953"
            ],
            [
             0.7777777777777778,
             "#fb9f3a"
            ],
            [
             0.8888888888888888,
             "#fdca26"
            ],
            [
             1.0,
             "#f0f921"
            ]
           ],
           "diverging": [
            [
             0,
             "#8e0152"
            ],
            [
             0.1,
             "#c51b7d"
            ],
            [
             0.2,
             "#de77ae"
            ],
            [
             0.3,
             "#f1b6da"
            ],
            [
             0.4,
             "#fde0ef"
            ],
            [
             0.5,
             "#f7f7f7"
            ],
            [
             0.6,
             "#e6f5d0"
            ],
            [
             0.7,
             "#b8e186"
            ],
            [
             0.8,
             "#7fbc41"
            ],
            [
             0.9,
             "#4d9221"
            ],
            [
             1,
             "#276419"
            ]
           ]
          },
          "xaxis": {
           "gridcolor": "#283442",
           "linecolor": "#506784",
           "ticks": "",
           "title": {
            "standoff": 15
           },
           "zerolinecolor": "#283442",
           "automargin": true,
           "zerolinewidth": 2
          },
          "yaxis": {
           "gridcolor": "#283442",
           "linecolor": "#506784",
           "ticks": "",
           "title": {
            "standoff": 15
           },
           "zerolinecolor": "#283442",
           "automargin": true,
           "zerolinewidth": 2
          },
          "scene": {
           "xaxis": {
            "backgroundcolor": "rgb(17,17,17)",
            "gridcolor": "#506784",
            "linecolor": "#506784",
            "showbackground": true,
            "ticks": "",
            "zerolinecolor": "#C8D4E3",
            "gridwidth": 2
           },
           "yaxis": {
            "backgroundcolor": "rgb(17,17,17)",
            "gridcolor": "#506784",
            "linecolor": "#506784",
            "showbackground": true,
            "ticks": "",
            "zerolinecolor": "#C8D4E3",
            "gridwidth": 2
           },
           "zaxis": {
            "backgroundcolor": "rgb(17,17,17)",
            "gridcolor": "#506784",
            "linecolor": "#506784",
            "showbackground": true,
            "ticks": "",
            "zerolinecolor": "#C8D4E3",
            "gridwidth": 2
           }
          },
          "shapedefaults": {
           "line": {
            "color": "#f2f5fa"
           }
          },
          "annotationdefaults": {
           "arrowcolor": "#f2f5fa",
           "arrowhead": 0,
           "arrowwidth": 1
          },
          "geo": {
           "bgcolor": "rgb(17,17,17)",
           "landcolor": "rgb(17,17,17)",
           "subunitcolor": "#506784",
           "showland": true,
           "showlakes": true,
           "lakecolor": "rgb(17,17,17)"
          },
          "title": {
           "x": 0.05
          },
          "updatemenudefaults": {
           "bgcolor": "#506784",
           "borderwidth": 0
          },
          "sliderdefaults": {
           "bgcolor": "#C8D4E3",
           "borderwidth": 1,
           "bordercolor": "rgb(17,17,17)",
           "tickwidth": 0
          },
          "mapbox": {
           "style": "dark"
          }
         }
        },
        "xaxis": {
         "anchor": "y",
         "domain": [
          0.0,
          1.0
         ],
         "title": {
          "text": "x"
         }
        },
        "yaxis": {
         "anchor": "x",
         "domain": [
          0.0,
          1.0
         ],
         "title": {
          "text": "y"
         }
        },
        "legend": {
         "tracegroupgap": 0
        },
        "margin": {
         "t": 60
        },
        "barmode": "relative"
       },
       "config": {
        "plotlyServerURL": "https://plot.ly"
       }
      },
      "text/html": "<div>                            <div id=\"69a8b87c-edf0-4ed4-8c7b-2c0b7fbc3dd5\" class=\"plotly-graph-div\" style=\"height:525px; width:100%;\"></div>            <script type=\"text/javascript\">                require([\"plotly\"], function(Plotly) {                    window.PLOTLYENV=window.PLOTLYENV || {};                                    if (document.getElementById(\"69a8b87c-edf0-4ed4-8c7b-2c0b7fbc3dd5\")) {                    Plotly.newPlot(                        \"69a8b87c-edf0-4ed4-8c7b-2c0b7fbc3dd5\",                        [{\"alignmentgroup\":\"True\",\"hovertemplate\":\"x=%{x}\\u003cbr\\u003ey=%{y}\\u003cextra\\u003e\\u003c\\u002fextra\\u003e\",\"legendgroup\":\"\",\"marker\":{\"color\":\"#636efa\",\"pattern\":{\"shape\":\"\"}},\"name\":\"\",\"offsetgroup\":\"\",\"orientation\":\"h\",\"showlegend\":false,\"textposition\":\"auto\",\"x\":[15949410,26916200,31116110,39062676,44931100,52083000,53129800,97082000,114233100,140912410,211677750,352852000,361096500,455249400,503267560,503611120,692018120,1096431465,1134006220,1400331540,1532352930,1665791655,2113660000,2369110650,2894859300,3916897200,4437554490,4649143130,5487841475,5788070180,7999724500,11039241530,13858762717],\"xaxis\":\"x\",\"y\":[\"EVENTS\",\"BEAUTY\",\"PARENTING\",\"MEDICAL\",\"COMICS\",\"LIBRARIES_AND_DEMO\",\"AUTO_AND_VEHICLES\",\"HOUSE_AND_HOME\",\"ART_AND_DESIGN\",\"DATING\",\"FOOD_AND_DRINK\",\"EDUCATION\",\"WEATHER\",\"FINANCE\",\"MAPS_AND_NAVIGATION\",\"LIFESTYLE\",\"BUSINESS\",\"SPORTS\",\"HEALTH_AND_FITNESS\",\"SHOPPING\",\"PERSONALIZATION\",\"BOOKS_AND_REFERENCE\",\"ENTERTAINMENT\",\"NEWS_AND_MAGAZINES\",\"TRAVEL_AND_LOCAL\",\"VIDEO_PLAYERS\",\"FAMILY\",\"PHOTOGRAPHY\",\"SOCIAL\",\"PRODUCTIVITY\",\"TOOLS\",\"COMMUNICATION\",\"GAME\"],\"yaxis\":\"y\",\"type\":\"bar\"}],                        {\"template\":{\"data\":{\"histogram2dcontour\":[{\"type\":\"histogram2dcontour\",\"colorbar\":{\"outlinewidth\":0,\"ticks\":\"\"},\"colorscale\":[[0.0,\"#0d0887\"],[0.1111111111111111,\"#46039f\"],[0.2222222222222222,\"#7201a8\"],[0.3333333333333333,\"#9c179e\"],[0.4444444444444444,\"#bd3786\"],[0.5555555555555556,\"#d8576b\"],[0.6666666666666666,\"#ed7953\"],[0.7777777777777778,\"#fb9f3a\"],[0.8888888888888888,\"#fdca26\"],[1.0,\"#f0f921\"]]}],\"choropleth\":[{\"type\":\"choropleth\",\"colorbar\":{\"outlinewidth\":0,\"ticks\":\"\"}}],\"histogram2d\":[{\"type\":\"histogram2d\",\"colorbar\":{\"outlinewidth\":0,\"ticks\":\"\"},\"colorscale\":[[0.0,\"#0d0887\"],[0.1111111111111111,\"#46039f\"],[0.2222222222222222,\"#7201a8\"],[0.3333333333333333,\"#9c179e\"],[0.4444444444444444,\"#bd3786\"],[0.5555555555555556,\"#d8576b\"],[0.6666666666666666,\"#ed7953\"],[0.7777777777777778,\"#fb9f3a\"],[0.8888888888888888,\"#fdca26\"],[1.0,\"#f0f921\"]]}],\"heatmap\":[{\"type\":\"heatmap\",\"colorbar\":{\"outlinewidth\":0,\"ticks\":\"\"},\"colorscale\":[[0.0,\"#0d0887\"],[0.1111111111111111,\"#46039f\"],[0.2222222222222222,\"#7201a8\"],[0.3333333333333333,\"#9c179e\"],[0.4444444444444444,\"#bd3786\"],[0.5555555555555556,\"#d8576b\"],[0.6666666666666666,\"#ed7953\"],[0.7777777777777778,\"#fb9f3a\"],[0.8888888888888888,\"#fdca26\"],[1.0,\"#f0f921\"]]}],\"heatmapgl\":[{\"type\":\"heatmapgl\",\"colorbar\":{\"outlinewidth\":0,\"ticks\":\"\"},\"colorscale\":[[0.0,\"#0d0887\"],[0.1111111111111111,\"#46039f\"],[0.2222222222222222,\"#7201a8\"],[0.3333333333333333,\"#9c179e\"],[0.4444444444444444,\"#bd3786\"],[0.5555555555555556,\"#d8576b\"],[0.6666666666666666,\"#ed7953\"],[0.7777777777777778,\"#fb9f3a\"],[0.8888888888888888,\"#fdca26\"],[1.0,\"#f0f921\"]]}],\"contourcarpet\":[{\"type\":\"contourcarpet\",\"colorbar\":{\"outlinewidth\":0,\"ticks\":\"\"}}],\"contour\":[{\"type\":\"contour\",\"colorbar\":{\"outlinewidth\":0,\"ticks\":\"\"},\"colorscale\":[[0.0,\"#0d0887\"],[0.1111111111111111,\"#46039f\"],[0.2222222222222222,\"#7201a8\"],[0.3333333333333333,\"#9c179e\"],[0.4444444444444444,\"#bd3786\"],[0.5555555555555556,\"#d8576b\"],[0.6666666666666666,\"#ed7953\"],[0.7777777777777778,\"#fb9f3a\"],[0.8888888888888888,\"#fdca26\"],[1.0,\"#f0f921\"]]}],\"surface\":[{\"type\":\"surface\",\"colorbar\":{\"outlinewidth\":0,\"ticks\":\"\"},\"colorscale\":[[0.0,\"#0d0887\"],[0.1111111111111111,\"#46039f\"],[0.2222222222222222,\"#7201a8\"],[0.3333333333333333,\"#9c179e\"],[0.4444444444444444,\"#bd3786\"],[0.5555555555555556,\"#d8576b\"],[0.6666666666666666,\"#ed7953\"],[0.7777777777777778,\"#fb9f3a\"],[0.8888888888888888,\"#fdca26\"],[1.0,\"#f0f921\"]]}],\"mesh3d\":[{\"type\":\"mesh3d\",\"colorbar\":{\"outlinewidth\":0,\"ticks\":\"\"}}],\"scatter\":[{\"marker\":{\"line\":{\"color\":\"#283442\"}},\"type\":\"scatter\"}],\"parcoords\":[{\"type\":\"parcoords\",\"line\":{\"colorbar\":{\"outlinewidth\":0,\"ticks\":\"\"}}}],\"scatterpolargl\":[{\"type\":\"scatterpolargl\",\"marker\":{\"colorbar\":{\"outlinewidth\":0,\"ticks\":\"\"}}}],\"bar\":[{\"error_x\":{\"color\":\"#f2f5fa\"},\"error_y\":{\"color\":\"#f2f5fa\"},\"marker\":{\"line\":{\"color\":\"rgb(17,17,17)\",\"width\":0.5},\"pattern\":{\"fillmode\":\"overlay\",\"size\":10,\"solidity\":0.2}},\"type\":\"bar\"}],\"scattergeo\":[{\"type\":\"scattergeo\",\"marker\":{\"colorbar\":{\"outlinewidth\":0,\"ticks\":\"\"}}}],\"scatterpolar\":[{\"type\":\"scatterpolar\",\"marker\":{\"colorbar\":{\"outlinewidth\":0,\"ticks\":\"\"}}}],\"histogram\":[{\"marker\":{\"pattern\":{\"fillmode\":\"overlay\",\"size\":10,\"solidity\":0.2}},\"type\":\"histogram\"}],\"scattergl\":[{\"marker\":{\"line\":{\"color\":\"#283442\"}},\"type\":\"scattergl\"}],\"scatter3d\":[{\"type\":\"scatter3d\",\"line\":{\"colorbar\":{\"outlinewidth\":0,\"ticks\":\"\"}},\"marker\":{\"colorbar\":{\"outlinewidth\":0,\"ticks\":\"\"}}}],\"scattermapbox\":[{\"type\":\"scattermapbox\",\"marker\":{\"colorbar\":{\"outlinewidth\":0,\"ticks\":\"\"}}}],\"scatterternary\":[{\"type\":\"scatterternary\",\"marker\":{\"colorbar\":{\"outlinewidth\":0,\"ticks\":\"\"}}}],\"scattercarpet\":[{\"type\":\"scattercarpet\",\"marker\":{\"colorbar\":{\"outlinewidth\":0,\"ticks\":\"\"}}}],\"carpet\":[{\"aaxis\":{\"endlinecolor\":\"#A2B1C6\",\"gridcolor\":\"#506784\",\"linecolor\":\"#506784\",\"minorgridcolor\":\"#506784\",\"startlinecolor\":\"#A2B1C6\"},\"baxis\":{\"endlinecolor\":\"#A2B1C6\",\"gridcolor\":\"#506784\",\"linecolor\":\"#506784\",\"minorgridcolor\":\"#506784\",\"startlinecolor\":\"#A2B1C6\"},\"type\":\"carpet\"}],\"table\":[{\"cells\":{\"fill\":{\"color\":\"#506784\"},\"line\":{\"color\":\"rgb(17,17,17)\"}},\"header\":{\"fill\":{\"color\":\"#2a3f5f\"},\"line\":{\"color\":\"rgb(17,17,17)\"}},\"type\":\"table\"}],\"barpolar\":[{\"marker\":{\"line\":{\"color\":\"rgb(17,17,17)\",\"width\":0.5},\"pattern\":{\"fillmode\":\"overlay\",\"size\":10,\"solidity\":0.2}},\"type\":\"barpolar\"}],\"pie\":[{\"automargin\":true,\"type\":\"pie\"}]},\"layout\":{\"autotypenumbers\":\"strict\",\"colorway\":[\"#636efa\",\"#EF553B\",\"#00cc96\",\"#ab63fa\",\"#FFA15A\",\"#19d3f3\",\"#FF6692\",\"#B6E880\",\"#FF97FF\",\"#FECB52\"],\"font\":{\"color\":\"#f2f5fa\"},\"hovermode\":\"closest\",\"hoverlabel\":{\"align\":\"left\"},\"paper_bgcolor\":\"rgb(17,17,17)\",\"plot_bgcolor\":\"rgb(17,17,17)\",\"polar\":{\"bgcolor\":\"rgb(17,17,17)\",\"angularaxis\":{\"gridcolor\":\"#506784\",\"linecolor\":\"#506784\",\"ticks\":\"\"},\"radialaxis\":{\"gridcolor\":\"#506784\",\"linecolor\":\"#506784\",\"ticks\":\"\"}},\"ternary\":{\"bgcolor\":\"rgb(17,17,17)\",\"aaxis\":{\"gridcolor\":\"#506784\",\"linecolor\":\"#506784\",\"ticks\":\"\"},\"baxis\":{\"gridcolor\":\"#506784\",\"linecolor\":\"#506784\",\"ticks\":\"\"},\"caxis\":{\"gridcolor\":\"#506784\",\"linecolor\":\"#506784\",\"ticks\":\"\"}},\"coloraxis\":{\"colorbar\":{\"outlinewidth\":0,\"ticks\":\"\"}},\"colorscale\":{\"sequential\":[[0.0,\"#0d0887\"],[0.1111111111111111,\"#46039f\"],[0.2222222222222222,\"#7201a8\"],[0.3333333333333333,\"#9c179e\"],[0.4444444444444444,\"#bd3786\"],[0.5555555555555556,\"#d8576b\"],[0.6666666666666666,\"#ed7953\"],[0.7777777777777778,\"#fb9f3a\"],[0.8888888888888888,\"#fdca26\"],[1.0,\"#f0f921\"]],\"sequentialminus\":[[0.0,\"#0d0887\"],[0.1111111111111111,\"#46039f\"],[0.2222222222222222,\"#7201a8\"],[0.3333333333333333,\"#9c179e\"],[0.4444444444444444,\"#bd3786\"],[0.5555555555555556,\"#d8576b\"],[0.6666666666666666,\"#ed7953\"],[0.7777777777777778,\"#fb9f3a\"],[0.8888888888888888,\"#fdca26\"],[1.0,\"#f0f921\"]],\"diverging\":[[0,\"#8e0152\"],[0.1,\"#c51b7d\"],[0.2,\"#de77ae\"],[0.3,\"#f1b6da\"],[0.4,\"#fde0ef\"],[0.5,\"#f7f7f7\"],[0.6,\"#e6f5d0\"],[0.7,\"#b8e186\"],[0.8,\"#7fbc41\"],[0.9,\"#4d9221\"],[1,\"#276419\"]]},\"xaxis\":{\"gridcolor\":\"#283442\",\"linecolor\":\"#506784\",\"ticks\":\"\",\"title\":{\"standoff\":15},\"zerolinecolor\":\"#283442\",\"automargin\":true,\"zerolinewidth\":2},\"yaxis\":{\"gridcolor\":\"#283442\",\"linecolor\":\"#506784\",\"ticks\":\"\",\"title\":{\"standoff\":15},\"zerolinecolor\":\"#283442\",\"automargin\":true,\"zerolinewidth\":2},\"scene\":{\"xaxis\":{\"backgroundcolor\":\"rgb(17,17,17)\",\"gridcolor\":\"#506784\",\"linecolor\":\"#506784\",\"showbackground\":true,\"ticks\":\"\",\"zerolinecolor\":\"#C8D4E3\",\"gridwidth\":2},\"yaxis\":{\"backgroundcolor\":\"rgb(17,17,17)\",\"gridcolor\":\"#506784\",\"linecolor\":\"#506784\",\"showbackground\":true,\"ticks\":\"\",\"zerolinecolor\":\"#C8D4E3\",\"gridwidth\":2},\"zaxis\":{\"backgroundcolor\":\"rgb(17,17,17)\",\"gridcolor\":\"#506784\",\"linecolor\":\"#506784\",\"showbackground\":true,\"ticks\":\"\",\"zerolinecolor\":\"#C8D4E3\",\"gridwidth\":2}},\"shapedefaults\":{\"line\":{\"color\":\"#f2f5fa\"}},\"annotationdefaults\":{\"arrowcolor\":\"#f2f5fa\",\"arrowhead\":0,\"arrowwidth\":1},\"geo\":{\"bgcolor\":\"rgb(17,17,17)\",\"landcolor\":\"rgb(17,17,17)\",\"subunitcolor\":\"#506784\",\"showland\":true,\"showlakes\":true,\"lakecolor\":\"rgb(17,17,17)\"},\"title\":{\"x\":0.05},\"updatemenudefaults\":{\"bgcolor\":\"#506784\",\"borderwidth\":0},\"sliderdefaults\":{\"bgcolor\":\"#C8D4E3\",\"borderwidth\":1,\"bordercolor\":\"rgb(17,17,17)\",\"tickwidth\":0},\"mapbox\":{\"style\":\"dark\"}}},\"xaxis\":{\"anchor\":\"y\",\"domain\":[0.0,1.0],\"title\":{\"text\":\"x\"}},\"yaxis\":{\"anchor\":\"x\",\"domain\":[0.0,1.0],\"title\":{\"text\":\"y\"}},\"legend\":{\"tracegroupgap\":0},\"margin\":{\"t\":60},\"barmode\":\"relative\"},                        {\"responsive\": true}                    ).then(function(){\n                            \nvar gd = document.getElementById('69a8b87c-edf0-4ed4-8c7b-2c0b7fbc3dd5');\nvar x = new MutationObserver(function (mutations, observer) {{\n        var display = window.getComputedStyle(gd).display;\n        if (!display || display === 'none') {{\n            console.log([gd, 'removed!']);\n            Plotly.purge(gd);\n            observer.disconnect();\n        }}\n}});\n\n// Listen for the removal of the full notebook cells\nvar notebookContainer = gd.closest('#notebook-container');\nif (notebookContainer) {{\n    x.observe(notebookContainer, {childList: true});\n}}\n\n// Listen for the clearing of the current output cell\nvar outputEl = gd.closest('.output');\nif (outputEl) {{\n    x.observe(outputEl, {childList: true});\n}}\n\n                        })                };                });            </script>        </div>"
     },
     "metadata": {},
     "output_type": "display_data"
    }
   ]
  },
  {
   "cell_type": "markdown",
   "metadata": {
    "id": "Uxk24qMk8vrz"
   },
   "source": [
    "### Category Concentration - Downloads vs. Competition\n",
    "\n",
    "**Challenge**: \n",
    "* First, create a DataFrame that has the number of apps in one column and the number of installs in another:\n",
    "\n",
    "<img src=https://imgur.com/uQRSlXi.png width=\"350\">\n",
    "\n",
    "* Then use the [plotly express examples from the documentation](https://plotly.com/python/line-and-scatter/) alongside the [.scatter() API reference](https://plotly.com/python-api-reference/generated/plotly.express.scatter.html)to create scatter plot that looks like this. \n",
    "\n",
    "<img src=https://imgur.com/cHsqh6a.png>\n",
    "\n",
    "*Hint*: Use the size, hover_name and color parameters in .scatter(). To scale the yaxis, call .update_layout() and specify that the yaxis should be on a log-scale like so: yaxis=dict(type='log') "
   ]
  },
  {
   "cell_type": "code",
   "metadata": {
    "id": "tVvGPDY7oe5A",
    "ExecuteTime": {
     "end_time": "2023-10-13T09:59:11.361747400Z",
     "start_time": "2023-10-13T09:59:07.970949100Z"
    }
   },
   "source": [
    "app_amount_and_installs = df_apps_clean.groupby(\"Category\").agg({\"Installs\": \"sum\", \"App\": \"count\"}).sort_values(\"Installs\", ascending=True)\n",
    "\n",
    "px.scatter(app_amount_and_installs, x=\"App\", y=\"Installs\", size=\"App\", color=\"Installs\")"
   ],
   "execution_count": 283,
   "outputs": [
    {
     "data": {
      "application/vnd.plotly.v1+json": {
       "data": [
        {
         "hovertemplate": "App=%{marker.size}<br>Installs=%{marker.color}<extra></extra>",
         "legendgroup": "",
         "marker": {
          "color": [
           15949410,
           26916200,
           31116110,
           39062676,
           44931100,
           52083000,
           53129800,
           97082000,
           114233100,
           140912410,
           211677750,
           352852000,
           361096500,
           455249400,
           503267560,
           503611120,
           692018120,
           1096431465,
           1134006220,
           1400331540,
           1532352930,
           1665791655,
           2113660000,
           2369110650,
           2894859300,
           3916897200,
           4437554490,
           4649143130,
           5487841475,
           5788070180,
           7999724500,
           11039241530,
           13858762717
          ],
          "coloraxis": "coloraxis",
          "size": [
           45,
           42,
           50,
           291,
           54,
           64,
           73,
           62,
           61,
           134,
           94,
           118,
           72,
           296,
           118,
           297,
           262,
           260,
           243,
           180,
           298,
           169,
           102,
           204,
           187,
           148,
           1606,
           263,
           203,
           301,
           718,
           257,
           910
          ],
          "sizemode": "area",
          "sizeref": 4.015,
          "symbol": "circle"
         },
         "mode": "markers",
         "name": "",
         "orientation": "v",
         "showlegend": false,
         "x": [
          45,
          42,
          50,
          291,
          54,
          64,
          73,
          62,
          61,
          134,
          94,
          118,
          72,
          296,
          118,
          297,
          262,
          260,
          243,
          180,
          298,
          169,
          102,
          204,
          187,
          148,
          1606,
          263,
          203,
          301,
          718,
          257,
          910
         ],
         "xaxis": "x",
         "y": [
          15949410,
          26916200,
          31116110,
          39062676,
          44931100,
          52083000,
          53129800,
          97082000,
          114233100,
          140912410,
          211677750,
          352852000,
          361096500,
          455249400,
          503267560,
          503611120,
          692018120,
          1096431465,
          1134006220,
          1400331540,
          1532352930,
          1665791655,
          2113660000,
          2369110650,
          2894859300,
          3916897200,
          4437554490,
          4649143130,
          5487841475,
          5788070180,
          7999724500,
          11039241530,
          13858762717
         ],
         "yaxis": "y",
         "type": "scatter"
        }
       ],
       "layout": {
        "template": {
         "data": {
          "histogram2dcontour": [
           {
            "type": "histogram2dcontour",
            "colorbar": {
             "outlinewidth": 0,
             "ticks": ""
            },
            "colorscale": [
             [
              0.0,
              "#0d0887"
             ],
             [
              0.1111111111111111,
              "#46039f"
             ],
             [
              0.2222222222222222,
              "#7201a8"
             ],
             [
              0.3333333333333333,
              "#9c179e"
             ],
             [
              0.4444444444444444,
              "#bd3786"
             ],
             [
              0.5555555555555556,
              "#d8576b"
             ],
             [
              0.6666666666666666,
              "#ed7953"
             ],
             [
              0.7777777777777778,
              "#fb9f3a"
             ],
             [
              0.8888888888888888,
              "#fdca26"
             ],
             [
              1.0,
              "#f0f921"
             ]
            ]
           }
          ],
          "choropleth": [
           {
            "type": "choropleth",
            "colorbar": {
             "outlinewidth": 0,
             "ticks": ""
            }
           }
          ],
          "histogram2d": [
           {
            "type": "histogram2d",
            "colorbar": {
             "outlinewidth": 0,
             "ticks": ""
            },
            "colorscale": [
             [
              0.0,
              "#0d0887"
             ],
             [
              0.1111111111111111,
              "#46039f"
             ],
             [
              0.2222222222222222,
              "#7201a8"
             ],
             [
              0.3333333333333333,
              "#9c179e"
             ],
             [
              0.4444444444444444,
              "#bd3786"
             ],
             [
              0.5555555555555556,
              "#d8576b"
             ],
             [
              0.6666666666666666,
              "#ed7953"
             ],
             [
              0.7777777777777778,
              "#fb9f3a"
             ],
             [
              0.8888888888888888,
              "#fdca26"
             ],
             [
              1.0,
              "#f0f921"
             ]
            ]
           }
          ],
          "heatmap": [
           {
            "type": "heatmap",
            "colorbar": {
             "outlinewidth": 0,
             "ticks": ""
            },
            "colorscale": [
             [
              0.0,
              "#0d0887"
             ],
             [
              0.1111111111111111,
              "#46039f"
             ],
             [
              0.2222222222222222,
              "#7201a8"
             ],
             [
              0.3333333333333333,
              "#9c179e"
             ],
             [
              0.4444444444444444,
              "#bd3786"
             ],
             [
              0.5555555555555556,
              "#d8576b"
             ],
             [
              0.6666666666666666,
              "#ed7953"
             ],
             [
              0.7777777777777778,
              "#fb9f3a"
             ],
             [
              0.8888888888888888,
              "#fdca26"
             ],
             [
              1.0,
              "#f0f921"
             ]
            ]
           }
          ],
          "heatmapgl": [
           {
            "type": "heatmapgl",
            "colorbar": {
             "outlinewidth": 0,
             "ticks": ""
            },
            "colorscale": [
             [
              0.0,
              "#0d0887"
             ],
             [
              0.1111111111111111,
              "#46039f"
             ],
             [
              0.2222222222222222,
              "#7201a8"
             ],
             [
              0.3333333333333333,
              "#9c179e"
             ],
             [
              0.4444444444444444,
              "#bd3786"
             ],
             [
              0.5555555555555556,
              "#d8576b"
             ],
             [
              0.6666666666666666,
              "#ed7953"
             ],
             [
              0.7777777777777778,
              "#fb9f3a"
             ],
             [
              0.8888888888888888,
              "#fdca26"
             ],
             [
              1.0,
              "#f0f921"
             ]
            ]
           }
          ],
          "contourcarpet": [
           {
            "type": "contourcarpet",
            "colorbar": {
             "outlinewidth": 0,
             "ticks": ""
            }
           }
          ],
          "contour": [
           {
            "type": "contour",
            "colorbar": {
             "outlinewidth": 0,
             "ticks": ""
            },
            "colorscale": [
             [
              0.0,
              "#0d0887"
             ],
             [
              0.1111111111111111,
              "#46039f"
             ],
             [
              0.2222222222222222,
              "#7201a8"
             ],
             [
              0.3333333333333333,
              "#9c179e"
             ],
             [
              0.4444444444444444,
              "#bd3786"
             ],
             [
              0.5555555555555556,
              "#d8576b"
             ],
             [
              0.6666666666666666,
              "#ed7953"
             ],
             [
              0.7777777777777778,
              "#fb9f3a"
             ],
             [
              0.8888888888888888,
              "#fdca26"
             ],
             [
              1.0,
              "#f0f921"
             ]
            ]
           }
          ],
          "surface": [
           {
            "type": "surface",
            "colorbar": {
             "outlinewidth": 0,
             "ticks": ""
            },
            "colorscale": [
             [
              0.0,
              "#0d0887"
             ],
             [
              0.1111111111111111,
              "#46039f"
             ],
             [
              0.2222222222222222,
              "#7201a8"
             ],
             [
              0.3333333333333333,
              "#9c179e"
             ],
             [
              0.4444444444444444,
              "#bd3786"
             ],
             [
              0.5555555555555556,
              "#d8576b"
             ],
             [
              0.6666666666666666,
              "#ed7953"
             ],
             [
              0.7777777777777778,
              "#fb9f3a"
             ],
             [
              0.8888888888888888,
              "#fdca26"
             ],
             [
              1.0,
              "#f0f921"
             ]
            ]
           }
          ],
          "mesh3d": [
           {
            "type": "mesh3d",
            "colorbar": {
             "outlinewidth": 0,
             "ticks": ""
            }
           }
          ],
          "scatter": [
           {
            "marker": {
             "line": {
              "color": "#283442"
             }
            },
            "type": "scatter"
           }
          ],
          "parcoords": [
           {
            "type": "parcoords",
            "line": {
             "colorbar": {
              "outlinewidth": 0,
              "ticks": ""
             }
            }
           }
          ],
          "scatterpolargl": [
           {
            "type": "scatterpolargl",
            "marker": {
             "colorbar": {
              "outlinewidth": 0,
              "ticks": ""
             }
            }
           }
          ],
          "bar": [
           {
            "error_x": {
             "color": "#f2f5fa"
            },
            "error_y": {
             "color": "#f2f5fa"
            },
            "marker": {
             "line": {
              "color": "rgb(17,17,17)",
              "width": 0.5
             },
             "pattern": {
              "fillmode": "overlay",
              "size": 10,
              "solidity": 0.2
             }
            },
            "type": "bar"
           }
          ],
          "scattergeo": [
           {
            "type": "scattergeo",
            "marker": {
             "colorbar": {
              "outlinewidth": 0,
              "ticks": ""
             }
            }
           }
          ],
          "scatterpolar": [
           {
            "type": "scatterpolar",
            "marker": {
             "colorbar": {
              "outlinewidth": 0,
              "ticks": ""
             }
            }
           }
          ],
          "histogram": [
           {
            "marker": {
             "pattern": {
              "fillmode": "overlay",
              "size": 10,
              "solidity": 0.2
             }
            },
            "type": "histogram"
           }
          ],
          "scattergl": [
           {
            "marker": {
             "line": {
              "color": "#283442"
             }
            },
            "type": "scattergl"
           }
          ],
          "scatter3d": [
           {
            "type": "scatter3d",
            "line": {
             "colorbar": {
              "outlinewidth": 0,
              "ticks": ""
             }
            },
            "marker": {
             "colorbar": {
              "outlinewidth": 0,
              "ticks": ""
             }
            }
           }
          ],
          "scattermapbox": [
           {
            "type": "scattermapbox",
            "marker": {
             "colorbar": {
              "outlinewidth": 0,
              "ticks": ""
             }
            }
           }
          ],
          "scatterternary": [
           {
            "type": "scatterternary",
            "marker": {
             "colorbar": {
              "outlinewidth": 0,
              "ticks": ""
             }
            }
           }
          ],
          "scattercarpet": [
           {
            "type": "scattercarpet",
            "marker": {
             "colorbar": {
              "outlinewidth": 0,
              "ticks": ""
             }
            }
           }
          ],
          "carpet": [
           {
            "aaxis": {
             "endlinecolor": "#A2B1C6",
             "gridcolor": "#506784",
             "linecolor": "#506784",
             "minorgridcolor": "#506784",
             "startlinecolor": "#A2B1C6"
            },
            "baxis": {
             "endlinecolor": "#A2B1C6",
             "gridcolor": "#506784",
             "linecolor": "#506784",
             "minorgridcolor": "#506784",
             "startlinecolor": "#A2B1C6"
            },
            "type": "carpet"
           }
          ],
          "table": [
           {
            "cells": {
             "fill": {
              "color": "#506784"
             },
             "line": {
              "color": "rgb(17,17,17)"
             }
            },
            "header": {
             "fill": {
              "color": "#2a3f5f"
             },
             "line": {
              "color": "rgb(17,17,17)"
             }
            },
            "type": "table"
           }
          ],
          "barpolar": [
           {
            "marker": {
             "line": {
              "color": "rgb(17,17,17)",
              "width": 0.5
             },
             "pattern": {
              "fillmode": "overlay",
              "size": 10,
              "solidity": 0.2
             }
            },
            "type": "barpolar"
           }
          ],
          "pie": [
           {
            "automargin": true,
            "type": "pie"
           }
          ]
         },
         "layout": {
          "autotypenumbers": "strict",
          "colorway": [
           "#636efa",
           "#EF553B",
           "#00cc96",
           "#ab63fa",
           "#FFA15A",
           "#19d3f3",
           "#FF6692",
           "#B6E880",
           "#FF97FF",
           "#FECB52"
          ],
          "font": {
           "color": "#f2f5fa"
          },
          "hovermode": "closest",
          "hoverlabel": {
           "align": "left"
          },
          "paper_bgcolor": "rgb(17,17,17)",
          "plot_bgcolor": "rgb(17,17,17)",
          "polar": {
           "bgcolor": "rgb(17,17,17)",
           "angularaxis": {
            "gridcolor": "#506784",
            "linecolor": "#506784",
            "ticks": ""
           },
           "radialaxis": {
            "gridcolor": "#506784",
            "linecolor": "#506784",
            "ticks": ""
           }
          },
          "ternary": {
           "bgcolor": "rgb(17,17,17)",
           "aaxis": {
            "gridcolor": "#506784",
            "linecolor": "#506784",
            "ticks": ""
           },
           "baxis": {
            "gridcolor": "#506784",
            "linecolor": "#506784",
            "ticks": ""
           },
           "caxis": {
            "gridcolor": "#506784",
            "linecolor": "#506784",
            "ticks": ""
           }
          },
          "coloraxis": {
           "colorbar": {
            "outlinewidth": 0,
            "ticks": ""
           }
          },
          "colorscale": {
           "sequential": [
            [
             0.0,
             "#0d0887"
            ],
            [
             0.1111111111111111,
             "#46039f"
            ],
            [
             0.2222222222222222,
             "#7201a8"
            ],
            [
             0.3333333333333333,
             "#9c179e"
            ],
            [
             0.4444444444444444,
             "#bd3786"
            ],
            [
             0.5555555555555556,
             "#d8576b"
            ],
            [
             0.6666666666666666,
             "#ed7953"
            ],
            [
             0.7777777777777778,
             "#fb9f3a"
            ],
            [
             0.8888888888888888,
             "#fdca26"
            ],
            [
             1.0,
             "#f0f921"
            ]
           ],
           "sequentialminus": [
            [
             0.0,
             "#0d0887"
            ],
            [
             0.1111111111111111,
             "#46039f"
            ],
            [
             0.2222222222222222,
             "#7201a8"
            ],
            [
             0.3333333333333333,
             "#9c179e"
            ],
            [
             0.4444444444444444,
             "#bd3786"
            ],
            [
             0.5555555555555556,
             "#d8576b"
            ],
            [
             0.6666666666666666,
             "#ed7953"
            ],
            [
             0.7777777777777778,
             "#fb9f3a"
            ],
            [
             0.8888888888888888,
             "#fdca26"
            ],
            [
             1.0,
             "#f0f921"
            ]
           ],
           "diverging": [
            [
             0,
             "#8e0152"
            ],
            [
             0.1,
             "#c51b7d"
            ],
            [
             0.2,
             "#de77ae"
            ],
            [
             0.3,
             "#f1b6da"
            ],
            [
             0.4,
             "#fde0ef"
            ],
            [
             0.5,
             "#f7f7f7"
            ],
            [
             0.6,
             "#e6f5d0"
            ],
            [
             0.7,
             "#b8e186"
            ],
            [
             0.8,
             "#7fbc41"
            ],
            [
             0.9,
             "#4d9221"
            ],
            [
             1,
             "#276419"
            ]
           ]
          },
          "xaxis": {
           "gridcolor": "#283442",
           "linecolor": "#506784",
           "ticks": "",
           "title": {
            "standoff": 15
           },
           "zerolinecolor": "#283442",
           "automargin": true,
           "zerolinewidth": 2
          },
          "yaxis": {
           "gridcolor": "#283442",
           "linecolor": "#506784",
           "ticks": "",
           "title": {
            "standoff": 15
           },
           "zerolinecolor": "#283442",
           "automargin": true,
           "zerolinewidth": 2
          },
          "scene": {
           "xaxis": {
            "backgroundcolor": "rgb(17,17,17)",
            "gridcolor": "#506784",
            "linecolor": "#506784",
            "showbackground": true,
            "ticks": "",
            "zerolinecolor": "#C8D4E3",
            "gridwidth": 2
           },
           "yaxis": {
            "backgroundcolor": "rgb(17,17,17)",
            "gridcolor": "#506784",
            "linecolor": "#506784",
            "showbackground": true,
            "ticks": "",
            "zerolinecolor": "#C8D4E3",
            "gridwidth": 2
           },
           "zaxis": {
            "backgroundcolor": "rgb(17,17,17)",
            "gridcolor": "#506784",
            "linecolor": "#506784",
            "showbackground": true,
            "ticks": "",
            "zerolinecolor": "#C8D4E3",
            "gridwidth": 2
           }
          },
          "shapedefaults": {
           "line": {
            "color": "#f2f5fa"
           }
          },
          "annotationdefaults": {
           "arrowcolor": "#f2f5fa",
           "arrowhead": 0,
           "arrowwidth": 1
          },
          "geo": {
           "bgcolor": "rgb(17,17,17)",
           "landcolor": "rgb(17,17,17)",
           "subunitcolor": "#506784",
           "showland": true,
           "showlakes": true,
           "lakecolor": "rgb(17,17,17)"
          },
          "title": {
           "x": 0.05
          },
          "updatemenudefaults": {
           "bgcolor": "#506784",
           "borderwidth": 0
          },
          "sliderdefaults": {
           "bgcolor": "#C8D4E3",
           "borderwidth": 1,
           "bordercolor": "rgb(17,17,17)",
           "tickwidth": 0
          },
          "mapbox": {
           "style": "dark"
          }
         }
        },
        "xaxis": {
         "anchor": "y",
         "domain": [
          0.0,
          1.0
         ],
         "title": {
          "text": "App"
         }
        },
        "yaxis": {
         "anchor": "x",
         "domain": [
          0.0,
          1.0
         ],
         "title": {
          "text": "Installs"
         }
        },
        "coloraxis": {
         "colorbar": {
          "title": {
           "text": "Installs"
          }
         },
         "colorscale": [
          [
           0.0,
           "#0d0887"
          ],
          [
           0.1111111111111111,
           "#46039f"
          ],
          [
           0.2222222222222222,
           "#7201a8"
          ],
          [
           0.3333333333333333,
           "#9c179e"
          ],
          [
           0.4444444444444444,
           "#bd3786"
          ],
          [
           0.5555555555555556,
           "#d8576b"
          ],
          [
           0.6666666666666666,
           "#ed7953"
          ],
          [
           0.7777777777777778,
           "#fb9f3a"
          ],
          [
           0.8888888888888888,
           "#fdca26"
          ],
          [
           1.0,
           "#f0f921"
          ]
         ]
        },
        "legend": {
         "tracegroupgap": 0,
         "itemsizing": "constant"
        },
        "margin": {
         "t": 60
        }
       },
       "config": {
        "plotlyServerURL": "https://plot.ly"
       }
      },
      "text/html": "<div>                            <div id=\"eb2f28ff-4d05-4006-a5cc-de5ae84ad260\" class=\"plotly-graph-div\" style=\"height:525px; width:100%;\"></div>            <script type=\"text/javascript\">                require([\"plotly\"], function(Plotly) {                    window.PLOTLYENV=window.PLOTLYENV || {};                                    if (document.getElementById(\"eb2f28ff-4d05-4006-a5cc-de5ae84ad260\")) {                    Plotly.newPlot(                        \"eb2f28ff-4d05-4006-a5cc-de5ae84ad260\",                        [{\"hovertemplate\":\"App=%{marker.size}\\u003cbr\\u003eInstalls=%{marker.color}\\u003cextra\\u003e\\u003c\\u002fextra\\u003e\",\"legendgroup\":\"\",\"marker\":{\"color\":[15949410,26916200,31116110,39062676,44931100,52083000,53129800,97082000,114233100,140912410,211677750,352852000,361096500,455249400,503267560,503611120,692018120,1096431465,1134006220,1400331540,1532352930,1665791655,2113660000,2369110650,2894859300,3916897200,4437554490,4649143130,5487841475,5788070180,7999724500,11039241530,13858762717],\"coloraxis\":\"coloraxis\",\"size\":[45,42,50,291,54,64,73,62,61,134,94,118,72,296,118,297,262,260,243,180,298,169,102,204,187,148,1606,263,203,301,718,257,910],\"sizemode\":\"area\",\"sizeref\":4.015,\"symbol\":\"circle\"},\"mode\":\"markers\",\"name\":\"\",\"orientation\":\"v\",\"showlegend\":false,\"x\":[45,42,50,291,54,64,73,62,61,134,94,118,72,296,118,297,262,260,243,180,298,169,102,204,187,148,1606,263,203,301,718,257,910],\"xaxis\":\"x\",\"y\":[15949410,26916200,31116110,39062676,44931100,52083000,53129800,97082000,114233100,140912410,211677750,352852000,361096500,455249400,503267560,503611120,692018120,1096431465,1134006220,1400331540,1532352930,1665791655,2113660000,2369110650,2894859300,3916897200,4437554490,4649143130,5487841475,5788070180,7999724500,11039241530,13858762717],\"yaxis\":\"y\",\"type\":\"scatter\"}],                        {\"template\":{\"data\":{\"histogram2dcontour\":[{\"type\":\"histogram2dcontour\",\"colorbar\":{\"outlinewidth\":0,\"ticks\":\"\"},\"colorscale\":[[0.0,\"#0d0887\"],[0.1111111111111111,\"#46039f\"],[0.2222222222222222,\"#7201a8\"],[0.3333333333333333,\"#9c179e\"],[0.4444444444444444,\"#bd3786\"],[0.5555555555555556,\"#d8576b\"],[0.6666666666666666,\"#ed7953\"],[0.7777777777777778,\"#fb9f3a\"],[0.8888888888888888,\"#fdca26\"],[1.0,\"#f0f921\"]]}],\"choropleth\":[{\"type\":\"choropleth\",\"colorbar\":{\"outlinewidth\":0,\"ticks\":\"\"}}],\"histogram2d\":[{\"type\":\"histogram2d\",\"colorbar\":{\"outlinewidth\":0,\"ticks\":\"\"},\"colorscale\":[[0.0,\"#0d0887\"],[0.1111111111111111,\"#46039f\"],[0.2222222222222222,\"#7201a8\"],[0.3333333333333333,\"#9c179e\"],[0.4444444444444444,\"#bd3786\"],[0.5555555555555556,\"#d8576b\"],[0.6666666666666666,\"#ed7953\"],[0.7777777777777778,\"#fb9f3a\"],[0.8888888888888888,\"#fdca26\"],[1.0,\"#f0f921\"]]}],\"heatmap\":[{\"type\":\"heatmap\",\"colorbar\":{\"outlinewidth\":0,\"ticks\":\"\"},\"colorscale\":[[0.0,\"#0d0887\"],[0.1111111111111111,\"#46039f\"],[0.2222222222222222,\"#7201a8\"],[0.3333333333333333,\"#9c179e\"],[0.4444444444444444,\"#bd3786\"],[0.5555555555555556,\"#d8576b\"],[0.6666666666666666,\"#ed7953\"],[0.7777777777777778,\"#fb9f3a\"],[0.8888888888888888,\"#fdca26\"],[1.0,\"#f0f921\"]]}],\"heatmapgl\":[{\"type\":\"heatmapgl\",\"colorbar\":{\"outlinewidth\":0,\"ticks\":\"\"},\"colorscale\":[[0.0,\"#0d0887\"],[0.1111111111111111,\"#46039f\"],[0.2222222222222222,\"#7201a8\"],[0.3333333333333333,\"#9c179e\"],[0.4444444444444444,\"#bd3786\"],[0.5555555555555556,\"#d8576b\"],[0.6666666666666666,\"#ed7953\"],[0.7777777777777778,\"#fb9f3a\"],[0.8888888888888888,\"#fdca26\"],[1.0,\"#f0f921\"]]}],\"contourcarpet\":[{\"type\":\"contourcarpet\",\"colorbar\":{\"outlinewidth\":0,\"ticks\":\"\"}}],\"contour\":[{\"type\":\"contour\",\"colorbar\":{\"outlinewidth\":0,\"ticks\":\"\"},\"colorscale\":[[0.0,\"#0d0887\"],[0.1111111111111111,\"#46039f\"],[0.2222222222222222,\"#7201a8\"],[0.3333333333333333,\"#9c179e\"],[0.4444444444444444,\"#bd3786\"],[0.5555555555555556,\"#d8576b\"],[0.6666666666666666,\"#ed7953\"],[0.7777777777777778,\"#fb9f3a\"],[0.8888888888888888,\"#fdca26\"],[1.0,\"#f0f921\"]]}],\"surface\":[{\"type\":\"surface\",\"colorbar\":{\"outlinewidth\":0,\"ticks\":\"\"},\"colorscale\":[[0.0,\"#0d0887\"],[0.1111111111111111,\"#46039f\"],[0.2222222222222222,\"#7201a8\"],[0.3333333333333333,\"#9c179e\"],[0.4444444444444444,\"#bd3786\"],[0.5555555555555556,\"#d8576b\"],[0.6666666666666666,\"#ed7953\"],[0.7777777777777778,\"#fb9f3a\"],[0.8888888888888888,\"#fdca26\"],[1.0,\"#f0f921\"]]}],\"mesh3d\":[{\"type\":\"mesh3d\",\"colorbar\":{\"outlinewidth\":0,\"ticks\":\"\"}}],\"scatter\":[{\"marker\":{\"line\":{\"color\":\"#283442\"}},\"type\":\"scatter\"}],\"parcoords\":[{\"type\":\"parcoords\",\"line\":{\"colorbar\":{\"outlinewidth\":0,\"ticks\":\"\"}}}],\"scatterpolargl\":[{\"type\":\"scatterpolargl\",\"marker\":{\"colorbar\":{\"outlinewidth\":0,\"ticks\":\"\"}}}],\"bar\":[{\"error_x\":{\"color\":\"#f2f5fa\"},\"error_y\":{\"color\":\"#f2f5fa\"},\"marker\":{\"line\":{\"color\":\"rgb(17,17,17)\",\"width\":0.5},\"pattern\":{\"fillmode\":\"overlay\",\"size\":10,\"solidity\":0.2}},\"type\":\"bar\"}],\"scattergeo\":[{\"type\":\"scattergeo\",\"marker\":{\"colorbar\":{\"outlinewidth\":0,\"ticks\":\"\"}}}],\"scatterpolar\":[{\"type\":\"scatterpolar\",\"marker\":{\"colorbar\":{\"outlinewidth\":0,\"ticks\":\"\"}}}],\"histogram\":[{\"marker\":{\"pattern\":{\"fillmode\":\"overlay\",\"size\":10,\"solidity\":0.2}},\"type\":\"histogram\"}],\"scattergl\":[{\"marker\":{\"line\":{\"color\":\"#283442\"}},\"type\":\"scattergl\"}],\"scatter3d\":[{\"type\":\"scatter3d\",\"line\":{\"colorbar\":{\"outlinewidth\":0,\"ticks\":\"\"}},\"marker\":{\"colorbar\":{\"outlinewidth\":0,\"ticks\":\"\"}}}],\"scattermapbox\":[{\"type\":\"scattermapbox\",\"marker\":{\"colorbar\":{\"outlinewidth\":0,\"ticks\":\"\"}}}],\"scatterternary\":[{\"type\":\"scatterternary\",\"marker\":{\"colorbar\":{\"outlinewidth\":0,\"ticks\":\"\"}}}],\"scattercarpet\":[{\"type\":\"scattercarpet\",\"marker\":{\"colorbar\":{\"outlinewidth\":0,\"ticks\":\"\"}}}],\"carpet\":[{\"aaxis\":{\"endlinecolor\":\"#A2B1C6\",\"gridcolor\":\"#506784\",\"linecolor\":\"#506784\",\"minorgridcolor\":\"#506784\",\"startlinecolor\":\"#A2B1C6\"},\"baxis\":{\"endlinecolor\":\"#A2B1C6\",\"gridcolor\":\"#506784\",\"linecolor\":\"#506784\",\"minorgridcolor\":\"#506784\",\"startlinecolor\":\"#A2B1C6\"},\"type\":\"carpet\"}],\"table\":[{\"cells\":{\"fill\":{\"color\":\"#506784\"},\"line\":{\"color\":\"rgb(17,17,17)\"}},\"header\":{\"fill\":{\"color\":\"#2a3f5f\"},\"line\":{\"color\":\"rgb(17,17,17)\"}},\"type\":\"table\"}],\"barpolar\":[{\"marker\":{\"line\":{\"color\":\"rgb(17,17,17)\",\"width\":0.5},\"pattern\":{\"fillmode\":\"overlay\",\"size\":10,\"solidity\":0.2}},\"type\":\"barpolar\"}],\"pie\":[{\"automargin\":true,\"type\":\"pie\"}]},\"layout\":{\"autotypenumbers\":\"strict\",\"colorway\":[\"#636efa\",\"#EF553B\",\"#00cc96\",\"#ab63fa\",\"#FFA15A\",\"#19d3f3\",\"#FF6692\",\"#B6E880\",\"#FF97FF\",\"#FECB52\"],\"font\":{\"color\":\"#f2f5fa\"},\"hovermode\":\"closest\",\"hoverlabel\":{\"align\":\"left\"},\"paper_bgcolor\":\"rgb(17,17,17)\",\"plot_bgcolor\":\"rgb(17,17,17)\",\"polar\":{\"bgcolor\":\"rgb(17,17,17)\",\"angularaxis\":{\"gridcolor\":\"#506784\",\"linecolor\":\"#506784\",\"ticks\":\"\"},\"radialaxis\":{\"gridcolor\":\"#506784\",\"linecolor\":\"#506784\",\"ticks\":\"\"}},\"ternary\":{\"bgcolor\":\"rgb(17,17,17)\",\"aaxis\":{\"gridcolor\":\"#506784\",\"linecolor\":\"#506784\",\"ticks\":\"\"},\"baxis\":{\"gridcolor\":\"#506784\",\"linecolor\":\"#506784\",\"ticks\":\"\"},\"caxis\":{\"gridcolor\":\"#506784\",\"linecolor\":\"#506784\",\"ticks\":\"\"}},\"coloraxis\":{\"colorbar\":{\"outlinewidth\":0,\"ticks\":\"\"}},\"colorscale\":{\"sequential\":[[0.0,\"#0d0887\"],[0.1111111111111111,\"#46039f\"],[0.2222222222222222,\"#7201a8\"],[0.3333333333333333,\"#9c179e\"],[0.4444444444444444,\"#bd3786\"],[0.5555555555555556,\"#d8576b\"],[0.6666666666666666,\"#ed7953\"],[0.7777777777777778,\"#fb9f3a\"],[0.8888888888888888,\"#fdca26\"],[1.0,\"#f0f921\"]],\"sequentialminus\":[[0.0,\"#0d0887\"],[0.1111111111111111,\"#46039f\"],[0.2222222222222222,\"#7201a8\"],[0.3333333333333333,\"#9c179e\"],[0.4444444444444444,\"#bd3786\"],[0.5555555555555556,\"#d8576b\"],[0.6666666666666666,\"#ed7953\"],[0.7777777777777778,\"#fb9f3a\"],[0.8888888888888888,\"#fdca26\"],[1.0,\"#f0f921\"]],\"diverging\":[[0,\"#8e0152\"],[0.1,\"#c51b7d\"],[0.2,\"#de77ae\"],[0.3,\"#f1b6da\"],[0.4,\"#fde0ef\"],[0.5,\"#f7f7f7\"],[0.6,\"#e6f5d0\"],[0.7,\"#b8e186\"],[0.8,\"#7fbc41\"],[0.9,\"#4d9221\"],[1,\"#276419\"]]},\"xaxis\":{\"gridcolor\":\"#283442\",\"linecolor\":\"#506784\",\"ticks\":\"\",\"title\":{\"standoff\":15},\"zerolinecolor\":\"#283442\",\"automargin\":true,\"zerolinewidth\":2},\"yaxis\":{\"gridcolor\":\"#283442\",\"linecolor\":\"#506784\",\"ticks\":\"\",\"title\":{\"standoff\":15},\"zerolinecolor\":\"#283442\",\"automargin\":true,\"zerolinewidth\":2},\"scene\":{\"xaxis\":{\"backgroundcolor\":\"rgb(17,17,17)\",\"gridcolor\":\"#506784\",\"linecolor\":\"#506784\",\"showbackground\":true,\"ticks\":\"\",\"zerolinecolor\":\"#C8D4E3\",\"gridwidth\":2},\"yaxis\":{\"backgroundcolor\":\"rgb(17,17,17)\",\"gridcolor\":\"#506784\",\"linecolor\":\"#506784\",\"showbackground\":true,\"ticks\":\"\",\"zerolinecolor\":\"#C8D4E3\",\"gridwidth\":2},\"zaxis\":{\"backgroundcolor\":\"rgb(17,17,17)\",\"gridcolor\":\"#506784\",\"linecolor\":\"#506784\",\"showbackground\":true,\"ticks\":\"\",\"zerolinecolor\":\"#C8D4E3\",\"gridwidth\":2}},\"shapedefaults\":{\"line\":{\"color\":\"#f2f5fa\"}},\"annotationdefaults\":{\"arrowcolor\":\"#f2f5fa\",\"arrowhead\":0,\"arrowwidth\":1},\"geo\":{\"bgcolor\":\"rgb(17,17,17)\",\"landcolor\":\"rgb(17,17,17)\",\"subunitcolor\":\"#506784\",\"showland\":true,\"showlakes\":true,\"lakecolor\":\"rgb(17,17,17)\"},\"title\":{\"x\":0.05},\"updatemenudefaults\":{\"bgcolor\":\"#506784\",\"borderwidth\":0},\"sliderdefaults\":{\"bgcolor\":\"#C8D4E3\",\"borderwidth\":1,\"bordercolor\":\"rgb(17,17,17)\",\"tickwidth\":0},\"mapbox\":{\"style\":\"dark\"}}},\"xaxis\":{\"anchor\":\"y\",\"domain\":[0.0,1.0],\"title\":{\"text\":\"App\"}},\"yaxis\":{\"anchor\":\"x\",\"domain\":[0.0,1.0],\"title\":{\"text\":\"Installs\"}},\"coloraxis\":{\"colorbar\":{\"title\":{\"text\":\"Installs\"}},\"colorscale\":[[0.0,\"#0d0887\"],[0.1111111111111111,\"#46039f\"],[0.2222222222222222,\"#7201a8\"],[0.3333333333333333,\"#9c179e\"],[0.4444444444444444,\"#bd3786\"],[0.5555555555555556,\"#d8576b\"],[0.6666666666666666,\"#ed7953\"],[0.7777777777777778,\"#fb9f3a\"],[0.8888888888888888,\"#fdca26\"],[1.0,\"#f0f921\"]]},\"legend\":{\"tracegroupgap\":0,\"itemsizing\":\"constant\"},\"margin\":{\"t\":60}},                        {\"responsive\": true}                    ).then(function(){\n                            \nvar gd = document.getElementById('eb2f28ff-4d05-4006-a5cc-de5ae84ad260');\nvar x = new MutationObserver(function (mutations, observer) {{\n        var display = window.getComputedStyle(gd).display;\n        if (!display || display === 'none') {{\n            console.log([gd, 'removed!']);\n            Plotly.purge(gd);\n            observer.disconnect();\n        }}\n}});\n\n// Listen for the removal of the full notebook cells\nvar notebookContainer = gd.closest('#notebook-container');\nif (notebookContainer) {{\n    x.observe(notebookContainer, {childList: true});\n}}\n\n// Listen for the clearing of the current output cell\nvar outputEl = gd.closest('.output');\nif (outputEl) {{\n    x.observe(outputEl, {childList: true});\n}}\n\n                        })                };                });            </script>        </div>"
     },
     "metadata": {},
     "output_type": "display_data"
    }
   ]
  },
  {
   "cell_type": "markdown",
   "metadata": {
    "id": "dmXDF75WdiVC"
   },
   "source": [
    "# Extracting Nested Data from a Column\n",
    "\n",
    "**Challenge**: How many different types of genres are there? Can an app belong to more than one genre? Check what happens when you use .value_counts() on a column with nested values? See if you can work around this problem by using the .split() function and the DataFrame's [.stack() method](https://pandas.pydata.org/pandas-docs/stable/reference/api/pandas.DataFrame.stack.html). \n"
   ]
  },
  {
   "cell_type": "code",
   "metadata": {
    "id": "3Lo69kS6ogdm",
    "ExecuteTime": {
     "end_time": "2023-10-13T09:59:11.361747400Z",
     "start_time": "2023-10-13T09:59:08.101864100Z"
    }
   },
   "source": [
    "df_apps_clean.Genres.value_counts()"
   ],
   "execution_count": 284,
   "outputs": [
    {
     "data": {
      "text/plain": "Genres\nTools                                717\nEntertainment                        467\nEducation                            429\nProductivity                         301\nPersonalization                      298\n                                    ... \nAdventure;Brain Games                  1\nTravel & Local;Action & Adventure      1\nArt & Design;Pretend Play              1\nMusic & Audio;Music & Video            1\nLifestyle;Pretend Play                 1\nName: count, Length: 114, dtype: int64"
     },
     "execution_count": 284,
     "metadata": {},
     "output_type": "execute_result"
    }
   ]
  },
  {
   "cell_type": "code",
   "execution_count": 285,
   "outputs": [],
   "source": [
    "stack = df_apps_clean.Genres.str.split(\";\", expand=True).stack()"
   ],
   "metadata": {
    "collapsed": false,
    "ExecuteTime": {
     "end_time": "2023-10-13T09:59:11.361747400Z",
     "start_time": "2023-10-13T09:59:08.131830500Z"
    }
   }
  },
  {
   "cell_type": "code",
   "execution_count": 286,
   "outputs": [
    {
     "data": {
      "text/plain": "Index(['count'], dtype='object')"
     },
     "execution_count": 286,
     "metadata": {},
     "output_type": "execute_result"
    }
   ],
   "source": [
    "stack_df = pd.DataFrame(stack.value_counts())\n",
    "stack_df.columns"
   ],
   "metadata": {
    "collapsed": false,
    "ExecuteTime": {
     "end_time": "2023-10-13T09:59:11.361747400Z",
     "start_time": "2023-10-13T09:59:08.179592100Z"
    }
   }
  },
  {
   "cell_type": "markdown",
   "metadata": {
    "id": "F3zaKvfydiVI"
   },
   "source": [
    "# Colour Scales in Plotly Charts - Competition in Genres"
   ]
  },
  {
   "cell_type": "markdown",
   "metadata": {
    "id": "Ucw6RT59diVK"
   },
   "source": [
    "**Challenge**: Can you create this chart with the Series containing the genre data? \n",
    "\n",
    "<img src=https://imgur.com/DbcoQli.png width=400>\n",
    "\n",
    "Try experimenting with the built in colour scales in Plotly. You can find a full list [here](https://plotly.com/python/builtin-colorscales/). \n",
    "\n",
    "* Find a way to set the colour scale using the color_continuous_scale parameter. \n",
    "* Find a way to make the color axis disappear by using coloraxis_showscale. "
   ]
  },
  {
   "cell_type": "code",
   "metadata": {
    "id": "c5xbfMgxojoA",
    "ExecuteTime": {
     "end_time": "2023-10-13T09:59:11.361747400Z",
     "start_time": "2023-10-13T09:59:08.210889500Z"
    }
   },
   "source": [
    "fig = px.bar(stack_df[:10], x=stack_df[:10].index, y=stack_df[:10][\"count\"], color=stack_df[:10][\"count\"], color_continuous_scale=\"bluered\")\n",
    "fig.update_layout(coloraxis_showscale=False)"
   ],
   "execution_count": 287,
   "outputs": [
    {
     "data": {
      "application/vnd.plotly.v1+json": {
       "data": [
        {
         "alignmentgroup": "True",
         "hovertemplate": "x=%{x}<br>y=%{y}<br>color=%{marker.color}<extra></extra>",
         "legendgroup": "",
         "marker": {
          "color": [
           718,
           587,
           498,
           304,
           301,
           298,
           298,
           296,
           291,
           270
          ],
          "coloraxis": "coloraxis",
          "pattern": {
           "shape": ""
          }
         },
         "name": "",
         "offsetgroup": "",
         "orientation": "v",
         "showlegend": false,
         "textposition": "auto",
         "x": [
          "Tools",
          "Education",
          "Entertainment",
          "Action",
          "Productivity",
          "Personalization",
          "Lifestyle",
          "Finance",
          "Medical",
          "Sports"
         ],
         "xaxis": "x",
         "y": [
          718,
          587,
          498,
          304,
          301,
          298,
          298,
          296,
          291,
          270
         ],
         "yaxis": "y",
         "type": "bar"
        }
       ],
       "layout": {
        "template": {
         "data": {
          "histogram2dcontour": [
           {
            "type": "histogram2dcontour",
            "colorbar": {
             "outlinewidth": 0,
             "ticks": ""
            },
            "colorscale": [
             [
              0.0,
              "#0d0887"
             ],
             [
              0.1111111111111111,
              "#46039f"
             ],
             [
              0.2222222222222222,
              "#7201a8"
             ],
             [
              0.3333333333333333,
              "#9c179e"
             ],
             [
              0.4444444444444444,
              "#bd3786"
             ],
             [
              0.5555555555555556,
              "#d8576b"
             ],
             [
              0.6666666666666666,
              "#ed7953"
             ],
             [
              0.7777777777777778,
              "#fb9f3a"
             ],
             [
              0.8888888888888888,
              "#fdca26"
             ],
             [
              1.0,
              "#f0f921"
             ]
            ]
           }
          ],
          "choropleth": [
           {
            "type": "choropleth",
            "colorbar": {
             "outlinewidth": 0,
             "ticks": ""
            }
           }
          ],
          "histogram2d": [
           {
            "type": "histogram2d",
            "colorbar": {
             "outlinewidth": 0,
             "ticks": ""
            },
            "colorscale": [
             [
              0.0,
              "#0d0887"
             ],
             [
              0.1111111111111111,
              "#46039f"
             ],
             [
              0.2222222222222222,
              "#7201a8"
             ],
             [
              0.3333333333333333,
              "#9c179e"
             ],
             [
              0.4444444444444444,
              "#bd3786"
             ],
             [
              0.5555555555555556,
              "#d8576b"
             ],
             [
              0.6666666666666666,
              "#ed7953"
             ],
             [
              0.7777777777777778,
              "#fb9f3a"
             ],
             [
              0.8888888888888888,
              "#fdca26"
             ],
             [
              1.0,
              "#f0f921"
             ]
            ]
           }
          ],
          "heatmap": [
           {
            "type": "heatmap",
            "colorbar": {
             "outlinewidth": 0,
             "ticks": ""
            },
            "colorscale": [
             [
              0.0,
              "#0d0887"
             ],
             [
              0.1111111111111111,
              "#46039f"
             ],
             [
              0.2222222222222222,
              "#7201a8"
             ],
             [
              0.3333333333333333,
              "#9c179e"
             ],
             [
              0.4444444444444444,
              "#bd3786"
             ],
             [
              0.5555555555555556,
              "#d8576b"
             ],
             [
              0.6666666666666666,
              "#ed7953"
             ],
             [
              0.7777777777777778,
              "#fb9f3a"
             ],
             [
              0.8888888888888888,
              "#fdca26"
             ],
             [
              1.0,
              "#f0f921"
             ]
            ]
           }
          ],
          "heatmapgl": [
           {
            "type": "heatmapgl",
            "colorbar": {
             "outlinewidth": 0,
             "ticks": ""
            },
            "colorscale": [
             [
              0.0,
              "#0d0887"
             ],
             [
              0.1111111111111111,
              "#46039f"
             ],
             [
              0.2222222222222222,
              "#7201a8"
             ],
             [
              0.3333333333333333,
              "#9c179e"
             ],
             [
              0.4444444444444444,
              "#bd3786"
             ],
             [
              0.5555555555555556,
              "#d8576b"
             ],
             [
              0.6666666666666666,
              "#ed7953"
             ],
             [
              0.7777777777777778,
              "#fb9f3a"
             ],
             [
              0.8888888888888888,
              "#fdca26"
             ],
             [
              1.0,
              "#f0f921"
             ]
            ]
           }
          ],
          "contourcarpet": [
           {
            "type": "contourcarpet",
            "colorbar": {
             "outlinewidth": 0,
             "ticks": ""
            }
           }
          ],
          "contour": [
           {
            "type": "contour",
            "colorbar": {
             "outlinewidth": 0,
             "ticks": ""
            },
            "colorscale": [
             [
              0.0,
              "#0d0887"
             ],
             [
              0.1111111111111111,
              "#46039f"
             ],
             [
              0.2222222222222222,
              "#7201a8"
             ],
             [
              0.3333333333333333,
              "#9c179e"
             ],
             [
              0.4444444444444444,
              "#bd3786"
             ],
             [
              0.5555555555555556,
              "#d8576b"
             ],
             [
              0.6666666666666666,
              "#ed7953"
             ],
             [
              0.7777777777777778,
              "#fb9f3a"
             ],
             [
              0.8888888888888888,
              "#fdca26"
             ],
             [
              1.0,
              "#f0f921"
             ]
            ]
           }
          ],
          "surface": [
           {
            "type": "surface",
            "colorbar": {
             "outlinewidth": 0,
             "ticks": ""
            },
            "colorscale": [
             [
              0.0,
              "#0d0887"
             ],
             [
              0.1111111111111111,
              "#46039f"
             ],
             [
              0.2222222222222222,
              "#7201a8"
             ],
             [
              0.3333333333333333,
              "#9c179e"
             ],
             [
              0.4444444444444444,
              "#bd3786"
             ],
             [
              0.5555555555555556,
              "#d8576b"
             ],
             [
              0.6666666666666666,
              "#ed7953"
             ],
             [
              0.7777777777777778,
              "#fb9f3a"
             ],
             [
              0.8888888888888888,
              "#fdca26"
             ],
             [
              1.0,
              "#f0f921"
             ]
            ]
           }
          ],
          "mesh3d": [
           {
            "type": "mesh3d",
            "colorbar": {
             "outlinewidth": 0,
             "ticks": ""
            }
           }
          ],
          "scatter": [
           {
            "marker": {
             "line": {
              "color": "#283442"
             }
            },
            "type": "scatter"
           }
          ],
          "parcoords": [
           {
            "type": "parcoords",
            "line": {
             "colorbar": {
              "outlinewidth": 0,
              "ticks": ""
             }
            }
           }
          ],
          "scatterpolargl": [
           {
            "type": "scatterpolargl",
            "marker": {
             "colorbar": {
              "outlinewidth": 0,
              "ticks": ""
             }
            }
           }
          ],
          "bar": [
           {
            "error_x": {
             "color": "#f2f5fa"
            },
            "error_y": {
             "color": "#f2f5fa"
            },
            "marker": {
             "line": {
              "color": "rgb(17,17,17)",
              "width": 0.5
             },
             "pattern": {
              "fillmode": "overlay",
              "size": 10,
              "solidity": 0.2
             }
            },
            "type": "bar"
           }
          ],
          "scattergeo": [
           {
            "type": "scattergeo",
            "marker": {
             "colorbar": {
              "outlinewidth": 0,
              "ticks": ""
             }
            }
           }
          ],
          "scatterpolar": [
           {
            "type": "scatterpolar",
            "marker": {
             "colorbar": {
              "outlinewidth": 0,
              "ticks": ""
             }
            }
           }
          ],
          "histogram": [
           {
            "marker": {
             "pattern": {
              "fillmode": "overlay",
              "size": 10,
              "solidity": 0.2
             }
            },
            "type": "histogram"
           }
          ],
          "scattergl": [
           {
            "marker": {
             "line": {
              "color": "#283442"
             }
            },
            "type": "scattergl"
           }
          ],
          "scatter3d": [
           {
            "type": "scatter3d",
            "line": {
             "colorbar": {
              "outlinewidth": 0,
              "ticks": ""
             }
            },
            "marker": {
             "colorbar": {
              "outlinewidth": 0,
              "ticks": ""
             }
            }
           }
          ],
          "scattermapbox": [
           {
            "type": "scattermapbox",
            "marker": {
             "colorbar": {
              "outlinewidth": 0,
              "ticks": ""
             }
            }
           }
          ],
          "scatterternary": [
           {
            "type": "scatterternary",
            "marker": {
             "colorbar": {
              "outlinewidth": 0,
              "ticks": ""
             }
            }
           }
          ],
          "scattercarpet": [
           {
            "type": "scattercarpet",
            "marker": {
             "colorbar": {
              "outlinewidth": 0,
              "ticks": ""
             }
            }
           }
          ],
          "carpet": [
           {
            "aaxis": {
             "endlinecolor": "#A2B1C6",
             "gridcolor": "#506784",
             "linecolor": "#506784",
             "minorgridcolor": "#506784",
             "startlinecolor": "#A2B1C6"
            },
            "baxis": {
             "endlinecolor": "#A2B1C6",
             "gridcolor": "#506784",
             "linecolor": "#506784",
             "minorgridcolor": "#506784",
             "startlinecolor": "#A2B1C6"
            },
            "type": "carpet"
           }
          ],
          "table": [
           {
            "cells": {
             "fill": {
              "color": "#506784"
             },
             "line": {
              "color": "rgb(17,17,17)"
             }
            },
            "header": {
             "fill": {
              "color": "#2a3f5f"
             },
             "line": {
              "color": "rgb(17,17,17)"
             }
            },
            "type": "table"
           }
          ],
          "barpolar": [
           {
            "marker": {
             "line": {
              "color": "rgb(17,17,17)",
              "width": 0.5
             },
             "pattern": {
              "fillmode": "overlay",
              "size": 10,
              "solidity": 0.2
             }
            },
            "type": "barpolar"
           }
          ],
          "pie": [
           {
            "automargin": true,
            "type": "pie"
           }
          ]
         },
         "layout": {
          "autotypenumbers": "strict",
          "colorway": [
           "#636efa",
           "#EF553B",
           "#00cc96",
           "#ab63fa",
           "#FFA15A",
           "#19d3f3",
           "#FF6692",
           "#B6E880",
           "#FF97FF",
           "#FECB52"
          ],
          "font": {
           "color": "#f2f5fa"
          },
          "hovermode": "closest",
          "hoverlabel": {
           "align": "left"
          },
          "paper_bgcolor": "rgb(17,17,17)",
          "plot_bgcolor": "rgb(17,17,17)",
          "polar": {
           "bgcolor": "rgb(17,17,17)",
           "angularaxis": {
            "gridcolor": "#506784",
            "linecolor": "#506784",
            "ticks": ""
           },
           "radialaxis": {
            "gridcolor": "#506784",
            "linecolor": "#506784",
            "ticks": ""
           }
          },
          "ternary": {
           "bgcolor": "rgb(17,17,17)",
           "aaxis": {
            "gridcolor": "#506784",
            "linecolor": "#506784",
            "ticks": ""
           },
           "baxis": {
            "gridcolor": "#506784",
            "linecolor": "#506784",
            "ticks": ""
           },
           "caxis": {
            "gridcolor": "#506784",
            "linecolor": "#506784",
            "ticks": ""
           }
          },
          "coloraxis": {
           "colorbar": {
            "outlinewidth": 0,
            "ticks": ""
           }
          },
          "colorscale": {
           "sequential": [
            [
             0.0,
             "#0d0887"
            ],
            [
             0.1111111111111111,
             "#46039f"
            ],
            [
             0.2222222222222222,
             "#7201a8"
            ],
            [
             0.3333333333333333,
             "#9c179e"
            ],
            [
             0.4444444444444444,
             "#bd3786"
            ],
            [
             0.5555555555555556,
             "#d8576b"
            ],
            [
             0.6666666666666666,
             "#ed7953"
            ],
            [
             0.7777777777777778,
             "#fb9f3a"
            ],
            [
             0.8888888888888888,
             "#fdca26"
            ],
            [
             1.0,
             "#f0f921"
            ]
           ],
           "sequentialminus": [
            [
             0.0,
             "#0d0887"
            ],
            [
             0.1111111111111111,
             "#46039f"
            ],
            [
             0.2222222222222222,
             "#7201a8"
            ],
            [
             0.3333333333333333,
             "#9c179e"
            ],
            [
             0.4444444444444444,
             "#bd3786"
            ],
            [
             0.5555555555555556,
             "#d8576b"
            ],
            [
             0.6666666666666666,
             "#ed7953"
            ],
            [
             0.7777777777777778,
             "#fb9f3a"
            ],
            [
             0.8888888888888888,
             "#fdca26"
            ],
            [
             1.0,
             "#f0f921"
            ]
           ],
           "diverging": [
            [
             0,
             "#8e0152"
            ],
            [
             0.1,
             "#c51b7d"
            ],
            [
             0.2,
             "#de77ae"
            ],
            [
             0.3,
             "#f1b6da"
            ],
            [
             0.4,
             "#fde0ef"
            ],
            [
             0.5,
             "#f7f7f7"
            ],
            [
             0.6,
             "#e6f5d0"
            ],
            [
             0.7,
             "#b8e186"
            ],
            [
             0.8,
             "#7fbc41"
            ],
            [
             0.9,
             "#4d9221"
            ],
            [
             1,
             "#276419"
            ]
           ]
          },
          "xaxis": {
           "gridcolor": "#283442",
           "linecolor": "#506784",
           "ticks": "",
           "title": {
            "standoff": 15
           },
           "zerolinecolor": "#283442",
           "automargin": true,
           "zerolinewidth": 2
          },
          "yaxis": {
           "gridcolor": "#283442",
           "linecolor": "#506784",
           "ticks": "",
           "title": {
            "standoff": 15
           },
           "zerolinecolor": "#283442",
           "automargin": true,
           "zerolinewidth": 2
          },
          "scene": {
           "xaxis": {
            "backgroundcolor": "rgb(17,17,17)",
            "gridcolor": "#506784",
            "linecolor": "#506784",
            "showbackground": true,
            "ticks": "",
            "zerolinecolor": "#C8D4E3",
            "gridwidth": 2
           },
           "yaxis": {
            "backgroundcolor": "rgb(17,17,17)",
            "gridcolor": "#506784",
            "linecolor": "#506784",
            "showbackground": true,
            "ticks": "",
            "zerolinecolor": "#C8D4E3",
            "gridwidth": 2
           },
           "zaxis": {
            "backgroundcolor": "rgb(17,17,17)",
            "gridcolor": "#506784",
            "linecolor": "#506784",
            "showbackground": true,
            "ticks": "",
            "zerolinecolor": "#C8D4E3",
            "gridwidth": 2
           }
          },
          "shapedefaults": {
           "line": {
            "color": "#f2f5fa"
           }
          },
          "annotationdefaults": {
           "arrowcolor": "#f2f5fa",
           "arrowhead": 0,
           "arrowwidth": 1
          },
          "geo": {
           "bgcolor": "rgb(17,17,17)",
           "landcolor": "rgb(17,17,17)",
           "subunitcolor": "#506784",
           "showland": true,
           "showlakes": true,
           "lakecolor": "rgb(17,17,17)"
          },
          "title": {
           "x": 0.05
          },
          "updatemenudefaults": {
           "bgcolor": "#506784",
           "borderwidth": 0
          },
          "sliderdefaults": {
           "bgcolor": "#C8D4E3",
           "borderwidth": 1,
           "bordercolor": "rgb(17,17,17)",
           "tickwidth": 0
          },
          "mapbox": {
           "style": "dark"
          }
         }
        },
        "xaxis": {
         "anchor": "y",
         "domain": [
          0.0,
          1.0
         ],
         "title": {
          "text": "x"
         }
        },
        "yaxis": {
         "anchor": "x",
         "domain": [
          0.0,
          1.0
         ],
         "title": {
          "text": "y"
         }
        },
        "coloraxis": {
         "colorbar": {
          "title": {
           "text": "color"
          }
         },
         "colorscale": [
          [
           0.0,
           "rgb(0,0,255)"
          ],
          [
           1.0,
           "rgb(255,0,0)"
          ]
         ],
         "showscale": false
        },
        "legend": {
         "tracegroupgap": 0
        },
        "margin": {
         "t": 60
        },
        "barmode": "relative"
       },
       "config": {
        "plotlyServerURL": "https://plot.ly"
       }
      },
      "text/html": "<div>                            <div id=\"26e6347e-ce02-4c30-93d2-73d17f2c2d2d\" class=\"plotly-graph-div\" style=\"height:525px; width:100%;\"></div>            <script type=\"text/javascript\">                require([\"plotly\"], function(Plotly) {                    window.PLOTLYENV=window.PLOTLYENV || {};                                    if (document.getElementById(\"26e6347e-ce02-4c30-93d2-73d17f2c2d2d\")) {                    Plotly.newPlot(                        \"26e6347e-ce02-4c30-93d2-73d17f2c2d2d\",                        [{\"alignmentgroup\":\"True\",\"hovertemplate\":\"x=%{x}\\u003cbr\\u003ey=%{y}\\u003cbr\\u003ecolor=%{marker.color}\\u003cextra\\u003e\\u003c\\u002fextra\\u003e\",\"legendgroup\":\"\",\"marker\":{\"color\":[718,587,498,304,301,298,298,296,291,270],\"coloraxis\":\"coloraxis\",\"pattern\":{\"shape\":\"\"}},\"name\":\"\",\"offsetgroup\":\"\",\"orientation\":\"v\",\"showlegend\":false,\"textposition\":\"auto\",\"x\":[\"Tools\",\"Education\",\"Entertainment\",\"Action\",\"Productivity\",\"Personalization\",\"Lifestyle\",\"Finance\",\"Medical\",\"Sports\"],\"xaxis\":\"x\",\"y\":[718,587,498,304,301,298,298,296,291,270],\"yaxis\":\"y\",\"type\":\"bar\"}],                        {\"template\":{\"data\":{\"histogram2dcontour\":[{\"type\":\"histogram2dcontour\",\"colorbar\":{\"outlinewidth\":0,\"ticks\":\"\"},\"colorscale\":[[0.0,\"#0d0887\"],[0.1111111111111111,\"#46039f\"],[0.2222222222222222,\"#7201a8\"],[0.3333333333333333,\"#9c179e\"],[0.4444444444444444,\"#bd3786\"],[0.5555555555555556,\"#d8576b\"],[0.6666666666666666,\"#ed7953\"],[0.7777777777777778,\"#fb9f3a\"],[0.8888888888888888,\"#fdca26\"],[1.0,\"#f0f921\"]]}],\"choropleth\":[{\"type\":\"choropleth\",\"colorbar\":{\"outlinewidth\":0,\"ticks\":\"\"}}],\"histogram2d\":[{\"type\":\"histogram2d\",\"colorbar\":{\"outlinewidth\":0,\"ticks\":\"\"},\"colorscale\":[[0.0,\"#0d0887\"],[0.1111111111111111,\"#46039f\"],[0.2222222222222222,\"#7201a8\"],[0.3333333333333333,\"#9c179e\"],[0.4444444444444444,\"#bd3786\"],[0.5555555555555556,\"#d8576b\"],[0.6666666666666666,\"#ed7953\"],[0.7777777777777778,\"#fb9f3a\"],[0.8888888888888888,\"#fdca26\"],[1.0,\"#f0f921\"]]}],\"heatmap\":[{\"type\":\"heatmap\",\"colorbar\":{\"outlinewidth\":0,\"ticks\":\"\"},\"colorscale\":[[0.0,\"#0d0887\"],[0.1111111111111111,\"#46039f\"],[0.2222222222222222,\"#7201a8\"],[0.3333333333333333,\"#9c179e\"],[0.4444444444444444,\"#bd3786\"],[0.5555555555555556,\"#d8576b\"],[0.6666666666666666,\"#ed7953\"],[0.7777777777777778,\"#fb9f3a\"],[0.8888888888888888,\"#fdca26\"],[1.0,\"#f0f921\"]]}],\"heatmapgl\":[{\"type\":\"heatmapgl\",\"colorbar\":{\"outlinewidth\":0,\"ticks\":\"\"},\"colorscale\":[[0.0,\"#0d0887\"],[0.1111111111111111,\"#46039f\"],[0.2222222222222222,\"#7201a8\"],[0.3333333333333333,\"#9c179e\"],[0.4444444444444444,\"#bd3786\"],[0.5555555555555556,\"#d8576b\"],[0.6666666666666666,\"#ed7953\"],[0.7777777777777778,\"#fb9f3a\"],[0.8888888888888888,\"#fdca26\"],[1.0,\"#f0f921\"]]}],\"contourcarpet\":[{\"type\":\"contourcarpet\",\"colorbar\":{\"outlinewidth\":0,\"ticks\":\"\"}}],\"contour\":[{\"type\":\"contour\",\"colorbar\":{\"outlinewidth\":0,\"ticks\":\"\"},\"colorscale\":[[0.0,\"#0d0887\"],[0.1111111111111111,\"#46039f\"],[0.2222222222222222,\"#7201a8\"],[0.3333333333333333,\"#9c179e\"],[0.4444444444444444,\"#bd3786\"],[0.5555555555555556,\"#d8576b\"],[0.6666666666666666,\"#ed7953\"],[0.7777777777777778,\"#fb9f3a\"],[0.8888888888888888,\"#fdca26\"],[1.0,\"#f0f921\"]]}],\"surface\":[{\"type\":\"surface\",\"colorbar\":{\"outlinewidth\":0,\"ticks\":\"\"},\"colorscale\":[[0.0,\"#0d0887\"],[0.1111111111111111,\"#46039f\"],[0.2222222222222222,\"#7201a8\"],[0.3333333333333333,\"#9c179e\"],[0.4444444444444444,\"#bd3786\"],[0.5555555555555556,\"#d8576b\"],[0.6666666666666666,\"#ed7953\"],[0.7777777777777778,\"#fb9f3a\"],[0.8888888888888888,\"#fdca26\"],[1.0,\"#f0f921\"]]}],\"mesh3d\":[{\"type\":\"mesh3d\",\"colorbar\":{\"outlinewidth\":0,\"ticks\":\"\"}}],\"scatter\":[{\"marker\":{\"line\":{\"color\":\"#283442\"}},\"type\":\"scatter\"}],\"parcoords\":[{\"type\":\"parcoords\",\"line\":{\"colorbar\":{\"outlinewidth\":0,\"ticks\":\"\"}}}],\"scatterpolargl\":[{\"type\":\"scatterpolargl\",\"marker\":{\"colorbar\":{\"outlinewidth\":0,\"ticks\":\"\"}}}],\"bar\":[{\"error_x\":{\"color\":\"#f2f5fa\"},\"error_y\":{\"color\":\"#f2f5fa\"},\"marker\":{\"line\":{\"color\":\"rgb(17,17,17)\",\"width\":0.5},\"pattern\":{\"fillmode\":\"overlay\",\"size\":10,\"solidity\":0.2}},\"type\":\"bar\"}],\"scattergeo\":[{\"type\":\"scattergeo\",\"marker\":{\"colorbar\":{\"outlinewidth\":0,\"ticks\":\"\"}}}],\"scatterpolar\":[{\"type\":\"scatterpolar\",\"marker\":{\"colorbar\":{\"outlinewidth\":0,\"ticks\":\"\"}}}],\"histogram\":[{\"marker\":{\"pattern\":{\"fillmode\":\"overlay\",\"size\":10,\"solidity\":0.2}},\"type\":\"histogram\"}],\"scattergl\":[{\"marker\":{\"line\":{\"color\":\"#283442\"}},\"type\":\"scattergl\"}],\"scatter3d\":[{\"type\":\"scatter3d\",\"line\":{\"colorbar\":{\"outlinewidth\":0,\"ticks\":\"\"}},\"marker\":{\"colorbar\":{\"outlinewidth\":0,\"ticks\":\"\"}}}],\"scattermapbox\":[{\"type\":\"scattermapbox\",\"marker\":{\"colorbar\":{\"outlinewidth\":0,\"ticks\":\"\"}}}],\"scatterternary\":[{\"type\":\"scatterternary\",\"marker\":{\"colorbar\":{\"outlinewidth\":0,\"ticks\":\"\"}}}],\"scattercarpet\":[{\"type\":\"scattercarpet\",\"marker\":{\"colorbar\":{\"outlinewidth\":0,\"ticks\":\"\"}}}],\"carpet\":[{\"aaxis\":{\"endlinecolor\":\"#A2B1C6\",\"gridcolor\":\"#506784\",\"linecolor\":\"#506784\",\"minorgridcolor\":\"#506784\",\"startlinecolor\":\"#A2B1C6\"},\"baxis\":{\"endlinecolor\":\"#A2B1C6\",\"gridcolor\":\"#506784\",\"linecolor\":\"#506784\",\"minorgridcolor\":\"#506784\",\"startlinecolor\":\"#A2B1C6\"},\"type\":\"carpet\"}],\"table\":[{\"cells\":{\"fill\":{\"color\":\"#506784\"},\"line\":{\"color\":\"rgb(17,17,17)\"}},\"header\":{\"fill\":{\"color\":\"#2a3f5f\"},\"line\":{\"color\":\"rgb(17,17,17)\"}},\"type\":\"table\"}],\"barpolar\":[{\"marker\":{\"line\":{\"color\":\"rgb(17,17,17)\",\"width\":0.5},\"pattern\":{\"fillmode\":\"overlay\",\"size\":10,\"solidity\":0.2}},\"type\":\"barpolar\"}],\"pie\":[{\"automargin\":true,\"type\":\"pie\"}]},\"layout\":{\"autotypenumbers\":\"strict\",\"colorway\":[\"#636efa\",\"#EF553B\",\"#00cc96\",\"#ab63fa\",\"#FFA15A\",\"#19d3f3\",\"#FF6692\",\"#B6E880\",\"#FF97FF\",\"#FECB52\"],\"font\":{\"color\":\"#f2f5fa\"},\"hovermode\":\"closest\",\"hoverlabel\":{\"align\":\"left\"},\"paper_bgcolor\":\"rgb(17,17,17)\",\"plot_bgcolor\":\"rgb(17,17,17)\",\"polar\":{\"bgcolor\":\"rgb(17,17,17)\",\"angularaxis\":{\"gridcolor\":\"#506784\",\"linecolor\":\"#506784\",\"ticks\":\"\"},\"radialaxis\":{\"gridcolor\":\"#506784\",\"linecolor\":\"#506784\",\"ticks\":\"\"}},\"ternary\":{\"bgcolor\":\"rgb(17,17,17)\",\"aaxis\":{\"gridcolor\":\"#506784\",\"linecolor\":\"#506784\",\"ticks\":\"\"},\"baxis\":{\"gridcolor\":\"#506784\",\"linecolor\":\"#506784\",\"ticks\":\"\"},\"caxis\":{\"gridcolor\":\"#506784\",\"linecolor\":\"#506784\",\"ticks\":\"\"}},\"coloraxis\":{\"colorbar\":{\"outlinewidth\":0,\"ticks\":\"\"}},\"colorscale\":{\"sequential\":[[0.0,\"#0d0887\"],[0.1111111111111111,\"#46039f\"],[0.2222222222222222,\"#7201a8\"],[0.3333333333333333,\"#9c179e\"],[0.4444444444444444,\"#bd3786\"],[0.5555555555555556,\"#d8576b\"],[0.6666666666666666,\"#ed7953\"],[0.7777777777777778,\"#fb9f3a\"],[0.8888888888888888,\"#fdca26\"],[1.0,\"#f0f921\"]],\"sequentialminus\":[[0.0,\"#0d0887\"],[0.1111111111111111,\"#46039f\"],[0.2222222222222222,\"#7201a8\"],[0.3333333333333333,\"#9c179e\"],[0.4444444444444444,\"#bd3786\"],[0.5555555555555556,\"#d8576b\"],[0.6666666666666666,\"#ed7953\"],[0.7777777777777778,\"#fb9f3a\"],[0.8888888888888888,\"#fdca26\"],[1.0,\"#f0f921\"]],\"diverging\":[[0,\"#8e0152\"],[0.1,\"#c51b7d\"],[0.2,\"#de77ae\"],[0.3,\"#f1b6da\"],[0.4,\"#fde0ef\"],[0.5,\"#f7f7f7\"],[0.6,\"#e6f5d0\"],[0.7,\"#b8e186\"],[0.8,\"#7fbc41\"],[0.9,\"#4d9221\"],[1,\"#276419\"]]},\"xaxis\":{\"gridcolor\":\"#283442\",\"linecolor\":\"#506784\",\"ticks\":\"\",\"title\":{\"standoff\":15},\"zerolinecolor\":\"#283442\",\"automargin\":true,\"zerolinewidth\":2},\"yaxis\":{\"gridcolor\":\"#283442\",\"linecolor\":\"#506784\",\"ticks\":\"\",\"title\":{\"standoff\":15},\"zerolinecolor\":\"#283442\",\"automargin\":true,\"zerolinewidth\":2},\"scene\":{\"xaxis\":{\"backgroundcolor\":\"rgb(17,17,17)\",\"gridcolor\":\"#506784\",\"linecolor\":\"#506784\",\"showbackground\":true,\"ticks\":\"\",\"zerolinecolor\":\"#C8D4E3\",\"gridwidth\":2},\"yaxis\":{\"backgroundcolor\":\"rgb(17,17,17)\",\"gridcolor\":\"#506784\",\"linecolor\":\"#506784\",\"showbackground\":true,\"ticks\":\"\",\"zerolinecolor\":\"#C8D4E3\",\"gridwidth\":2},\"zaxis\":{\"backgroundcolor\":\"rgb(17,17,17)\",\"gridcolor\":\"#506784\",\"linecolor\":\"#506784\",\"showbackground\":true,\"ticks\":\"\",\"zerolinecolor\":\"#C8D4E3\",\"gridwidth\":2}},\"shapedefaults\":{\"line\":{\"color\":\"#f2f5fa\"}},\"annotationdefaults\":{\"arrowcolor\":\"#f2f5fa\",\"arrowhead\":0,\"arrowwidth\":1},\"geo\":{\"bgcolor\":\"rgb(17,17,17)\",\"landcolor\":\"rgb(17,17,17)\",\"subunitcolor\":\"#506784\",\"showland\":true,\"showlakes\":true,\"lakecolor\":\"rgb(17,17,17)\"},\"title\":{\"x\":0.05},\"updatemenudefaults\":{\"bgcolor\":\"#506784\",\"borderwidth\":0},\"sliderdefaults\":{\"bgcolor\":\"#C8D4E3\",\"borderwidth\":1,\"bordercolor\":\"rgb(17,17,17)\",\"tickwidth\":0},\"mapbox\":{\"style\":\"dark\"}}},\"xaxis\":{\"anchor\":\"y\",\"domain\":[0.0,1.0],\"title\":{\"text\":\"x\"}},\"yaxis\":{\"anchor\":\"x\",\"domain\":[0.0,1.0],\"title\":{\"text\":\"y\"}},\"coloraxis\":{\"colorbar\":{\"title\":{\"text\":\"color\"}},\"colorscale\":[[0.0,\"rgb(0,0,255)\"],[1.0,\"rgb(255,0,0)\"]],\"showscale\":false},\"legend\":{\"tracegroupgap\":0},\"margin\":{\"t\":60},\"barmode\":\"relative\"},                        {\"responsive\": true}                    ).then(function(){\n                            \nvar gd = document.getElementById('26e6347e-ce02-4c30-93d2-73d17f2c2d2d');\nvar x = new MutationObserver(function (mutations, observer) {{\n        var display = window.getComputedStyle(gd).display;\n        if (!display || display === 'none') {{\n            console.log([gd, 'removed!']);\n            Plotly.purge(gd);\n            observer.disconnect();\n        }}\n}});\n\n// Listen for the removal of the full notebook cells\nvar notebookContainer = gd.closest('#notebook-container');\nif (notebookContainer) {{\n    x.observe(notebookContainer, {childList: true});\n}}\n\n// Listen for the clearing of the current output cell\nvar outputEl = gd.closest('.output');\nif (outputEl) {{\n    x.observe(outputEl, {childList: true});\n}}\n\n                        })                };                });            </script>        </div>"
     },
     "metadata": {},
     "output_type": "display_data"
    }
   ]
  },
  {
   "cell_type": "markdown",
   "metadata": {
    "id": "BIWG_10PyIzL"
   },
   "source": [
    "# Grouped Bar Charts: Free vs. Paid Apps per Category"
   ]
  },
  {
   "cell_type": "code",
   "metadata": {
    "id": "ANMs7xywolDH",
    "ExecuteTime": {
     "end_time": "2023-10-13T10:08:03.491901Z",
     "start_time": "2023-10-13T10:08:03.413249Z"
    }
   },
   "source": [
    "app_amount_and_installs_by_type = df_apps_clean.groupby([\"Category\", \"Type\"]).agg({\"App\": \"count\", \"Installs\": \"sum\"}).sort_values(\"App\", ascending=False).reset_index()\n",
    "\n",
    "app_amount_and_installs_by_type"
   ],
   "execution_count": 307,
   "outputs": [
    {
     "data": {
      "text/plain": "              Category  Type   App     Installs\n0               FAMILY  Free  1456   4416932760\n1                 GAME  Free   834  13837763455\n2                TOOLS  Free   655   7997997680\n3              FINANCE  Free   289    455126800\n4            LIFESTYLE  Free   284    502563010\n..                 ...   ...   ...          ...\n56       ENTERTAINMENT  Paid     2       200000\n57      FOOD_AND_DRINK  Paid     2        60000\n58           PARENTING  Paid     2        50100\n59  NEWS_AND_MAGAZINES  Paid     2         5500\n60   AUTO_AND_VEHICLES  Paid     1        50000\n\n[61 rows x 4 columns]",
      "text/html": "<div>\n<style scoped>\n    .dataframe tbody tr th:only-of-type {\n        vertical-align: middle;\n    }\n\n    .dataframe tbody tr th {\n        vertical-align: top;\n    }\n\n    .dataframe thead th {\n        text-align: right;\n    }\n</style>\n<table border=\"1\" class=\"dataframe\">\n  <thead>\n    <tr style=\"text-align: right;\">\n      <th></th>\n      <th>Category</th>\n      <th>Type</th>\n      <th>App</th>\n      <th>Installs</th>\n    </tr>\n  </thead>\n  <tbody>\n    <tr>\n      <th>0</th>\n      <td>FAMILY</td>\n      <td>Free</td>\n      <td>1456</td>\n      <td>4416932760</td>\n    </tr>\n    <tr>\n      <th>1</th>\n      <td>GAME</td>\n      <td>Free</td>\n      <td>834</td>\n      <td>13837763455</td>\n    </tr>\n    <tr>\n      <th>2</th>\n      <td>TOOLS</td>\n      <td>Free</td>\n      <td>655</td>\n      <td>7997997680</td>\n    </tr>\n    <tr>\n      <th>3</th>\n      <td>FINANCE</td>\n      <td>Free</td>\n      <td>289</td>\n      <td>455126800</td>\n    </tr>\n    <tr>\n      <th>4</th>\n      <td>LIFESTYLE</td>\n      <td>Free</td>\n      <td>284</td>\n      <td>502563010</td>\n    </tr>\n    <tr>\n      <th>...</th>\n      <td>...</td>\n      <td>...</td>\n      <td>...</td>\n      <td>...</td>\n    </tr>\n    <tr>\n      <th>56</th>\n      <td>ENTERTAINMENT</td>\n      <td>Paid</td>\n      <td>2</td>\n      <td>200000</td>\n    </tr>\n    <tr>\n      <th>57</th>\n      <td>FOOD_AND_DRINK</td>\n      <td>Paid</td>\n      <td>2</td>\n      <td>60000</td>\n    </tr>\n    <tr>\n      <th>58</th>\n      <td>PARENTING</td>\n      <td>Paid</td>\n      <td>2</td>\n      <td>50100</td>\n    </tr>\n    <tr>\n      <th>59</th>\n      <td>NEWS_AND_MAGAZINES</td>\n      <td>Paid</td>\n      <td>2</td>\n      <td>5500</td>\n    </tr>\n    <tr>\n      <th>60</th>\n      <td>AUTO_AND_VEHICLES</td>\n      <td>Paid</td>\n      <td>1</td>\n      <td>50000</td>\n    </tr>\n  </tbody>\n</table>\n<p>61 rows × 4 columns</p>\n</div>"
     },
     "execution_count": 307,
     "metadata": {},
     "output_type": "execute_result"
    }
   ]
  },
  {
   "cell_type": "markdown",
   "source": [],
   "metadata": {
    "collapsed": false
   }
  },
  {
   "cell_type": "markdown",
   "metadata": {
    "id": "wmRXm0TW1e_Z"
   },
   "source": [
    "**Challenge**: Use the plotly express bar [chart examples](https://plotly.com/python/bar-charts/#bar-chart-with-sorted-or-ordered-categories) and the [.bar() API reference](https://plotly.com/python-api-reference/generated/plotly.express.bar.html#plotly.express.bar) to create this bar chart: \n",
    "\n",
    "<img src=https://imgur.com/LE0XCxA.png>\n",
    "\n",
    "You'll want to use the `df_free_vs_paid` DataFrame that you created above that has the total number of free and paid apps per category. \n",
    "\n",
    "See if you can figure out how to get the look above by changing the `categoryorder` to 'total descending' as outlined in the documentation here [here](https://plotly.com/python/categorical-axes/#automatically-sorting-categories-by-name-or-total-value). "
   ]
  },
  {
   "cell_type": "code",
   "metadata": {
    "id": "tqOntrS7onGt",
    "ExecuteTime": {
     "end_time": "2023-10-13T10:06:30.954534800Z",
     "start_time": "2023-10-13T10:06:30.851743300Z"
    }
   },
   "source": [
    "fig = px.bar(app_amount_and_installs_by_type, x=\"Category\", y=\"App\", color=\"Type\", barmode=\"group\")\n",
    "fig.update_layout(yaxis=dict(type=\"log\"))\n",
    "fig.show()"
   ],
   "execution_count": 305,
   "outputs": [
    {
     "data": {
      "application/vnd.plotly.v1+json": {
       "data": [
        {
         "alignmentgroup": "True",
         "hovertemplate": "Type=Free<br>Category=%{x}<br>App=%{y}<extra></extra>",
         "legendgroup": "Free",
         "marker": {
          "color": "#636efa",
          "pattern": {
           "shape": ""
          }
         },
         "name": "Free",
         "offsetgroup": "Free",
         "orientation": "v",
         "showlegend": true,
         "textposition": "auto",
         "x": [
          "FAMILY",
          "GAME",
          "TOOLS",
          "FINANCE",
          "LIFESTYLE",
          "PRODUCTIVITY",
          "BUSINESS",
          "PHOTOGRAPHY",
          "SPORTS",
          "COMMUNICATION",
          "PERSONALIZATION",
          "HEALTH_AND_FITNESS",
          "MEDICAL",
          "NEWS_AND_MAGAZINES",
          "SOCIAL",
          "TRAVEL_AND_LOCAL",
          "SHOPPING",
          "BOOKS_AND_REFERENCE",
          "VIDEO_PLAYERS",
          "DATING",
          "EDUCATION",
          "MAPS_AND_NAVIGATION",
          "ENTERTAINMENT",
          "FOOD_AND_DRINK",
          "AUTO_AND_VEHICLES",
          "WEATHER",
          "LIBRARIES_AND_DEMO",
          "HOUSE_AND_HOME",
          "ART_AND_DESIGN",
          "COMICS",
          "PARENTING",
          "EVENTS",
          "BEAUTY"
         ],
         "xaxis": "x",
         "y": [
          1456,
          834,
          655,
          289,
          284,
          283,
          253,
          248,
          238,
          235,
          233,
          232,
          228,
          202,
          201,
          179,
          178,
          161,
          144,
          131,
          114,
          113,
          100,
          92,
          72,
          65,
          64,
          62,
          58,
          54,
          48,
          45,
          42
         ],
         "yaxis": "y",
         "type": "bar"
        },
        {
         "alignmentgroup": "True",
         "hovertemplate": "Type=Paid<br>Category=%{x}<br>App=%{y}<extra></extra>",
         "legendgroup": "Paid",
         "marker": {
          "color": "#EF553B",
          "pattern": {
           "shape": ""
          }
         },
         "name": "Paid",
         "offsetgroup": "Paid",
         "orientation": "v",
         "showlegend": true,
         "textposition": "auto",
         "x": [
          "FAMILY",
          "GAME",
          "PERSONALIZATION",
          "TOOLS",
          "MEDICAL",
          "COMMUNICATION",
          "SPORTS",
          "PRODUCTIVITY",
          "PHOTOGRAPHY",
          "LIFESTYLE",
          "HEALTH_AND_FITNESS",
          "BUSINESS",
          "TRAVEL_AND_LOCAL",
          "BOOKS_AND_REFERENCE",
          "WEATHER",
          "FINANCE",
          "MAPS_AND_NAVIGATION",
          "VIDEO_PLAYERS",
          "EDUCATION",
          "DATING",
          "ART_AND_DESIGN",
          "SOCIAL",
          "SHOPPING",
          "ENTERTAINMENT",
          "FOOD_AND_DRINK",
          "PARENTING",
          "NEWS_AND_MAGAZINES",
          "AUTO_AND_VEHICLES"
         ],
         "xaxis": "x",
         "y": [
          150,
          76,
          65,
          63,
          63,
          22,
          22,
          18,
          15,
          13,
          11,
          9,
          8,
          8,
          7,
          7,
          5,
          4,
          4,
          3,
          3,
          2,
          2,
          2,
          2,
          2,
          2,
          1
         ],
         "yaxis": "y",
         "type": "bar"
        }
       ],
       "layout": {
        "template": {
         "data": {
          "histogram2dcontour": [
           {
            "type": "histogram2dcontour",
            "colorbar": {
             "outlinewidth": 0,
             "ticks": ""
            },
            "colorscale": [
             [
              0.0,
              "#0d0887"
             ],
             [
              0.1111111111111111,
              "#46039f"
             ],
             [
              0.2222222222222222,
              "#7201a8"
             ],
             [
              0.3333333333333333,
              "#9c179e"
             ],
             [
              0.4444444444444444,
              "#bd3786"
             ],
             [
              0.5555555555555556,
              "#d8576b"
             ],
             [
              0.6666666666666666,
              "#ed7953"
             ],
             [
              0.7777777777777778,
              "#fb9f3a"
             ],
             [
              0.8888888888888888,
              "#fdca26"
             ],
             [
              1.0,
              "#f0f921"
             ]
            ]
           }
          ],
          "choropleth": [
           {
            "type": "choropleth",
            "colorbar": {
             "outlinewidth": 0,
             "ticks": ""
            }
           }
          ],
          "histogram2d": [
           {
            "type": "histogram2d",
            "colorbar": {
             "outlinewidth": 0,
             "ticks": ""
            },
            "colorscale": [
             [
              0.0,
              "#0d0887"
             ],
             [
              0.1111111111111111,
              "#46039f"
             ],
             [
              0.2222222222222222,
              "#7201a8"
             ],
             [
              0.3333333333333333,
              "#9c179e"
             ],
             [
              0.4444444444444444,
              "#bd3786"
             ],
             [
              0.5555555555555556,
              "#d8576b"
             ],
             [
              0.6666666666666666,
              "#ed7953"
             ],
             [
              0.7777777777777778,
              "#fb9f3a"
             ],
             [
              0.8888888888888888,
              "#fdca26"
             ],
             [
              1.0,
              "#f0f921"
             ]
            ]
           }
          ],
          "heatmap": [
           {
            "type": "heatmap",
            "colorbar": {
             "outlinewidth": 0,
             "ticks": ""
            },
            "colorscale": [
             [
              0.0,
              "#0d0887"
             ],
             [
              0.1111111111111111,
              "#46039f"
             ],
             [
              0.2222222222222222,
              "#7201a8"
             ],
             [
              0.3333333333333333,
              "#9c179e"
             ],
             [
              0.4444444444444444,
              "#bd3786"
             ],
             [
              0.5555555555555556,
              "#d8576b"
             ],
             [
              0.6666666666666666,
              "#ed7953"
             ],
             [
              0.7777777777777778,
              "#fb9f3a"
             ],
             [
              0.8888888888888888,
              "#fdca26"
             ],
             [
              1.0,
              "#f0f921"
             ]
            ]
           }
          ],
          "heatmapgl": [
           {
            "type": "heatmapgl",
            "colorbar": {
             "outlinewidth": 0,
             "ticks": ""
            },
            "colorscale": [
             [
              0.0,
              "#0d0887"
             ],
             [
              0.1111111111111111,
              "#46039f"
             ],
             [
              0.2222222222222222,
              "#7201a8"
             ],
             [
              0.3333333333333333,
              "#9c179e"
             ],
             [
              0.4444444444444444,
              "#bd3786"
             ],
             [
              0.5555555555555556,
              "#d8576b"
             ],
             [
              0.6666666666666666,
              "#ed7953"
             ],
             [
              0.7777777777777778,
              "#fb9f3a"
             ],
             [
              0.8888888888888888,
              "#fdca26"
             ],
             [
              1.0,
              "#f0f921"
             ]
            ]
           }
          ],
          "contourcarpet": [
           {
            "type": "contourcarpet",
            "colorbar": {
             "outlinewidth": 0,
             "ticks": ""
            }
           }
          ],
          "contour": [
           {
            "type": "contour",
            "colorbar": {
             "outlinewidth": 0,
             "ticks": ""
            },
            "colorscale": [
             [
              0.0,
              "#0d0887"
             ],
             [
              0.1111111111111111,
              "#46039f"
             ],
             [
              0.2222222222222222,
              "#7201a8"
             ],
             [
              0.3333333333333333,
              "#9c179e"
             ],
             [
              0.4444444444444444,
              "#bd3786"
             ],
             [
              0.5555555555555556,
              "#d8576b"
             ],
             [
              0.6666666666666666,
              "#ed7953"
             ],
             [
              0.7777777777777778,
              "#fb9f3a"
             ],
             [
              0.8888888888888888,
              "#fdca26"
             ],
             [
              1.0,
              "#f0f921"
             ]
            ]
           }
          ],
          "surface": [
           {
            "type": "surface",
            "colorbar": {
             "outlinewidth": 0,
             "ticks": ""
            },
            "colorscale": [
             [
              0.0,
              "#0d0887"
             ],
             [
              0.1111111111111111,
              "#46039f"
             ],
             [
              0.2222222222222222,
              "#7201a8"
             ],
             [
              0.3333333333333333,
              "#9c179e"
             ],
             [
              0.4444444444444444,
              "#bd3786"
             ],
             [
              0.5555555555555556,
              "#d8576b"
             ],
             [
              0.6666666666666666,
              "#ed7953"
             ],
             [
              0.7777777777777778,
              "#fb9f3a"
             ],
             [
              0.8888888888888888,
              "#fdca26"
             ],
             [
              1.0,
              "#f0f921"
             ]
            ]
           }
          ],
          "mesh3d": [
           {
            "type": "mesh3d",
            "colorbar": {
             "outlinewidth": 0,
             "ticks": ""
            }
           }
          ],
          "scatter": [
           {
            "marker": {
             "line": {
              "color": "#283442"
             }
            },
            "type": "scatter"
           }
          ],
          "parcoords": [
           {
            "type": "parcoords",
            "line": {
             "colorbar": {
              "outlinewidth": 0,
              "ticks": ""
             }
            }
           }
          ],
          "scatterpolargl": [
           {
            "type": "scatterpolargl",
            "marker": {
             "colorbar": {
              "outlinewidth": 0,
              "ticks": ""
             }
            }
           }
          ],
          "bar": [
           {
            "error_x": {
             "color": "#f2f5fa"
            },
            "error_y": {
             "color": "#f2f5fa"
            },
            "marker": {
             "line": {
              "color": "rgb(17,17,17)",
              "width": 0.5
             },
             "pattern": {
              "fillmode": "overlay",
              "size": 10,
              "solidity": 0.2
             }
            },
            "type": "bar"
           }
          ],
          "scattergeo": [
           {
            "type": "scattergeo",
            "marker": {
             "colorbar": {
              "outlinewidth": 0,
              "ticks": ""
             }
            }
           }
          ],
          "scatterpolar": [
           {
            "type": "scatterpolar",
            "marker": {
             "colorbar": {
              "outlinewidth": 0,
              "ticks": ""
             }
            }
           }
          ],
          "histogram": [
           {
            "marker": {
             "pattern": {
              "fillmode": "overlay",
              "size": 10,
              "solidity": 0.2
             }
            },
            "type": "histogram"
           }
          ],
          "scattergl": [
           {
            "marker": {
             "line": {
              "color": "#283442"
             }
            },
            "type": "scattergl"
           }
          ],
          "scatter3d": [
           {
            "type": "scatter3d",
            "line": {
             "colorbar": {
              "outlinewidth": 0,
              "ticks": ""
             }
            },
            "marker": {
             "colorbar": {
              "outlinewidth": 0,
              "ticks": ""
             }
            }
           }
          ],
          "scattermapbox": [
           {
            "type": "scattermapbox",
            "marker": {
             "colorbar": {
              "outlinewidth": 0,
              "ticks": ""
             }
            }
           }
          ],
          "scatterternary": [
           {
            "type": "scatterternary",
            "marker": {
             "colorbar": {
              "outlinewidth": 0,
              "ticks": ""
             }
            }
           }
          ],
          "scattercarpet": [
           {
            "type": "scattercarpet",
            "marker": {
             "colorbar": {
              "outlinewidth": 0,
              "ticks": ""
             }
            }
           }
          ],
          "carpet": [
           {
            "aaxis": {
             "endlinecolor": "#A2B1C6",
             "gridcolor": "#506784",
             "linecolor": "#506784",
             "minorgridcolor": "#506784",
             "startlinecolor": "#A2B1C6"
            },
            "baxis": {
             "endlinecolor": "#A2B1C6",
             "gridcolor": "#506784",
             "linecolor": "#506784",
             "minorgridcolor": "#506784",
             "startlinecolor": "#A2B1C6"
            },
            "type": "carpet"
           }
          ],
          "table": [
           {
            "cells": {
             "fill": {
              "color": "#506784"
             },
             "line": {
              "color": "rgb(17,17,17)"
             }
            },
            "header": {
             "fill": {
              "color": "#2a3f5f"
             },
             "line": {
              "color": "rgb(17,17,17)"
             }
            },
            "type": "table"
           }
          ],
          "barpolar": [
           {
            "marker": {
             "line": {
              "color": "rgb(17,17,17)",
              "width": 0.5
             },
             "pattern": {
              "fillmode": "overlay",
              "size": 10,
              "solidity": 0.2
             }
            },
            "type": "barpolar"
           }
          ],
          "pie": [
           {
            "automargin": true,
            "type": "pie"
           }
          ]
         },
         "layout": {
          "autotypenumbers": "strict",
          "colorway": [
           "#636efa",
           "#EF553B",
           "#00cc96",
           "#ab63fa",
           "#FFA15A",
           "#19d3f3",
           "#FF6692",
           "#B6E880",
           "#FF97FF",
           "#FECB52"
          ],
          "font": {
           "color": "#f2f5fa"
          },
          "hovermode": "closest",
          "hoverlabel": {
           "align": "left"
          },
          "paper_bgcolor": "rgb(17,17,17)",
          "plot_bgcolor": "rgb(17,17,17)",
          "polar": {
           "bgcolor": "rgb(17,17,17)",
           "angularaxis": {
            "gridcolor": "#506784",
            "linecolor": "#506784",
            "ticks": ""
           },
           "radialaxis": {
            "gridcolor": "#506784",
            "linecolor": "#506784",
            "ticks": ""
           }
          },
          "ternary": {
           "bgcolor": "rgb(17,17,17)",
           "aaxis": {
            "gridcolor": "#506784",
            "linecolor": "#506784",
            "ticks": ""
           },
           "baxis": {
            "gridcolor": "#506784",
            "linecolor": "#506784",
            "ticks": ""
           },
           "caxis": {
            "gridcolor": "#506784",
            "linecolor": "#506784",
            "ticks": ""
           }
          },
          "coloraxis": {
           "colorbar": {
            "outlinewidth": 0,
            "ticks": ""
           }
          },
          "colorscale": {
           "sequential": [
            [
             0.0,
             "#0d0887"
            ],
            [
             0.1111111111111111,
             "#46039f"
            ],
            [
             0.2222222222222222,
             "#7201a8"
            ],
            [
             0.3333333333333333,
             "#9c179e"
            ],
            [
             0.4444444444444444,
             "#bd3786"
            ],
            [
             0.5555555555555556,
             "#d8576b"
            ],
            [
             0.6666666666666666,
             "#ed7953"
            ],
            [
             0.7777777777777778,
             "#fb9f3a"
            ],
            [
             0.8888888888888888,
             "#fdca26"
            ],
            [
             1.0,
             "#f0f921"
            ]
           ],
           "sequentialminus": [
            [
             0.0,
             "#0d0887"
            ],
            [
             0.1111111111111111,
             "#46039f"
            ],
            [
             0.2222222222222222,
             "#7201a8"
            ],
            [
             0.3333333333333333,
             "#9c179e"
            ],
            [
             0.4444444444444444,
             "#bd3786"
            ],
            [
             0.5555555555555556,
             "#d8576b"
            ],
            [
             0.6666666666666666,
             "#ed7953"
            ],
            [
             0.7777777777777778,
             "#fb9f3a"
            ],
            [
             0.8888888888888888,
             "#fdca26"
            ],
            [
             1.0,
             "#f0f921"
            ]
           ],
           "diverging": [
            [
             0,
             "#8e0152"
            ],
            [
             0.1,
             "#c51b7d"
            ],
            [
             0.2,
             "#de77ae"
            ],
            [
             0.3,
             "#f1b6da"
            ],
            [
             0.4,
             "#fde0ef"
            ],
            [
             0.5,
             "#f7f7f7"
            ],
            [
             0.6,
             "#e6f5d0"
            ],
            [
             0.7,
             "#b8e186"
            ],
            [
             0.8,
             "#7fbc41"
            ],
            [
             0.9,
             "#4d9221"
            ],
            [
             1,
             "#276419"
            ]
           ]
          },
          "xaxis": {
           "gridcolor": "#283442",
           "linecolor": "#506784",
           "ticks": "",
           "title": {
            "standoff": 15
           },
           "zerolinecolor": "#283442",
           "automargin": true,
           "zerolinewidth": 2
          },
          "yaxis": {
           "gridcolor": "#283442",
           "linecolor": "#506784",
           "ticks": "",
           "title": {
            "standoff": 15
           },
           "zerolinecolor": "#283442",
           "automargin": true,
           "zerolinewidth": 2
          },
          "scene": {
           "xaxis": {
            "backgroundcolor": "rgb(17,17,17)",
            "gridcolor": "#506784",
            "linecolor": "#506784",
            "showbackground": true,
            "ticks": "",
            "zerolinecolor": "#C8D4E3",
            "gridwidth": 2
           },
           "yaxis": {
            "backgroundcolor": "rgb(17,17,17)",
            "gridcolor": "#506784",
            "linecolor": "#506784",
            "showbackground": true,
            "ticks": "",
            "zerolinecolor": "#C8D4E3",
            "gridwidth": 2
           },
           "zaxis": {
            "backgroundcolor": "rgb(17,17,17)",
            "gridcolor": "#506784",
            "linecolor": "#506784",
            "showbackground": true,
            "ticks": "",
            "zerolinecolor": "#C8D4E3",
            "gridwidth": 2
           }
          },
          "shapedefaults": {
           "line": {
            "color": "#f2f5fa"
           }
          },
          "annotationdefaults": {
           "arrowcolor": "#f2f5fa",
           "arrowhead": 0,
           "arrowwidth": 1
          },
          "geo": {
           "bgcolor": "rgb(17,17,17)",
           "landcolor": "rgb(17,17,17)",
           "subunitcolor": "#506784",
           "showland": true,
           "showlakes": true,
           "lakecolor": "rgb(17,17,17)"
          },
          "title": {
           "x": 0.05
          },
          "updatemenudefaults": {
           "bgcolor": "#506784",
           "borderwidth": 0
          },
          "sliderdefaults": {
           "bgcolor": "#C8D4E3",
           "borderwidth": 1,
           "bordercolor": "rgb(17,17,17)",
           "tickwidth": 0
          },
          "mapbox": {
           "style": "dark"
          }
         }
        },
        "xaxis": {
         "anchor": "y",
         "domain": [
          0.0,
          1.0
         ],
         "title": {
          "text": "Category"
         }
        },
        "yaxis": {
         "anchor": "x",
         "domain": [
          0.0,
          1.0
         ],
         "title": {
          "text": "App"
         },
         "type": "log"
        },
        "legend": {
         "title": {
          "text": "Type"
         },
         "tracegroupgap": 0
        },
        "margin": {
         "t": 60
        },
        "barmode": "group"
       },
       "config": {
        "plotlyServerURL": "https://plot.ly"
       }
      },
      "text/html": "<div>                            <div id=\"79574740-bf04-4801-b140-8c716f6814b6\" class=\"plotly-graph-div\" style=\"height:525px; width:100%;\"></div>            <script type=\"text/javascript\">                require([\"plotly\"], function(Plotly) {                    window.PLOTLYENV=window.PLOTLYENV || {};                                    if (document.getElementById(\"79574740-bf04-4801-b140-8c716f6814b6\")) {                    Plotly.newPlot(                        \"79574740-bf04-4801-b140-8c716f6814b6\",                        [{\"alignmentgroup\":\"True\",\"hovertemplate\":\"Type=Free\\u003cbr\\u003eCategory=%{x}\\u003cbr\\u003eApp=%{y}\\u003cextra\\u003e\\u003c\\u002fextra\\u003e\",\"legendgroup\":\"Free\",\"marker\":{\"color\":\"#636efa\",\"pattern\":{\"shape\":\"\"}},\"name\":\"Free\",\"offsetgroup\":\"Free\",\"orientation\":\"v\",\"showlegend\":true,\"textposition\":\"auto\",\"x\":[\"FAMILY\",\"GAME\",\"TOOLS\",\"FINANCE\",\"LIFESTYLE\",\"PRODUCTIVITY\",\"BUSINESS\",\"PHOTOGRAPHY\",\"SPORTS\",\"COMMUNICATION\",\"PERSONALIZATION\",\"HEALTH_AND_FITNESS\",\"MEDICAL\",\"NEWS_AND_MAGAZINES\",\"SOCIAL\",\"TRAVEL_AND_LOCAL\",\"SHOPPING\",\"BOOKS_AND_REFERENCE\",\"VIDEO_PLAYERS\",\"DATING\",\"EDUCATION\",\"MAPS_AND_NAVIGATION\",\"ENTERTAINMENT\",\"FOOD_AND_DRINK\",\"AUTO_AND_VEHICLES\",\"WEATHER\",\"LIBRARIES_AND_DEMO\",\"HOUSE_AND_HOME\",\"ART_AND_DESIGN\",\"COMICS\",\"PARENTING\",\"EVENTS\",\"BEAUTY\"],\"xaxis\":\"x\",\"y\":[1456,834,655,289,284,283,253,248,238,235,233,232,228,202,201,179,178,161,144,131,114,113,100,92,72,65,64,62,58,54,48,45,42],\"yaxis\":\"y\",\"type\":\"bar\"},{\"alignmentgroup\":\"True\",\"hovertemplate\":\"Type=Paid\\u003cbr\\u003eCategory=%{x}\\u003cbr\\u003eApp=%{y}\\u003cextra\\u003e\\u003c\\u002fextra\\u003e\",\"legendgroup\":\"Paid\",\"marker\":{\"color\":\"#EF553B\",\"pattern\":{\"shape\":\"\"}},\"name\":\"Paid\",\"offsetgroup\":\"Paid\",\"orientation\":\"v\",\"showlegend\":true,\"textposition\":\"auto\",\"x\":[\"FAMILY\",\"GAME\",\"PERSONALIZATION\",\"TOOLS\",\"MEDICAL\",\"COMMUNICATION\",\"SPORTS\",\"PRODUCTIVITY\",\"PHOTOGRAPHY\",\"LIFESTYLE\",\"HEALTH_AND_FITNESS\",\"BUSINESS\",\"TRAVEL_AND_LOCAL\",\"BOOKS_AND_REFERENCE\",\"WEATHER\",\"FINANCE\",\"MAPS_AND_NAVIGATION\",\"VIDEO_PLAYERS\",\"EDUCATION\",\"DATING\",\"ART_AND_DESIGN\",\"SOCIAL\",\"SHOPPING\",\"ENTERTAINMENT\",\"FOOD_AND_DRINK\",\"PARENTING\",\"NEWS_AND_MAGAZINES\",\"AUTO_AND_VEHICLES\"],\"xaxis\":\"x\",\"y\":[150,76,65,63,63,22,22,18,15,13,11,9,8,8,7,7,5,4,4,3,3,2,2,2,2,2,2,1],\"yaxis\":\"y\",\"type\":\"bar\"}],                        {\"template\":{\"data\":{\"histogram2dcontour\":[{\"type\":\"histogram2dcontour\",\"colorbar\":{\"outlinewidth\":0,\"ticks\":\"\"},\"colorscale\":[[0.0,\"#0d0887\"],[0.1111111111111111,\"#46039f\"],[0.2222222222222222,\"#7201a8\"],[0.3333333333333333,\"#9c179e\"],[0.4444444444444444,\"#bd3786\"],[0.5555555555555556,\"#d8576b\"],[0.6666666666666666,\"#ed7953\"],[0.7777777777777778,\"#fb9f3a\"],[0.8888888888888888,\"#fdca26\"],[1.0,\"#f0f921\"]]}],\"choropleth\":[{\"type\":\"choropleth\",\"colorbar\":{\"outlinewidth\":0,\"ticks\":\"\"}}],\"histogram2d\":[{\"type\":\"histogram2d\",\"colorbar\":{\"outlinewidth\":0,\"ticks\":\"\"},\"colorscale\":[[0.0,\"#0d0887\"],[0.1111111111111111,\"#46039f\"],[0.2222222222222222,\"#7201a8\"],[0.3333333333333333,\"#9c179e\"],[0.4444444444444444,\"#bd3786\"],[0.5555555555555556,\"#d8576b\"],[0.6666666666666666,\"#ed7953\"],[0.7777777777777778,\"#fb9f3a\"],[0.8888888888888888,\"#fdca26\"],[1.0,\"#f0f921\"]]}],\"heatmap\":[{\"type\":\"heatmap\",\"colorbar\":{\"outlinewidth\":0,\"ticks\":\"\"},\"colorscale\":[[0.0,\"#0d0887\"],[0.1111111111111111,\"#46039f\"],[0.2222222222222222,\"#7201a8\"],[0.3333333333333333,\"#9c179e\"],[0.4444444444444444,\"#bd3786\"],[0.5555555555555556,\"#d8576b\"],[0.6666666666666666,\"#ed7953\"],[0.7777777777777778,\"#fb9f3a\"],[0.8888888888888888,\"#fdca26\"],[1.0,\"#f0f921\"]]}],\"heatmapgl\":[{\"type\":\"heatmapgl\",\"colorbar\":{\"outlinewidth\":0,\"ticks\":\"\"},\"colorscale\":[[0.0,\"#0d0887\"],[0.1111111111111111,\"#46039f\"],[0.2222222222222222,\"#7201a8\"],[0.3333333333333333,\"#9c179e\"],[0.4444444444444444,\"#bd3786\"],[0.5555555555555556,\"#d8576b\"],[0.6666666666666666,\"#ed7953\"],[0.7777777777777778,\"#fb9f3a\"],[0.8888888888888888,\"#fdca26\"],[1.0,\"#f0f921\"]]}],\"contourcarpet\":[{\"type\":\"contourcarpet\",\"colorbar\":{\"outlinewidth\":0,\"ticks\":\"\"}}],\"contour\":[{\"type\":\"contour\",\"colorbar\":{\"outlinewidth\":0,\"ticks\":\"\"},\"colorscale\":[[0.0,\"#0d0887\"],[0.1111111111111111,\"#46039f\"],[0.2222222222222222,\"#7201a8\"],[0.3333333333333333,\"#9c179e\"],[0.4444444444444444,\"#bd3786\"],[0.5555555555555556,\"#d8576b\"],[0.6666666666666666,\"#ed7953\"],[0.7777777777777778,\"#fb9f3a\"],[0.8888888888888888,\"#fdca26\"],[1.0,\"#f0f921\"]]}],\"surface\":[{\"type\":\"surface\",\"colorbar\":{\"outlinewidth\":0,\"ticks\":\"\"},\"colorscale\":[[0.0,\"#0d0887\"],[0.1111111111111111,\"#46039f\"],[0.2222222222222222,\"#7201a8\"],[0.3333333333333333,\"#9c179e\"],[0.4444444444444444,\"#bd3786\"],[0.5555555555555556,\"#d8576b\"],[0.6666666666666666,\"#ed7953\"],[0.7777777777777778,\"#fb9f3a\"],[0.8888888888888888,\"#fdca26\"],[1.0,\"#f0f921\"]]}],\"mesh3d\":[{\"type\":\"mesh3d\",\"colorbar\":{\"outlinewidth\":0,\"ticks\":\"\"}}],\"scatter\":[{\"marker\":{\"line\":{\"color\":\"#283442\"}},\"type\":\"scatter\"}],\"parcoords\":[{\"type\":\"parcoords\",\"line\":{\"colorbar\":{\"outlinewidth\":0,\"ticks\":\"\"}}}],\"scatterpolargl\":[{\"type\":\"scatterpolargl\",\"marker\":{\"colorbar\":{\"outlinewidth\":0,\"ticks\":\"\"}}}],\"bar\":[{\"error_x\":{\"color\":\"#f2f5fa\"},\"error_y\":{\"color\":\"#f2f5fa\"},\"marker\":{\"line\":{\"color\":\"rgb(17,17,17)\",\"width\":0.5},\"pattern\":{\"fillmode\":\"overlay\",\"size\":10,\"solidity\":0.2}},\"type\":\"bar\"}],\"scattergeo\":[{\"type\":\"scattergeo\",\"marker\":{\"colorbar\":{\"outlinewidth\":0,\"ticks\":\"\"}}}],\"scatterpolar\":[{\"type\":\"scatterpolar\",\"marker\":{\"colorbar\":{\"outlinewidth\":0,\"ticks\":\"\"}}}],\"histogram\":[{\"marker\":{\"pattern\":{\"fillmode\":\"overlay\",\"size\":10,\"solidity\":0.2}},\"type\":\"histogram\"}],\"scattergl\":[{\"marker\":{\"line\":{\"color\":\"#283442\"}},\"type\":\"scattergl\"}],\"scatter3d\":[{\"type\":\"scatter3d\",\"line\":{\"colorbar\":{\"outlinewidth\":0,\"ticks\":\"\"}},\"marker\":{\"colorbar\":{\"outlinewidth\":0,\"ticks\":\"\"}}}],\"scattermapbox\":[{\"type\":\"scattermapbox\",\"marker\":{\"colorbar\":{\"outlinewidth\":0,\"ticks\":\"\"}}}],\"scatterternary\":[{\"type\":\"scatterternary\",\"marker\":{\"colorbar\":{\"outlinewidth\":0,\"ticks\":\"\"}}}],\"scattercarpet\":[{\"type\":\"scattercarpet\",\"marker\":{\"colorbar\":{\"outlinewidth\":0,\"ticks\":\"\"}}}],\"carpet\":[{\"aaxis\":{\"endlinecolor\":\"#A2B1C6\",\"gridcolor\":\"#506784\",\"linecolor\":\"#506784\",\"minorgridcolor\":\"#506784\",\"startlinecolor\":\"#A2B1C6\"},\"baxis\":{\"endlinecolor\":\"#A2B1C6\",\"gridcolor\":\"#506784\",\"linecolor\":\"#506784\",\"minorgridcolor\":\"#506784\",\"startlinecolor\":\"#A2B1C6\"},\"type\":\"carpet\"}],\"table\":[{\"cells\":{\"fill\":{\"color\":\"#506784\"},\"line\":{\"color\":\"rgb(17,17,17)\"}},\"header\":{\"fill\":{\"color\":\"#2a3f5f\"},\"line\":{\"color\":\"rgb(17,17,17)\"}},\"type\":\"table\"}],\"barpolar\":[{\"marker\":{\"line\":{\"color\":\"rgb(17,17,17)\",\"width\":0.5},\"pattern\":{\"fillmode\":\"overlay\",\"size\":10,\"solidity\":0.2}},\"type\":\"barpolar\"}],\"pie\":[{\"automargin\":true,\"type\":\"pie\"}]},\"layout\":{\"autotypenumbers\":\"strict\",\"colorway\":[\"#636efa\",\"#EF553B\",\"#00cc96\",\"#ab63fa\",\"#FFA15A\",\"#19d3f3\",\"#FF6692\",\"#B6E880\",\"#FF97FF\",\"#FECB52\"],\"font\":{\"color\":\"#f2f5fa\"},\"hovermode\":\"closest\",\"hoverlabel\":{\"align\":\"left\"},\"paper_bgcolor\":\"rgb(17,17,17)\",\"plot_bgcolor\":\"rgb(17,17,17)\",\"polar\":{\"bgcolor\":\"rgb(17,17,17)\",\"angularaxis\":{\"gridcolor\":\"#506784\",\"linecolor\":\"#506784\",\"ticks\":\"\"},\"radialaxis\":{\"gridcolor\":\"#506784\",\"linecolor\":\"#506784\",\"ticks\":\"\"}},\"ternary\":{\"bgcolor\":\"rgb(17,17,17)\",\"aaxis\":{\"gridcolor\":\"#506784\",\"linecolor\":\"#506784\",\"ticks\":\"\"},\"baxis\":{\"gridcolor\":\"#506784\",\"linecolor\":\"#506784\",\"ticks\":\"\"},\"caxis\":{\"gridcolor\":\"#506784\",\"linecolor\":\"#506784\",\"ticks\":\"\"}},\"coloraxis\":{\"colorbar\":{\"outlinewidth\":0,\"ticks\":\"\"}},\"colorscale\":{\"sequential\":[[0.0,\"#0d0887\"],[0.1111111111111111,\"#46039f\"],[0.2222222222222222,\"#7201a8\"],[0.3333333333333333,\"#9c179e\"],[0.4444444444444444,\"#bd3786\"],[0.5555555555555556,\"#d8576b\"],[0.6666666666666666,\"#ed7953\"],[0.7777777777777778,\"#fb9f3a\"],[0.8888888888888888,\"#fdca26\"],[1.0,\"#f0f921\"]],\"sequentialminus\":[[0.0,\"#0d0887\"],[0.1111111111111111,\"#46039f\"],[0.2222222222222222,\"#7201a8\"],[0.3333333333333333,\"#9c179e\"],[0.4444444444444444,\"#bd3786\"],[0.5555555555555556,\"#d8576b\"],[0.6666666666666666,\"#ed7953\"],[0.7777777777777778,\"#fb9f3a\"],[0.8888888888888888,\"#fdca26\"],[1.0,\"#f0f921\"]],\"diverging\":[[0,\"#8e0152\"],[0.1,\"#c51b7d\"],[0.2,\"#de77ae\"],[0.3,\"#f1b6da\"],[0.4,\"#fde0ef\"],[0.5,\"#f7f7f7\"],[0.6,\"#e6f5d0\"],[0.7,\"#b8e186\"],[0.8,\"#7fbc41\"],[0.9,\"#4d9221\"],[1,\"#276419\"]]},\"xaxis\":{\"gridcolor\":\"#283442\",\"linecolor\":\"#506784\",\"ticks\":\"\",\"title\":{\"standoff\":15},\"zerolinecolor\":\"#283442\",\"automargin\":true,\"zerolinewidth\":2},\"yaxis\":{\"gridcolor\":\"#283442\",\"linecolor\":\"#506784\",\"ticks\":\"\",\"title\":{\"standoff\":15},\"zerolinecolor\":\"#283442\",\"automargin\":true,\"zerolinewidth\":2},\"scene\":{\"xaxis\":{\"backgroundcolor\":\"rgb(17,17,17)\",\"gridcolor\":\"#506784\",\"linecolor\":\"#506784\",\"showbackground\":true,\"ticks\":\"\",\"zerolinecolor\":\"#C8D4E3\",\"gridwidth\":2},\"yaxis\":{\"backgroundcolor\":\"rgb(17,17,17)\",\"gridcolor\":\"#506784\",\"linecolor\":\"#506784\",\"showbackground\":true,\"ticks\":\"\",\"zerolinecolor\":\"#C8D4E3\",\"gridwidth\":2},\"zaxis\":{\"backgroundcolor\":\"rgb(17,17,17)\",\"gridcolor\":\"#506784\",\"linecolor\":\"#506784\",\"showbackground\":true,\"ticks\":\"\",\"zerolinecolor\":\"#C8D4E3\",\"gridwidth\":2}},\"shapedefaults\":{\"line\":{\"color\":\"#f2f5fa\"}},\"annotationdefaults\":{\"arrowcolor\":\"#f2f5fa\",\"arrowhead\":0,\"arrowwidth\":1},\"geo\":{\"bgcolor\":\"rgb(17,17,17)\",\"landcolor\":\"rgb(17,17,17)\",\"subunitcolor\":\"#506784\",\"showland\":true,\"showlakes\":true,\"lakecolor\":\"rgb(17,17,17)\"},\"title\":{\"x\":0.05},\"updatemenudefaults\":{\"bgcolor\":\"#506784\",\"borderwidth\":0},\"sliderdefaults\":{\"bgcolor\":\"#C8D4E3\",\"borderwidth\":1,\"bordercolor\":\"rgb(17,17,17)\",\"tickwidth\":0},\"mapbox\":{\"style\":\"dark\"}}},\"xaxis\":{\"anchor\":\"y\",\"domain\":[0.0,1.0],\"title\":{\"text\":\"Category\"}},\"yaxis\":{\"anchor\":\"x\",\"domain\":[0.0,1.0],\"title\":{\"text\":\"App\"},\"type\":\"log\"},\"legend\":{\"title\":{\"text\":\"Type\"},\"tracegroupgap\":0},\"margin\":{\"t\":60},\"barmode\":\"group\"},                        {\"responsive\": true}                    ).then(function(){\n                            \nvar gd = document.getElementById('79574740-bf04-4801-b140-8c716f6814b6');\nvar x = new MutationObserver(function (mutations, observer) {{\n        var display = window.getComputedStyle(gd).display;\n        if (!display || display === 'none') {{\n            console.log([gd, 'removed!']);\n            Plotly.purge(gd);\n            observer.disconnect();\n        }}\n}});\n\n// Listen for the removal of the full notebook cells\nvar notebookContainer = gd.closest('#notebook-container');\nif (notebookContainer) {{\n    x.observe(notebookContainer, {childList: true});\n}}\n\n// Listen for the clearing of the current output cell\nvar outputEl = gd.closest('.output');\nif (outputEl) {{\n    x.observe(outputEl, {childList: true});\n}}\n\n                        })                };                });            </script>        </div>"
     },
     "metadata": {},
     "output_type": "display_data"
    }
   ]
  },
  {
   "cell_type": "markdown",
   "metadata": {
    "id": "nbYh2tU-VZ-i"
   },
   "source": [
    "# Plotly Box Plots: Lost Downloads for Paid Apps\n",
    "\n",
    "**Challenge**: Create a box plot that shows the number of Installs for free versus paid apps. How does the median number of installations compare? Is the difference large or small?\n",
    "\n",
    "Use the [Box Plots Guide](https://plotly.com/python/box-plots/) and the [.box API reference](https://plotly.com/python-api-reference/generated/plotly.express.box.html) to create the following chart. \n",
    "\n",
    "<img src=https://imgur.com/uVsECT3.png>\n"
   ]
  },
  {
   "cell_type": "code",
   "metadata": {
    "id": "Jip3hMZ7oqLS",
    "ExecuteTime": {
     "end_time": "2023-10-13T10:09:21.258185Z",
     "start_time": "2023-10-13T10:09:21.137359300Z"
    }
   },
   "source": [
    "fig = px.box(app_amount_and_installs_by_type, x=\"Type\", y=\"Installs\", color=\"Type\")\n",
    "fig.update_layout(yaxis=dict(type=\"log\"))\n",
    "fig.show()"
   ],
   "execution_count": 313,
   "outputs": [
    {
     "data": {
      "application/vnd.plotly.v1+json": {
       "data": [
        {
         "alignmentgroup": "True",
         "hovertemplate": "Type=%{x}<br>Installs=%{y}<extra></extra>",
         "legendgroup": "Free",
         "marker": {
          "color": "#636efa"
         },
         "name": "Free",
         "notched": false,
         "offsetgroup": "Free",
         "orientation": "v",
         "showlegend": true,
         "x": [
          "Free",
          "Free",
          "Free",
          "Free",
          "Free",
          "Free",
          "Free",
          "Free",
          "Free",
          "Free",
          "Free",
          "Free",
          "Free",
          "Free",
          "Free",
          "Free",
          "Free",
          "Free",
          "Free",
          "Free",
          "Free",
          "Free",
          "Free",
          "Free",
          "Free",
          "Free",
          "Free",
          "Free",
          "Free",
          "Free",
          "Free",
          "Free",
          "Free"
         ],
         "x0": " ",
         "xaxis": "x",
         "y": [
          4416932760,
          13837763455,
          7997997680,
          455126800,
          502563010,
          5786659370,
          691805460,
          4647264610,
          1095187665,
          11037881530,
          1529094410,
          1133533220,
          38505176,
          2369105150,
          5487835475,
          2894677300,
          1400321440,
          1665769005,
          3916826200,
          140901310,
          352250000,
          503146460,
          2113460000,
          211617750,
          53079800,
          360285000,
          52083000,
          97082000,
          114217100,
          44931100,
          31066010,
          15949410,
          26916200
         ],
         "y0": " ",
         "yaxis": "y",
         "type": "box"
        },
        {
         "alignmentgroup": "True",
         "hovertemplate": "Type=%{x}<br>Installs=%{y}<extra></extra>",
         "legendgroup": "Paid",
         "marker": {
          "color": "#EF553B"
         },
         "name": "Paid",
         "notched": false,
         "offsetgroup": "Paid",
         "orientation": "v",
         "showlegend": true,
         "x": [
          "Paid",
          "Paid",
          "Paid",
          "Paid",
          "Paid",
          "Paid",
          "Paid",
          "Paid",
          "Paid",
          "Paid",
          "Paid",
          "Paid",
          "Paid",
          "Paid",
          "Paid",
          "Paid",
          "Paid",
          "Paid",
          "Paid",
          "Paid",
          "Paid",
          "Paid",
          "Paid",
          "Paid",
          "Paid",
          "Paid",
          "Paid",
          "Paid"
         ],
         "x0": " ",
         "xaxis": "x",
         "y": [
          20621730,
          20999262,
          3258520,
          1726820,
          557500,
          1360000,
          1243800,
          1410810,
          1878520,
          1048110,
          473000,
          212660,
          182000,
          22650,
          811500,
          122600,
          121100,
          71000,
          602000,
          11100,
          16000,
          6000,
          10100,
          200000,
          60000,
          50100,
          5500,
          50000
         ],
         "y0": " ",
         "yaxis": "y",
         "type": "box"
        }
       ],
       "layout": {
        "template": {
         "data": {
          "histogram2dcontour": [
           {
            "type": "histogram2dcontour",
            "colorbar": {
             "outlinewidth": 0,
             "ticks": ""
            },
            "colorscale": [
             [
              0.0,
              "#0d0887"
             ],
             [
              0.1111111111111111,
              "#46039f"
             ],
             [
              0.2222222222222222,
              "#7201a8"
             ],
             [
              0.3333333333333333,
              "#9c179e"
             ],
             [
              0.4444444444444444,
              "#bd3786"
             ],
             [
              0.5555555555555556,
              "#d8576b"
             ],
             [
              0.6666666666666666,
              "#ed7953"
             ],
             [
              0.7777777777777778,
              "#fb9f3a"
             ],
             [
              0.8888888888888888,
              "#fdca26"
             ],
             [
              1.0,
              "#f0f921"
             ]
            ]
           }
          ],
          "choropleth": [
           {
            "type": "choropleth",
            "colorbar": {
             "outlinewidth": 0,
             "ticks": ""
            }
           }
          ],
          "histogram2d": [
           {
            "type": "histogram2d",
            "colorbar": {
             "outlinewidth": 0,
             "ticks": ""
            },
            "colorscale": [
             [
              0.0,
              "#0d0887"
             ],
             [
              0.1111111111111111,
              "#46039f"
             ],
             [
              0.2222222222222222,
              "#7201a8"
             ],
             [
              0.3333333333333333,
              "#9c179e"
             ],
             [
              0.4444444444444444,
              "#bd3786"
             ],
             [
              0.5555555555555556,
              "#d8576b"
             ],
             [
              0.6666666666666666,
              "#ed7953"
             ],
             [
              0.7777777777777778,
              "#fb9f3a"
             ],
             [
              0.8888888888888888,
              "#fdca26"
             ],
             [
              1.0,
              "#f0f921"
             ]
            ]
           }
          ],
          "heatmap": [
           {
            "type": "heatmap",
            "colorbar": {
             "outlinewidth": 0,
             "ticks": ""
            },
            "colorscale": [
             [
              0.0,
              "#0d0887"
             ],
             [
              0.1111111111111111,
              "#46039f"
             ],
             [
              0.2222222222222222,
              "#7201a8"
             ],
             [
              0.3333333333333333,
              "#9c179e"
             ],
             [
              0.4444444444444444,
              "#bd3786"
             ],
             [
              0.5555555555555556,
              "#d8576b"
             ],
             [
              0.6666666666666666,
              "#ed7953"
             ],
             [
              0.7777777777777778,
              "#fb9f3a"
             ],
             [
              0.8888888888888888,
              "#fdca26"
             ],
             [
              1.0,
              "#f0f921"
             ]
            ]
           }
          ],
          "heatmapgl": [
           {
            "type": "heatmapgl",
            "colorbar": {
             "outlinewidth": 0,
             "ticks": ""
            },
            "colorscale": [
             [
              0.0,
              "#0d0887"
             ],
             [
              0.1111111111111111,
              "#46039f"
             ],
             [
              0.2222222222222222,
              "#7201a8"
             ],
             [
              0.3333333333333333,
              "#9c179e"
             ],
             [
              0.4444444444444444,
              "#bd3786"
             ],
             [
              0.5555555555555556,
              "#d8576b"
             ],
             [
              0.6666666666666666,
              "#ed7953"
             ],
             [
              0.7777777777777778,
              "#fb9f3a"
             ],
             [
              0.8888888888888888,
              "#fdca26"
             ],
             [
              1.0,
              "#f0f921"
             ]
            ]
           }
          ],
          "contourcarpet": [
           {
            "type": "contourcarpet",
            "colorbar": {
             "outlinewidth": 0,
             "ticks": ""
            }
           }
          ],
          "contour": [
           {
            "type": "contour",
            "colorbar": {
             "outlinewidth": 0,
             "ticks": ""
            },
            "colorscale": [
             [
              0.0,
              "#0d0887"
             ],
             [
              0.1111111111111111,
              "#46039f"
             ],
             [
              0.2222222222222222,
              "#7201a8"
             ],
             [
              0.3333333333333333,
              "#9c179e"
             ],
             [
              0.4444444444444444,
              "#bd3786"
             ],
             [
              0.5555555555555556,
              "#d8576b"
             ],
             [
              0.6666666666666666,
              "#ed7953"
             ],
             [
              0.7777777777777778,
              "#fb9f3a"
             ],
             [
              0.8888888888888888,
              "#fdca26"
             ],
             [
              1.0,
              "#f0f921"
             ]
            ]
           }
          ],
          "surface": [
           {
            "type": "surface",
            "colorbar": {
             "outlinewidth": 0,
             "ticks": ""
            },
            "colorscale": [
             [
              0.0,
              "#0d0887"
             ],
             [
              0.1111111111111111,
              "#46039f"
             ],
             [
              0.2222222222222222,
              "#7201a8"
             ],
             [
              0.3333333333333333,
              "#9c179e"
             ],
             [
              0.4444444444444444,
              "#bd3786"
             ],
             [
              0.5555555555555556,
              "#d8576b"
             ],
             [
              0.6666666666666666,
              "#ed7953"
             ],
             [
              0.7777777777777778,
              "#fb9f3a"
             ],
             [
              0.8888888888888888,
              "#fdca26"
             ],
             [
              1.0,
              "#f0f921"
             ]
            ]
           }
          ],
          "mesh3d": [
           {
            "type": "mesh3d",
            "colorbar": {
             "outlinewidth": 0,
             "ticks": ""
            }
           }
          ],
          "scatter": [
           {
            "marker": {
             "line": {
              "color": "#283442"
             }
            },
            "type": "scatter"
           }
          ],
          "parcoords": [
           {
            "type": "parcoords",
            "line": {
             "colorbar": {
              "outlinewidth": 0,
              "ticks": ""
             }
            }
           }
          ],
          "scatterpolargl": [
           {
            "type": "scatterpolargl",
            "marker": {
             "colorbar": {
              "outlinewidth": 0,
              "ticks": ""
             }
            }
           }
          ],
          "bar": [
           {
            "error_x": {
             "color": "#f2f5fa"
            },
            "error_y": {
             "color": "#f2f5fa"
            },
            "marker": {
             "line": {
              "color": "rgb(17,17,17)",
              "width": 0.5
             },
             "pattern": {
              "fillmode": "overlay",
              "size": 10,
              "solidity": 0.2
             }
            },
            "type": "bar"
           }
          ],
          "scattergeo": [
           {
            "type": "scattergeo",
            "marker": {
             "colorbar": {
              "outlinewidth": 0,
              "ticks": ""
             }
            }
           }
          ],
          "scatterpolar": [
           {
            "type": "scatterpolar",
            "marker": {
             "colorbar": {
              "outlinewidth": 0,
              "ticks": ""
             }
            }
           }
          ],
          "histogram": [
           {
            "marker": {
             "pattern": {
              "fillmode": "overlay",
              "size": 10,
              "solidity": 0.2
             }
            },
            "type": "histogram"
           }
          ],
          "scattergl": [
           {
            "marker": {
             "line": {
              "color": "#283442"
             }
            },
            "type": "scattergl"
           }
          ],
          "scatter3d": [
           {
            "type": "scatter3d",
            "line": {
             "colorbar": {
              "outlinewidth": 0,
              "ticks": ""
             }
            },
            "marker": {
             "colorbar": {
              "outlinewidth": 0,
              "ticks": ""
             }
            }
           }
          ],
          "scattermapbox": [
           {
            "type": "scattermapbox",
            "marker": {
             "colorbar": {
              "outlinewidth": 0,
              "ticks": ""
             }
            }
           }
          ],
          "scatterternary": [
           {
            "type": "scatterternary",
            "marker": {
             "colorbar": {
              "outlinewidth": 0,
              "ticks": ""
             }
            }
           }
          ],
          "scattercarpet": [
           {
            "type": "scattercarpet",
            "marker": {
             "colorbar": {
              "outlinewidth": 0,
              "ticks": ""
             }
            }
           }
          ],
          "carpet": [
           {
            "aaxis": {
             "endlinecolor": "#A2B1C6",
             "gridcolor": "#506784",
             "linecolor": "#506784",
             "minorgridcolor": "#506784",
             "startlinecolor": "#A2B1C6"
            },
            "baxis": {
             "endlinecolor": "#A2B1C6",
             "gridcolor": "#506784",
             "linecolor": "#506784",
             "minorgridcolor": "#506784",
             "startlinecolor": "#A2B1C6"
            },
            "type": "carpet"
           }
          ],
          "table": [
           {
            "cells": {
             "fill": {
              "color": "#506784"
             },
             "line": {
              "color": "rgb(17,17,17)"
             }
            },
            "header": {
             "fill": {
              "color": "#2a3f5f"
             },
             "line": {
              "color": "rgb(17,17,17)"
             }
            },
            "type": "table"
           }
          ],
          "barpolar": [
           {
            "marker": {
             "line": {
              "color": "rgb(17,17,17)",
              "width": 0.5
             },
             "pattern": {
              "fillmode": "overlay",
              "size": 10,
              "solidity": 0.2
             }
            },
            "type": "barpolar"
           }
          ],
          "pie": [
           {
            "automargin": true,
            "type": "pie"
           }
          ]
         },
         "layout": {
          "autotypenumbers": "strict",
          "colorway": [
           "#636efa",
           "#EF553B",
           "#00cc96",
           "#ab63fa",
           "#FFA15A",
           "#19d3f3",
           "#FF6692",
           "#B6E880",
           "#FF97FF",
           "#FECB52"
          ],
          "font": {
           "color": "#f2f5fa"
          },
          "hovermode": "closest",
          "hoverlabel": {
           "align": "left"
          },
          "paper_bgcolor": "rgb(17,17,17)",
          "plot_bgcolor": "rgb(17,17,17)",
          "polar": {
           "bgcolor": "rgb(17,17,17)",
           "angularaxis": {
            "gridcolor": "#506784",
            "linecolor": "#506784",
            "ticks": ""
           },
           "radialaxis": {
            "gridcolor": "#506784",
            "linecolor": "#506784",
            "ticks": ""
           }
          },
          "ternary": {
           "bgcolor": "rgb(17,17,17)",
           "aaxis": {
            "gridcolor": "#506784",
            "linecolor": "#506784",
            "ticks": ""
           },
           "baxis": {
            "gridcolor": "#506784",
            "linecolor": "#506784",
            "ticks": ""
           },
           "caxis": {
            "gridcolor": "#506784",
            "linecolor": "#506784",
            "ticks": ""
           }
          },
          "coloraxis": {
           "colorbar": {
            "outlinewidth": 0,
            "ticks": ""
           }
          },
          "colorscale": {
           "sequential": [
            [
             0.0,
             "#0d0887"
            ],
            [
             0.1111111111111111,
             "#46039f"
            ],
            [
             0.2222222222222222,
             "#7201a8"
            ],
            [
             0.3333333333333333,
             "#9c179e"
            ],
            [
             0.4444444444444444,
             "#bd3786"
            ],
            [
             0.5555555555555556,
             "#d8576b"
            ],
            [
             0.6666666666666666,
             "#ed7953"
            ],
            [
             0.7777777777777778,
             "#fb9f3a"
            ],
            [
             0.8888888888888888,
             "#fdca26"
            ],
            [
             1.0,
             "#f0f921"
            ]
           ],
           "sequentialminus": [
            [
             0.0,
             "#0d0887"
            ],
            [
             0.1111111111111111,
             "#46039f"
            ],
            [
             0.2222222222222222,
             "#7201a8"
            ],
            [
             0.3333333333333333,
             "#9c179e"
            ],
            [
             0.4444444444444444,
             "#bd3786"
            ],
            [
             0.5555555555555556,
             "#d8576b"
            ],
            [
             0.6666666666666666,
             "#ed7953"
            ],
            [
             0.7777777777777778,
             "#fb9f3a"
            ],
            [
             0.8888888888888888,
             "#fdca26"
            ],
            [
             1.0,
             "#f0f921"
            ]
           ],
           "diverging": [
            [
             0,
             "#8e0152"
            ],
            [
             0.1,
             "#c51b7d"
            ],
            [
             0.2,
             "#de77ae"
            ],
            [
             0.3,
             "#f1b6da"
            ],
            [
             0.4,
             "#fde0ef"
            ],
            [
             0.5,
             "#f7f7f7"
            ],
            [
             0.6,
             "#e6f5d0"
            ],
            [
             0.7,
             "#b8e186"
            ],
            [
             0.8,
             "#7fbc41"
            ],
            [
             0.9,
             "#4d9221"
            ],
            [
             1,
             "#276419"
            ]
           ]
          },
          "xaxis": {
           "gridcolor": "#283442",
           "linecolor": "#506784",
           "ticks": "",
           "title": {
            "standoff": 15
           },
           "zerolinecolor": "#283442",
           "automargin": true,
           "zerolinewidth": 2
          },
          "yaxis": {
           "gridcolor": "#283442",
           "linecolor": "#506784",
           "ticks": "",
           "title": {
            "standoff": 15
           },
           "zerolinecolor": "#283442",
           "automargin": true,
           "zerolinewidth": 2
          },
          "scene": {
           "xaxis": {
            "backgroundcolor": "rgb(17,17,17)",
            "gridcolor": "#506784",
            "linecolor": "#506784",
            "showbackground": true,
            "ticks": "",
            "zerolinecolor": "#C8D4E3",
            "gridwidth": 2
           },
           "yaxis": {
            "backgroundcolor": "rgb(17,17,17)",
            "gridcolor": "#506784",
            "linecolor": "#506784",
            "showbackground": true,
            "ticks": "",
            "zerolinecolor": "#C8D4E3",
            "gridwidth": 2
           },
           "zaxis": {
            "backgroundcolor": "rgb(17,17,17)",
            "gridcolor": "#506784",
            "linecolor": "#506784",
            "showbackground": true,
            "ticks": "",
            "zerolinecolor": "#C8D4E3",
            "gridwidth": 2
           }
          },
          "shapedefaults": {
           "line": {
            "color": "#f2f5fa"
           }
          },
          "annotationdefaults": {
           "arrowcolor": "#f2f5fa",
           "arrowhead": 0,
           "arrowwidth": 1
          },
          "geo": {
           "bgcolor": "rgb(17,17,17)",
           "landcolor": "rgb(17,17,17)",
           "subunitcolor": "#506784",
           "showland": true,
           "showlakes": true,
           "lakecolor": "rgb(17,17,17)"
          },
          "title": {
           "x": 0.05
          },
          "updatemenudefaults": {
           "bgcolor": "#506784",
           "borderwidth": 0
          },
          "sliderdefaults": {
           "bgcolor": "#C8D4E3",
           "borderwidth": 1,
           "bordercolor": "rgb(17,17,17)",
           "tickwidth": 0
          },
          "mapbox": {
           "style": "dark"
          }
         }
        },
        "xaxis": {
         "anchor": "y",
         "domain": [
          0.0,
          1.0
         ],
         "title": {
          "text": "Type"
         },
         "categoryorder": "array",
         "categoryarray": [
          "Free",
          "Paid"
         ]
        },
        "yaxis": {
         "anchor": "x",
         "domain": [
          0.0,
          1.0
         ],
         "title": {
          "text": "Installs"
         },
         "type": "log"
        },
        "legend": {
         "title": {
          "text": "Type"
         },
         "tracegroupgap": 0
        },
        "margin": {
         "t": 60
        },
        "boxmode": "overlay"
       },
       "config": {
        "plotlyServerURL": "https://plot.ly"
       }
      },
      "text/html": "<div>                            <div id=\"0780c15c-9a0d-4295-9113-b2ca3b85295b\" class=\"plotly-graph-div\" style=\"height:525px; width:100%;\"></div>            <script type=\"text/javascript\">                require([\"plotly\"], function(Plotly) {                    window.PLOTLYENV=window.PLOTLYENV || {};                                    if (document.getElementById(\"0780c15c-9a0d-4295-9113-b2ca3b85295b\")) {                    Plotly.newPlot(                        \"0780c15c-9a0d-4295-9113-b2ca3b85295b\",                        [{\"alignmentgroup\":\"True\",\"hovertemplate\":\"Type=%{x}\\u003cbr\\u003eInstalls=%{y}\\u003cextra\\u003e\\u003c\\u002fextra\\u003e\",\"legendgroup\":\"Free\",\"marker\":{\"color\":\"#636efa\"},\"name\":\"Free\",\"notched\":false,\"offsetgroup\":\"Free\",\"orientation\":\"v\",\"showlegend\":true,\"x\":[\"Free\",\"Free\",\"Free\",\"Free\",\"Free\",\"Free\",\"Free\",\"Free\",\"Free\",\"Free\",\"Free\",\"Free\",\"Free\",\"Free\",\"Free\",\"Free\",\"Free\",\"Free\",\"Free\",\"Free\",\"Free\",\"Free\",\"Free\",\"Free\",\"Free\",\"Free\",\"Free\",\"Free\",\"Free\",\"Free\",\"Free\",\"Free\",\"Free\"],\"x0\":\" \",\"xaxis\":\"x\",\"y\":[4416932760,13837763455,7997997680,455126800,502563010,5786659370,691805460,4647264610,1095187665,11037881530,1529094410,1133533220,38505176,2369105150,5487835475,2894677300,1400321440,1665769005,3916826200,140901310,352250000,503146460,2113460000,211617750,53079800,360285000,52083000,97082000,114217100,44931100,31066010,15949410,26916200],\"y0\":\" \",\"yaxis\":\"y\",\"type\":\"box\"},{\"alignmentgroup\":\"True\",\"hovertemplate\":\"Type=%{x}\\u003cbr\\u003eInstalls=%{y}\\u003cextra\\u003e\\u003c\\u002fextra\\u003e\",\"legendgroup\":\"Paid\",\"marker\":{\"color\":\"#EF553B\"},\"name\":\"Paid\",\"notched\":false,\"offsetgroup\":\"Paid\",\"orientation\":\"v\",\"showlegend\":true,\"x\":[\"Paid\",\"Paid\",\"Paid\",\"Paid\",\"Paid\",\"Paid\",\"Paid\",\"Paid\",\"Paid\",\"Paid\",\"Paid\",\"Paid\",\"Paid\",\"Paid\",\"Paid\",\"Paid\",\"Paid\",\"Paid\",\"Paid\",\"Paid\",\"Paid\",\"Paid\",\"Paid\",\"Paid\",\"Paid\",\"Paid\",\"Paid\",\"Paid\"],\"x0\":\" \",\"xaxis\":\"x\",\"y\":[20621730,20999262,3258520,1726820,557500,1360000,1243800,1410810,1878520,1048110,473000,212660,182000,22650,811500,122600,121100,71000,602000,11100,16000,6000,10100,200000,60000,50100,5500,50000],\"y0\":\" \",\"yaxis\":\"y\",\"type\":\"box\"}],                        {\"template\":{\"data\":{\"histogram2dcontour\":[{\"type\":\"histogram2dcontour\",\"colorbar\":{\"outlinewidth\":0,\"ticks\":\"\"},\"colorscale\":[[0.0,\"#0d0887\"],[0.1111111111111111,\"#46039f\"],[0.2222222222222222,\"#7201a8\"],[0.3333333333333333,\"#9c179e\"],[0.4444444444444444,\"#bd3786\"],[0.5555555555555556,\"#d8576b\"],[0.6666666666666666,\"#ed7953\"],[0.7777777777777778,\"#fb9f3a\"],[0.8888888888888888,\"#fdca26\"],[1.0,\"#f0f921\"]]}],\"choropleth\":[{\"type\":\"choropleth\",\"colorbar\":{\"outlinewidth\":0,\"ticks\":\"\"}}],\"histogram2d\":[{\"type\":\"histogram2d\",\"colorbar\":{\"outlinewidth\":0,\"ticks\":\"\"},\"colorscale\":[[0.0,\"#0d0887\"],[0.1111111111111111,\"#46039f\"],[0.2222222222222222,\"#7201a8\"],[0.3333333333333333,\"#9c179e\"],[0.4444444444444444,\"#bd3786\"],[0.5555555555555556,\"#d8576b\"],[0.6666666666666666,\"#ed7953\"],[0.7777777777777778,\"#fb9f3a\"],[0.8888888888888888,\"#fdca26\"],[1.0,\"#f0f921\"]]}],\"heatmap\":[{\"type\":\"heatmap\",\"colorbar\":{\"outlinewidth\":0,\"ticks\":\"\"},\"colorscale\":[[0.0,\"#0d0887\"],[0.1111111111111111,\"#46039f\"],[0.2222222222222222,\"#7201a8\"],[0.3333333333333333,\"#9c179e\"],[0.4444444444444444,\"#bd3786\"],[0.5555555555555556,\"#d8576b\"],[0.6666666666666666,\"#ed7953\"],[0.7777777777777778,\"#fb9f3a\"],[0.8888888888888888,\"#fdca26\"],[1.0,\"#f0f921\"]]}],\"heatmapgl\":[{\"type\":\"heatmapgl\",\"colorbar\":{\"outlinewidth\":0,\"ticks\":\"\"},\"colorscale\":[[0.0,\"#0d0887\"],[0.1111111111111111,\"#46039f\"],[0.2222222222222222,\"#7201a8\"],[0.3333333333333333,\"#9c179e\"],[0.4444444444444444,\"#bd3786\"],[0.5555555555555556,\"#d8576b\"],[0.6666666666666666,\"#ed7953\"],[0.7777777777777778,\"#fb9f3a\"],[0.8888888888888888,\"#fdca26\"],[1.0,\"#f0f921\"]]}],\"contourcarpet\":[{\"type\":\"contourcarpet\",\"colorbar\":{\"outlinewidth\":0,\"ticks\":\"\"}}],\"contour\":[{\"type\":\"contour\",\"colorbar\":{\"outlinewidth\":0,\"ticks\":\"\"},\"colorscale\":[[0.0,\"#0d0887\"],[0.1111111111111111,\"#46039f\"],[0.2222222222222222,\"#7201a8\"],[0.3333333333333333,\"#9c179e\"],[0.4444444444444444,\"#bd3786\"],[0.5555555555555556,\"#d8576b\"],[0.6666666666666666,\"#ed7953\"],[0.7777777777777778,\"#fb9f3a\"],[0.8888888888888888,\"#fdca26\"],[1.0,\"#f0f921\"]]}],\"surface\":[{\"type\":\"surface\",\"colorbar\":{\"outlinewidth\":0,\"ticks\":\"\"},\"colorscale\":[[0.0,\"#0d0887\"],[0.1111111111111111,\"#46039f\"],[0.2222222222222222,\"#7201a8\"],[0.3333333333333333,\"#9c179e\"],[0.4444444444444444,\"#bd3786\"],[0.5555555555555556,\"#d8576b\"],[0.6666666666666666,\"#ed7953\"],[0.7777777777777778,\"#fb9f3a\"],[0.8888888888888888,\"#fdca26\"],[1.0,\"#f0f921\"]]}],\"mesh3d\":[{\"type\":\"mesh3d\",\"colorbar\":{\"outlinewidth\":0,\"ticks\":\"\"}}],\"scatter\":[{\"marker\":{\"line\":{\"color\":\"#283442\"}},\"type\":\"scatter\"}],\"parcoords\":[{\"type\":\"parcoords\",\"line\":{\"colorbar\":{\"outlinewidth\":0,\"ticks\":\"\"}}}],\"scatterpolargl\":[{\"type\":\"scatterpolargl\",\"marker\":{\"colorbar\":{\"outlinewidth\":0,\"ticks\":\"\"}}}],\"bar\":[{\"error_x\":{\"color\":\"#f2f5fa\"},\"error_y\":{\"color\":\"#f2f5fa\"},\"marker\":{\"line\":{\"color\":\"rgb(17,17,17)\",\"width\":0.5},\"pattern\":{\"fillmode\":\"overlay\",\"size\":10,\"solidity\":0.2}},\"type\":\"bar\"}],\"scattergeo\":[{\"type\":\"scattergeo\",\"marker\":{\"colorbar\":{\"outlinewidth\":0,\"ticks\":\"\"}}}],\"scatterpolar\":[{\"type\":\"scatterpolar\",\"marker\":{\"colorbar\":{\"outlinewidth\":0,\"ticks\":\"\"}}}],\"histogram\":[{\"marker\":{\"pattern\":{\"fillmode\":\"overlay\",\"size\":10,\"solidity\":0.2}},\"type\":\"histogram\"}],\"scattergl\":[{\"marker\":{\"line\":{\"color\":\"#283442\"}},\"type\":\"scattergl\"}],\"scatter3d\":[{\"type\":\"scatter3d\",\"line\":{\"colorbar\":{\"outlinewidth\":0,\"ticks\":\"\"}},\"marker\":{\"colorbar\":{\"outlinewidth\":0,\"ticks\":\"\"}}}],\"scattermapbox\":[{\"type\":\"scattermapbox\",\"marker\":{\"colorbar\":{\"outlinewidth\":0,\"ticks\":\"\"}}}],\"scatterternary\":[{\"type\":\"scatterternary\",\"marker\":{\"colorbar\":{\"outlinewidth\":0,\"ticks\":\"\"}}}],\"scattercarpet\":[{\"type\":\"scattercarpet\",\"marker\":{\"colorbar\":{\"outlinewidth\":0,\"ticks\":\"\"}}}],\"carpet\":[{\"aaxis\":{\"endlinecolor\":\"#A2B1C6\",\"gridcolor\":\"#506784\",\"linecolor\":\"#506784\",\"minorgridcolor\":\"#506784\",\"startlinecolor\":\"#A2B1C6\"},\"baxis\":{\"endlinecolor\":\"#A2B1C6\",\"gridcolor\":\"#506784\",\"linecolor\":\"#506784\",\"minorgridcolor\":\"#506784\",\"startlinecolor\":\"#A2B1C6\"},\"type\":\"carpet\"}],\"table\":[{\"cells\":{\"fill\":{\"color\":\"#506784\"},\"line\":{\"color\":\"rgb(17,17,17)\"}},\"header\":{\"fill\":{\"color\":\"#2a3f5f\"},\"line\":{\"color\":\"rgb(17,17,17)\"}},\"type\":\"table\"}],\"barpolar\":[{\"marker\":{\"line\":{\"color\":\"rgb(17,17,17)\",\"width\":0.5},\"pattern\":{\"fillmode\":\"overlay\",\"size\":10,\"solidity\":0.2}},\"type\":\"barpolar\"}],\"pie\":[{\"automargin\":true,\"type\":\"pie\"}]},\"layout\":{\"autotypenumbers\":\"strict\",\"colorway\":[\"#636efa\",\"#EF553B\",\"#00cc96\",\"#ab63fa\",\"#FFA15A\",\"#19d3f3\",\"#FF6692\",\"#B6E880\",\"#FF97FF\",\"#FECB52\"],\"font\":{\"color\":\"#f2f5fa\"},\"hovermode\":\"closest\",\"hoverlabel\":{\"align\":\"left\"},\"paper_bgcolor\":\"rgb(17,17,17)\",\"plot_bgcolor\":\"rgb(17,17,17)\",\"polar\":{\"bgcolor\":\"rgb(17,17,17)\",\"angularaxis\":{\"gridcolor\":\"#506784\",\"linecolor\":\"#506784\",\"ticks\":\"\"},\"radialaxis\":{\"gridcolor\":\"#506784\",\"linecolor\":\"#506784\",\"ticks\":\"\"}},\"ternary\":{\"bgcolor\":\"rgb(17,17,17)\",\"aaxis\":{\"gridcolor\":\"#506784\",\"linecolor\":\"#506784\",\"ticks\":\"\"},\"baxis\":{\"gridcolor\":\"#506784\",\"linecolor\":\"#506784\",\"ticks\":\"\"},\"caxis\":{\"gridcolor\":\"#506784\",\"linecolor\":\"#506784\",\"ticks\":\"\"}},\"coloraxis\":{\"colorbar\":{\"outlinewidth\":0,\"ticks\":\"\"}},\"colorscale\":{\"sequential\":[[0.0,\"#0d0887\"],[0.1111111111111111,\"#46039f\"],[0.2222222222222222,\"#7201a8\"],[0.3333333333333333,\"#9c179e\"],[0.4444444444444444,\"#bd3786\"],[0.5555555555555556,\"#d8576b\"],[0.6666666666666666,\"#ed7953\"],[0.7777777777777778,\"#fb9f3a\"],[0.8888888888888888,\"#fdca26\"],[1.0,\"#f0f921\"]],\"sequentialminus\":[[0.0,\"#0d0887\"],[0.1111111111111111,\"#46039f\"],[0.2222222222222222,\"#7201a8\"],[0.3333333333333333,\"#9c179e\"],[0.4444444444444444,\"#bd3786\"],[0.5555555555555556,\"#d8576b\"],[0.6666666666666666,\"#ed7953\"],[0.7777777777777778,\"#fb9f3a\"],[0.8888888888888888,\"#fdca26\"],[1.0,\"#f0f921\"]],\"diverging\":[[0,\"#8e0152\"],[0.1,\"#c51b7d\"],[0.2,\"#de77ae\"],[0.3,\"#f1b6da\"],[0.4,\"#fde0ef\"],[0.5,\"#f7f7f7\"],[0.6,\"#e6f5d0\"],[0.7,\"#b8e186\"],[0.8,\"#7fbc41\"],[0.9,\"#4d9221\"],[1,\"#276419\"]]},\"xaxis\":{\"gridcolor\":\"#283442\",\"linecolor\":\"#506784\",\"ticks\":\"\",\"title\":{\"standoff\":15},\"zerolinecolor\":\"#283442\",\"automargin\":true,\"zerolinewidth\":2},\"yaxis\":{\"gridcolor\":\"#283442\",\"linecolor\":\"#506784\",\"ticks\":\"\",\"title\":{\"standoff\":15},\"zerolinecolor\":\"#283442\",\"automargin\":true,\"zerolinewidth\":2},\"scene\":{\"xaxis\":{\"backgroundcolor\":\"rgb(17,17,17)\",\"gridcolor\":\"#506784\",\"linecolor\":\"#506784\",\"showbackground\":true,\"ticks\":\"\",\"zerolinecolor\":\"#C8D4E3\",\"gridwidth\":2},\"yaxis\":{\"backgroundcolor\":\"rgb(17,17,17)\",\"gridcolor\":\"#506784\",\"linecolor\":\"#506784\",\"showbackground\":true,\"ticks\":\"\",\"zerolinecolor\":\"#C8D4E3\",\"gridwidth\":2},\"zaxis\":{\"backgroundcolor\":\"rgb(17,17,17)\",\"gridcolor\":\"#506784\",\"linecolor\":\"#506784\",\"showbackground\":true,\"ticks\":\"\",\"zerolinecolor\":\"#C8D4E3\",\"gridwidth\":2}},\"shapedefaults\":{\"line\":{\"color\":\"#f2f5fa\"}},\"annotationdefaults\":{\"arrowcolor\":\"#f2f5fa\",\"arrowhead\":0,\"arrowwidth\":1},\"geo\":{\"bgcolor\":\"rgb(17,17,17)\",\"landcolor\":\"rgb(17,17,17)\",\"subunitcolor\":\"#506784\",\"showland\":true,\"showlakes\":true,\"lakecolor\":\"rgb(17,17,17)\"},\"title\":{\"x\":0.05},\"updatemenudefaults\":{\"bgcolor\":\"#506784\",\"borderwidth\":0},\"sliderdefaults\":{\"bgcolor\":\"#C8D4E3\",\"borderwidth\":1,\"bordercolor\":\"rgb(17,17,17)\",\"tickwidth\":0},\"mapbox\":{\"style\":\"dark\"}}},\"xaxis\":{\"anchor\":\"y\",\"domain\":[0.0,1.0],\"title\":{\"text\":\"Type\"},\"categoryorder\":\"array\",\"categoryarray\":[\"Free\",\"Paid\"]},\"yaxis\":{\"anchor\":\"x\",\"domain\":[0.0,1.0],\"title\":{\"text\":\"Installs\"},\"type\":\"log\"},\"legend\":{\"title\":{\"text\":\"Type\"},\"tracegroupgap\":0},\"margin\":{\"t\":60},\"boxmode\":\"overlay\"},                        {\"responsive\": true}                    ).then(function(){\n                            \nvar gd = document.getElementById('0780c15c-9a0d-4295-9113-b2ca3b85295b');\nvar x = new MutationObserver(function (mutations, observer) {{\n        var display = window.getComputedStyle(gd).display;\n        if (!display || display === 'none') {{\n            console.log([gd, 'removed!']);\n            Plotly.purge(gd);\n            observer.disconnect();\n        }}\n}});\n\n// Listen for the removal of the full notebook cells\nvar notebookContainer = gd.closest('#notebook-container');\nif (notebookContainer) {{\n    x.observe(notebookContainer, {childList: true});\n}}\n\n// Listen for the clearing of the current output cell\nvar outputEl = gd.closest('.output');\nif (outputEl) {{\n    x.observe(outputEl, {childList: true});\n}}\n\n                        })                };                });            </script>        </div>"
     },
     "metadata": {},
     "output_type": "display_data"
    }
   ]
  },
  {
   "cell_type": "markdown",
   "metadata": {
    "id": "Xi2NaEBPVNrP"
   },
   "source": [
    "# Plotly Box Plots: Revenue by App Category\n",
    "\n",
    "**Challenge**: See if you can generate the chart below: \n",
    "\n",
    "<img src=https://imgur.com/v4CiNqX.png>\n",
    "\n",
    "Looking at the hover text, how much does the median app earn in the Tools category? If developing an Android app costs $30,000 or thereabouts, does the average photography app recoup its development costs?\n",
    "\n",
    "Hint: I've used 'min ascending' to sort the categories. "
   ]
  },
  {
   "cell_type": "code",
   "metadata": {
    "id": "W1iVoT8Dos7x",
    "ExecuteTime": {
     "end_time": "2023-10-13T10:15:01.105315100Z",
     "start_time": "2023-10-13T10:15:00.995080200Z"
    }
   },
   "source": [
    "fig = px.box(df_apps_clean[df_apps_clean[\"Type\"] == \"Paid\"], x=\"Category\", y=\"Revenue_Estimate\")\n",
    "fig.update_layout(yaxis=dict(type=\"log\"))\n",
    "fig.show()"
   ],
   "execution_count": 321,
   "outputs": [
    {
     "data": {
      "application/vnd.plotly.v1+json": {
       "data": [
        {
         "alignmentgroup": "True",
         "hovertemplate": "Category=%{x}<br>Revenue_Estimate=%{y}<extra></extra>",
         "legendgroup": "",
         "marker": {
          "color": "#636efa"
         },
         "name": "",
         "notched": false,
         "offsetgroup": "",
         "orientation": "v",
         "showlegend": false,
         "x": [
          "GAME",
          "GAME",
          "FAMILY",
          "BUSINESS",
          "LIFESTYLE",
          "FAMILY",
          "PERSONALIZATION",
          "PHOTOGRAPHY",
          "FAMILY",
          "GAME",
          "PRODUCTIVITY",
          "PHOTOGRAPHY",
          "FAMILY",
          "TOOLS",
          "TOOLS",
          "PERSONALIZATION",
          "FAMILY",
          "FAMILY",
          "FAMILY",
          "FAMILY",
          "GAME",
          "TOOLS",
          "PERSONALIZATION",
          "PERSONALIZATION",
          "PERSONALIZATION",
          "TOOLS",
          "FAMILY",
          "FAMILY",
          "BUSINESS",
          "BOOKS_AND_REFERENCE",
          "FAMILY",
          "FAMILY",
          "FAMILY",
          "PERSONALIZATION",
          "PERSONALIZATION",
          "PERSONALIZATION",
          "GAME",
          "PERSONALIZATION",
          "FAMILY",
          "FINANCE",
          "SHOPPING",
          "DATING",
          "PERSONALIZATION",
          "GAME",
          "FAMILY",
          "PRODUCTIVITY",
          "FAMILY",
          "MEDICAL",
          "SPORTS",
          "MEDICAL",
          "PRODUCTIVITY",
          "BUSINESS",
          "PARENTING",
          "LIFESTYLE",
          "FAMILY",
          "TOOLS",
          "MAPS_AND_NAVIGATION",
          "COMMUNICATION",
          "PERSONALIZATION",
          "COMMUNICATION",
          "FAMILY",
          "PERSONALIZATION",
          "FAMILY",
          "FAMILY",
          "FAMILY",
          "TOOLS",
          "FAMILY",
          "SPORTS",
          "FAMILY",
          "MEDICAL",
          "FAMILY",
          "FAMILY",
          "GAME",
          "TOOLS",
          "FAMILY",
          "FAMILY",
          "PERSONALIZATION",
          "BOOKS_AND_REFERENCE",
          "GAME",
          "PERSONALIZATION",
          "GAME",
          "GAME",
          "TOOLS",
          "MEDICAL",
          "TOOLS",
          "TOOLS",
          "PERSONALIZATION",
          "GAME",
          "COMMUNICATION",
          "MEDICAL",
          "SPORTS",
          "PERSONALIZATION",
          "COMMUNICATION",
          "COMMUNICATION",
          "PERSONALIZATION",
          "TOOLS",
          "PERSONALIZATION",
          "PERSONALIZATION",
          "PRODUCTIVITY",
          "MEDICAL",
          "FAMILY",
          "TOOLS",
          "TOOLS",
          "BUSINESS",
          "COMMUNICATION",
          "FAMILY",
          "PERSONALIZATION",
          "PHOTOGRAPHY",
          "MEDICAL",
          "PERSONALIZATION",
          "MEDICAL",
          "COMMUNICATION",
          "PRODUCTIVITY",
          "BOOKS_AND_REFERENCE",
          "TOOLS",
          "WEATHER",
          "FAMILY",
          "FAMILY",
          "MEDICAL",
          "FAMILY",
          "TOOLS",
          "TOOLS",
          "SPORTS",
          "GAME",
          "MEDICAL",
          "PERSONALIZATION",
          "PERSONALIZATION",
          "NEWS_AND_MAGAZINES",
          "COMMUNICATION",
          "TOOLS",
          "MEDICAL",
          "FINANCE",
          "FAMILY",
          "PERSONALIZATION",
          "PERSONALIZATION",
          "MEDICAL",
          "FAMILY",
          "MEDICAL",
          "MEDICAL",
          "FAMILY",
          "FAMILY",
          "FAMILY",
          "GAME",
          "PERSONALIZATION",
          "TOOLS",
          "PERSONALIZATION",
          "GAME",
          "GAME",
          "GAME",
          "FAMILY",
          "FAMILY",
          "PRODUCTIVITY",
          "COMMUNICATION",
          "SPORTS",
          "SPORTS",
          "FAMILY",
          "PERSONALIZATION",
          "MEDICAL",
          "SPORTS",
          "COMMUNICATION",
          "LIFESTYLE",
          "FAMILY",
          "MEDICAL",
          "MEDICAL",
          "TOOLS",
          "PRODUCTIVITY",
          "FINANCE",
          "HEALTH_AND_FITNESS",
          "MEDICAL",
          "PHOTOGRAPHY",
          "FAMILY",
          "FAMILY",
          "PHOTOGRAPHY",
          "SPORTS",
          "ART_AND_DESIGN",
          "FAMILY",
          "PERSONALIZATION",
          "PRODUCTIVITY",
          "HEALTH_AND_FITNESS",
          "MEDICAL",
          "TOOLS",
          "PRODUCTIVITY",
          "GAME",
          "TOOLS",
          "MEDICAL",
          "LIFESTYLE",
          "GAME",
          "MEDICAL",
          "TRAVEL_AND_LOCAL",
          "BUSINESS",
          "MEDICAL",
          "COMMUNICATION",
          "PERSONALIZATION",
          "GAME",
          "TRAVEL_AND_LOCAL",
          "GAME",
          "SPORTS",
          "MEDICAL",
          "FAMILY",
          "MEDICAL",
          "TOOLS",
          "BOOKS_AND_REFERENCE",
          "FAMILY",
          "MEDICAL",
          "MEDICAL",
          "GAME",
          "BUSINESS",
          "TOOLS",
          "FAMILY",
          "MEDICAL",
          "PERSONALIZATION",
          "PHOTOGRAPHY",
          "SPORTS",
          "MAPS_AND_NAVIGATION",
          "PERSONALIZATION",
          "GAME",
          "BOOKS_AND_REFERENCE",
          "EDUCATION",
          "FAMILY",
          "FAMILY",
          "SOCIAL",
          "MEDICAL",
          "TOOLS",
          "SPORTS",
          "FAMILY",
          "FAMILY",
          "TOOLS",
          "WEATHER",
          "VIDEO_PLAYERS",
          "MEDICAL",
          "TOOLS",
          "GAME",
          "PERSONALIZATION",
          "MEDICAL",
          "LIFESTYLE",
          "MEDICAL",
          "DATING",
          "HEALTH_AND_FITNESS",
          "MEDICAL",
          "FAMILY",
          "PRODUCTIVITY",
          "EDUCATION",
          "SPORTS",
          "FAMILY",
          "PERSONALIZATION",
          "PERSONALIZATION",
          "FAMILY",
          "GAME",
          "FINANCE",
          "GAME",
          "MEDICAL",
          "FAMILY",
          "MEDICAL",
          "MEDICAL",
          "TOOLS",
          "TOOLS",
          "TOOLS",
          "TOOLS",
          "PERSONALIZATION",
          "PERSONALIZATION",
          "PERSONALIZATION",
          "PERSONALIZATION",
          "FAMILY",
          "GAME",
          "FAMILY",
          "FAMILY",
          "MEDICAL",
          "SPORTS",
          "LIFESTYLE",
          "FAMILY",
          "FAMILY",
          "TRAVEL_AND_LOCAL",
          "PERSONALIZATION",
          "BOOKS_AND_REFERENCE",
          "FAMILY",
          "MEDICAL",
          "MEDICAL",
          "MEDICAL",
          "MEDICAL",
          "PRODUCTIVITY",
          "SOCIAL",
          "SPORTS",
          "TRAVEL_AND_LOCAL",
          "TOOLS",
          "FAMILY",
          "NEWS_AND_MAGAZINES",
          "ART_AND_DESIGN",
          "GAME",
          "PERSONALIZATION",
          "LIFESTYLE",
          "PERSONALIZATION",
          "LIFESTYLE",
          "MEDICAL",
          "FAMILY",
          "FAMILY",
          "BOOKS_AND_REFERENCE",
          "LIFESTYLE",
          "MEDICAL",
          "MEDICAL",
          "TOOLS",
          "SPORTS",
          "MEDICAL",
          "PHOTOGRAPHY",
          "GAME",
          "SPORTS",
          "FAMILY",
          "SPORTS",
          "TOOLS",
          "LIFESTYLE",
          "FAMILY",
          "COMMUNICATION",
          "COMMUNICATION",
          "COMMUNICATION",
          "FAMILY",
          "FAMILY",
          "TOOLS",
          "MEDICAL",
          "TOOLS",
          "TOOLS",
          "TOOLS",
          "TOOLS",
          "TOOLS",
          "TOOLS",
          "PERSONALIZATION",
          "FAMILY",
          "MEDICAL",
          "MEDICAL",
          "MEDICAL",
          "HEALTH_AND_FITNESS",
          "GAME",
          "FAMILY",
          "FAMILY",
          "PHOTOGRAPHY",
          "PERSONALIZATION",
          "LIFESTYLE",
          "GAME",
          "FAMILY",
          "MEDICAL",
          "FAMILY",
          "BUSINESS",
          "GAME",
          "FAMILY",
          "MEDICAL",
          "FAMILY",
          "MAPS_AND_NAVIGATION",
          "BOOKS_AND_REFERENCE",
          "GAME",
          "PERSONALIZATION",
          "PERSONALIZATION",
          "COMMUNICATION",
          "DATING",
          "FOOD_AND_DRINK",
          "LIFESTYLE",
          "FAMILY",
          "FAMILY",
          "MEDICAL",
          "TRAVEL_AND_LOCAL",
          "TOOLS",
          "TOOLS",
          "TOOLS",
          "PERSONALIZATION",
          "VIDEO_PLAYERS",
          "VIDEO_PLAYERS",
          "GAME",
          "FAMILY",
          "FAMILY",
          "FAMILY",
          "FAMILY",
          "PERSONALIZATION",
          "WEATHER",
          "TOOLS",
          "PERSONALIZATION",
          "TOOLS",
          "ART_AND_DESIGN",
          "PERSONALIZATION",
          "PERSONALIZATION",
          "MEDICAL",
          "TOOLS",
          "FAMILY",
          "FINANCE",
          "TOOLS",
          "GAME",
          "FAMILY",
          "FAMILY",
          "TOOLS",
          "TOOLS",
          "GAME",
          "TOOLS",
          "HEALTH_AND_FITNESS",
          "GAME",
          "MEDICAL",
          "COMMUNICATION",
          "FAMILY",
          "GAME",
          "FAMILY",
          "MEDICAL",
          "PERSONALIZATION",
          "FAMILY",
          "SPORTS",
          "FAMILY",
          "TRAVEL_AND_LOCAL",
          "TOOLS",
          "SHOPPING",
          "TOOLS",
          "FAMILY",
          "FAMILY",
          "FAMILY",
          "FAMILY",
          "FAMILY",
          "FAMILY",
          "GAME",
          "MAPS_AND_NAVIGATION",
          "PERSONALIZATION",
          "GAME",
          "FAMILY",
          "FAMILY",
          "FINANCE",
          "TOOLS",
          "TOOLS",
          "FAMILY",
          "FAMILY",
          "MEDICAL",
          "GAME",
          "FAMILY",
          "COMMUNICATION",
          "COMMUNICATION",
          "FAMILY",
          "FAMILY",
          "MEDICAL",
          "MEDICAL",
          "MEDICAL",
          "PHOTOGRAPHY",
          "TOOLS",
          "TOOLS",
          "PERSONALIZATION",
          "PERSONALIZATION",
          "FAMILY",
          "GAME",
          "SPORTS",
          "MEDICAL",
          "GAME",
          "FAMILY",
          "AUTO_AND_VEHICLES",
          "HEALTH_AND_FITNESS",
          "FAMILY",
          "FAMILY",
          "MEDICAL",
          "PHOTOGRAPHY",
          "SPORTS",
          "TOOLS",
          "VIDEO_PLAYERS",
          "FAMILY",
          "FAMILY",
          "PRODUCTIVITY",
          "PERSONALIZATION",
          "PRODUCTIVITY",
          "PERSONALIZATION",
          "FAMILY",
          "FAMILY",
          "GAME",
          "MEDICAL",
          "FAMILY",
          "FAMILY",
          "FOOD_AND_DRINK",
          "FAMILY",
          "FAMILY",
          "FAMILY",
          "TOOLS",
          "HEALTH_AND_FITNESS",
          "PARENTING",
          "FAMILY",
          "GAME",
          "HEALTH_AND_FITNESS",
          "TRAVEL_AND_LOCAL",
          "GAME",
          "WEATHER",
          "FAMILY",
          "MEDICAL",
          "GAME",
          "GAME",
          "MEDICAL",
          "PERSONALIZATION",
          "FAMILY",
          "FAMILY",
          "FAMILY",
          "FAMILY",
          "GAME",
          "PHOTOGRAPHY",
          "FAMILY",
          "BUSINESS",
          "FAMILY",
          "GAME",
          "FAMILY",
          "FAMILY",
          "WEATHER",
          "EDUCATION",
          "COMMUNICATION",
          "ENTERTAINMENT",
          "HEALTH_AND_FITNESS",
          "HEALTH_AND_FITNESS",
          "GAME",
          "GAME",
          "FAMILY",
          "FAMILY",
          "FAMILY",
          "PHOTOGRAPHY",
          "SPORTS",
          "TRAVEL_AND_LOCAL",
          "TOOLS",
          "TOOLS",
          "PERSONALIZATION",
          "PERSONALIZATION",
          "PRODUCTIVITY",
          "PRODUCTIVITY",
          "MAPS_AND_NAVIGATION",
          "GAME",
          "GAME",
          "PRODUCTIVITY",
          "TOOLS",
          "WEATHER",
          "FAMILY",
          "GAME",
          "FAMILY",
          "GAME",
          "TOOLS",
          "GAME",
          "FAMILY",
          "FAMILY",
          "HEALTH_AND_FITNESS",
          "FAMILY",
          "GAME",
          "FAMILY",
          "PERSONALIZATION",
          "BUSINESS",
          "FINANCE",
          "FAMILY",
          "PHOTOGRAPHY",
          "GAME",
          "FAMILY",
          "FAMILY",
          "FAMILY",
          "FAMILY",
          "GAME",
          "FAMILY",
          "GAME",
          "COMMUNICATION",
          "FAMILY",
          "ENTERTAINMENT",
          "COMMUNICATION",
          "GAME",
          "GAME",
          "GAME",
          "GAME",
          "GAME",
          "GAME",
          "PERSONALIZATION",
          "FAMILY",
          "PERSONALIZATION",
          "FAMILY",
          "EDUCATION",
          "WEATHER",
          "PHOTOGRAPHY",
          "PRODUCTIVITY",
          "GAME",
          "FAMILY",
          "FAMILY",
          "PRODUCTIVITY",
          "PERSONALIZATION",
          "GAME",
          "GAME",
          "FAMILY",
          "COMMUNICATION",
          "TOOLS",
          "GAME",
          "PERSONALIZATION",
          "PHOTOGRAPHY",
          "SPORTS",
          "GAME",
          "FAMILY",
          "GAME",
          "GAME",
          "FAMILY",
          "GAME",
          "FAMILY",
          "GAME",
          "LIFESTYLE",
          "FAMILY",
          "GAME",
          "FAMILY"
         ],
         "x0": " ",
         "xaxis": "x",
         "y": [
          1.49,
          0.99,
          149.9,
          24.900000000000002,
          30.4,
          14.9,
          9.9,
          34.900000000000006,
          29.900000000000002,
          9.9,
          9.9,
          49.900000000000006,
          9.9,
          29.900000000000002,
          9.9,
          9.9,
          299.9,
          199.89999999999998,
          49.900000000000006,
          49.900000000000006,
          99.5,
          149.5,
          49.5,
          49.5,
          49.5,
          88.0,
          149.5,
          149.5,
          449.5,
          87.5,
          74.5,
          74.5,
          49.5,
          49.5,
          99.0,
          99.0,
          99.0,
          99.0,
          1299.0,
          499.0,
          249.00000000000003,
          799.0,
          199.0,
          499.0,
          99.0,
          499.0,
          399.0,
          299.0,
          388.0,
          299.0,
          299.0,
          1299.0,
          459.0,
          99.0,
          999.0,
          399.0,
          999.0,
          149.0,
          149.0,
          149.0,
          149.0,
          99.0,
          299.0,
          199.0,
          499.0,
          149.0,
          99.0,
          349.0,
          199.0,
          1299.0,
          99.0,
          99.0,
          99.0,
          199.0,
          499.0,
          399.0,
          99.0,
          399.0,
          1400.0,
          149.0,
          449.0,
          199.0,
          99.0,
          699.0,
          599.0,
          399.0,
          249.00000000000003,
          99.0,
          149.0,
          3999.0,
          302.0,
          149.0,
          149.0,
          99.0,
          99.0,
          499.0,
          149.0,
          99.0,
          649.0,
          2995.0,
          1495.0,
          1995.0,
          495.0,
          8995.0,
          495.0,
          995.0,
          745.0,
          745.0,
          1995.0,
          745.0,
          1495.0,
          2495.0,
          4495.0,
          495.0,
          495.0,
          995.0,
          1245.0,
          2495.0,
          495.0,
          995.0,
          995.0,
          495.0,
          1495.0,
          2245.0,
          1745.0,
          1000.0,
          745.0,
          1495.0,
          1995.0,
          1995.0,
          7995.0,
          1995.0,
          1495.0,
          745.0,
          495.0,
          9990.0,
          2990.0,
          4990.0,
          9990.0,
          2490.0,
          10990.0,
          2990.0,
          990.0,
          1990.0,
          1990.0,
          990.0,
          3990.0,
          1610.0,
          990.0,
          1990.0,
          2490.0,
          4290.0,
          990.0,
          3990.0,
          990.0,
          2990.0,
          1490.0,
          15460.0,
          1990.0,
          2990.0,
          4990.0,
          7490.0,
          3990.0,
          5490.0,
          2490.0,
          2990.0,
          1990.0,
          4990.0,
          4990.0,
          19990.0,
          2990.0,
          1990.0,
          9990.0,
          990.0,
          1990.0,
          2990.0,
          1700.0,
          990.0,
          7990.0,
          29990.0,
          2990.0,
          7990.0,
          990.0,
          1490.0,
          2990.0,
          4990.0,
          2490.0,
          79990.0,
          2560.0,
          3990.0,
          19990.0,
          2490.0,
          990.0,
          990.0,
          8490.0,
          6990.0,
          2990.0,
          990.0,
          2990.0,
          1500.0,
          4990.0,
          1990.0,
          4840.0,
          14990.0,
          29990.0,
          4990.0,
          4990.0,
          3990.0,
          19400.0,
          33990.0,
          1490.0,
          2990.0,
          2990.0,
          990.0,
          990.0,
          1990.0,
          3080.0,
          5990.0,
          3990.0,
          2990.0,
          990.0,
          1990.0,
          5990.0,
          2490.0,
          990.0,
          990.0,
          990.0,
          6990.0,
          990.0,
          16990.0,
          990.0,
          3490.0,
          1700.0,
          3990.0,
          37990.0,
          9990.0,
          6990.0,
          1990.0,
          3990.0,
          10000.0,
          1290.0,
          3990.0,
          4490.0,
          2990.0,
          2490.0,
          990.0,
          4990.0,
          990.0,
          3990.0,
          1990.0,
          7490.0,
          990.0,
          10990.0,
          5990.0,
          990.0,
          1490.0,
          14990.0,
          4990.0,
          4990.0,
          990.0,
          4990.0,
          3990.0,
          24950.0,
          4950.0,
          22450.0,
          29950.0,
          19950.0,
          9950.0,
          19950.0,
          24950.0,
          9950.0,
          19950.0,
          4950.0,
          14950.000000000002,
          7450.0,
          12450.000000000002,
          19950.0,
          19950.0,
          19950.0,
          19950.0,
          4950.0,
          9950.0,
          14950.000000000002,
          4950.0,
          14950.000000000002,
          4950.0,
          9950.0,
          34950.0,
          9950.0,
          4950.0,
          7450.0,
          14950.000000000002,
          29950.0,
          14950.000000000002,
          14950.000000000002,
          23000.0,
          9950.0,
          74950.0,
          4950.0,
          4950.0,
          4950.0,
          14950.000000000002,
          14950.000000000002,
          9950.0,
          14950.000000000002,
          24950.0,
          5000.0,
          74950.0,
          12450.000000000002,
          4950.0,
          24950.0,
          4950.0,
          7450.0,
          19950.0,
          14950.000000000002,
          24950.0,
          19950.0,
          24950.0,
          24950.0,
          24950.0,
          24950.0,
          24950.0,
          5000.0,
          34950.0,
          29900.000000000004,
          99900.0,
          249899.99999999997,
          29900.000000000004,
          39900.0,
          9900.0,
          39900.0,
          39900.0,
          19900.0,
          9900.0,
          79900.0,
          49900.0,
          29900.000000000004,
          100000.0,
          29900.000000000004,
          29900.000000000004,
          29900.000000000004,
          149900.0,
          79900.0,
          129900.0,
          9900.0,
          44900.0,
          169899.99999999997,
          9900.0,
          9900.0,
          49900.0,
          39900.0,
          34900.0,
          24900.000000000004,
          29900.000000000004,
          14900.0,
          69900.0,
          19900.0,
          25000.0,
          39000.0,
          29500.0,
          9900.0,
          14900.0,
          19900.0,
          79900.0,
          29900.000000000004,
          29900.000000000004,
          49900.0,
          19900.0,
          9900.0,
          29900.000000000004,
          29900.000000000004,
          19900.0,
          19700.0,
          19900.0,
          99900.0,
          29900.000000000004,
          54900.0,
          32800.0,
          9900.0,
          29900.000000000004,
          49900.0,
          29900.000000000004,
          149900.0,
          29900.000000000004,
          29900.000000000004,
          29900.000000000004,
          179899.99999999997,
          9900.0,
          69900.0,
          49900.0,
          39900.0,
          29900.000000000004,
          29900.000000000004,
          49900.0,
          12000.0,
          29900.000000000004,
          19900.0,
          49900.0,
          49900.0,
          9900.0,
          59900.0,
          25900.0,
          29900.000000000004,
          19900.0,
          39900.0,
          49900.0,
          39900.0,
          29900.000000000004,
          49900.0,
          29900.000000000004,
          49900.0,
          29900.000000000004,
          9900.0,
          39900.0,
          24900.000000000004,
          9900.0,
          189899.99999999997,
          19900.0,
          19900.0,
          15900.0,
          39900.0,
          119900.0,
          19900.0,
          19900.0,
          29900.000000000004,
          9900.0,
          99900.0,
          39900.0,
          9900.0,
          29900.000000000004,
          19900.0,
          49900.0,
          19900.0,
          29900.000000000004,
          9900.0,
          19900.0,
          49500.0,
          49500.0,
          1499500.0,
          149500.0,
          99500.0,
          149500.0,
          99500.0,
          99500.0,
          149500.0,
          249500.0,
          199500.0,
          99500.0,
          199500.0,
          149500.0,
          299500.0,
          999499.9999999999,
          499500.0,
          149500.0,
          124500.00000000001,
          74500.0,
          49500.0,
          149500.0,
          149500.0,
          99500.0,
          599500.0,
          249500.0,
          199500.0,
          249500.0,
          149500.0,
          149500.0,
          238499.99999999997,
          149500.0,
          149500.0,
          249500.0,
          249500.0,
          249500.0,
          99500.0,
          124500.00000000001,
          249500.0,
          399000.0,
          399000.0,
          2499000.0,
          499000.0,
          99000.0,
          900000.0,
          99000.0,
          299000.0,
          299000.0,
          299000.0,
          999000.0,
          299000.0,
          149000.0,
          1499000.0,
          499000.0,
          799000.0,
          199000.0,
          99000.0,
          99000.0,
          449000.0,
          399000.0,
          399000.0,
          499000.0,
          299000.0,
          299000.0,
          299000.0,
          299000.0,
          399000.0,
          499000.0,
          499000.0,
          395000.0,
          899000.0,
          899000.0,
          249000.00000000003,
          399000.0,
          449000.0,
          199000.0,
          599000.0,
          499000.0,
          1199000.0,
          499000.0,
          999000.0,
          449000.0,
          349000.0,
          299000.0,
          499000.0,
          499000.0,
          499000.0,
          199000.0,
          449000.0,
          399000.0,
          299000.0,
          1399000.0,
          349000.0,
          999000.0,
          499000.0,
          299000.0,
          299000.0,
          499000.0,
          299000.0,
          299000.0,
          299000.0,
          299000.0,
          299000.0,
          999000.0,
          99000.0,
          199000.0,
          299000.0,
          149000.0,
          699000.0,
          290000.0,
          299000.0,
          299000.0,
          399000.0,
          299000.0,
          499000.0,
          299000.0,
          299000.0,
          199000.0,
          599000.0,
          499000.0,
          1495000.0,
          1245000.0,
          495000.0,
          1995000.0,
          2995000.0,
          1495000.0,
          1495000.0,
          995000.0,
          1495000.0,
          2495000.0,
          995000.0,
          2490000.0,
          990000.0,
          4990000.0,
          2990000.0,
          2990000.0,
          2990000.0,
          6990000.0,
          990000.0,
          5990000.0,
          1990000.0,
          2990000.0,
          990000.0,
          990000.0,
          990000.0,
          990000.0,
          990000.0,
          2990000.0,
          990000.0,
          5990000.0,
          1990000.0,
          9900000.0,
          6.99E7
         ],
         "y0": " ",
         "yaxis": "y",
         "type": "box"
        }
       ],
       "layout": {
        "template": {
         "data": {
          "histogram2dcontour": [
           {
            "type": "histogram2dcontour",
            "colorbar": {
             "outlinewidth": 0,
             "ticks": ""
            },
            "colorscale": [
             [
              0.0,
              "#0d0887"
             ],
             [
              0.1111111111111111,
              "#46039f"
             ],
             [
              0.2222222222222222,
              "#7201a8"
             ],
             [
              0.3333333333333333,
              "#9c179e"
             ],
             [
              0.4444444444444444,
              "#bd3786"
             ],
             [
              0.5555555555555556,
              "#d8576b"
             ],
             [
              0.6666666666666666,
              "#ed7953"
             ],
             [
              0.7777777777777778,
              "#fb9f3a"
             ],
             [
              0.8888888888888888,
              "#fdca26"
             ],
             [
              1.0,
              "#f0f921"
             ]
            ]
           }
          ],
          "choropleth": [
           {
            "type": "choropleth",
            "colorbar": {
             "outlinewidth": 0,
             "ticks": ""
            }
           }
          ],
          "histogram2d": [
           {
            "type": "histogram2d",
            "colorbar": {
             "outlinewidth": 0,
             "ticks": ""
            },
            "colorscale": [
             [
              0.0,
              "#0d0887"
             ],
             [
              0.1111111111111111,
              "#46039f"
             ],
             [
              0.2222222222222222,
              "#7201a8"
             ],
             [
              0.3333333333333333,
              "#9c179e"
             ],
             [
              0.4444444444444444,
              "#bd3786"
             ],
             [
              0.5555555555555556,
              "#d8576b"
             ],
             [
              0.6666666666666666,
              "#ed7953"
             ],
             [
              0.7777777777777778,
              "#fb9f3a"
             ],
             [
              0.8888888888888888,
              "#fdca26"
             ],
             [
              1.0,
              "#f0f921"
             ]
            ]
           }
          ],
          "heatmap": [
           {
            "type": "heatmap",
            "colorbar": {
             "outlinewidth": 0,
             "ticks": ""
            },
            "colorscale": [
             [
              0.0,
              "#0d0887"
             ],
             [
              0.1111111111111111,
              "#46039f"
             ],
             [
              0.2222222222222222,
              "#7201a8"
             ],
             [
              0.3333333333333333,
              "#9c179e"
             ],
             [
              0.4444444444444444,
              "#bd3786"
             ],
             [
              0.5555555555555556,
              "#d8576b"
             ],
             [
              0.6666666666666666,
              "#ed7953"
             ],
             [
              0.7777777777777778,
              "#fb9f3a"
             ],
             [
              0.8888888888888888,
              "#fdca26"
             ],
             [
              1.0,
              "#f0f921"
             ]
            ]
           }
          ],
          "heatmapgl": [
           {
            "type": "heatmapgl",
            "colorbar": {
             "outlinewidth": 0,
             "ticks": ""
            },
            "colorscale": [
             [
              0.0,
              "#0d0887"
             ],
             [
              0.1111111111111111,
              "#46039f"
             ],
             [
              0.2222222222222222,
              "#7201a8"
             ],
             [
              0.3333333333333333,
              "#9c179e"
             ],
             [
              0.4444444444444444,
              "#bd3786"
             ],
             [
              0.5555555555555556,
              "#d8576b"
             ],
             [
              0.6666666666666666,
              "#ed7953"
             ],
             [
              0.7777777777777778,
              "#fb9f3a"
             ],
             [
              0.8888888888888888,
              "#fdca26"
             ],
             [
              1.0,
              "#f0f921"
             ]
            ]
           }
          ],
          "contourcarpet": [
           {
            "type": "contourcarpet",
            "colorbar": {
             "outlinewidth": 0,
             "ticks": ""
            }
           }
          ],
          "contour": [
           {
            "type": "contour",
            "colorbar": {
             "outlinewidth": 0,
             "ticks": ""
            },
            "colorscale": [
             [
              0.0,
              "#0d0887"
             ],
             [
              0.1111111111111111,
              "#46039f"
             ],
             [
              0.2222222222222222,
              "#7201a8"
             ],
             [
              0.3333333333333333,
              "#9c179e"
             ],
             [
              0.4444444444444444,
              "#bd3786"
             ],
             [
              0.5555555555555556,
              "#d8576b"
             ],
             [
              0.6666666666666666,
              "#ed7953"
             ],
             [
              0.7777777777777778,
              "#fb9f3a"
             ],
             [
              0.8888888888888888,
              "#fdca26"
             ],
             [
              1.0,
              "#f0f921"
             ]
            ]
           }
          ],
          "surface": [
           {
            "type": "surface",
            "colorbar": {
             "outlinewidth": 0,
             "ticks": ""
            },
            "colorscale": [
             [
              0.0,
              "#0d0887"
             ],
             [
              0.1111111111111111,
              "#46039f"
             ],
             [
              0.2222222222222222,
              "#7201a8"
             ],
             [
              0.3333333333333333,
              "#9c179e"
             ],
             [
              0.4444444444444444,
              "#bd3786"
             ],
             [
              0.5555555555555556,
              "#d8576b"
             ],
             [
              0.6666666666666666,
              "#ed7953"
             ],
             [
              0.7777777777777778,
              "#fb9f3a"
             ],
             [
              0.8888888888888888,
              "#fdca26"
             ],
             [
              1.0,
              "#f0f921"
             ]
            ]
           }
          ],
          "mesh3d": [
           {
            "type": "mesh3d",
            "colorbar": {
             "outlinewidth": 0,
             "ticks": ""
            }
           }
          ],
          "scatter": [
           {
            "marker": {
             "line": {
              "color": "#283442"
             }
            },
            "type": "scatter"
           }
          ],
          "parcoords": [
           {
            "type": "parcoords",
            "line": {
             "colorbar": {
              "outlinewidth": 0,
              "ticks": ""
             }
            }
           }
          ],
          "scatterpolargl": [
           {
            "type": "scatterpolargl",
            "marker": {
             "colorbar": {
              "outlinewidth": 0,
              "ticks": ""
             }
            }
           }
          ],
          "bar": [
           {
            "error_x": {
             "color": "#f2f5fa"
            },
            "error_y": {
             "color": "#f2f5fa"
            },
            "marker": {
             "line": {
              "color": "rgb(17,17,17)",
              "width": 0.5
             },
             "pattern": {
              "fillmode": "overlay",
              "size": 10,
              "solidity": 0.2
             }
            },
            "type": "bar"
           }
          ],
          "scattergeo": [
           {
            "type": "scattergeo",
            "marker": {
             "colorbar": {
              "outlinewidth": 0,
              "ticks": ""
             }
            }
           }
          ],
          "scatterpolar": [
           {
            "type": "scatterpolar",
            "marker": {
             "colorbar": {
              "outlinewidth": 0,
              "ticks": ""
             }
            }
           }
          ],
          "histogram": [
           {
            "marker": {
             "pattern": {
              "fillmode": "overlay",
              "size": 10,
              "solidity": 0.2
             }
            },
            "type": "histogram"
           }
          ],
          "scattergl": [
           {
            "marker": {
             "line": {
              "color": "#283442"
             }
            },
            "type": "scattergl"
           }
          ],
          "scatter3d": [
           {
            "type": "scatter3d",
            "line": {
             "colorbar": {
              "outlinewidth": 0,
              "ticks": ""
             }
            },
            "marker": {
             "colorbar": {
              "outlinewidth": 0,
              "ticks": ""
             }
            }
           }
          ],
          "scattermapbox": [
           {
            "type": "scattermapbox",
            "marker": {
             "colorbar": {
              "outlinewidth": 0,
              "ticks": ""
             }
            }
           }
          ],
          "scatterternary": [
           {
            "type": "scatterternary",
            "marker": {
             "colorbar": {
              "outlinewidth": 0,
              "ticks": ""
             }
            }
           }
          ],
          "scattercarpet": [
           {
            "type": "scattercarpet",
            "marker": {
             "colorbar": {
              "outlinewidth": 0,
              "ticks": ""
             }
            }
           }
          ],
          "carpet": [
           {
            "aaxis": {
             "endlinecolor": "#A2B1C6",
             "gridcolor": "#506784",
             "linecolor": "#506784",
             "minorgridcolor": "#506784",
             "startlinecolor": "#A2B1C6"
            },
            "baxis": {
             "endlinecolor": "#A2B1C6",
             "gridcolor": "#506784",
             "linecolor": "#506784",
             "minorgridcolor": "#506784",
             "startlinecolor": "#A2B1C6"
            },
            "type": "carpet"
           }
          ],
          "table": [
           {
            "cells": {
             "fill": {
              "color": "#506784"
             },
             "line": {
              "color": "rgb(17,17,17)"
             }
            },
            "header": {
             "fill": {
              "color": "#2a3f5f"
             },
             "line": {
              "color": "rgb(17,17,17)"
             }
            },
            "type": "table"
           }
          ],
          "barpolar": [
           {
            "marker": {
             "line": {
              "color": "rgb(17,17,17)",
              "width": 0.5
             },
             "pattern": {
              "fillmode": "overlay",
              "size": 10,
              "solidity": 0.2
             }
            },
            "type": "barpolar"
           }
          ],
          "pie": [
           {
            "automargin": true,
            "type": "pie"
           }
          ]
         },
         "layout": {
          "autotypenumbers": "strict",
          "colorway": [
           "#636efa",
           "#EF553B",
           "#00cc96",
           "#ab63fa",
           "#FFA15A",
           "#19d3f3",
           "#FF6692",
           "#B6E880",
           "#FF97FF",
           "#FECB52"
          ],
          "font": {
           "color": "#f2f5fa"
          },
          "hovermode": "closest",
          "hoverlabel": {
           "align": "left"
          },
          "paper_bgcolor": "rgb(17,17,17)",
          "plot_bgcolor": "rgb(17,17,17)",
          "polar": {
           "bgcolor": "rgb(17,17,17)",
           "angularaxis": {
            "gridcolor": "#506784",
            "linecolor": "#506784",
            "ticks": ""
           },
           "radialaxis": {
            "gridcolor": "#506784",
            "linecolor": "#506784",
            "ticks": ""
           }
          },
          "ternary": {
           "bgcolor": "rgb(17,17,17)",
           "aaxis": {
            "gridcolor": "#506784",
            "linecolor": "#506784",
            "ticks": ""
           },
           "baxis": {
            "gridcolor": "#506784",
            "linecolor": "#506784",
            "ticks": ""
           },
           "caxis": {
            "gridcolor": "#506784",
            "linecolor": "#506784",
            "ticks": ""
           }
          },
          "coloraxis": {
           "colorbar": {
            "outlinewidth": 0,
            "ticks": ""
           }
          },
          "colorscale": {
           "sequential": [
            [
             0.0,
             "#0d0887"
            ],
            [
             0.1111111111111111,
             "#46039f"
            ],
            [
             0.2222222222222222,
             "#7201a8"
            ],
            [
             0.3333333333333333,
             "#9c179e"
            ],
            [
             0.4444444444444444,
             "#bd3786"
            ],
            [
             0.5555555555555556,
             "#d8576b"
            ],
            [
             0.6666666666666666,
             "#ed7953"
            ],
            [
             0.7777777777777778,
             "#fb9f3a"
            ],
            [
             0.8888888888888888,
             "#fdca26"
            ],
            [
             1.0,
             "#f0f921"
            ]
           ],
           "sequentialminus": [
            [
             0.0,
             "#0d0887"
            ],
            [
             0.1111111111111111,
             "#46039f"
            ],
            [
             0.2222222222222222,
             "#7201a8"
            ],
            [
             0.3333333333333333,
             "#9c179e"
            ],
            [
             0.4444444444444444,
             "#bd3786"
            ],
            [
             0.5555555555555556,
             "#d8576b"
            ],
            [
             0.6666666666666666,
             "#ed7953"
            ],
            [
             0.7777777777777778,
             "#fb9f3a"
            ],
            [
             0.8888888888888888,
             "#fdca26"
            ],
            [
             1.0,
             "#f0f921"
            ]
           ],
           "diverging": [
            [
             0,
             "#8e0152"
            ],
            [
             0.1,
             "#c51b7d"
            ],
            [
             0.2,
             "#de77ae"
            ],
            [
             0.3,
             "#f1b6da"
            ],
            [
             0.4,
             "#fde0ef"
            ],
            [
             0.5,
             "#f7f7f7"
            ],
            [
             0.6,
             "#e6f5d0"
            ],
            [
             0.7,
             "#b8e186"
            ],
            [
             0.8,
             "#7fbc41"
            ],
            [
             0.9,
             "#4d9221"
            ],
            [
             1,
             "#276419"
            ]
           ]
          },
          "xaxis": {
           "gridcolor": "#283442",
           "linecolor": "#506784",
           "ticks": "",
           "title": {
            "standoff": 15
           },
           "zerolinecolor": "#283442",
           "automargin": true,
           "zerolinewidth": 2
          },
          "yaxis": {
           "gridcolor": "#283442",
           "linecolor": "#506784",
           "ticks": "",
           "title": {
            "standoff": 15
           },
           "zerolinecolor": "#283442",
           "automargin": true,
           "zerolinewidth": 2
          },
          "scene": {
           "xaxis": {
            "backgroundcolor": "rgb(17,17,17)",
            "gridcolor": "#506784",
            "linecolor": "#506784",
            "showbackground": true,
            "ticks": "",
            "zerolinecolor": "#C8D4E3",
            "gridwidth": 2
           },
           "yaxis": {
            "backgroundcolor": "rgb(17,17,17)",
            "gridcolor": "#506784",
            "linecolor": "#506784",
            "showbackground": true,
            "ticks": "",
            "zerolinecolor": "#C8D4E3",
            "gridwidth": 2
           },
           "zaxis": {
            "backgroundcolor": "rgb(17,17,17)",
            "gridcolor": "#506784",
            "linecolor": "#506784",
            "showbackground": true,
            "ticks": "",
            "zerolinecolor": "#C8D4E3",
            "gridwidth": 2
           }
          },
          "shapedefaults": {
           "line": {
            "color": "#f2f5fa"
           }
          },
          "annotationdefaults": {
           "arrowcolor": "#f2f5fa",
           "arrowhead": 0,
           "arrowwidth": 1
          },
          "geo": {
           "bgcolor": "rgb(17,17,17)",
           "landcolor": "rgb(17,17,17)",
           "subunitcolor": "#506784",
           "showland": true,
           "showlakes": true,
           "lakecolor": "rgb(17,17,17)"
          },
          "title": {
           "x": 0.05
          },
          "updatemenudefaults": {
           "bgcolor": "#506784",
           "borderwidth": 0
          },
          "sliderdefaults": {
           "bgcolor": "#C8D4E3",
           "borderwidth": 1,
           "bordercolor": "rgb(17,17,17)",
           "tickwidth": 0
          },
          "mapbox": {
           "style": "dark"
          }
         }
        },
        "xaxis": {
         "anchor": "y",
         "domain": [
          0.0,
          1.0
         ],
         "title": {
          "text": "Category"
         }
        },
        "yaxis": {
         "anchor": "x",
         "domain": [
          0.0,
          1.0
         ],
         "title": {
          "text": "Revenue_Estimate"
         },
         "type": "log"
        },
        "legend": {
         "tracegroupgap": 0
        },
        "margin": {
         "t": 60
        },
        "boxmode": "group"
       },
       "config": {
        "plotlyServerURL": "https://plot.ly"
       }
      },
      "text/html": "<div>                            <div id=\"8967b8ee-82ea-4a6e-b401-14032a2bebdc\" class=\"plotly-graph-div\" style=\"height:525px; width:100%;\"></div>            <script type=\"text/javascript\">                require([\"plotly\"], function(Plotly) {                    window.PLOTLYENV=window.PLOTLYENV || {};                                    if (document.getElementById(\"8967b8ee-82ea-4a6e-b401-14032a2bebdc\")) {                    Plotly.newPlot(                        \"8967b8ee-82ea-4a6e-b401-14032a2bebdc\",                        [{\"alignmentgroup\":\"True\",\"hovertemplate\":\"Category=%{x}\\u003cbr\\u003eRevenue_Estimate=%{y}\\u003cextra\\u003e\\u003c\\u002fextra\\u003e\",\"legendgroup\":\"\",\"marker\":{\"color\":\"#636efa\"},\"name\":\"\",\"notched\":false,\"offsetgroup\":\"\",\"orientation\":\"v\",\"showlegend\":false,\"x\":[\"GAME\",\"GAME\",\"FAMILY\",\"BUSINESS\",\"LIFESTYLE\",\"FAMILY\",\"PERSONALIZATION\",\"PHOTOGRAPHY\",\"FAMILY\",\"GAME\",\"PRODUCTIVITY\",\"PHOTOGRAPHY\",\"FAMILY\",\"TOOLS\",\"TOOLS\",\"PERSONALIZATION\",\"FAMILY\",\"FAMILY\",\"FAMILY\",\"FAMILY\",\"GAME\",\"TOOLS\",\"PERSONALIZATION\",\"PERSONALIZATION\",\"PERSONALIZATION\",\"TOOLS\",\"FAMILY\",\"FAMILY\",\"BUSINESS\",\"BOOKS_AND_REFERENCE\",\"FAMILY\",\"FAMILY\",\"FAMILY\",\"PERSONALIZATION\",\"PERSONALIZATION\",\"PERSONALIZATION\",\"GAME\",\"PERSONALIZATION\",\"FAMILY\",\"FINANCE\",\"SHOPPING\",\"DATING\",\"PERSONALIZATION\",\"GAME\",\"FAMILY\",\"PRODUCTIVITY\",\"FAMILY\",\"MEDICAL\",\"SPORTS\",\"MEDICAL\",\"PRODUCTIVITY\",\"BUSINESS\",\"PARENTING\",\"LIFESTYLE\",\"FAMILY\",\"TOOLS\",\"MAPS_AND_NAVIGATION\",\"COMMUNICATION\",\"PERSONALIZATION\",\"COMMUNICATION\",\"FAMILY\",\"PERSONALIZATION\",\"FAMILY\",\"FAMILY\",\"FAMILY\",\"TOOLS\",\"FAMILY\",\"SPORTS\",\"FAMILY\",\"MEDICAL\",\"FAMILY\",\"FAMILY\",\"GAME\",\"TOOLS\",\"FAMILY\",\"FAMILY\",\"PERSONALIZATION\",\"BOOKS_AND_REFERENCE\",\"GAME\",\"PERSONALIZATION\",\"GAME\",\"GAME\",\"TOOLS\",\"MEDICAL\",\"TOOLS\",\"TOOLS\",\"PERSONALIZATION\",\"GAME\",\"COMMUNICATION\",\"MEDICAL\",\"SPORTS\",\"PERSONALIZATION\",\"COMMUNICATION\",\"COMMUNICATION\",\"PERSONALIZATION\",\"TOOLS\",\"PERSONALIZATION\",\"PERSONALIZATION\",\"PRODUCTIVITY\",\"MEDICAL\",\"FAMILY\",\"TOOLS\",\"TOOLS\",\"BUSINESS\",\"COMMUNICATION\",\"FAMILY\",\"PERSONALIZATION\",\"PHOTOGRAPHY\",\"MEDICAL\",\"PERSONALIZATION\",\"MEDICAL\",\"COMMUNICATION\",\"PRODUCTIVITY\",\"BOOKS_AND_REFERENCE\",\"TOOLS\",\"WEATHER\",\"FAMILY\",\"FAMILY\",\"MEDICAL\",\"FAMILY\",\"TOOLS\",\"TOOLS\",\"SPORTS\",\"GAME\",\"MEDICAL\",\"PERSONALIZATION\",\"PERSONALIZATION\",\"NEWS_AND_MAGAZINES\",\"COMMUNICATION\",\"TOOLS\",\"MEDICAL\",\"FINANCE\",\"FAMILY\",\"PERSONALIZATION\",\"PERSONALIZATION\",\"MEDICAL\",\"FAMILY\",\"MEDICAL\",\"MEDICAL\",\"FAMILY\",\"FAMILY\",\"FAMILY\",\"GAME\",\"PERSONALIZATION\",\"TOOLS\",\"PERSONALIZATION\",\"GAME\",\"GAME\",\"GAME\",\"FAMILY\",\"FAMILY\",\"PRODUCTIVITY\",\"COMMUNICATION\",\"SPORTS\",\"SPORTS\",\"FAMILY\",\"PERSONALIZATION\",\"MEDICAL\",\"SPORTS\",\"COMMUNICATION\",\"LIFESTYLE\",\"FAMILY\",\"MEDICAL\",\"MEDICAL\",\"TOOLS\",\"PRODUCTIVITY\",\"FINANCE\",\"HEALTH_AND_FITNESS\",\"MEDICAL\",\"PHOTOGRAPHY\",\"FAMILY\",\"FAMILY\",\"PHOTOGRAPHY\",\"SPORTS\",\"ART_AND_DESIGN\",\"FAMILY\",\"PERSONALIZATION\",\"PRODUCTIVITY\",\"HEALTH_AND_FITNESS\",\"MEDICAL\",\"TOOLS\",\"PRODUCTIVITY\",\"GAME\",\"TOOLS\",\"MEDICAL\",\"LIFESTYLE\",\"GAME\",\"MEDICAL\",\"TRAVEL_AND_LOCAL\",\"BUSINESS\",\"MEDICAL\",\"COMMUNICATION\",\"PERSONALIZATION\",\"GAME\",\"TRAVEL_AND_LOCAL\",\"GAME\",\"SPORTS\",\"MEDICAL\",\"FAMILY\",\"MEDICAL\",\"TOOLS\",\"BOOKS_AND_REFERENCE\",\"FAMILY\",\"MEDICAL\",\"MEDICAL\",\"GAME\",\"BUSINESS\",\"TOOLS\",\"FAMILY\",\"MEDICAL\",\"PERSONALIZATION\",\"PHOTOGRAPHY\",\"SPORTS\",\"MAPS_AND_NAVIGATION\",\"PERSONALIZATION\",\"GAME\",\"BOOKS_AND_REFERENCE\",\"EDUCATION\",\"FAMILY\",\"FAMILY\",\"SOCIAL\",\"MEDICAL\",\"TOOLS\",\"SPORTS\",\"FAMILY\",\"FAMILY\",\"TOOLS\",\"WEATHER\",\"VIDEO_PLAYERS\",\"MEDICAL\",\"TOOLS\",\"GAME\",\"PERSONALIZATION\",\"MEDICAL\",\"LIFESTYLE\",\"MEDICAL\",\"DATING\",\"HEALTH_AND_FITNESS\",\"MEDICAL\",\"FAMILY\",\"PRODUCTIVITY\",\"EDUCATION\",\"SPORTS\",\"FAMILY\",\"PERSONALIZATION\",\"PERSONALIZATION\",\"FAMILY\",\"GAME\",\"FINANCE\",\"GAME\",\"MEDICAL\",\"FAMILY\",\"MEDICAL\",\"MEDICAL\",\"TOOLS\",\"TOOLS\",\"TOOLS\",\"TOOLS\",\"PERSONALIZATION\",\"PERSONALIZATION\",\"PERSONALIZATION\",\"PERSONALIZATION\",\"FAMILY\",\"GAME\",\"FAMILY\",\"FAMILY\",\"MEDICAL\",\"SPORTS\",\"LIFESTYLE\",\"FAMILY\",\"FAMILY\",\"TRAVEL_AND_LOCAL\",\"PERSONALIZATION\",\"BOOKS_AND_REFERENCE\",\"FAMILY\",\"MEDICAL\",\"MEDICAL\",\"MEDICAL\",\"MEDICAL\",\"PRODUCTIVITY\",\"SOCIAL\",\"SPORTS\",\"TRAVEL_AND_LOCAL\",\"TOOLS\",\"FAMILY\",\"NEWS_AND_MAGAZINES\",\"ART_AND_DESIGN\",\"GAME\",\"PERSONALIZATION\",\"LIFESTYLE\",\"PERSONALIZATION\",\"LIFESTYLE\",\"MEDICAL\",\"FAMILY\",\"FAMILY\",\"BOOKS_AND_REFERENCE\",\"LIFESTYLE\",\"MEDICAL\",\"MEDICAL\",\"TOOLS\",\"SPORTS\",\"MEDICAL\",\"PHOTOGRAPHY\",\"GAME\",\"SPORTS\",\"FAMILY\",\"SPORTS\",\"TOOLS\",\"LIFESTYLE\",\"FAMILY\",\"COMMUNICATION\",\"COMMUNICATION\",\"COMMUNICATION\",\"FAMILY\",\"FAMILY\",\"TOOLS\",\"MEDICAL\",\"TOOLS\",\"TOOLS\",\"TOOLS\",\"TOOLS\",\"TOOLS\",\"TOOLS\",\"PERSONALIZATION\",\"FAMILY\",\"MEDICAL\",\"MEDICAL\",\"MEDICAL\",\"HEALTH_AND_FITNESS\",\"GAME\",\"FAMILY\",\"FAMILY\",\"PHOTOGRAPHY\",\"PERSONALIZATION\",\"LIFESTYLE\",\"GAME\",\"FAMILY\",\"MEDICAL\",\"FAMILY\",\"BUSINESS\",\"GAME\",\"FAMILY\",\"MEDICAL\",\"FAMILY\",\"MAPS_AND_NAVIGATION\",\"BOOKS_AND_REFERENCE\",\"GAME\",\"PERSONALIZATION\",\"PERSONALIZATION\",\"COMMUNICATION\",\"DATING\",\"FOOD_AND_DRINK\",\"LIFESTYLE\",\"FAMILY\",\"FAMILY\",\"MEDICAL\",\"TRAVEL_AND_LOCAL\",\"TOOLS\",\"TOOLS\",\"TOOLS\",\"PERSONALIZATION\",\"VIDEO_PLAYERS\",\"VIDEO_PLAYERS\",\"GAME\",\"FAMILY\",\"FAMILY\",\"FAMILY\",\"FAMILY\",\"PERSONALIZATION\",\"WEATHER\",\"TOOLS\",\"PERSONALIZATION\",\"TOOLS\",\"ART_AND_DESIGN\",\"PERSONALIZATION\",\"PERSONALIZATION\",\"MEDICAL\",\"TOOLS\",\"FAMILY\",\"FINANCE\",\"TOOLS\",\"GAME\",\"FAMILY\",\"FAMILY\",\"TOOLS\",\"TOOLS\",\"GAME\",\"TOOLS\",\"HEALTH_AND_FITNESS\",\"GAME\",\"MEDICAL\",\"COMMUNICATION\",\"FAMILY\",\"GAME\",\"FAMILY\",\"MEDICAL\",\"PERSONALIZATION\",\"FAMILY\",\"SPORTS\",\"FAMILY\",\"TRAVEL_AND_LOCAL\",\"TOOLS\",\"SHOPPING\",\"TOOLS\",\"FAMILY\",\"FAMILY\",\"FAMILY\",\"FAMILY\",\"FAMILY\",\"FAMILY\",\"GAME\",\"MAPS_AND_NAVIGATION\",\"PERSONALIZATION\",\"GAME\",\"FAMILY\",\"FAMILY\",\"FINANCE\",\"TOOLS\",\"TOOLS\",\"FAMILY\",\"FAMILY\",\"MEDICAL\",\"GAME\",\"FAMILY\",\"COMMUNICATION\",\"COMMUNICATION\",\"FAMILY\",\"FAMILY\",\"MEDICAL\",\"MEDICAL\",\"MEDICAL\",\"PHOTOGRAPHY\",\"TOOLS\",\"TOOLS\",\"PERSONALIZATION\",\"PERSONALIZATION\",\"FAMILY\",\"GAME\",\"SPORTS\",\"MEDICAL\",\"GAME\",\"FAMILY\",\"AUTO_AND_VEHICLES\",\"HEALTH_AND_FITNESS\",\"FAMILY\",\"FAMILY\",\"MEDICAL\",\"PHOTOGRAPHY\",\"SPORTS\",\"TOOLS\",\"VIDEO_PLAYERS\",\"FAMILY\",\"FAMILY\",\"PRODUCTIVITY\",\"PERSONALIZATION\",\"PRODUCTIVITY\",\"PERSONALIZATION\",\"FAMILY\",\"FAMILY\",\"GAME\",\"MEDICAL\",\"FAMILY\",\"FAMILY\",\"FOOD_AND_DRINK\",\"FAMILY\",\"FAMILY\",\"FAMILY\",\"TOOLS\",\"HEALTH_AND_FITNESS\",\"PARENTING\",\"FAMILY\",\"GAME\",\"HEALTH_AND_FITNESS\",\"TRAVEL_AND_LOCAL\",\"GAME\",\"WEATHER\",\"FAMILY\",\"MEDICAL\",\"GAME\",\"GAME\",\"MEDICAL\",\"PERSONALIZATION\",\"FAMILY\",\"FAMILY\",\"FAMILY\",\"FAMILY\",\"GAME\",\"PHOTOGRAPHY\",\"FAMILY\",\"BUSINESS\",\"FAMILY\",\"GAME\",\"FAMILY\",\"FAMILY\",\"WEATHER\",\"EDUCATION\",\"COMMUNICATION\",\"ENTERTAINMENT\",\"HEALTH_AND_FITNESS\",\"HEALTH_AND_FITNESS\",\"GAME\",\"GAME\",\"FAMILY\",\"FAMILY\",\"FAMILY\",\"PHOTOGRAPHY\",\"SPORTS\",\"TRAVEL_AND_LOCAL\",\"TOOLS\",\"TOOLS\",\"PERSONALIZATION\",\"PERSONALIZATION\",\"PRODUCTIVITY\",\"PRODUCTIVITY\",\"MAPS_AND_NAVIGATION\",\"GAME\",\"GAME\",\"PRODUCTIVITY\",\"TOOLS\",\"WEATHER\",\"FAMILY\",\"GAME\",\"FAMILY\",\"GAME\",\"TOOLS\",\"GAME\",\"FAMILY\",\"FAMILY\",\"HEALTH_AND_FITNESS\",\"FAMILY\",\"GAME\",\"FAMILY\",\"PERSONALIZATION\",\"BUSINESS\",\"FINANCE\",\"FAMILY\",\"PHOTOGRAPHY\",\"GAME\",\"FAMILY\",\"FAMILY\",\"FAMILY\",\"FAMILY\",\"GAME\",\"FAMILY\",\"GAME\",\"COMMUNICATION\",\"FAMILY\",\"ENTERTAINMENT\",\"COMMUNICATION\",\"GAME\",\"GAME\",\"GAME\",\"GAME\",\"GAME\",\"GAME\",\"PERSONALIZATION\",\"FAMILY\",\"PERSONALIZATION\",\"FAMILY\",\"EDUCATION\",\"WEATHER\",\"PHOTOGRAPHY\",\"PRODUCTIVITY\",\"GAME\",\"FAMILY\",\"FAMILY\",\"PRODUCTIVITY\",\"PERSONALIZATION\",\"GAME\",\"GAME\",\"FAMILY\",\"COMMUNICATION\",\"TOOLS\",\"GAME\",\"PERSONALIZATION\",\"PHOTOGRAPHY\",\"SPORTS\",\"GAME\",\"FAMILY\",\"GAME\",\"GAME\",\"FAMILY\",\"GAME\",\"FAMILY\",\"GAME\",\"LIFESTYLE\",\"FAMILY\",\"GAME\",\"FAMILY\"],\"x0\":\" \",\"xaxis\":\"x\",\"y\":[1.49,0.99,149.9,24.900000000000002,30.4,14.9,9.9,34.900000000000006,29.900000000000002,9.9,9.9,49.900000000000006,9.9,29.900000000000002,9.9,9.9,299.9,199.89999999999998,49.900000000000006,49.900000000000006,99.5,149.5,49.5,49.5,49.5,88.0,149.5,149.5,449.5,87.5,74.5,74.5,49.5,49.5,99.0,99.0,99.0,99.0,1299.0,499.0,249.00000000000003,799.0,199.0,499.0,99.0,499.0,399.0,299.0,388.0,299.0,299.0,1299.0,459.0,99.0,999.0,399.0,999.0,149.0,149.0,149.0,149.0,99.0,299.0,199.0,499.0,149.0,99.0,349.0,199.0,1299.0,99.0,99.0,99.0,199.0,499.0,399.0,99.0,399.0,1400.0,149.0,449.0,199.0,99.0,699.0,599.0,399.0,249.00000000000003,99.0,149.0,3999.0,302.0,149.0,149.0,99.0,99.0,499.0,149.0,99.0,649.0,2995.0,1495.0,1995.0,495.0,8995.0,495.0,995.0,745.0,745.0,1995.0,745.0,1495.0,2495.0,4495.0,495.0,495.0,995.0,1245.0,2495.0,495.0,995.0,995.0,495.0,1495.0,2245.0,1745.0,1000.0,745.0,1495.0,1995.0,1995.0,7995.0,1995.0,1495.0,745.0,495.0,9990.0,2990.0,4990.0,9990.0,2490.0,10990.0,2990.0,990.0,1990.0,1990.0,990.0,3990.0,1610.0,990.0,1990.0,2490.0,4290.0,990.0,3990.0,990.0,2990.0,1490.0,15460.0,1990.0,2990.0,4990.0,7490.0,3990.0,5490.0,2490.0,2990.0,1990.0,4990.0,4990.0,19990.0,2990.0,1990.0,9990.0,990.0,1990.0,2990.0,1700.0,990.0,7990.0,29990.0,2990.0,7990.0,990.0,1490.0,2990.0,4990.0,2490.0,79990.0,2560.0,3990.0,19990.0,2490.0,990.0,990.0,8490.0,6990.0,2990.0,990.0,2990.0,1500.0,4990.0,1990.0,4840.0,14990.0,29990.0,4990.0,4990.0,3990.0,19400.0,33990.0,1490.0,2990.0,2990.0,990.0,990.0,1990.0,3080.0,5990.0,3990.0,2990.0,990.0,1990.0,5990.0,2490.0,990.0,990.0,990.0,6990.0,990.0,16990.0,990.0,3490.0,1700.0,3990.0,37990.0,9990.0,6990.0,1990.0,3990.0,10000.0,1290.0,3990.0,4490.0,2990.0,2490.0,990.0,4990.0,990.0,3990.0,1990.0,7490.0,990.0,10990.0,5990.0,990.0,1490.0,14990.0,4990.0,4990.0,990.0,4990.0,3990.0,24950.0,4950.0,22450.0,29950.0,19950.0,9950.0,19950.0,24950.0,9950.0,19950.0,4950.0,14950.000000000002,7450.0,12450.000000000002,19950.0,19950.0,19950.0,19950.0,4950.0,9950.0,14950.000000000002,4950.0,14950.000000000002,4950.0,9950.0,34950.0,9950.0,4950.0,7450.0,14950.000000000002,29950.0,14950.000000000002,14950.000000000002,23000.0,9950.0,74950.0,4950.0,4950.0,4950.0,14950.000000000002,14950.000000000002,9950.0,14950.000000000002,24950.0,5000.0,74950.0,12450.000000000002,4950.0,24950.0,4950.0,7450.0,19950.0,14950.000000000002,24950.0,19950.0,24950.0,24950.0,24950.0,24950.0,24950.0,5000.0,34950.0,29900.000000000004,99900.0,249899.99999999997,29900.000000000004,39900.0,9900.0,39900.0,39900.0,19900.0,9900.0,79900.0,49900.0,29900.000000000004,100000.0,29900.000000000004,29900.000000000004,29900.000000000004,149900.0,79900.0,129900.0,9900.0,44900.0,169899.99999999997,9900.0,9900.0,49900.0,39900.0,34900.0,24900.000000000004,29900.000000000004,14900.0,69900.0,19900.0,25000.0,39000.0,29500.0,9900.0,14900.0,19900.0,79900.0,29900.000000000004,29900.000000000004,49900.0,19900.0,9900.0,29900.000000000004,29900.000000000004,19900.0,19700.0,19900.0,99900.0,29900.000000000004,54900.0,32800.0,9900.0,29900.000000000004,49900.0,29900.000000000004,149900.0,29900.000000000004,29900.000000000004,29900.000000000004,179899.99999999997,9900.0,69900.0,49900.0,39900.0,29900.000000000004,29900.000000000004,49900.0,12000.0,29900.000000000004,19900.0,49900.0,49900.0,9900.0,59900.0,25900.0,29900.000000000004,19900.0,39900.0,49900.0,39900.0,29900.000000000004,49900.0,29900.000000000004,49900.0,29900.000000000004,9900.0,39900.0,24900.000000000004,9900.0,189899.99999999997,19900.0,19900.0,15900.0,39900.0,119900.0,19900.0,19900.0,29900.000000000004,9900.0,99900.0,39900.0,9900.0,29900.000000000004,19900.0,49900.0,19900.0,29900.000000000004,9900.0,19900.0,49500.0,49500.0,1499500.0,149500.0,99500.0,149500.0,99500.0,99500.0,149500.0,249500.0,199500.0,99500.0,199500.0,149500.0,299500.0,999499.9999999999,499500.0,149500.0,124500.00000000001,74500.0,49500.0,149500.0,149500.0,99500.0,599500.0,249500.0,199500.0,249500.0,149500.0,149500.0,238499.99999999997,149500.0,149500.0,249500.0,249500.0,249500.0,99500.0,124500.00000000001,249500.0,399000.0,399000.0,2499000.0,499000.0,99000.0,900000.0,99000.0,299000.0,299000.0,299000.0,999000.0,299000.0,149000.0,1499000.0,499000.0,799000.0,199000.0,99000.0,99000.0,449000.0,399000.0,399000.0,499000.0,299000.0,299000.0,299000.0,299000.0,399000.0,499000.0,499000.0,395000.0,899000.0,899000.0,249000.00000000003,399000.0,449000.0,199000.0,599000.0,499000.0,1199000.0,499000.0,999000.0,449000.0,349000.0,299000.0,499000.0,499000.0,499000.0,199000.0,449000.0,399000.0,299000.0,1399000.0,349000.0,999000.0,499000.0,299000.0,299000.0,499000.0,299000.0,299000.0,299000.0,299000.0,299000.0,999000.0,99000.0,199000.0,299000.0,149000.0,699000.0,290000.0,299000.0,299000.0,399000.0,299000.0,499000.0,299000.0,299000.0,199000.0,599000.0,499000.0,1495000.0,1245000.0,495000.0,1995000.0,2995000.0,1495000.0,1495000.0,995000.0,1495000.0,2495000.0,995000.0,2490000.0,990000.0,4990000.0,2990000.0,2990000.0,2990000.0,6990000.0,990000.0,5990000.0,1990000.0,2990000.0,990000.0,990000.0,990000.0,990000.0,990000.0,2990000.0,990000.0,5990000.0,1990000.0,9900000.0,69900000.0],\"y0\":\" \",\"yaxis\":\"y\",\"type\":\"box\"}],                        {\"template\":{\"data\":{\"histogram2dcontour\":[{\"type\":\"histogram2dcontour\",\"colorbar\":{\"outlinewidth\":0,\"ticks\":\"\"},\"colorscale\":[[0.0,\"#0d0887\"],[0.1111111111111111,\"#46039f\"],[0.2222222222222222,\"#7201a8\"],[0.3333333333333333,\"#9c179e\"],[0.4444444444444444,\"#bd3786\"],[0.5555555555555556,\"#d8576b\"],[0.6666666666666666,\"#ed7953\"],[0.7777777777777778,\"#fb9f3a\"],[0.8888888888888888,\"#fdca26\"],[1.0,\"#f0f921\"]]}],\"choropleth\":[{\"type\":\"choropleth\",\"colorbar\":{\"outlinewidth\":0,\"ticks\":\"\"}}],\"histogram2d\":[{\"type\":\"histogram2d\",\"colorbar\":{\"outlinewidth\":0,\"ticks\":\"\"},\"colorscale\":[[0.0,\"#0d0887\"],[0.1111111111111111,\"#46039f\"],[0.2222222222222222,\"#7201a8\"],[0.3333333333333333,\"#9c179e\"],[0.4444444444444444,\"#bd3786\"],[0.5555555555555556,\"#d8576b\"],[0.6666666666666666,\"#ed7953\"],[0.7777777777777778,\"#fb9f3a\"],[0.8888888888888888,\"#fdca26\"],[1.0,\"#f0f921\"]]}],\"heatmap\":[{\"type\":\"heatmap\",\"colorbar\":{\"outlinewidth\":0,\"ticks\":\"\"},\"colorscale\":[[0.0,\"#0d0887\"],[0.1111111111111111,\"#46039f\"],[0.2222222222222222,\"#7201a8\"],[0.3333333333333333,\"#9c179e\"],[0.4444444444444444,\"#bd3786\"],[0.5555555555555556,\"#d8576b\"],[0.6666666666666666,\"#ed7953\"],[0.7777777777777778,\"#fb9f3a\"],[0.8888888888888888,\"#fdca26\"],[1.0,\"#f0f921\"]]}],\"heatmapgl\":[{\"type\":\"heatmapgl\",\"colorbar\":{\"outlinewidth\":0,\"ticks\":\"\"},\"colorscale\":[[0.0,\"#0d0887\"],[0.1111111111111111,\"#46039f\"],[0.2222222222222222,\"#7201a8\"],[0.3333333333333333,\"#9c179e\"],[0.4444444444444444,\"#bd3786\"],[0.5555555555555556,\"#d8576b\"],[0.6666666666666666,\"#ed7953\"],[0.7777777777777778,\"#fb9f3a\"],[0.8888888888888888,\"#fdca26\"],[1.0,\"#f0f921\"]]}],\"contourcarpet\":[{\"type\":\"contourcarpet\",\"colorbar\":{\"outlinewidth\":0,\"ticks\":\"\"}}],\"contour\":[{\"type\":\"contour\",\"colorbar\":{\"outlinewidth\":0,\"ticks\":\"\"},\"colorscale\":[[0.0,\"#0d0887\"],[0.1111111111111111,\"#46039f\"],[0.2222222222222222,\"#7201a8\"],[0.3333333333333333,\"#9c179e\"],[0.4444444444444444,\"#bd3786\"],[0.5555555555555556,\"#d8576b\"],[0.6666666666666666,\"#ed7953\"],[0.7777777777777778,\"#fb9f3a\"],[0.8888888888888888,\"#fdca26\"],[1.0,\"#f0f921\"]]}],\"surface\":[{\"type\":\"surface\",\"colorbar\":{\"outlinewidth\":0,\"ticks\":\"\"},\"colorscale\":[[0.0,\"#0d0887\"],[0.1111111111111111,\"#46039f\"],[0.2222222222222222,\"#7201a8\"],[0.3333333333333333,\"#9c179e\"],[0.4444444444444444,\"#bd3786\"],[0.5555555555555556,\"#d8576b\"],[0.6666666666666666,\"#ed7953\"],[0.7777777777777778,\"#fb9f3a\"],[0.8888888888888888,\"#fdca26\"],[1.0,\"#f0f921\"]]}],\"mesh3d\":[{\"type\":\"mesh3d\",\"colorbar\":{\"outlinewidth\":0,\"ticks\":\"\"}}],\"scatter\":[{\"marker\":{\"line\":{\"color\":\"#283442\"}},\"type\":\"scatter\"}],\"parcoords\":[{\"type\":\"parcoords\",\"line\":{\"colorbar\":{\"outlinewidth\":0,\"ticks\":\"\"}}}],\"scatterpolargl\":[{\"type\":\"scatterpolargl\",\"marker\":{\"colorbar\":{\"outlinewidth\":0,\"ticks\":\"\"}}}],\"bar\":[{\"error_x\":{\"color\":\"#f2f5fa\"},\"error_y\":{\"color\":\"#f2f5fa\"},\"marker\":{\"line\":{\"color\":\"rgb(17,17,17)\",\"width\":0.5},\"pattern\":{\"fillmode\":\"overlay\",\"size\":10,\"solidity\":0.2}},\"type\":\"bar\"}],\"scattergeo\":[{\"type\":\"scattergeo\",\"marker\":{\"colorbar\":{\"outlinewidth\":0,\"ticks\":\"\"}}}],\"scatterpolar\":[{\"type\":\"scatterpolar\",\"marker\":{\"colorbar\":{\"outlinewidth\":0,\"ticks\":\"\"}}}],\"histogram\":[{\"marker\":{\"pattern\":{\"fillmode\":\"overlay\",\"size\":10,\"solidity\":0.2}},\"type\":\"histogram\"}],\"scattergl\":[{\"marker\":{\"line\":{\"color\":\"#283442\"}},\"type\":\"scattergl\"}],\"scatter3d\":[{\"type\":\"scatter3d\",\"line\":{\"colorbar\":{\"outlinewidth\":0,\"ticks\":\"\"}},\"marker\":{\"colorbar\":{\"outlinewidth\":0,\"ticks\":\"\"}}}],\"scattermapbox\":[{\"type\":\"scattermapbox\",\"marker\":{\"colorbar\":{\"outlinewidth\":0,\"ticks\":\"\"}}}],\"scatterternary\":[{\"type\":\"scatterternary\",\"marker\":{\"colorbar\":{\"outlinewidth\":0,\"ticks\":\"\"}}}],\"scattercarpet\":[{\"type\":\"scattercarpet\",\"marker\":{\"colorbar\":{\"outlinewidth\":0,\"ticks\":\"\"}}}],\"carpet\":[{\"aaxis\":{\"endlinecolor\":\"#A2B1C6\",\"gridcolor\":\"#506784\",\"linecolor\":\"#506784\",\"minorgridcolor\":\"#506784\",\"startlinecolor\":\"#A2B1C6\"},\"baxis\":{\"endlinecolor\":\"#A2B1C6\",\"gridcolor\":\"#506784\",\"linecolor\":\"#506784\",\"minorgridcolor\":\"#506784\",\"startlinecolor\":\"#A2B1C6\"},\"type\":\"carpet\"}],\"table\":[{\"cells\":{\"fill\":{\"color\":\"#506784\"},\"line\":{\"color\":\"rgb(17,17,17)\"}},\"header\":{\"fill\":{\"color\":\"#2a3f5f\"},\"line\":{\"color\":\"rgb(17,17,17)\"}},\"type\":\"table\"}],\"barpolar\":[{\"marker\":{\"line\":{\"color\":\"rgb(17,17,17)\",\"width\":0.5},\"pattern\":{\"fillmode\":\"overlay\",\"size\":10,\"solidity\":0.2}},\"type\":\"barpolar\"}],\"pie\":[{\"automargin\":true,\"type\":\"pie\"}]},\"layout\":{\"autotypenumbers\":\"strict\",\"colorway\":[\"#636efa\",\"#EF553B\",\"#00cc96\",\"#ab63fa\",\"#FFA15A\",\"#19d3f3\",\"#FF6692\",\"#B6E880\",\"#FF97FF\",\"#FECB52\"],\"font\":{\"color\":\"#f2f5fa\"},\"hovermode\":\"closest\",\"hoverlabel\":{\"align\":\"left\"},\"paper_bgcolor\":\"rgb(17,17,17)\",\"plot_bgcolor\":\"rgb(17,17,17)\",\"polar\":{\"bgcolor\":\"rgb(17,17,17)\",\"angularaxis\":{\"gridcolor\":\"#506784\",\"linecolor\":\"#506784\",\"ticks\":\"\"},\"radialaxis\":{\"gridcolor\":\"#506784\",\"linecolor\":\"#506784\",\"ticks\":\"\"}},\"ternary\":{\"bgcolor\":\"rgb(17,17,17)\",\"aaxis\":{\"gridcolor\":\"#506784\",\"linecolor\":\"#506784\",\"ticks\":\"\"},\"baxis\":{\"gridcolor\":\"#506784\",\"linecolor\":\"#506784\",\"ticks\":\"\"},\"caxis\":{\"gridcolor\":\"#506784\",\"linecolor\":\"#506784\",\"ticks\":\"\"}},\"coloraxis\":{\"colorbar\":{\"outlinewidth\":0,\"ticks\":\"\"}},\"colorscale\":{\"sequential\":[[0.0,\"#0d0887\"],[0.1111111111111111,\"#46039f\"],[0.2222222222222222,\"#7201a8\"],[0.3333333333333333,\"#9c179e\"],[0.4444444444444444,\"#bd3786\"],[0.5555555555555556,\"#d8576b\"],[0.6666666666666666,\"#ed7953\"],[0.7777777777777778,\"#fb9f3a\"],[0.8888888888888888,\"#fdca26\"],[1.0,\"#f0f921\"]],\"sequentialminus\":[[0.0,\"#0d0887\"],[0.1111111111111111,\"#46039f\"],[0.2222222222222222,\"#7201a8\"],[0.3333333333333333,\"#9c179e\"],[0.4444444444444444,\"#bd3786\"],[0.5555555555555556,\"#d8576b\"],[0.6666666666666666,\"#ed7953\"],[0.7777777777777778,\"#fb9f3a\"],[0.8888888888888888,\"#fdca26\"],[1.0,\"#f0f921\"]],\"diverging\":[[0,\"#8e0152\"],[0.1,\"#c51b7d\"],[0.2,\"#de77ae\"],[0.3,\"#f1b6da\"],[0.4,\"#fde0ef\"],[0.5,\"#f7f7f7\"],[0.6,\"#e6f5d0\"],[0.7,\"#b8e186\"],[0.8,\"#7fbc41\"],[0.9,\"#4d9221\"],[1,\"#276419\"]]},\"xaxis\":{\"gridcolor\":\"#283442\",\"linecolor\":\"#506784\",\"ticks\":\"\",\"title\":{\"standoff\":15},\"zerolinecolor\":\"#283442\",\"automargin\":true,\"zerolinewidth\":2},\"yaxis\":{\"gridcolor\":\"#283442\",\"linecolor\":\"#506784\",\"ticks\":\"\",\"title\":{\"standoff\":15},\"zerolinecolor\":\"#283442\",\"automargin\":true,\"zerolinewidth\":2},\"scene\":{\"xaxis\":{\"backgroundcolor\":\"rgb(17,17,17)\",\"gridcolor\":\"#506784\",\"linecolor\":\"#506784\",\"showbackground\":true,\"ticks\":\"\",\"zerolinecolor\":\"#C8D4E3\",\"gridwidth\":2},\"yaxis\":{\"backgroundcolor\":\"rgb(17,17,17)\",\"gridcolor\":\"#506784\",\"linecolor\":\"#506784\",\"showbackground\":true,\"ticks\":\"\",\"zerolinecolor\":\"#C8D4E3\",\"gridwidth\":2},\"zaxis\":{\"backgroundcolor\":\"rgb(17,17,17)\",\"gridcolor\":\"#506784\",\"linecolor\":\"#506784\",\"showbackground\":true,\"ticks\":\"\",\"zerolinecolor\":\"#C8D4E3\",\"gridwidth\":2}},\"shapedefaults\":{\"line\":{\"color\":\"#f2f5fa\"}},\"annotationdefaults\":{\"arrowcolor\":\"#f2f5fa\",\"arrowhead\":0,\"arrowwidth\":1},\"geo\":{\"bgcolor\":\"rgb(17,17,17)\",\"landcolor\":\"rgb(17,17,17)\",\"subunitcolor\":\"#506784\",\"showland\":true,\"showlakes\":true,\"lakecolor\":\"rgb(17,17,17)\"},\"title\":{\"x\":0.05},\"updatemenudefaults\":{\"bgcolor\":\"#506784\",\"borderwidth\":0},\"sliderdefaults\":{\"bgcolor\":\"#C8D4E3\",\"borderwidth\":1,\"bordercolor\":\"rgb(17,17,17)\",\"tickwidth\":0},\"mapbox\":{\"style\":\"dark\"}}},\"xaxis\":{\"anchor\":\"y\",\"domain\":[0.0,1.0],\"title\":{\"text\":\"Category\"}},\"yaxis\":{\"anchor\":\"x\",\"domain\":[0.0,1.0],\"title\":{\"text\":\"Revenue_Estimate\"},\"type\":\"log\"},\"legend\":{\"tracegroupgap\":0},\"margin\":{\"t\":60},\"boxmode\":\"group\"},                        {\"responsive\": true}                    ).then(function(){\n                            \nvar gd = document.getElementById('8967b8ee-82ea-4a6e-b401-14032a2bebdc');\nvar x = new MutationObserver(function (mutations, observer) {{\n        var display = window.getComputedStyle(gd).display;\n        if (!display || display === 'none') {{\n            console.log([gd, 'removed!']);\n            Plotly.purge(gd);\n            observer.disconnect();\n        }}\n}});\n\n// Listen for the removal of the full notebook cells\nvar notebookContainer = gd.closest('#notebook-container');\nif (notebookContainer) {{\n    x.observe(notebookContainer, {childList: true});\n}}\n\n// Listen for the clearing of the current output cell\nvar outputEl = gd.closest('.output');\nif (outputEl) {{\n    x.observe(outputEl, {childList: true});\n}}\n\n                        })                };                });            </script>        </div>"
     },
     "metadata": {},
     "output_type": "display_data"
    }
   ]
  },
  {
   "cell_type": "markdown",
   "metadata": {
    "id": "uT32ylj4WS9B"
   },
   "source": [
    "# How Much Can You Charge? Examine Paid App Pricing Strategies by Category\n",
    "\n",
    "**Challenge**: What is the median price price for a paid app? Then compare pricing by category by creating another box plot. But this time examine the prices (instead of the revenue estimates) of the paid apps. I recommend using `{categoryorder':'max descending'}` to sort the categories."
   ]
  },
  {
   "cell_type": "code",
   "metadata": {
    "id": "AdBr0TUhouqs",
    "ExecuteTime": {
     "end_time": "2023-10-13T10:16:49.753692900Z",
     "start_time": "2023-10-13T10:16:49.673374400Z"
    }
   },
   "source": [
    "df_apps_clean[df_apps_clean[\"Type\"] == \"Paid\"].groupby(\"Category\").agg({\"Price\": \"median\"})"
   ],
   "execution_count": 322,
   "outputs": [
    {
     "data": {
      "text/plain": "                     Price\nCategory                  \nART_AND_DESIGN        1.99\nAUTO_AND_VEHICLES     1.99\nBOOKS_AND_REFERENCE   3.04\nBUSINESS              4.99\nCOMMUNICATION         2.70\nDATING                6.99\nEDUCATION             3.99\nENTERTAINMENT         3.99\nFAMILY                2.99\nFINANCE               3.99\nFOOD_AND_DRINK        4.24\nGAME                  2.99\nHEALTH_AND_FITNESS    2.99\nLIFESTYLE             3.04\nMAPS_AND_NAVIGATION   2.99\nMEDICAL               5.49\nNEWS_AND_MAGAZINES    1.99\nPARENTING             4.79\nPERSONALIZATION       1.49\nPHOTOGRAPHY           2.99\nPRODUCTIVITY          3.49\nSHOPPING              2.74\nSOCIAL                0.99\nSPORTS                2.99\nTOOLS                 2.99\nTRAVEL_AND_LOCAL      3.49\nVIDEO_PLAYERS         1.74\nWEATHER               3.99",
      "text/html": "<div>\n<style scoped>\n    .dataframe tbody tr th:only-of-type {\n        vertical-align: middle;\n    }\n\n    .dataframe tbody tr th {\n        vertical-align: top;\n    }\n\n    .dataframe thead th {\n        text-align: right;\n    }\n</style>\n<table border=\"1\" class=\"dataframe\">\n  <thead>\n    <tr style=\"text-align: right;\">\n      <th></th>\n      <th>Price</th>\n    </tr>\n    <tr>\n      <th>Category</th>\n      <th></th>\n    </tr>\n  </thead>\n  <tbody>\n    <tr>\n      <th>ART_AND_DESIGN</th>\n      <td>1.99</td>\n    </tr>\n    <tr>\n      <th>AUTO_AND_VEHICLES</th>\n      <td>1.99</td>\n    </tr>\n    <tr>\n      <th>BOOKS_AND_REFERENCE</th>\n      <td>3.04</td>\n    </tr>\n    <tr>\n      <th>BUSINESS</th>\n      <td>4.99</td>\n    </tr>\n    <tr>\n      <th>COMMUNICATION</th>\n      <td>2.70</td>\n    </tr>\n    <tr>\n      <th>DATING</th>\n      <td>6.99</td>\n    </tr>\n    <tr>\n      <th>EDUCATION</th>\n      <td>3.99</td>\n    </tr>\n    <tr>\n      <th>ENTERTAINMENT</th>\n      <td>3.99</td>\n    </tr>\n    <tr>\n      <th>FAMILY</th>\n      <td>2.99</td>\n    </tr>\n    <tr>\n      <th>FINANCE</th>\n      <td>3.99</td>\n    </tr>\n    <tr>\n      <th>FOOD_AND_DRINK</th>\n      <td>4.24</td>\n    </tr>\n    <tr>\n      <th>GAME</th>\n      <td>2.99</td>\n    </tr>\n    <tr>\n      <th>HEALTH_AND_FITNESS</th>\n      <td>2.99</td>\n    </tr>\n    <tr>\n      <th>LIFESTYLE</th>\n      <td>3.04</td>\n    </tr>\n    <tr>\n      <th>MAPS_AND_NAVIGATION</th>\n      <td>2.99</td>\n    </tr>\n    <tr>\n      <th>MEDICAL</th>\n      <td>5.49</td>\n    </tr>\n    <tr>\n      <th>NEWS_AND_MAGAZINES</th>\n      <td>1.99</td>\n    </tr>\n    <tr>\n      <th>PARENTING</th>\n      <td>4.79</td>\n    </tr>\n    <tr>\n      <th>PERSONALIZATION</th>\n      <td>1.49</td>\n    </tr>\n    <tr>\n      <th>PHOTOGRAPHY</th>\n      <td>2.99</td>\n    </tr>\n    <tr>\n      <th>PRODUCTIVITY</th>\n      <td>3.49</td>\n    </tr>\n    <tr>\n      <th>SHOPPING</th>\n      <td>2.74</td>\n    </tr>\n    <tr>\n      <th>SOCIAL</th>\n      <td>0.99</td>\n    </tr>\n    <tr>\n      <th>SPORTS</th>\n      <td>2.99</td>\n    </tr>\n    <tr>\n      <th>TOOLS</th>\n      <td>2.99</td>\n    </tr>\n    <tr>\n      <th>TRAVEL_AND_LOCAL</th>\n      <td>3.49</td>\n    </tr>\n    <tr>\n      <th>VIDEO_PLAYERS</th>\n      <td>1.74</td>\n    </tr>\n    <tr>\n      <th>WEATHER</th>\n      <td>3.99</td>\n    </tr>\n  </tbody>\n</table>\n</div>"
     },
     "execution_count": 322,
     "metadata": {},
     "output_type": "execute_result"
    }
   ]
  },
  {
   "cell_type": "code",
   "metadata": {
    "id": "bJnABRw3ovwr",
    "ExecuteTime": {
     "end_time": "2023-10-13T10:18:44.083662700Z",
     "start_time": "2023-10-13T10:18:43.780701300Z"
    }
   },
   "source": [
    "fig = px.box(df_apps_clean[df_apps_clean[\"Type\"] == \"Paid\"], x=\"Category\", y=\"Price\")\n",
    "fig.update_layout(yaxis=dict(type=\"log\"))\n",
    "fig.show()"
   ],
   "execution_count": 325,
   "outputs": [
    {
     "data": {
      "application/vnd.plotly.v1+json": {
       "data": [
        {
         "alignmentgroup": "True",
         "hovertemplate": "Category=%{x}<br>Price=%{y}<extra></extra>",
         "legendgroup": "",
         "marker": {
          "color": "#636efa"
         },
         "name": "",
         "notched": false,
         "offsetgroup": "",
         "orientation": "v",
         "showlegend": false,
         "x": [
          "GAME",
          "GAME",
          "FAMILY",
          "BUSINESS",
          "LIFESTYLE",
          "FAMILY",
          "PERSONALIZATION",
          "PHOTOGRAPHY",
          "FAMILY",
          "GAME",
          "PRODUCTIVITY",
          "PHOTOGRAPHY",
          "FAMILY",
          "TOOLS",
          "TOOLS",
          "PERSONALIZATION",
          "FAMILY",
          "FAMILY",
          "FAMILY",
          "FAMILY",
          "GAME",
          "TOOLS",
          "PERSONALIZATION",
          "PERSONALIZATION",
          "PERSONALIZATION",
          "TOOLS",
          "FAMILY",
          "FAMILY",
          "BUSINESS",
          "BOOKS_AND_REFERENCE",
          "FAMILY",
          "FAMILY",
          "FAMILY",
          "PERSONALIZATION",
          "PERSONALIZATION",
          "PERSONALIZATION",
          "GAME",
          "PERSONALIZATION",
          "FAMILY",
          "FINANCE",
          "SHOPPING",
          "DATING",
          "PERSONALIZATION",
          "GAME",
          "FAMILY",
          "PRODUCTIVITY",
          "FAMILY",
          "MEDICAL",
          "SPORTS",
          "MEDICAL",
          "PRODUCTIVITY",
          "BUSINESS",
          "PARENTING",
          "LIFESTYLE",
          "FAMILY",
          "TOOLS",
          "MAPS_AND_NAVIGATION",
          "COMMUNICATION",
          "PERSONALIZATION",
          "COMMUNICATION",
          "FAMILY",
          "PERSONALIZATION",
          "FAMILY",
          "FAMILY",
          "FAMILY",
          "TOOLS",
          "FAMILY",
          "SPORTS",
          "FAMILY",
          "MEDICAL",
          "FAMILY",
          "FAMILY",
          "GAME",
          "TOOLS",
          "FAMILY",
          "FAMILY",
          "PERSONALIZATION",
          "BOOKS_AND_REFERENCE",
          "GAME",
          "PERSONALIZATION",
          "GAME",
          "GAME",
          "TOOLS",
          "MEDICAL",
          "TOOLS",
          "TOOLS",
          "PERSONALIZATION",
          "GAME",
          "COMMUNICATION",
          "MEDICAL",
          "SPORTS",
          "PERSONALIZATION",
          "COMMUNICATION",
          "COMMUNICATION",
          "PERSONALIZATION",
          "TOOLS",
          "PERSONALIZATION",
          "PERSONALIZATION",
          "PRODUCTIVITY",
          "MEDICAL",
          "FAMILY",
          "TOOLS",
          "TOOLS",
          "BUSINESS",
          "COMMUNICATION",
          "FAMILY",
          "PERSONALIZATION",
          "PHOTOGRAPHY",
          "MEDICAL",
          "PERSONALIZATION",
          "MEDICAL",
          "COMMUNICATION",
          "PRODUCTIVITY",
          "BOOKS_AND_REFERENCE",
          "TOOLS",
          "WEATHER",
          "FAMILY",
          "FAMILY",
          "MEDICAL",
          "FAMILY",
          "TOOLS",
          "TOOLS",
          "SPORTS",
          "GAME",
          "MEDICAL",
          "PERSONALIZATION",
          "PERSONALIZATION",
          "NEWS_AND_MAGAZINES",
          "COMMUNICATION",
          "TOOLS",
          "MEDICAL",
          "FINANCE",
          "FAMILY",
          "PERSONALIZATION",
          "PERSONALIZATION",
          "MEDICAL",
          "FAMILY",
          "MEDICAL",
          "MEDICAL",
          "FAMILY",
          "FAMILY",
          "FAMILY",
          "GAME",
          "PERSONALIZATION",
          "TOOLS",
          "PERSONALIZATION",
          "GAME",
          "GAME",
          "GAME",
          "FAMILY",
          "FAMILY",
          "PRODUCTIVITY",
          "COMMUNICATION",
          "SPORTS",
          "SPORTS",
          "FAMILY",
          "PERSONALIZATION",
          "MEDICAL",
          "SPORTS",
          "COMMUNICATION",
          "LIFESTYLE",
          "FAMILY",
          "MEDICAL",
          "MEDICAL",
          "TOOLS",
          "PRODUCTIVITY",
          "FINANCE",
          "HEALTH_AND_FITNESS",
          "MEDICAL",
          "PHOTOGRAPHY",
          "FAMILY",
          "FAMILY",
          "PHOTOGRAPHY",
          "SPORTS",
          "ART_AND_DESIGN",
          "FAMILY",
          "PERSONALIZATION",
          "PRODUCTIVITY",
          "HEALTH_AND_FITNESS",
          "MEDICAL",
          "TOOLS",
          "PRODUCTIVITY",
          "GAME",
          "TOOLS",
          "MEDICAL",
          "LIFESTYLE",
          "GAME",
          "MEDICAL",
          "TRAVEL_AND_LOCAL",
          "BUSINESS",
          "MEDICAL",
          "COMMUNICATION",
          "PERSONALIZATION",
          "GAME",
          "TRAVEL_AND_LOCAL",
          "GAME",
          "SPORTS",
          "MEDICAL",
          "FAMILY",
          "MEDICAL",
          "TOOLS",
          "BOOKS_AND_REFERENCE",
          "FAMILY",
          "MEDICAL",
          "MEDICAL",
          "GAME",
          "BUSINESS",
          "TOOLS",
          "FAMILY",
          "MEDICAL",
          "PERSONALIZATION",
          "PHOTOGRAPHY",
          "SPORTS",
          "MAPS_AND_NAVIGATION",
          "PERSONALIZATION",
          "GAME",
          "BOOKS_AND_REFERENCE",
          "EDUCATION",
          "FAMILY",
          "FAMILY",
          "SOCIAL",
          "MEDICAL",
          "TOOLS",
          "SPORTS",
          "FAMILY",
          "FAMILY",
          "TOOLS",
          "WEATHER",
          "VIDEO_PLAYERS",
          "MEDICAL",
          "TOOLS",
          "GAME",
          "PERSONALIZATION",
          "MEDICAL",
          "LIFESTYLE",
          "MEDICAL",
          "DATING",
          "HEALTH_AND_FITNESS",
          "MEDICAL",
          "FAMILY",
          "PRODUCTIVITY",
          "EDUCATION",
          "SPORTS",
          "FAMILY",
          "PERSONALIZATION",
          "PERSONALIZATION",
          "FAMILY",
          "GAME",
          "FINANCE",
          "GAME",
          "MEDICAL",
          "FAMILY",
          "MEDICAL",
          "MEDICAL",
          "TOOLS",
          "TOOLS",
          "TOOLS",
          "TOOLS",
          "PERSONALIZATION",
          "PERSONALIZATION",
          "PERSONALIZATION",
          "PERSONALIZATION",
          "FAMILY",
          "GAME",
          "FAMILY",
          "FAMILY",
          "MEDICAL",
          "SPORTS",
          "LIFESTYLE",
          "FAMILY",
          "FAMILY",
          "TRAVEL_AND_LOCAL",
          "PERSONALIZATION",
          "BOOKS_AND_REFERENCE",
          "FAMILY",
          "MEDICAL",
          "MEDICAL",
          "MEDICAL",
          "MEDICAL",
          "PRODUCTIVITY",
          "SOCIAL",
          "SPORTS",
          "TRAVEL_AND_LOCAL",
          "TOOLS",
          "FAMILY",
          "NEWS_AND_MAGAZINES",
          "ART_AND_DESIGN",
          "GAME",
          "PERSONALIZATION",
          "LIFESTYLE",
          "PERSONALIZATION",
          "LIFESTYLE",
          "MEDICAL",
          "FAMILY",
          "FAMILY",
          "BOOKS_AND_REFERENCE",
          "LIFESTYLE",
          "MEDICAL",
          "MEDICAL",
          "TOOLS",
          "SPORTS",
          "MEDICAL",
          "PHOTOGRAPHY",
          "GAME",
          "SPORTS",
          "FAMILY",
          "SPORTS",
          "TOOLS",
          "LIFESTYLE",
          "FAMILY",
          "COMMUNICATION",
          "COMMUNICATION",
          "COMMUNICATION",
          "FAMILY",
          "FAMILY",
          "TOOLS",
          "MEDICAL",
          "TOOLS",
          "TOOLS",
          "TOOLS",
          "TOOLS",
          "TOOLS",
          "TOOLS",
          "PERSONALIZATION",
          "FAMILY",
          "MEDICAL",
          "MEDICAL",
          "MEDICAL",
          "HEALTH_AND_FITNESS",
          "GAME",
          "FAMILY",
          "FAMILY",
          "PHOTOGRAPHY",
          "PERSONALIZATION",
          "LIFESTYLE",
          "GAME",
          "FAMILY",
          "MEDICAL",
          "FAMILY",
          "BUSINESS",
          "GAME",
          "FAMILY",
          "MEDICAL",
          "FAMILY",
          "MAPS_AND_NAVIGATION",
          "BOOKS_AND_REFERENCE",
          "GAME",
          "PERSONALIZATION",
          "PERSONALIZATION",
          "COMMUNICATION",
          "DATING",
          "FOOD_AND_DRINK",
          "LIFESTYLE",
          "FAMILY",
          "FAMILY",
          "MEDICAL",
          "TRAVEL_AND_LOCAL",
          "TOOLS",
          "TOOLS",
          "TOOLS",
          "PERSONALIZATION",
          "VIDEO_PLAYERS",
          "VIDEO_PLAYERS",
          "GAME",
          "FAMILY",
          "FAMILY",
          "FAMILY",
          "FAMILY",
          "PERSONALIZATION",
          "WEATHER",
          "TOOLS",
          "PERSONALIZATION",
          "TOOLS",
          "ART_AND_DESIGN",
          "PERSONALIZATION",
          "PERSONALIZATION",
          "MEDICAL",
          "TOOLS",
          "FAMILY",
          "FINANCE",
          "TOOLS",
          "GAME",
          "FAMILY",
          "FAMILY",
          "TOOLS",
          "TOOLS",
          "GAME",
          "TOOLS",
          "HEALTH_AND_FITNESS",
          "GAME",
          "MEDICAL",
          "COMMUNICATION",
          "FAMILY",
          "GAME",
          "FAMILY",
          "MEDICAL",
          "PERSONALIZATION",
          "FAMILY",
          "SPORTS",
          "FAMILY",
          "TRAVEL_AND_LOCAL",
          "TOOLS",
          "SHOPPING",
          "TOOLS",
          "FAMILY",
          "FAMILY",
          "FAMILY",
          "FAMILY",
          "FAMILY",
          "FAMILY",
          "GAME",
          "MAPS_AND_NAVIGATION",
          "PERSONALIZATION",
          "GAME",
          "FAMILY",
          "FAMILY",
          "FINANCE",
          "TOOLS",
          "TOOLS",
          "FAMILY",
          "FAMILY",
          "MEDICAL",
          "GAME",
          "FAMILY",
          "COMMUNICATION",
          "COMMUNICATION",
          "FAMILY",
          "FAMILY",
          "MEDICAL",
          "MEDICAL",
          "MEDICAL",
          "PHOTOGRAPHY",
          "TOOLS",
          "TOOLS",
          "PERSONALIZATION",
          "PERSONALIZATION",
          "FAMILY",
          "GAME",
          "SPORTS",
          "MEDICAL",
          "GAME",
          "FAMILY",
          "AUTO_AND_VEHICLES",
          "HEALTH_AND_FITNESS",
          "FAMILY",
          "FAMILY",
          "MEDICAL",
          "PHOTOGRAPHY",
          "SPORTS",
          "TOOLS",
          "VIDEO_PLAYERS",
          "FAMILY",
          "FAMILY",
          "PRODUCTIVITY",
          "PERSONALIZATION",
          "PRODUCTIVITY",
          "PERSONALIZATION",
          "FAMILY",
          "FAMILY",
          "GAME",
          "MEDICAL",
          "FAMILY",
          "FAMILY",
          "FOOD_AND_DRINK",
          "FAMILY",
          "FAMILY",
          "FAMILY",
          "TOOLS",
          "HEALTH_AND_FITNESS",
          "PARENTING",
          "FAMILY",
          "GAME",
          "HEALTH_AND_FITNESS",
          "TRAVEL_AND_LOCAL",
          "GAME",
          "WEATHER",
          "FAMILY",
          "MEDICAL",
          "GAME",
          "GAME",
          "MEDICAL",
          "PERSONALIZATION",
          "FAMILY",
          "FAMILY",
          "FAMILY",
          "FAMILY",
          "GAME",
          "PHOTOGRAPHY",
          "FAMILY",
          "BUSINESS",
          "FAMILY",
          "GAME",
          "FAMILY",
          "FAMILY",
          "WEATHER",
          "EDUCATION",
          "COMMUNICATION",
          "ENTERTAINMENT",
          "HEALTH_AND_FITNESS",
          "HEALTH_AND_FITNESS",
          "GAME",
          "GAME",
          "FAMILY",
          "FAMILY",
          "FAMILY",
          "PHOTOGRAPHY",
          "SPORTS",
          "TRAVEL_AND_LOCAL",
          "TOOLS",
          "TOOLS",
          "PERSONALIZATION",
          "PERSONALIZATION",
          "PRODUCTIVITY",
          "PRODUCTIVITY",
          "MAPS_AND_NAVIGATION",
          "GAME",
          "GAME",
          "PRODUCTIVITY",
          "TOOLS",
          "WEATHER",
          "FAMILY",
          "GAME",
          "FAMILY",
          "GAME",
          "TOOLS",
          "GAME",
          "FAMILY",
          "FAMILY",
          "HEALTH_AND_FITNESS",
          "FAMILY",
          "GAME",
          "FAMILY",
          "PERSONALIZATION",
          "BUSINESS",
          "FINANCE",
          "FAMILY",
          "PHOTOGRAPHY",
          "GAME",
          "FAMILY",
          "FAMILY",
          "FAMILY",
          "FAMILY",
          "GAME",
          "FAMILY",
          "GAME",
          "COMMUNICATION",
          "FAMILY",
          "ENTERTAINMENT",
          "COMMUNICATION",
          "GAME",
          "GAME",
          "GAME",
          "GAME",
          "GAME",
          "GAME",
          "PERSONALIZATION",
          "FAMILY",
          "PERSONALIZATION",
          "FAMILY",
          "EDUCATION",
          "WEATHER",
          "PHOTOGRAPHY",
          "PRODUCTIVITY",
          "GAME",
          "FAMILY",
          "FAMILY",
          "PRODUCTIVITY",
          "PERSONALIZATION",
          "GAME",
          "GAME",
          "FAMILY",
          "COMMUNICATION",
          "TOOLS",
          "GAME",
          "PERSONALIZATION",
          "PHOTOGRAPHY",
          "SPORTS",
          "GAME",
          "FAMILY",
          "GAME",
          "GAME",
          "FAMILY",
          "GAME",
          "FAMILY",
          "GAME",
          "LIFESTYLE",
          "FAMILY",
          "GAME",
          "FAMILY"
         ],
         "x0": " ",
         "xaxis": "x",
         "y": [
          1.49,
          0.99,
          14.99,
          2.49,
          3.04,
          1.49,
          0.99,
          3.49,
          2.99,
          0.99,
          0.99,
          4.99,
          0.99,
          2.99,
          0.99,
          0.99,
          29.99,
          19.99,
          4.99,
          4.99,
          1.99,
          2.99,
          0.99,
          0.99,
          0.99,
          1.76,
          2.99,
          2.99,
          8.99,
          1.75,
          1.49,
          1.49,
          0.99,
          0.99,
          0.99,
          0.99,
          0.99,
          0.99,
          12.99,
          4.99,
          2.49,
          7.99,
          1.99,
          4.99,
          0.99,
          4.99,
          3.99,
          2.99,
          3.88,
          2.99,
          2.99,
          12.99,
          4.59,
          0.99,
          9.99,
          3.99,
          9.99,
          1.49,
          1.49,
          1.49,
          1.49,
          0.99,
          2.99,
          1.99,
          4.99,
          1.49,
          0.99,
          3.49,
          1.99,
          12.99,
          0.99,
          0.99,
          0.99,
          1.99,
          4.99,
          3.99,
          0.99,
          3.99,
          14.0,
          1.49,
          4.49,
          1.99,
          0.99,
          6.99,
          5.99,
          3.99,
          2.49,
          0.99,
          1.49,
          39.99,
          3.02,
          1.49,
          1.49,
          0.99,
          0.99,
          4.99,
          1.49,
          0.99,
          6.49,
          5.99,
          2.99,
          3.99,
          0.99,
          17.99,
          0.99,
          1.99,
          1.49,
          1.49,
          3.99,
          1.49,
          2.99,
          4.99,
          8.99,
          0.99,
          0.99,
          1.99,
          2.49,
          4.99,
          0.99,
          1.99,
          1.99,
          0.99,
          2.99,
          4.49,
          3.49,
          2.0,
          1.49,
          2.99,
          3.99,
          3.99,
          15.99,
          3.99,
          2.99,
          1.49,
          0.99,
          9.99,
          2.99,
          4.99,
          9.99,
          2.49,
          10.99,
          2.99,
          0.99,
          1.99,
          1.99,
          0.99,
          3.99,
          1.61,
          0.99,
          1.99,
          2.49,
          4.29,
          0.99,
          3.99,
          0.99,
          2.99,
          1.49,
          15.46,
          1.99,
          2.99,
          4.99,
          7.49,
          3.99,
          5.49,
          2.49,
          2.99,
          1.99,
          4.99,
          4.99,
          19.99,
          2.99,
          1.99,
          9.99,
          0.99,
          1.99,
          2.99,
          1.7,
          0.99,
          7.99,
          29.99,
          2.99,
          7.99,
          0.99,
          1.49,
          2.99,
          4.99,
          2.49,
          79.99,
          2.56,
          3.99,
          19.99,
          2.49,
          0.99,
          0.99,
          8.49,
          6.99,
          2.99,
          0.99,
          2.99,
          1.5,
          4.99,
          1.99,
          4.84,
          14.99,
          29.99,
          4.99,
          4.99,
          3.99,
          19.4,
          33.99,
          1.49,
          2.99,
          2.99,
          0.99,
          0.99,
          1.99,
          3.08,
          5.99,
          3.99,
          2.99,
          0.99,
          1.99,
          5.99,
          2.49,
          0.99,
          0.99,
          0.99,
          6.99,
          0.99,
          16.99,
          0.99,
          3.49,
          1.7,
          3.99,
          37.99,
          9.99,
          6.99,
          1.99,
          3.99,
          10.0,
          1.29,
          3.99,
          4.49,
          2.99,
          2.49,
          0.99,
          4.99,
          0.99,
          3.99,
          1.99,
          7.49,
          0.99,
          10.99,
          5.99,
          0.99,
          1.49,
          14.99,
          4.99,
          4.99,
          0.99,
          4.99,
          3.99,
          4.99,
          0.99,
          4.49,
          5.99,
          3.99,
          1.99,
          3.99,
          4.99,
          1.99,
          3.99,
          0.99,
          2.99,
          1.49,
          2.49,
          3.99,
          3.99,
          3.99,
          3.99,
          0.99,
          1.99,
          2.99,
          0.99,
          2.99,
          0.99,
          1.99,
          6.99,
          1.99,
          0.99,
          1.49,
          2.99,
          5.99,
          2.99,
          2.99,
          4.6,
          1.99,
          14.99,
          0.99,
          0.99,
          0.99,
          2.99,
          2.99,
          1.99,
          2.99,
          4.99,
          1.0,
          14.99,
          2.49,
          0.99,
          4.99,
          0.99,
          1.49,
          3.99,
          2.99,
          4.99,
          3.99,
          4.99,
          4.99,
          4.99,
          4.99,
          4.99,
          1.0,
          6.99,
          2.99,
          9.99,
          24.99,
          2.99,
          3.99,
          0.99,
          3.99,
          3.99,
          1.99,
          0.99,
          7.99,
          4.99,
          2.99,
          10.0,
          2.99,
          2.99,
          2.99,
          14.99,
          7.99,
          12.99,
          0.99,
          4.49,
          16.99,
          0.99,
          0.99,
          4.99,
          3.99,
          3.49,
          2.49,
          2.99,
          1.49,
          6.99,
          1.99,
          2.5,
          3.9,
          2.95,
          0.99,
          1.49,
          1.99,
          7.99,
          2.99,
          2.99,
          4.99,
          1.99,
          0.99,
          2.99,
          2.99,
          1.99,
          1.97,
          1.99,
          9.99,
          2.99,
          5.49,
          3.28,
          0.99,
          2.99,
          4.99,
          2.99,
          14.99,
          2.99,
          2.99,
          2.99,
          17.99,
          0.99,
          6.99,
          4.99,
          3.99,
          2.99,
          2.99,
          4.99,
          1.2,
          2.99,
          1.99,
          4.99,
          4.99,
          0.99,
          5.99,
          2.59,
          2.99,
          1.99,
          3.99,
          4.99,
          3.99,
          2.99,
          4.99,
          2.99,
          4.99,
          2.99,
          0.99,
          3.99,
          2.49,
          0.99,
          18.99,
          1.99,
          1.99,
          1.59,
          3.99,
          11.99,
          1.99,
          1.99,
          2.99,
          0.99,
          9.99,
          3.99,
          0.99,
          2.99,
          1.99,
          4.99,
          1.99,
          2.99,
          0.99,
          1.99,
          0.99,
          0.99,
          29.99,
          2.99,
          1.99,
          2.99,
          1.99,
          1.99,
          2.99,
          4.99,
          3.99,
          1.99,
          3.99,
          2.99,
          5.99,
          19.99,
          9.99,
          2.99,
          2.49,
          1.49,
          0.99,
          2.99,
          2.99,
          1.99,
          11.99,
          4.99,
          3.99,
          4.99,
          2.99,
          2.99,
          4.77,
          2.99,
          2.99,
          4.99,
          4.99,
          4.99,
          1.99,
          2.49,
          4.99,
          3.99,
          3.99,
          24.99,
          4.99,
          0.99,
          9.0,
          0.99,
          2.99,
          2.99,
          2.99,
          9.99,
          2.99,
          1.49,
          14.99,
          4.99,
          7.99,
          1.99,
          0.99,
          0.99,
          4.49,
          3.99,
          3.99,
          4.99,
          2.99,
          2.99,
          2.99,
          2.99,
          3.99,
          4.99,
          4.99,
          3.95,
          8.99,
          8.99,
          2.49,
          3.99,
          4.49,
          1.99,
          5.99,
          4.99,
          11.99,
          4.99,
          9.99,
          4.49,
          3.49,
          2.99,
          4.99,
          4.99,
          4.99,
          1.99,
          4.49,
          3.99,
          2.99,
          13.99,
          3.49,
          9.99,
          4.99,
          2.99,
          2.99,
          4.99,
          2.99,
          2.99,
          2.99,
          2.99,
          2.99,
          9.99,
          0.99,
          1.99,
          2.99,
          1.49,
          6.99,
          2.9,
          2.99,
          2.99,
          3.99,
          2.99,
          4.99,
          2.99,
          2.99,
          1.99,
          5.99,
          4.99,
          2.99,
          2.49,
          0.99,
          3.99,
          5.99,
          2.99,
          2.99,
          1.99,
          2.99,
          4.99,
          1.99,
          2.49,
          0.99,
          4.99,
          2.99,
          2.99,
          2.99,
          6.99,
          0.99,
          5.99,
          1.99,
          2.99,
          0.99,
          0.99,
          0.99,
          0.99,
          0.99,
          2.99,
          0.99,
          5.99,
          1.99,
          0.99,
          6.99
         ],
         "y0": " ",
         "yaxis": "y",
         "type": "box"
        }
       ],
       "layout": {
        "template": {
         "data": {
          "histogram2dcontour": [
           {
            "type": "histogram2dcontour",
            "colorbar": {
             "outlinewidth": 0,
             "ticks": ""
            },
            "colorscale": [
             [
              0.0,
              "#0d0887"
             ],
             [
              0.1111111111111111,
              "#46039f"
             ],
             [
              0.2222222222222222,
              "#7201a8"
             ],
             [
              0.3333333333333333,
              "#9c179e"
             ],
             [
              0.4444444444444444,
              "#bd3786"
             ],
             [
              0.5555555555555556,
              "#d8576b"
             ],
             [
              0.6666666666666666,
              "#ed7953"
             ],
             [
              0.7777777777777778,
              "#fb9f3a"
             ],
             [
              0.8888888888888888,
              "#fdca26"
             ],
             [
              1.0,
              "#f0f921"
             ]
            ]
           }
          ],
          "choropleth": [
           {
            "type": "choropleth",
            "colorbar": {
             "outlinewidth": 0,
             "ticks": ""
            }
           }
          ],
          "histogram2d": [
           {
            "type": "histogram2d",
            "colorbar": {
             "outlinewidth": 0,
             "ticks": ""
            },
            "colorscale": [
             [
              0.0,
              "#0d0887"
             ],
             [
              0.1111111111111111,
              "#46039f"
             ],
             [
              0.2222222222222222,
              "#7201a8"
             ],
             [
              0.3333333333333333,
              "#9c179e"
             ],
             [
              0.4444444444444444,
              "#bd3786"
             ],
             [
              0.5555555555555556,
              "#d8576b"
             ],
             [
              0.6666666666666666,
              "#ed7953"
             ],
             [
              0.7777777777777778,
              "#fb9f3a"
             ],
             [
              0.8888888888888888,
              "#fdca26"
             ],
             [
              1.0,
              "#f0f921"
             ]
            ]
           }
          ],
          "heatmap": [
           {
            "type": "heatmap",
            "colorbar": {
             "outlinewidth": 0,
             "ticks": ""
            },
            "colorscale": [
             [
              0.0,
              "#0d0887"
             ],
             [
              0.1111111111111111,
              "#46039f"
             ],
             [
              0.2222222222222222,
              "#7201a8"
             ],
             [
              0.3333333333333333,
              "#9c179e"
             ],
             [
              0.4444444444444444,
              "#bd3786"
             ],
             [
              0.5555555555555556,
              "#d8576b"
             ],
             [
              0.6666666666666666,
              "#ed7953"
             ],
             [
              0.7777777777777778,
              "#fb9f3a"
             ],
             [
              0.8888888888888888,
              "#fdca26"
             ],
             [
              1.0,
              "#f0f921"
             ]
            ]
           }
          ],
          "heatmapgl": [
           {
            "type": "heatmapgl",
            "colorbar": {
             "outlinewidth": 0,
             "ticks": ""
            },
            "colorscale": [
             [
              0.0,
              "#0d0887"
             ],
             [
              0.1111111111111111,
              "#46039f"
             ],
             [
              0.2222222222222222,
              "#7201a8"
             ],
             [
              0.3333333333333333,
              "#9c179e"
             ],
             [
              0.4444444444444444,
              "#bd3786"
             ],
             [
              0.5555555555555556,
              "#d8576b"
             ],
             [
              0.6666666666666666,
              "#ed7953"
             ],
             [
              0.7777777777777778,
              "#fb9f3a"
             ],
             [
              0.8888888888888888,
              "#fdca26"
             ],
             [
              1.0,
              "#f0f921"
             ]
            ]
           }
          ],
          "contourcarpet": [
           {
            "type": "contourcarpet",
            "colorbar": {
             "outlinewidth": 0,
             "ticks": ""
            }
           }
          ],
          "contour": [
           {
            "type": "contour",
            "colorbar": {
             "outlinewidth": 0,
             "ticks": ""
            },
            "colorscale": [
             [
              0.0,
              "#0d0887"
             ],
             [
              0.1111111111111111,
              "#46039f"
             ],
             [
              0.2222222222222222,
              "#7201a8"
             ],
             [
              0.3333333333333333,
              "#9c179e"
             ],
             [
              0.4444444444444444,
              "#bd3786"
             ],
             [
              0.5555555555555556,
              "#d8576b"
             ],
             [
              0.6666666666666666,
              "#ed7953"
             ],
             [
              0.7777777777777778,
              "#fb9f3a"
             ],
             [
              0.8888888888888888,
              "#fdca26"
             ],
             [
              1.0,
              "#f0f921"
             ]
            ]
           }
          ],
          "surface": [
           {
            "type": "surface",
            "colorbar": {
             "outlinewidth": 0,
             "ticks": ""
            },
            "colorscale": [
             [
              0.0,
              "#0d0887"
             ],
             [
              0.1111111111111111,
              "#46039f"
             ],
             [
              0.2222222222222222,
              "#7201a8"
             ],
             [
              0.3333333333333333,
              "#9c179e"
             ],
             [
              0.4444444444444444,
              "#bd3786"
             ],
             [
              0.5555555555555556,
              "#d8576b"
             ],
             [
              0.6666666666666666,
              "#ed7953"
             ],
             [
              0.7777777777777778,
              "#fb9f3a"
             ],
             [
              0.8888888888888888,
              "#fdca26"
             ],
             [
              1.0,
              "#f0f921"
             ]
            ]
           }
          ],
          "mesh3d": [
           {
            "type": "mesh3d",
            "colorbar": {
             "outlinewidth": 0,
             "ticks": ""
            }
           }
          ],
          "scatter": [
           {
            "marker": {
             "line": {
              "color": "#283442"
             }
            },
            "type": "scatter"
           }
          ],
          "parcoords": [
           {
            "type": "parcoords",
            "line": {
             "colorbar": {
              "outlinewidth": 0,
              "ticks": ""
             }
            }
           }
          ],
          "scatterpolargl": [
           {
            "type": "scatterpolargl",
            "marker": {
             "colorbar": {
              "outlinewidth": 0,
              "ticks": ""
             }
            }
           }
          ],
          "bar": [
           {
            "error_x": {
             "color": "#f2f5fa"
            },
            "error_y": {
             "color": "#f2f5fa"
            },
            "marker": {
             "line": {
              "color": "rgb(17,17,17)",
              "width": 0.5
             },
             "pattern": {
              "fillmode": "overlay",
              "size": 10,
              "solidity": 0.2
             }
            },
            "type": "bar"
           }
          ],
          "scattergeo": [
           {
            "type": "scattergeo",
            "marker": {
             "colorbar": {
              "outlinewidth": 0,
              "ticks": ""
             }
            }
           }
          ],
          "scatterpolar": [
           {
            "type": "scatterpolar",
            "marker": {
             "colorbar": {
              "outlinewidth": 0,
              "ticks": ""
             }
            }
           }
          ],
          "histogram": [
           {
            "marker": {
             "pattern": {
              "fillmode": "overlay",
              "size": 10,
              "solidity": 0.2
             }
            },
            "type": "histogram"
           }
          ],
          "scattergl": [
           {
            "marker": {
             "line": {
              "color": "#283442"
             }
            },
            "type": "scattergl"
           }
          ],
          "scatter3d": [
           {
            "type": "scatter3d",
            "line": {
             "colorbar": {
              "outlinewidth": 0,
              "ticks": ""
             }
            },
            "marker": {
             "colorbar": {
              "outlinewidth": 0,
              "ticks": ""
             }
            }
           }
          ],
          "scattermapbox": [
           {
            "type": "scattermapbox",
            "marker": {
             "colorbar": {
              "outlinewidth": 0,
              "ticks": ""
             }
            }
           }
          ],
          "scatterternary": [
           {
            "type": "scatterternary",
            "marker": {
             "colorbar": {
              "outlinewidth": 0,
              "ticks": ""
             }
            }
           }
          ],
          "scattercarpet": [
           {
            "type": "scattercarpet",
            "marker": {
             "colorbar": {
              "outlinewidth": 0,
              "ticks": ""
             }
            }
           }
          ],
          "carpet": [
           {
            "aaxis": {
             "endlinecolor": "#A2B1C6",
             "gridcolor": "#506784",
             "linecolor": "#506784",
             "minorgridcolor": "#506784",
             "startlinecolor": "#A2B1C6"
            },
            "baxis": {
             "endlinecolor": "#A2B1C6",
             "gridcolor": "#506784",
             "linecolor": "#506784",
             "minorgridcolor": "#506784",
             "startlinecolor": "#A2B1C6"
            },
            "type": "carpet"
           }
          ],
          "table": [
           {
            "cells": {
             "fill": {
              "color": "#506784"
             },
             "line": {
              "color": "rgb(17,17,17)"
             }
            },
            "header": {
             "fill": {
              "color": "#2a3f5f"
             },
             "line": {
              "color": "rgb(17,17,17)"
             }
            },
            "type": "table"
           }
          ],
          "barpolar": [
           {
            "marker": {
             "line": {
              "color": "rgb(17,17,17)",
              "width": 0.5
             },
             "pattern": {
              "fillmode": "overlay",
              "size": 10,
              "solidity": 0.2
             }
            },
            "type": "barpolar"
           }
          ],
          "pie": [
           {
            "automargin": true,
            "type": "pie"
           }
          ]
         },
         "layout": {
          "autotypenumbers": "strict",
          "colorway": [
           "#636efa",
           "#EF553B",
           "#00cc96",
           "#ab63fa",
           "#FFA15A",
           "#19d3f3",
           "#FF6692",
           "#B6E880",
           "#FF97FF",
           "#FECB52"
          ],
          "font": {
           "color": "#f2f5fa"
          },
          "hovermode": "closest",
          "hoverlabel": {
           "align": "left"
          },
          "paper_bgcolor": "rgb(17,17,17)",
          "plot_bgcolor": "rgb(17,17,17)",
          "polar": {
           "bgcolor": "rgb(17,17,17)",
           "angularaxis": {
            "gridcolor": "#506784",
            "linecolor": "#506784",
            "ticks": ""
           },
           "radialaxis": {
            "gridcolor": "#506784",
            "linecolor": "#506784",
            "ticks": ""
           }
          },
          "ternary": {
           "bgcolor": "rgb(17,17,17)",
           "aaxis": {
            "gridcolor": "#506784",
            "linecolor": "#506784",
            "ticks": ""
           },
           "baxis": {
            "gridcolor": "#506784",
            "linecolor": "#506784",
            "ticks": ""
           },
           "caxis": {
            "gridcolor": "#506784",
            "linecolor": "#506784",
            "ticks": ""
           }
          },
          "coloraxis": {
           "colorbar": {
            "outlinewidth": 0,
            "ticks": ""
           }
          },
          "colorscale": {
           "sequential": [
            [
             0.0,
             "#0d0887"
            ],
            [
             0.1111111111111111,
             "#46039f"
            ],
            [
             0.2222222222222222,
             "#7201a8"
            ],
            [
             0.3333333333333333,
             "#9c179e"
            ],
            [
             0.4444444444444444,
             "#bd3786"
            ],
            [
             0.5555555555555556,
             "#d8576b"
            ],
            [
             0.6666666666666666,
             "#ed7953"
            ],
            [
             0.7777777777777778,
             "#fb9f3a"
            ],
            [
             0.8888888888888888,
             "#fdca26"
            ],
            [
             1.0,
             "#f0f921"
            ]
           ],
           "sequentialminus": [
            [
             0.0,
             "#0d0887"
            ],
            [
             0.1111111111111111,
             "#46039f"
            ],
            [
             0.2222222222222222,
             "#7201a8"
            ],
            [
             0.3333333333333333,
             "#9c179e"
            ],
            [
             0.4444444444444444,
             "#bd3786"
            ],
            [
             0.5555555555555556,
             "#d8576b"
            ],
            [
             0.6666666666666666,
             "#ed7953"
            ],
            [
             0.7777777777777778,
             "#fb9f3a"
            ],
            [
             0.8888888888888888,
             "#fdca26"
            ],
            [
             1.0,
             "#f0f921"
            ]
           ],
           "diverging": [
            [
             0,
             "#8e0152"
            ],
            [
             0.1,
             "#c51b7d"
            ],
            [
             0.2,
             "#de77ae"
            ],
            [
             0.3,
             "#f1b6da"
            ],
            [
             0.4,
             "#fde0ef"
            ],
            [
             0.5,
             "#f7f7f7"
            ],
            [
             0.6,
             "#e6f5d0"
            ],
            [
             0.7,
             "#b8e186"
            ],
            [
             0.8,
             "#7fbc41"
            ],
            [
             0.9,
             "#4d9221"
            ],
            [
             1,
             "#276419"
            ]
           ]
          },
          "xaxis": {
           "gridcolor": "#283442",
           "linecolor": "#506784",
           "ticks": "",
           "title": {
            "standoff": 15
           },
           "zerolinecolor": "#283442",
           "automargin": true,
           "zerolinewidth": 2
          },
          "yaxis": {
           "gridcolor": "#283442",
           "linecolor": "#506784",
           "ticks": "",
           "title": {
            "standoff": 15
           },
           "zerolinecolor": "#283442",
           "automargin": true,
           "zerolinewidth": 2
          },
          "scene": {
           "xaxis": {
            "backgroundcolor": "rgb(17,17,17)",
            "gridcolor": "#506784",
            "linecolor": "#506784",
            "showbackground": true,
            "ticks": "",
            "zerolinecolor": "#C8D4E3",
            "gridwidth": 2
           },
           "yaxis": {
            "backgroundcolor": "rgb(17,17,17)",
            "gridcolor": "#506784",
            "linecolor": "#506784",
            "showbackground": true,
            "ticks": "",
            "zerolinecolor": "#C8D4E3",
            "gridwidth": 2
           },
           "zaxis": {
            "backgroundcolor": "rgb(17,17,17)",
            "gridcolor": "#506784",
            "linecolor": "#506784",
            "showbackground": true,
            "ticks": "",
            "zerolinecolor": "#C8D4E3",
            "gridwidth": 2
           }
          },
          "shapedefaults": {
           "line": {
            "color": "#f2f5fa"
           }
          },
          "annotationdefaults": {
           "arrowcolor": "#f2f5fa",
           "arrowhead": 0,
           "arrowwidth": 1
          },
          "geo": {
           "bgcolor": "rgb(17,17,17)",
           "landcolor": "rgb(17,17,17)",
           "subunitcolor": "#506784",
           "showland": true,
           "showlakes": true,
           "lakecolor": "rgb(17,17,17)"
          },
          "title": {
           "x": 0.05
          },
          "updatemenudefaults": {
           "bgcolor": "#506784",
           "borderwidth": 0
          },
          "sliderdefaults": {
           "bgcolor": "#C8D4E3",
           "borderwidth": 1,
           "bordercolor": "rgb(17,17,17)",
           "tickwidth": 0
          },
          "mapbox": {
           "style": "dark"
          }
         }
        },
        "xaxis": {
         "anchor": "y",
         "domain": [
          0.0,
          1.0
         ],
         "title": {
          "text": "Category"
         }
        },
        "yaxis": {
         "anchor": "x",
         "domain": [
          0.0,
          1.0
         ],
         "title": {
          "text": "Price"
         },
         "type": "log"
        },
        "legend": {
         "tracegroupgap": 0
        },
        "margin": {
         "t": 60
        },
        "boxmode": "group"
       },
       "config": {
        "plotlyServerURL": "https://plot.ly"
       }
      },
      "text/html": "<div>                            <div id=\"0c071f5b-8aa4-47d1-87de-75966b6ce1ee\" class=\"plotly-graph-div\" style=\"height:525px; width:100%;\"></div>            <script type=\"text/javascript\">                require([\"plotly\"], function(Plotly) {                    window.PLOTLYENV=window.PLOTLYENV || {};                                    if (document.getElementById(\"0c071f5b-8aa4-47d1-87de-75966b6ce1ee\")) {                    Plotly.newPlot(                        \"0c071f5b-8aa4-47d1-87de-75966b6ce1ee\",                        [{\"alignmentgroup\":\"True\",\"hovertemplate\":\"Category=%{x}\\u003cbr\\u003ePrice=%{y}\\u003cextra\\u003e\\u003c\\u002fextra\\u003e\",\"legendgroup\":\"\",\"marker\":{\"color\":\"#636efa\"},\"name\":\"\",\"notched\":false,\"offsetgroup\":\"\",\"orientation\":\"v\",\"showlegend\":false,\"x\":[\"GAME\",\"GAME\",\"FAMILY\",\"BUSINESS\",\"LIFESTYLE\",\"FAMILY\",\"PERSONALIZATION\",\"PHOTOGRAPHY\",\"FAMILY\",\"GAME\",\"PRODUCTIVITY\",\"PHOTOGRAPHY\",\"FAMILY\",\"TOOLS\",\"TOOLS\",\"PERSONALIZATION\",\"FAMILY\",\"FAMILY\",\"FAMILY\",\"FAMILY\",\"GAME\",\"TOOLS\",\"PERSONALIZATION\",\"PERSONALIZATION\",\"PERSONALIZATION\",\"TOOLS\",\"FAMILY\",\"FAMILY\",\"BUSINESS\",\"BOOKS_AND_REFERENCE\",\"FAMILY\",\"FAMILY\",\"FAMILY\",\"PERSONALIZATION\",\"PERSONALIZATION\",\"PERSONALIZATION\",\"GAME\",\"PERSONALIZATION\",\"FAMILY\",\"FINANCE\",\"SHOPPING\",\"DATING\",\"PERSONALIZATION\",\"GAME\",\"FAMILY\",\"PRODUCTIVITY\",\"FAMILY\",\"MEDICAL\",\"SPORTS\",\"MEDICAL\",\"PRODUCTIVITY\",\"BUSINESS\",\"PARENTING\",\"LIFESTYLE\",\"FAMILY\",\"TOOLS\",\"MAPS_AND_NAVIGATION\",\"COMMUNICATION\",\"PERSONALIZATION\",\"COMMUNICATION\",\"FAMILY\",\"PERSONALIZATION\",\"FAMILY\",\"FAMILY\",\"FAMILY\",\"TOOLS\",\"FAMILY\",\"SPORTS\",\"FAMILY\",\"MEDICAL\",\"FAMILY\",\"FAMILY\",\"GAME\",\"TOOLS\",\"FAMILY\",\"FAMILY\",\"PERSONALIZATION\",\"BOOKS_AND_REFERENCE\",\"GAME\",\"PERSONALIZATION\",\"GAME\",\"GAME\",\"TOOLS\",\"MEDICAL\",\"TOOLS\",\"TOOLS\",\"PERSONALIZATION\",\"GAME\",\"COMMUNICATION\",\"MEDICAL\",\"SPORTS\",\"PERSONALIZATION\",\"COMMUNICATION\",\"COMMUNICATION\",\"PERSONALIZATION\",\"TOOLS\",\"PERSONALIZATION\",\"PERSONALIZATION\",\"PRODUCTIVITY\",\"MEDICAL\",\"FAMILY\",\"TOOLS\",\"TOOLS\",\"BUSINESS\",\"COMMUNICATION\",\"FAMILY\",\"PERSONALIZATION\",\"PHOTOGRAPHY\",\"MEDICAL\",\"PERSONALIZATION\",\"MEDICAL\",\"COMMUNICATION\",\"PRODUCTIVITY\",\"BOOKS_AND_REFERENCE\",\"TOOLS\",\"WEATHER\",\"FAMILY\",\"FAMILY\",\"MEDICAL\",\"FAMILY\",\"TOOLS\",\"TOOLS\",\"SPORTS\",\"GAME\",\"MEDICAL\",\"PERSONALIZATION\",\"PERSONALIZATION\",\"NEWS_AND_MAGAZINES\",\"COMMUNICATION\",\"TOOLS\",\"MEDICAL\",\"FINANCE\",\"FAMILY\",\"PERSONALIZATION\",\"PERSONALIZATION\",\"MEDICAL\",\"FAMILY\",\"MEDICAL\",\"MEDICAL\",\"FAMILY\",\"FAMILY\",\"FAMILY\",\"GAME\",\"PERSONALIZATION\",\"TOOLS\",\"PERSONALIZATION\",\"GAME\",\"GAME\",\"GAME\",\"FAMILY\",\"FAMILY\",\"PRODUCTIVITY\",\"COMMUNICATION\",\"SPORTS\",\"SPORTS\",\"FAMILY\",\"PERSONALIZATION\",\"MEDICAL\",\"SPORTS\",\"COMMUNICATION\",\"LIFESTYLE\",\"FAMILY\",\"MEDICAL\",\"MEDICAL\",\"TOOLS\",\"PRODUCTIVITY\",\"FINANCE\",\"HEALTH_AND_FITNESS\",\"MEDICAL\",\"PHOTOGRAPHY\",\"FAMILY\",\"FAMILY\",\"PHOTOGRAPHY\",\"SPORTS\",\"ART_AND_DESIGN\",\"FAMILY\",\"PERSONALIZATION\",\"PRODUCTIVITY\",\"HEALTH_AND_FITNESS\",\"MEDICAL\",\"TOOLS\",\"PRODUCTIVITY\",\"GAME\",\"TOOLS\",\"MEDICAL\",\"LIFESTYLE\",\"GAME\",\"MEDICAL\",\"TRAVEL_AND_LOCAL\",\"BUSINESS\",\"MEDICAL\",\"COMMUNICATION\",\"PERSONALIZATION\",\"GAME\",\"TRAVEL_AND_LOCAL\",\"GAME\",\"SPORTS\",\"MEDICAL\",\"FAMILY\",\"MEDICAL\",\"TOOLS\",\"BOOKS_AND_REFERENCE\",\"FAMILY\",\"MEDICAL\",\"MEDICAL\",\"GAME\",\"BUSINESS\",\"TOOLS\",\"FAMILY\",\"MEDICAL\",\"PERSONALIZATION\",\"PHOTOGRAPHY\",\"SPORTS\",\"MAPS_AND_NAVIGATION\",\"PERSONALIZATION\",\"GAME\",\"BOOKS_AND_REFERENCE\",\"EDUCATION\",\"FAMILY\",\"FAMILY\",\"SOCIAL\",\"MEDICAL\",\"TOOLS\",\"SPORTS\",\"FAMILY\",\"FAMILY\",\"TOOLS\",\"WEATHER\",\"VIDEO_PLAYERS\",\"MEDICAL\",\"TOOLS\",\"GAME\",\"PERSONALIZATION\",\"MEDICAL\",\"LIFESTYLE\",\"MEDICAL\",\"DATING\",\"HEALTH_AND_FITNESS\",\"MEDICAL\",\"FAMILY\",\"PRODUCTIVITY\",\"EDUCATION\",\"SPORTS\",\"FAMILY\",\"PERSONALIZATION\",\"PERSONALIZATION\",\"FAMILY\",\"GAME\",\"FINANCE\",\"GAME\",\"MEDICAL\",\"FAMILY\",\"MEDICAL\",\"MEDICAL\",\"TOOLS\",\"TOOLS\",\"TOOLS\",\"TOOLS\",\"PERSONALIZATION\",\"PERSONALIZATION\",\"PERSONALIZATION\",\"PERSONALIZATION\",\"FAMILY\",\"GAME\",\"FAMILY\",\"FAMILY\",\"MEDICAL\",\"SPORTS\",\"LIFESTYLE\",\"FAMILY\",\"FAMILY\",\"TRAVEL_AND_LOCAL\",\"PERSONALIZATION\",\"BOOKS_AND_REFERENCE\",\"FAMILY\",\"MEDICAL\",\"MEDICAL\",\"MEDICAL\",\"MEDICAL\",\"PRODUCTIVITY\",\"SOCIAL\",\"SPORTS\",\"TRAVEL_AND_LOCAL\",\"TOOLS\",\"FAMILY\",\"NEWS_AND_MAGAZINES\",\"ART_AND_DESIGN\",\"GAME\",\"PERSONALIZATION\",\"LIFESTYLE\",\"PERSONALIZATION\",\"LIFESTYLE\",\"MEDICAL\",\"FAMILY\",\"FAMILY\",\"BOOKS_AND_REFERENCE\",\"LIFESTYLE\",\"MEDICAL\",\"MEDICAL\",\"TOOLS\",\"SPORTS\",\"MEDICAL\",\"PHOTOGRAPHY\",\"GAME\",\"SPORTS\",\"FAMILY\",\"SPORTS\",\"TOOLS\",\"LIFESTYLE\",\"FAMILY\",\"COMMUNICATION\",\"COMMUNICATION\",\"COMMUNICATION\",\"FAMILY\",\"FAMILY\",\"TOOLS\",\"MEDICAL\",\"TOOLS\",\"TOOLS\",\"TOOLS\",\"TOOLS\",\"TOOLS\",\"TOOLS\",\"PERSONALIZATION\",\"FAMILY\",\"MEDICAL\",\"MEDICAL\",\"MEDICAL\",\"HEALTH_AND_FITNESS\",\"GAME\",\"FAMILY\",\"FAMILY\",\"PHOTOGRAPHY\",\"PERSONALIZATION\",\"LIFESTYLE\",\"GAME\",\"FAMILY\",\"MEDICAL\",\"FAMILY\",\"BUSINESS\",\"GAME\",\"FAMILY\",\"MEDICAL\",\"FAMILY\",\"MAPS_AND_NAVIGATION\",\"BOOKS_AND_REFERENCE\",\"GAME\",\"PERSONALIZATION\",\"PERSONALIZATION\",\"COMMUNICATION\",\"DATING\",\"FOOD_AND_DRINK\",\"LIFESTYLE\",\"FAMILY\",\"FAMILY\",\"MEDICAL\",\"TRAVEL_AND_LOCAL\",\"TOOLS\",\"TOOLS\",\"TOOLS\",\"PERSONALIZATION\",\"VIDEO_PLAYERS\",\"VIDEO_PLAYERS\",\"GAME\",\"FAMILY\",\"FAMILY\",\"FAMILY\",\"FAMILY\",\"PERSONALIZATION\",\"WEATHER\",\"TOOLS\",\"PERSONALIZATION\",\"TOOLS\",\"ART_AND_DESIGN\",\"PERSONALIZATION\",\"PERSONALIZATION\",\"MEDICAL\",\"TOOLS\",\"FAMILY\",\"FINANCE\",\"TOOLS\",\"GAME\",\"FAMILY\",\"FAMILY\",\"TOOLS\",\"TOOLS\",\"GAME\",\"TOOLS\",\"HEALTH_AND_FITNESS\",\"GAME\",\"MEDICAL\",\"COMMUNICATION\",\"FAMILY\",\"GAME\",\"FAMILY\",\"MEDICAL\",\"PERSONALIZATION\",\"FAMILY\",\"SPORTS\",\"FAMILY\",\"TRAVEL_AND_LOCAL\",\"TOOLS\",\"SHOPPING\",\"TOOLS\",\"FAMILY\",\"FAMILY\",\"FAMILY\",\"FAMILY\",\"FAMILY\",\"FAMILY\",\"GAME\",\"MAPS_AND_NAVIGATION\",\"PERSONALIZATION\",\"GAME\",\"FAMILY\",\"FAMILY\",\"FINANCE\",\"TOOLS\",\"TOOLS\",\"FAMILY\",\"FAMILY\",\"MEDICAL\",\"GAME\",\"FAMILY\",\"COMMUNICATION\",\"COMMUNICATION\",\"FAMILY\",\"FAMILY\",\"MEDICAL\",\"MEDICAL\",\"MEDICAL\",\"PHOTOGRAPHY\",\"TOOLS\",\"TOOLS\",\"PERSONALIZATION\",\"PERSONALIZATION\",\"FAMILY\",\"GAME\",\"SPORTS\",\"MEDICAL\",\"GAME\",\"FAMILY\",\"AUTO_AND_VEHICLES\",\"HEALTH_AND_FITNESS\",\"FAMILY\",\"FAMILY\",\"MEDICAL\",\"PHOTOGRAPHY\",\"SPORTS\",\"TOOLS\",\"VIDEO_PLAYERS\",\"FAMILY\",\"FAMILY\",\"PRODUCTIVITY\",\"PERSONALIZATION\",\"PRODUCTIVITY\",\"PERSONALIZATION\",\"FAMILY\",\"FAMILY\",\"GAME\",\"MEDICAL\",\"FAMILY\",\"FAMILY\",\"FOOD_AND_DRINK\",\"FAMILY\",\"FAMILY\",\"FAMILY\",\"TOOLS\",\"HEALTH_AND_FITNESS\",\"PARENTING\",\"FAMILY\",\"GAME\",\"HEALTH_AND_FITNESS\",\"TRAVEL_AND_LOCAL\",\"GAME\",\"WEATHER\",\"FAMILY\",\"MEDICAL\",\"GAME\",\"GAME\",\"MEDICAL\",\"PERSONALIZATION\",\"FAMILY\",\"FAMILY\",\"FAMILY\",\"FAMILY\",\"GAME\",\"PHOTOGRAPHY\",\"FAMILY\",\"BUSINESS\",\"FAMILY\",\"GAME\",\"FAMILY\",\"FAMILY\",\"WEATHER\",\"EDUCATION\",\"COMMUNICATION\",\"ENTERTAINMENT\",\"HEALTH_AND_FITNESS\",\"HEALTH_AND_FITNESS\",\"GAME\",\"GAME\",\"FAMILY\",\"FAMILY\",\"FAMILY\",\"PHOTOGRAPHY\",\"SPORTS\",\"TRAVEL_AND_LOCAL\",\"TOOLS\",\"TOOLS\",\"PERSONALIZATION\",\"PERSONALIZATION\",\"PRODUCTIVITY\",\"PRODUCTIVITY\",\"MAPS_AND_NAVIGATION\",\"GAME\",\"GAME\",\"PRODUCTIVITY\",\"TOOLS\",\"WEATHER\",\"FAMILY\",\"GAME\",\"FAMILY\",\"GAME\",\"TOOLS\",\"GAME\",\"FAMILY\",\"FAMILY\",\"HEALTH_AND_FITNESS\",\"FAMILY\",\"GAME\",\"FAMILY\",\"PERSONALIZATION\",\"BUSINESS\",\"FINANCE\",\"FAMILY\",\"PHOTOGRAPHY\",\"GAME\",\"FAMILY\",\"FAMILY\",\"FAMILY\",\"FAMILY\",\"GAME\",\"FAMILY\",\"GAME\",\"COMMUNICATION\",\"FAMILY\",\"ENTERTAINMENT\",\"COMMUNICATION\",\"GAME\",\"GAME\",\"GAME\",\"GAME\",\"GAME\",\"GAME\",\"PERSONALIZATION\",\"FAMILY\",\"PERSONALIZATION\",\"FAMILY\",\"EDUCATION\",\"WEATHER\",\"PHOTOGRAPHY\",\"PRODUCTIVITY\",\"GAME\",\"FAMILY\",\"FAMILY\",\"PRODUCTIVITY\",\"PERSONALIZATION\",\"GAME\",\"GAME\",\"FAMILY\",\"COMMUNICATION\",\"TOOLS\",\"GAME\",\"PERSONALIZATION\",\"PHOTOGRAPHY\",\"SPORTS\",\"GAME\",\"FAMILY\",\"GAME\",\"GAME\",\"FAMILY\",\"GAME\",\"FAMILY\",\"GAME\",\"LIFESTYLE\",\"FAMILY\",\"GAME\",\"FAMILY\"],\"x0\":\" \",\"xaxis\":\"x\",\"y\":[1.49,0.99,14.99,2.49,3.04,1.49,0.99,3.49,2.99,0.99,0.99,4.99,0.99,2.99,0.99,0.99,29.99,19.99,4.99,4.99,1.99,2.99,0.99,0.99,0.99,1.76,2.99,2.99,8.99,1.75,1.49,1.49,0.99,0.99,0.99,0.99,0.99,0.99,12.99,4.99,2.49,7.99,1.99,4.99,0.99,4.99,3.99,2.99,3.88,2.99,2.99,12.99,4.59,0.99,9.99,3.99,9.99,1.49,1.49,1.49,1.49,0.99,2.99,1.99,4.99,1.49,0.99,3.49,1.99,12.99,0.99,0.99,0.99,1.99,4.99,3.99,0.99,3.99,14.0,1.49,4.49,1.99,0.99,6.99,5.99,3.99,2.49,0.99,1.49,39.99,3.02,1.49,1.49,0.99,0.99,4.99,1.49,0.99,6.49,5.99,2.99,3.99,0.99,17.99,0.99,1.99,1.49,1.49,3.99,1.49,2.99,4.99,8.99,0.99,0.99,1.99,2.49,4.99,0.99,1.99,1.99,0.99,2.99,4.49,3.49,2.0,1.49,2.99,3.99,3.99,15.99,3.99,2.99,1.49,0.99,9.99,2.99,4.99,9.99,2.49,10.99,2.99,0.99,1.99,1.99,0.99,3.99,1.61,0.99,1.99,2.49,4.29,0.99,3.99,0.99,2.99,1.49,15.46,1.99,2.99,4.99,7.49,3.99,5.49,2.49,2.99,1.99,4.99,4.99,19.99,2.99,1.99,9.99,0.99,1.99,2.99,1.7,0.99,7.99,29.99,2.99,7.99,0.99,1.49,2.99,4.99,2.49,79.99,2.56,3.99,19.99,2.49,0.99,0.99,8.49,6.99,2.99,0.99,2.99,1.5,4.99,1.99,4.84,14.99,29.99,4.99,4.99,3.99,19.4,33.99,1.49,2.99,2.99,0.99,0.99,1.99,3.08,5.99,3.99,2.99,0.99,1.99,5.99,2.49,0.99,0.99,0.99,6.99,0.99,16.99,0.99,3.49,1.7,3.99,37.99,9.99,6.99,1.99,3.99,10.0,1.29,3.99,4.49,2.99,2.49,0.99,4.99,0.99,3.99,1.99,7.49,0.99,10.99,5.99,0.99,1.49,14.99,4.99,4.99,0.99,4.99,3.99,4.99,0.99,4.49,5.99,3.99,1.99,3.99,4.99,1.99,3.99,0.99,2.99,1.49,2.49,3.99,3.99,3.99,3.99,0.99,1.99,2.99,0.99,2.99,0.99,1.99,6.99,1.99,0.99,1.49,2.99,5.99,2.99,2.99,4.6,1.99,14.99,0.99,0.99,0.99,2.99,2.99,1.99,2.99,4.99,1.0,14.99,2.49,0.99,4.99,0.99,1.49,3.99,2.99,4.99,3.99,4.99,4.99,4.99,4.99,4.99,1.0,6.99,2.99,9.99,24.99,2.99,3.99,0.99,3.99,3.99,1.99,0.99,7.99,4.99,2.99,10.0,2.99,2.99,2.99,14.99,7.99,12.99,0.99,4.49,16.99,0.99,0.99,4.99,3.99,3.49,2.49,2.99,1.49,6.99,1.99,2.5,3.9,2.95,0.99,1.49,1.99,7.99,2.99,2.99,4.99,1.99,0.99,2.99,2.99,1.99,1.97,1.99,9.99,2.99,5.49,3.28,0.99,2.99,4.99,2.99,14.99,2.99,2.99,2.99,17.99,0.99,6.99,4.99,3.99,2.99,2.99,4.99,1.2,2.99,1.99,4.99,4.99,0.99,5.99,2.59,2.99,1.99,3.99,4.99,3.99,2.99,4.99,2.99,4.99,2.99,0.99,3.99,2.49,0.99,18.99,1.99,1.99,1.59,3.99,11.99,1.99,1.99,2.99,0.99,9.99,3.99,0.99,2.99,1.99,4.99,1.99,2.99,0.99,1.99,0.99,0.99,29.99,2.99,1.99,2.99,1.99,1.99,2.99,4.99,3.99,1.99,3.99,2.99,5.99,19.99,9.99,2.99,2.49,1.49,0.99,2.99,2.99,1.99,11.99,4.99,3.99,4.99,2.99,2.99,4.77,2.99,2.99,4.99,4.99,4.99,1.99,2.49,4.99,3.99,3.99,24.99,4.99,0.99,9.0,0.99,2.99,2.99,2.99,9.99,2.99,1.49,14.99,4.99,7.99,1.99,0.99,0.99,4.49,3.99,3.99,4.99,2.99,2.99,2.99,2.99,3.99,4.99,4.99,3.95,8.99,8.99,2.49,3.99,4.49,1.99,5.99,4.99,11.99,4.99,9.99,4.49,3.49,2.99,4.99,4.99,4.99,1.99,4.49,3.99,2.99,13.99,3.49,9.99,4.99,2.99,2.99,4.99,2.99,2.99,2.99,2.99,2.99,9.99,0.99,1.99,2.99,1.49,6.99,2.9,2.99,2.99,3.99,2.99,4.99,2.99,2.99,1.99,5.99,4.99,2.99,2.49,0.99,3.99,5.99,2.99,2.99,1.99,2.99,4.99,1.99,2.49,0.99,4.99,2.99,2.99,2.99,6.99,0.99,5.99,1.99,2.99,0.99,0.99,0.99,0.99,0.99,2.99,0.99,5.99,1.99,0.99,6.99],\"y0\":\" \",\"yaxis\":\"y\",\"type\":\"box\"}],                        {\"template\":{\"data\":{\"histogram2dcontour\":[{\"type\":\"histogram2dcontour\",\"colorbar\":{\"outlinewidth\":0,\"ticks\":\"\"},\"colorscale\":[[0.0,\"#0d0887\"],[0.1111111111111111,\"#46039f\"],[0.2222222222222222,\"#7201a8\"],[0.3333333333333333,\"#9c179e\"],[0.4444444444444444,\"#bd3786\"],[0.5555555555555556,\"#d8576b\"],[0.6666666666666666,\"#ed7953\"],[0.7777777777777778,\"#fb9f3a\"],[0.8888888888888888,\"#fdca26\"],[1.0,\"#f0f921\"]]}],\"choropleth\":[{\"type\":\"choropleth\",\"colorbar\":{\"outlinewidth\":0,\"ticks\":\"\"}}],\"histogram2d\":[{\"type\":\"histogram2d\",\"colorbar\":{\"outlinewidth\":0,\"ticks\":\"\"},\"colorscale\":[[0.0,\"#0d0887\"],[0.1111111111111111,\"#46039f\"],[0.2222222222222222,\"#7201a8\"],[0.3333333333333333,\"#9c179e\"],[0.4444444444444444,\"#bd3786\"],[0.5555555555555556,\"#d8576b\"],[0.6666666666666666,\"#ed7953\"],[0.7777777777777778,\"#fb9f3a\"],[0.8888888888888888,\"#fdca26\"],[1.0,\"#f0f921\"]]}],\"heatmap\":[{\"type\":\"heatmap\",\"colorbar\":{\"outlinewidth\":0,\"ticks\":\"\"},\"colorscale\":[[0.0,\"#0d0887\"],[0.1111111111111111,\"#46039f\"],[0.2222222222222222,\"#7201a8\"],[0.3333333333333333,\"#9c179e\"],[0.4444444444444444,\"#bd3786\"],[0.5555555555555556,\"#d8576b\"],[0.6666666666666666,\"#ed7953\"],[0.7777777777777778,\"#fb9f3a\"],[0.8888888888888888,\"#fdca26\"],[1.0,\"#f0f921\"]]}],\"heatmapgl\":[{\"type\":\"heatmapgl\",\"colorbar\":{\"outlinewidth\":0,\"ticks\":\"\"},\"colorscale\":[[0.0,\"#0d0887\"],[0.1111111111111111,\"#46039f\"],[0.2222222222222222,\"#7201a8\"],[0.3333333333333333,\"#9c179e\"],[0.4444444444444444,\"#bd3786\"],[0.5555555555555556,\"#d8576b\"],[0.6666666666666666,\"#ed7953\"],[0.7777777777777778,\"#fb9f3a\"],[0.8888888888888888,\"#fdca26\"],[1.0,\"#f0f921\"]]}],\"contourcarpet\":[{\"type\":\"contourcarpet\",\"colorbar\":{\"outlinewidth\":0,\"ticks\":\"\"}}],\"contour\":[{\"type\":\"contour\",\"colorbar\":{\"outlinewidth\":0,\"ticks\":\"\"},\"colorscale\":[[0.0,\"#0d0887\"],[0.1111111111111111,\"#46039f\"],[0.2222222222222222,\"#7201a8\"],[0.3333333333333333,\"#9c179e\"],[0.4444444444444444,\"#bd3786\"],[0.5555555555555556,\"#d8576b\"],[0.6666666666666666,\"#ed7953\"],[0.7777777777777778,\"#fb9f3a\"],[0.8888888888888888,\"#fdca26\"],[1.0,\"#f0f921\"]]}],\"surface\":[{\"type\":\"surface\",\"colorbar\":{\"outlinewidth\":0,\"ticks\":\"\"},\"colorscale\":[[0.0,\"#0d0887\"],[0.1111111111111111,\"#46039f\"],[0.2222222222222222,\"#7201a8\"],[0.3333333333333333,\"#9c179e\"],[0.4444444444444444,\"#bd3786\"],[0.5555555555555556,\"#d8576b\"],[0.6666666666666666,\"#ed7953\"],[0.7777777777777778,\"#fb9f3a\"],[0.8888888888888888,\"#fdca26\"],[1.0,\"#f0f921\"]]}],\"mesh3d\":[{\"type\":\"mesh3d\",\"colorbar\":{\"outlinewidth\":0,\"ticks\":\"\"}}],\"scatter\":[{\"marker\":{\"line\":{\"color\":\"#283442\"}},\"type\":\"scatter\"}],\"parcoords\":[{\"type\":\"parcoords\",\"line\":{\"colorbar\":{\"outlinewidth\":0,\"ticks\":\"\"}}}],\"scatterpolargl\":[{\"type\":\"scatterpolargl\",\"marker\":{\"colorbar\":{\"outlinewidth\":0,\"ticks\":\"\"}}}],\"bar\":[{\"error_x\":{\"color\":\"#f2f5fa\"},\"error_y\":{\"color\":\"#f2f5fa\"},\"marker\":{\"line\":{\"color\":\"rgb(17,17,17)\",\"width\":0.5},\"pattern\":{\"fillmode\":\"overlay\",\"size\":10,\"solidity\":0.2}},\"type\":\"bar\"}],\"scattergeo\":[{\"type\":\"scattergeo\",\"marker\":{\"colorbar\":{\"outlinewidth\":0,\"ticks\":\"\"}}}],\"scatterpolar\":[{\"type\":\"scatterpolar\",\"marker\":{\"colorbar\":{\"outlinewidth\":0,\"ticks\":\"\"}}}],\"histogram\":[{\"marker\":{\"pattern\":{\"fillmode\":\"overlay\",\"size\":10,\"solidity\":0.2}},\"type\":\"histogram\"}],\"scattergl\":[{\"marker\":{\"line\":{\"color\":\"#283442\"}},\"type\":\"scattergl\"}],\"scatter3d\":[{\"type\":\"scatter3d\",\"line\":{\"colorbar\":{\"outlinewidth\":0,\"ticks\":\"\"}},\"marker\":{\"colorbar\":{\"outlinewidth\":0,\"ticks\":\"\"}}}],\"scattermapbox\":[{\"type\":\"scattermapbox\",\"marker\":{\"colorbar\":{\"outlinewidth\":0,\"ticks\":\"\"}}}],\"scatterternary\":[{\"type\":\"scatterternary\",\"marker\":{\"colorbar\":{\"outlinewidth\":0,\"ticks\":\"\"}}}],\"scattercarpet\":[{\"type\":\"scattercarpet\",\"marker\":{\"colorbar\":{\"outlinewidth\":0,\"ticks\":\"\"}}}],\"carpet\":[{\"aaxis\":{\"endlinecolor\":\"#A2B1C6\",\"gridcolor\":\"#506784\",\"linecolor\":\"#506784\",\"minorgridcolor\":\"#506784\",\"startlinecolor\":\"#A2B1C6\"},\"baxis\":{\"endlinecolor\":\"#A2B1C6\",\"gridcolor\":\"#506784\",\"linecolor\":\"#506784\",\"minorgridcolor\":\"#506784\",\"startlinecolor\":\"#A2B1C6\"},\"type\":\"carpet\"}],\"table\":[{\"cells\":{\"fill\":{\"color\":\"#506784\"},\"line\":{\"color\":\"rgb(17,17,17)\"}},\"header\":{\"fill\":{\"color\":\"#2a3f5f\"},\"line\":{\"color\":\"rgb(17,17,17)\"}},\"type\":\"table\"}],\"barpolar\":[{\"marker\":{\"line\":{\"color\":\"rgb(17,17,17)\",\"width\":0.5},\"pattern\":{\"fillmode\":\"overlay\",\"size\":10,\"solidity\":0.2}},\"type\":\"barpolar\"}],\"pie\":[{\"automargin\":true,\"type\":\"pie\"}]},\"layout\":{\"autotypenumbers\":\"strict\",\"colorway\":[\"#636efa\",\"#EF553B\",\"#00cc96\",\"#ab63fa\",\"#FFA15A\",\"#19d3f3\",\"#FF6692\",\"#B6E880\",\"#FF97FF\",\"#FECB52\"],\"font\":{\"color\":\"#f2f5fa\"},\"hovermode\":\"closest\",\"hoverlabel\":{\"align\":\"left\"},\"paper_bgcolor\":\"rgb(17,17,17)\",\"plot_bgcolor\":\"rgb(17,17,17)\",\"polar\":{\"bgcolor\":\"rgb(17,17,17)\",\"angularaxis\":{\"gridcolor\":\"#506784\",\"linecolor\":\"#506784\",\"ticks\":\"\"},\"radialaxis\":{\"gridcolor\":\"#506784\",\"linecolor\":\"#506784\",\"ticks\":\"\"}},\"ternary\":{\"bgcolor\":\"rgb(17,17,17)\",\"aaxis\":{\"gridcolor\":\"#506784\",\"linecolor\":\"#506784\",\"ticks\":\"\"},\"baxis\":{\"gridcolor\":\"#506784\",\"linecolor\":\"#506784\",\"ticks\":\"\"},\"caxis\":{\"gridcolor\":\"#506784\",\"linecolor\":\"#506784\",\"ticks\":\"\"}},\"coloraxis\":{\"colorbar\":{\"outlinewidth\":0,\"ticks\":\"\"}},\"colorscale\":{\"sequential\":[[0.0,\"#0d0887\"],[0.1111111111111111,\"#46039f\"],[0.2222222222222222,\"#7201a8\"],[0.3333333333333333,\"#9c179e\"],[0.4444444444444444,\"#bd3786\"],[0.5555555555555556,\"#d8576b\"],[0.6666666666666666,\"#ed7953\"],[0.7777777777777778,\"#fb9f3a\"],[0.8888888888888888,\"#fdca26\"],[1.0,\"#f0f921\"]],\"sequentialminus\":[[0.0,\"#0d0887\"],[0.1111111111111111,\"#46039f\"],[0.2222222222222222,\"#7201a8\"],[0.3333333333333333,\"#9c179e\"],[0.4444444444444444,\"#bd3786\"],[0.5555555555555556,\"#d8576b\"],[0.6666666666666666,\"#ed7953\"],[0.7777777777777778,\"#fb9f3a\"],[0.8888888888888888,\"#fdca26\"],[1.0,\"#f0f921\"]],\"diverging\":[[0,\"#8e0152\"],[0.1,\"#c51b7d\"],[0.2,\"#de77ae\"],[0.3,\"#f1b6da\"],[0.4,\"#fde0ef\"],[0.5,\"#f7f7f7\"],[0.6,\"#e6f5d0\"],[0.7,\"#b8e186\"],[0.8,\"#7fbc41\"],[0.9,\"#4d9221\"],[1,\"#276419\"]]},\"xaxis\":{\"gridcolor\":\"#283442\",\"linecolor\":\"#506784\",\"ticks\":\"\",\"title\":{\"standoff\":15},\"zerolinecolor\":\"#283442\",\"automargin\":true,\"zerolinewidth\":2},\"yaxis\":{\"gridcolor\":\"#283442\",\"linecolor\":\"#506784\",\"ticks\":\"\",\"title\":{\"standoff\":15},\"zerolinecolor\":\"#283442\",\"automargin\":true,\"zerolinewidth\":2},\"scene\":{\"xaxis\":{\"backgroundcolor\":\"rgb(17,17,17)\",\"gridcolor\":\"#506784\",\"linecolor\":\"#506784\",\"showbackground\":true,\"ticks\":\"\",\"zerolinecolor\":\"#C8D4E3\",\"gridwidth\":2},\"yaxis\":{\"backgroundcolor\":\"rgb(17,17,17)\",\"gridcolor\":\"#506784\",\"linecolor\":\"#506784\",\"showbackground\":true,\"ticks\":\"\",\"zerolinecolor\":\"#C8D4E3\",\"gridwidth\":2},\"zaxis\":{\"backgroundcolor\":\"rgb(17,17,17)\",\"gridcolor\":\"#506784\",\"linecolor\":\"#506784\",\"showbackground\":true,\"ticks\":\"\",\"zerolinecolor\":\"#C8D4E3\",\"gridwidth\":2}},\"shapedefaults\":{\"line\":{\"color\":\"#f2f5fa\"}},\"annotationdefaults\":{\"arrowcolor\":\"#f2f5fa\",\"arrowhead\":0,\"arrowwidth\":1},\"geo\":{\"bgcolor\":\"rgb(17,17,17)\",\"landcolor\":\"rgb(17,17,17)\",\"subunitcolor\":\"#506784\",\"showland\":true,\"showlakes\":true,\"lakecolor\":\"rgb(17,17,17)\"},\"title\":{\"x\":0.05},\"updatemenudefaults\":{\"bgcolor\":\"#506784\",\"borderwidth\":0},\"sliderdefaults\":{\"bgcolor\":\"#C8D4E3\",\"borderwidth\":1,\"bordercolor\":\"rgb(17,17,17)\",\"tickwidth\":0},\"mapbox\":{\"style\":\"dark\"}}},\"xaxis\":{\"anchor\":\"y\",\"domain\":[0.0,1.0],\"title\":{\"text\":\"Category\"}},\"yaxis\":{\"anchor\":\"x\",\"domain\":[0.0,1.0],\"title\":{\"text\":\"Price\"},\"type\":\"log\"},\"legend\":{\"tracegroupgap\":0},\"margin\":{\"t\":60},\"boxmode\":\"group\"},                        {\"responsive\": true}                    ).then(function(){\n                            \nvar gd = document.getElementById('0c071f5b-8aa4-47d1-87de-75966b6ce1ee');\nvar x = new MutationObserver(function (mutations, observer) {{\n        var display = window.getComputedStyle(gd).display;\n        if (!display || display === 'none') {{\n            console.log([gd, 'removed!']);\n            Plotly.purge(gd);\n            observer.disconnect();\n        }}\n}});\n\n// Listen for the removal of the full notebook cells\nvar notebookContainer = gd.closest('#notebook-container');\nif (notebookContainer) {{\n    x.observe(notebookContainer, {childList: true});\n}}\n\n// Listen for the clearing of the current output cell\nvar outputEl = gd.closest('.output');\nif (outputEl) {{\n    x.observe(outputEl, {childList: true});\n}}\n\n                        })                };                });            </script>        </div>"
     },
     "metadata": {},
     "output_type": "display_data"
    }
   ]
  },
  {
   "cell_type": "code",
   "metadata": {
    "id": "zSXVSlVyQ4Kz",
    "ExecuteTime": {
     "start_time": "2023-10-13T09:59:08.682932400Z"
    }
   },
   "source": [],
   "execution_count": null,
   "outputs": []
  }
 ]
}
